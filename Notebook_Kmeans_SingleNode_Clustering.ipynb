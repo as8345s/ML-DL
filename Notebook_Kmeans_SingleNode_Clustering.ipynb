{
 "cells": [
  {
   "cell_type": "markdown",
   "id": "b553810a-66fc-4d56-9097-edf048a38e3f",
   "metadata": {},
   "source": [
    "# Template für K-means Clustering | Single-Node/Single-GPU\n",
    "\n",
    "***"
   ]
  },
  {
   "cell_type": "markdown",
   "id": "93525a39-64b0-4def-ac4c-aca5cca72f22",
   "metadata": {},
   "source": [
    "In diesem Abschnitt wird erkläre, wie man den KMeans Algorithmus auf Worker skaliert und zum Laufen bringt. Dazu nutzen wir Dask und Rapids. Dask bietet uns ein Dashboard wo wir Einzelheiten verfolgen können. Dask-Cuda lässt sich gut mit PyTorch und anderen Frameworks kombinieren, ohne die Clustereinstellungen groß zu ändern.\n",
    "\n",
    "In dem Nootebook für das Setup wird erklärt, wie man selber sowas auf seinem eigenen PC/Workstation/Cluster installiert. Es gibt auch andere Möglichkeiten das zu installieren. Hier nutzen wir ein Cluster Setup mit Nodes, installiert mittels Docker.   \n",
    "\n",
    "<u>Hinweis:</u><br>\n",
    "Wenn es mal hängt, muss ggf. der Cluster, Worker oder das Notebook neu gestartet werden. Sowas passiert, wenn z.B. eine Exception vorkommt.   \n",
    "\n",
    "<br>\n",
    "\n",
    "Dask: https://www.dask.org | https://docs.dask.org/en/stable/ <br>\n",
    "Rapids: https://rapids.ai <br> "
   ]
  },
  {
   "cell_type": "markdown",
   "id": "8e93dd8c-bd92-4da4-babf-5a659735847c",
   "metadata": {},
   "source": [
    "# 1. Rapids und Dask"
   ]
  },
  {
   "cell_type": "markdown",
   "id": "9aa7132e-7844-4759-ab57-ea1df21ffb9d",
   "metadata": {},
   "source": [
    "<img src=\"./pictures/raspids_oss.PNG\"  width=\"825px;\" hight=\"725px;\">\n",
    "(Bild: (https://on-demand.gputechconf.com/gtcdc/2018/pdf/dc8256-rapids-the-platform-inside-and-out.pdf))"
   ]
  },
  {
   "cell_type": "markdown",
   "id": "374055ab-8a76-438f-918d-81630f9416b4",
   "metadata": {},
   "source": [
    "Rapids bietet uns eine Sammlung von Libraries, die uns bei vielen Dingen unterstützen kann. Eine dieser Libraries, die wir nutzen werden, nennt sich cuDF. cuDF sind Cuda Dataframes, die erstmal nur auf einer GPU laufen. Die Idee dahinter ist, dass wir <u>nah zu dasselbe machen</u> wie bei Pandas (Panda DataFrame), aber nur auf einer GPU. Dadurch können viele Berechnungen viel schneller durchgeführt werden. Beispielsweise das Vorverarbeiten von Daten vor dem Trainieren, oder anderweitige Zwecke. Die API ist nah zu identisch wie bei Pandas. \n",
    "\n",
    "Rapids funktioniert <u>nur</u> mit <u>Nvidia Grafikkarten</u>.\n",
    "\n",
    "Rapids ist OpenSource, die API Beschreibungen der Libraries verlinken den dahinterliegenden Code. Der Code enthählt selber nochmal Kommentare und erklärungen.\n",
    "\n",
    "Rapids entwickelt sich und es kommen Updates sowie Erweiterungen. Algorithmen, die noch nicht (Single-/Multi-Node/ GPU) verfügbar sind, können noch in den neueren Versionen auftauchen. Das gilt besonders für Multi-Node/Multi-GPU Implementierungen der Algorithmen. Es kann sein das manche Multi-Node/Multi-GPU Algorithmen sich am Ende nicht zusammenfassen lassen können, oder das Speichern/Laden sowie die Verwendung dieser auf GPU/CPU eingeschränkt sind. Andere Multi-Node/Multi-GPU Algorithmen können so wie in diesem Template hier verwendet werden. Einge andere können sich in der Anwendung unterscheiden. \n",
    "\n",
    "\n",
    "Floating-Point Berechnungen mit cuDF werden auf der GPU parallel ausgeführt, also ist die Reihenfolge nicht deterministisch. Die Ergebnisse können von Pandas abweichen.\n",
    "a + b ist nicht gleich b + a. Das kann z.B. bei data.sum() vorkommen.\n",
    "cuDF unterstützt auch verschiedene Datentypen wie int32, int64, float32, float64. Die ganze Liste ist hier zu finden.\n",
    "\n",
    "Es gibt noch Dask-cuDF, diese nutzt man unter anderem, um große Daten zu Partitionieren. Die API ist Dask-ähnlich. \n",
    "\n",
    "Eine weitere Library von Rapids ist cuML, welche auch cuDF nutzt. Diese enthält verschiedene supervised und unsupervsed Algorithmen. Der Fokus hier liegt dabei, dass die Algorithmen möglichst auf einer GPU laufen. Ein Teil dieser Algorithmen kann mittels eines Clusters (cuML nutzt dafür ein Dask Cluster) auf verschiedene Nodes und GPUs skalieren. \n",
    "\n",
    "Die API von cuML ist fast genauso aufgebaut wie bei \n",
    "Sklearn. <br> Die Release Notes von cuML sind hier zu finden (https://github.com/rapidsai/cuml/releases).\n",
    "  \n",
    "\n",
    "Was wir neben Rapids und Dask noch nutzen können ist CuPy [5]. CuPy ist wie Numpy, nur läuft es unter auf GPU. CuPy wird hier nicht detailliert erklärt.\n",
    "\n",
    "<br> \n",
    "\n",
    "cuDF Cuda DataFrames Dok.:  https://docs.rapids.ai/api/cudf/stable/ <br>\n",
    "cuDF API: https://docs.rapids.ai/api/cudf/stable/api_docs/api/cudf.dataframe/ <br>\n",
    "cuDF Floating-Point Berechnung: https://docs.rapids.ai/api/cudf/stable/user_guide/pandas-comparison/#floating-point-computation        <br>\n",
    "cuDF Datentypen: https://docs.rapids.ai/api/cudf/stable/user_guide/data-types/ | https://docs.rapids.ai/api/cudf/stable/user_guide/io/ <br>\n",
    "\n",
    "cuML GitHub: https://github.com/rapidsai/cuml  <br>\n",
    "cuML Dok.: https://docs.rapids.ai/api/cuml/stable/ <br>\n",
    "\n",
    "Dask-cuDF: https://docs.rapids.ai/api/dask-cudf/stable/\n",
    "\n",
    "CuPy: https://cupy.dev\n",
    "\n"
   ]
  },
  {
   "cell_type": "markdown",
   "id": "9aa0de6d-60bf-4c43-8322-c67aa0109412",
   "metadata": {},
   "source": [
    "Was wir nutzen:<br>\n",
    "cuDF: DataFrames deren API nahezu identisch mit Pandas ist. Also quasi Pandas auf GPU.<br>\n",
    "dask_cudf: Dask bietet uns DataFrames, die verteilt sind. Damit kann man auch Daten partitionieren [11] <br>\n",
    "cupy: wie Numpy und Scipy aber auf GPU."
   ]
  },
  {
   "cell_type": "markdown",
   "id": "7f8faa39-0d77-4e36-be68-3e94643d93b0",
   "metadata": {},
   "source": [
    "<img src=\"./pictures/df.PNG\"  width=\"725px;\" hight=\"725px;\">"
   ]
  },
  {
   "cell_type": "markdown",
   "id": "80013d31-2de7-4fb2-bab5-626a77ec8767",
   "metadata": {},
   "source": [
    "Wir teilen das Trainieren in 4 Bereiche auf. Hier nutzen wir SNSG."
   ]
  },
  {
   "cell_type": "markdown",
   "id": "aa9363cd-c7ee-45f7-a519-a5fbcd461f3c",
   "metadata": {},
   "source": [
    "Das Bild zeigt in welchen Bereichen man welche DataFrames nutzen kann. Pandas liegt dabei nicht im Fokus.\n",
    "\n",
    "<img src=\"./pictures/zuordnung.PNG\"  width=\"1050px;\" hight=\"1050px;\">\n",
    "\n",
    "Da wir mit Dask-cuDF und Dask große Daten lesen und partitionieren können, ist auch der Einsatz im SNSG Bereich möglich. cuDF unterstützt das lesen mehrere Dateien (bis jetzt)  nicht, so das man Dask oder Dask-cuDF nutzen muss, wenn man globstings nutzt, um alle CVS Dateien in einem Verzeichnis zu lesen.\n",
    "\n",
    "Es gibt auch die Möglichkeit cuDF als Backend für Dask zu nutzen.\n",
    "\n",
    "<br>\n",
    "\n",
    "cuDF Backend für Dask: https://docs.rapids.ai/api/dask-cudf/stable/#dataframe-creation-from-on-disk-formats"
   ]
  },
  {
   "cell_type": "markdown",
   "id": "77bddde9-c8e2-4df3-bc1e-30e0d67c823b",
   "metadata": {
    "tags": []
   },
   "source": [
    "<b>[Bild Konvertierungen]</b>\n"
   ]
  },
  {
   "cell_type": "markdown",
   "id": "faddc1df-680b-45bb-905a-e17854dd6324",
   "metadata": {
    "tags": []
   },
   "source": [
    "<u>Hinweis:</u><br>\n",
    "Variablen die GPU Speicher nutzen und nicht mehr gebraucht werden, sollten mittels `del` gelöscht werden. Wenn nach dem Löschen immer noch Speicher belegt ist, muss der Kernel des Notebooks neugestartet werden. "
   ]
  },
  {
   "cell_type": "code",
   "execution_count": 2,
   "id": "31cd80df-a5fb-4fb0-bc3a-c018f6975582",
   "metadata": {
    "tags": []
   },
   "outputs": [],
   "source": [
    "# Imports \n",
    "import cupy as   cp\n",
    "import cudf\n",
    "import cuml\n",
    "from cuml.dask.common import utils as dask_utils\n",
    "import dask_cudf\n",
    "import dask\n",
    "\n",
    "import numpy as np\n",
    "from numpy import genfromtxt\n",
    "\n",
    "import pandas as pd\n",
    "import os\n",
    "import time"
   ]
  },
  {
   "cell_type": "markdown",
   "id": "6b3543b8-8fba-4fd4-8aaf-305092c79806",
   "metadata": {},
   "source": [
    "Da das Interface wie Pandas aufgebaut ist, wird cuDF im detail nicht erklärt. Bei interesse kann man sich die API durchlesen."
   ]
  },
  {
   "cell_type": "code",
   "execution_count": 3,
   "id": "0ad1a7b9-ecc8-4119-a6bf-e63362472d7e",
   "metadata": {
    "tags": []
   },
   "outputs": [
    {
     "name": "stdout",
     "output_type": "stream",
     "text": [
      "Pandas:\n",
      "0       1\n",
      "1       2\n",
      "2    <NA>\n",
      "dtype: int64\n",
      "\n",
      "Rapids:\n",
      "0       1\n",
      "1       2\n",
      "2    <NA>\n",
      "dtype: object\n"
     ]
    }
   ],
   "source": [
    "# cuDF und Panda series \n",
    "s_cuda = cudf.Series([1, 2, cudf.NA])\n",
    "s_panda = pd.Series([1, 2, pd.NA])\n",
    "\n",
    "print(f\"Pandas:\\n{s_cuda}\\n\")\n",
    "print(f\"Rapids:\\n{s_panda}\")"
   ]
  },
  {
   "cell_type": "markdown",
   "id": "afe359f0-b2da-4fe5-98fb-744677dc0a98",
   "metadata": {},
   "source": [
    "## 1.1 Start Dask-Cluster (Mit Docker) "
   ]
  },
  {
   "cell_type": "markdown",
   "id": "0436907b-9fde-49d5-9aac-8deca6d44df0",
   "metadata": {},
   "source": [
    "Pro GPU wird genau ein Prozess für einen Worker gestartet. Die Worker-ID wird hochgezählt. <br>\n",
    "\n",
    "<u>Hinweise:</u><br>\n",
    "Die MNMG Versionen der Algorithmen können auch auf SNSG laufen."
   ]
  },
  {
   "cell_type": "markdown",
   "id": "21ee683b-632d-4633-b58d-887e31b6d1d1",
   "metadata": {},
   "source": [
    "Wenn wir nur auf einen Knoten sind, können wir normal das Cluster-Setup nutzen oder einen lokalen Cluster erstellen. Hier nutzen wir den normalen Cluster mit einem GPU Worker."
   ]
  },
  {
   "cell_type": "markdown",
   "id": "48032b93-690a-4dcc-9d6a-9c02f8436f38",
   "metadata": {},
   "source": [
    "<img src=\"./pictures/rapids_cluster.PNG\">"
   ]
  },
  {
   "cell_type": "code",
   "execution_count": 4,
   "id": "95d4c037-8a2d-4e3d-8001-e1aa932c103f",
   "metadata": {
    "tags": []
   },
   "outputs": [
    {
     "name": "stdout",
     "output_type": "stream",
     "text": [
      "Rapids-tools 1.0\n",
      "Umgebungsvariablen werden gesetzt\n",
      "NCCL_SOCKET_NTHREADS: 4\n",
      "NCCL_NSOCKS_PERTHREAD: 2\n"
     ]
    }
   ],
   "source": [
    "import rapids_tools as rapids_tools   "
   ]
  },
  {
   "cell_type": "code",
   "execution_count": 5,
   "id": "38d1b738-f627-4384-8ceb-7a4121deb42c",
   "metadata": {
    "tags": []
   },
   "outputs": [
    {
     "name": "stdout",
     "output_type": "stream",
     "text": [
      "Client IP: 127.0.0.1:8786\n"
     ]
    },
    {
     "data": {
      "text/html": [
       "<div>\n",
       "    <div style=\"width: 24px; height: 24px; background-color: #e1e1e1; border: 3px solid #9D9D9D; border-radius: 5px; position: absolute;\"> </div>\n",
       "    <div style=\"margin-left: 48px;\">\n",
       "        <h3 style=\"margin-bottom: 0px;\">Client</h3>\n",
       "        <p style=\"color: #9D9D9D; margin-bottom: 0px;\">Client-0cc8980a-61f6-11ee-9489-a4bb6d4fbfd8</p>\n",
       "        <table style=\"width: 100%; text-align: left;\">\n",
       "\n",
       "        <tr>\n",
       "        \n",
       "            <td style=\"text-align: left;\"><strong>Connection method:</strong> Direct</td>\n",
       "            <td style=\"text-align: left;\"></td>\n",
       "        \n",
       "        </tr>\n",
       "\n",
       "        \n",
       "            <tr>\n",
       "                <td style=\"text-align: left;\">\n",
       "                    <strong>Dashboard: </strong> <a href=\"http://127.0.0.1:8787/status\" target=\"_blank\">http://127.0.0.1:8787/status</a>\n",
       "                </td>\n",
       "                <td style=\"text-align: left;\"></td>\n",
       "            </tr>\n",
       "        \n",
       "\n",
       "        </table>\n",
       "\n",
       "        \n",
       "            <button style=\"margin-bottom: 12px;\" data-commandlinker-command=\"dask:populate-and-launch-layout\" data-commandlinker-args='{\"url\": \"http://127.0.0.1:8787/status\" }'>\n",
       "                Launch dashboard in JupyterLab\n",
       "            </button>\n",
       "        \n",
       "\n",
       "        \n",
       "            <details>\n",
       "            <summary style=\"margin-bottom: 20px;\"><h3 style=\"display: inline;\">Scheduler Info</h3></summary>\n",
       "            <div style=\"\">\n",
       "    <div>\n",
       "        <div style=\"width: 24px; height: 24px; background-color: #FFF7E5; border: 3px solid #FF6132; border-radius: 5px; position: absolute;\"> </div>\n",
       "        <div style=\"margin-left: 48px;\">\n",
       "            <h3 style=\"margin-bottom: 0px;\">Scheduler</h3>\n",
       "            <p style=\"color: #9D9D9D; margin-bottom: 0px;\">Scheduler-6aa800ac-19e2-4d03-aacb-b544ac367422</p>\n",
       "            <table style=\"width: 100%; text-align: left;\">\n",
       "                <tr>\n",
       "                    <td style=\"text-align: left;\">\n",
       "                        <strong>Comm:</strong> tcp://149.201.182.203:8786\n",
       "                    </td>\n",
       "                    <td style=\"text-align: left;\">\n",
       "                        <strong>Workers:</strong> 1\n",
       "                    </td>\n",
       "                </tr>\n",
       "                <tr>\n",
       "                    <td style=\"text-align: left;\">\n",
       "                        <strong>Dashboard:</strong> <a href=\"http://149.201.182.203:8787/status\" target=\"_blank\">http://149.201.182.203:8787/status</a>\n",
       "                    </td>\n",
       "                    <td style=\"text-align: left;\">\n",
       "                        <strong>Total threads:</strong> 1\n",
       "                    </td>\n",
       "                </tr>\n",
       "                <tr>\n",
       "                    <td style=\"text-align: left;\">\n",
       "                        <strong>Started:</strong> 3 minutes ago\n",
       "                    </td>\n",
       "                    <td style=\"text-align: left;\">\n",
       "                        <strong>Total memory:</strong> 62.53 GiB\n",
       "                    </td>\n",
       "                </tr>\n",
       "            </table>\n",
       "        </div>\n",
       "    </div>\n",
       "\n",
       "    <details style=\"margin-left: 48px;\">\n",
       "        <summary style=\"margin-bottom: 20px;\">\n",
       "            <h3 style=\"display: inline;\">Workers</h3>\n",
       "        </summary>\n",
       "\n",
       "        \n",
       "        <div style=\"margin-bottom: 20px;\">\n",
       "            <div style=\"width: 24px; height: 24px; background-color: #DBF5FF; border: 3px solid #4CC9FF; border-radius: 5px; position: absolute;\"> </div>\n",
       "            <div style=\"margin-left: 48px;\">\n",
       "            <details>\n",
       "                <summary>\n",
       "                    <h4 style=\"margin-bottom: 0px; display: inline;\">Worker: tcp://149.201.182.203:38309</h4>\n",
       "                </summary>\n",
       "                <table style=\"width: 100%; text-align: left;\">\n",
       "                    <tr>\n",
       "                        <td style=\"text-align: left;\">\n",
       "                            <strong>Comm: </strong> tcp://149.201.182.203:38309\n",
       "                        </td>\n",
       "                        <td style=\"text-align: left;\">\n",
       "                            <strong>Total threads: </strong> 1\n",
       "                        </td>\n",
       "                    </tr>\n",
       "                    <tr>\n",
       "                        <td style=\"text-align: left;\">\n",
       "                            <strong>Dashboard: </strong> <a href=\"http://149.201.182.203:39305/status\" target=\"_blank\">http://149.201.182.203:39305/status</a>\n",
       "                        </td>\n",
       "                        <td style=\"text-align: left;\">\n",
       "                            <strong>Memory: </strong> 62.53 GiB\n",
       "                        </td>\n",
       "                    </tr>\n",
       "                    <tr>\n",
       "                        <td style=\"text-align: left;\">\n",
       "                            <strong>Nanny: </strong> tcp://149.201.182.203:40001\n",
       "                        </td>\n",
       "                        <td style=\"text-align: left;\"></td>\n",
       "                    </tr>\n",
       "                    <tr>\n",
       "                        <td colspan=\"2\" style=\"text-align: left;\">\n",
       "                            <strong>Local directory: </strong> /tmp/dask-worker-space/worker-6lt8ho30\n",
       "                        </td>\n",
       "                    </tr>\n",
       "\n",
       "                    \n",
       "                    <tr>\n",
       "                        <td style=\"text-align: left;\">\n",
       "                            <strong>GPU: </strong>Quadro RTX 5000\n",
       "                        </td>\n",
       "                        <td style=\"text-align: left;\">\n",
       "                            <strong>GPU memory: </strong> 16.00 GiB\n",
       "                        </td>\n",
       "                    </tr>\n",
       "                    \n",
       "\n",
       "                    \n",
       "                    <tr>\n",
       "                        <td style=\"text-align: left;\">\n",
       "                            <strong>Tasks executing: </strong> \n",
       "                        </td>\n",
       "                        <td style=\"text-align: left;\">\n",
       "                            <strong>Tasks in memory: </strong> \n",
       "                        </td>\n",
       "                    </tr>\n",
       "                    <tr>\n",
       "                        <td style=\"text-align: left;\">\n",
       "                            <strong>Tasks ready: </strong> \n",
       "                        </td>\n",
       "                        <td style=\"text-align: left;\">\n",
       "                            <strong>Tasks in flight: </strong>\n",
       "                        </td>\n",
       "                    </tr>\n",
       "                    <tr>\n",
       "                        <td style=\"text-align: left;\">\n",
       "                            <strong>CPU usage:</strong> 8.0%\n",
       "                        </td>\n",
       "                        <td style=\"text-align: left;\">\n",
       "                            <strong>Last seen: </strong> Just now\n",
       "                        </td>\n",
       "                    </tr>\n",
       "                    <tr>\n",
       "                        <td style=\"text-align: left;\">\n",
       "                            <strong>Memory usage: </strong> 412.88 MiB\n",
       "                        </td>\n",
       "                        <td style=\"text-align: left;\">\n",
       "                            <strong>Spilled bytes: </strong> 0 B\n",
       "                        </td>\n",
       "                    </tr>\n",
       "                    <tr>\n",
       "                        <td style=\"text-align: left;\">\n",
       "                            <strong>Read bytes: </strong> 1.64 kiB\n",
       "                        </td>\n",
       "                        <td style=\"text-align: left;\">\n",
       "                            <strong>Write bytes: </strong> 1.64 kiB\n",
       "                        </td>\n",
       "                    </tr>\n",
       "                    \n",
       "\n",
       "                </table>\n",
       "            </details>\n",
       "            </div>\n",
       "        </div>\n",
       "        \n",
       "\n",
       "    </details>\n",
       "</div>\n",
       "            </details>\n",
       "        \n",
       "\n",
       "    </div>\n",
       "</div>"
      ],
      "text/plain": [
       "<Client: 'tcp://149.201.182.203:8786' processes=1 threads=1, memory=62.53 GiB>"
      ]
     },
     "execution_count": 5,
     "metadata": {},
     "output_type": "execute_result"
    }
   ],
   "source": [
    "# Erstelle Client \n",
    "client = rapids_tools.create_dask_client()  # Gebe IP an. Standard:  127.0.0.1:8786 (Scheduler ist da wo auch Jupyter läuft) \n",
    "client                                                           "
   ]
  },
  {
   "cell_type": "markdown",
   "id": "5fd66227-91a2-4ef1-ae23-a94e2600afeb",
   "metadata": {},
   "source": [
    "Wenn wir eigene Python Module erstellen, können wir diese auch mit dem Cluster teilen."
   ]
  },
  {
   "cell_type": "code",
   "execution_count": 6,
   "id": "464190d9-2132-47b0-9c70-a565d1cdaa8d",
   "metadata": {
    "tags": []
   },
   "outputs": [
    {
     "data": {
      "text/plain": [
       "{'tcp://149.201.182.203:38309': {'status': 'OK'}}"
      ]
     },
     "execution_count": 6,
     "metadata": {},
     "output_type": "execute_result"
    }
   ],
   "source": [
    "# Lade Datei mit Dask hoch. Gibt Status aus... \n",
    "client.upload_file('rapids_tools.py')  # Nur als Beispiel"
   ]
  },
  {
   "cell_type": "code",
   "execution_count": 7,
   "id": "2f3f2b40-5499-4e6e-8acf-542f91cf6967",
   "metadata": {
    "tags": []
   },
   "outputs": [
    {
     "data": {
      "text/plain": [
       "dict_keys(['tcp://149.201.182.203:38309'])"
      ]
     },
     "execution_count": 7,
     "metadata": {},
     "output_type": "execute_result"
    }
   ],
   "source": [
    "# Zeige Schlüssel. Die Ports ändern sich. \n",
    "client.has_what().keys()"
   ]
  },
  {
   "cell_type": "code",
   "execution_count": 8,
   "id": "b4c45c08-f496-4f9a-95f5-1251992668ad",
   "metadata": {
    "tags": []
   },
   "outputs": [
    {
     "data": {
      "text/plain": [
       "dict_keys(['tcp://149.201.182.203:42963'])"
      ]
     },
     "execution_count": 8,
     "metadata": {},
     "output_type": "execute_result"
    }
   ],
   "source": [
    "# Starte alle Worker neu\n",
    "client.restart_workers(client.has_what().keys())\n",
    "client.has_what().keys()"
   ]
  },
  {
   "cell_type": "code",
   "execution_count": 9,
   "id": "ebbcd273-50b1-4ebe-9034-3b8e6fcd7885",
   "metadata": {
    "tags": []
   },
   "outputs": [],
   "source": [
    "# Startet client neu.\n",
    "#client.restart()"
   ]
  },
  {
   "cell_type": "markdown",
   "id": "1c321072-c8de-434e-a8fc-c232adbf5995",
   "metadata": {},
   "source": [
    "# 2. Daten"
   ]
  },
  {
   "cell_type": "markdown",
   "id": "e2c07eeb-720b-4c00-8b28-e05c5e3b194f",
   "metadata": {},
   "source": [
    "## 2.1 Daten generieren"
   ]
  },
  {
   "cell_type": "markdown",
   "id": "2000ef72-3406-49fa-8661-3e8524a40416",
   "metadata": {},
   "source": [
    "Als Anfang erstellen wir Daten. Daten die auf dem Host sind, müssen erst verteilt werden.\n",
    "\n",
    "cuML bietet uns Möglichkeiten Datensets zu erstellen."
   ]
  },
  {
   "cell_type": "code",
   "execution_count": 11,
   "id": "920c5e62-3b8f-46b3-93e4-898989121875",
   "metadata": {
    "tags": []
   },
   "outputs": [],
   "source": [
    "# Imports \n",
    "from cuml import datasets            # Um Beispiele auf dem Host zu generieren\n",
    "from cuml.model_selection import train_test_split"
   ]
  },
  {
   "cell_type": "markdown",
   "id": "61e5e865-e72c-4ed2-b001-23caa59788eb",
   "metadata": {},
   "source": [
    "Ein Weg an Daten zu kommen, ist Datensets zu nutzen, die schon mit den Frameworks kommen. \n",
    "\n",
    "Das können wir nutzen, um den Aufbau des Codes zu testen und zu überprüfen, ob die Installation von Rapids und die Dask-Worker funktionieren."
   ]
  },
  {
   "cell_type": "markdown",
   "id": "5c75ca36-6f16-4b01-875f-deacd19fc8e1",
   "metadata": {},
   "source": [
    "Es gibt einige Parameter, die wir eingeben können, um Daten so zu generieren wie wir es wollen. Um es einfach zu halten, nutzen wir nur 2 Parameter.\n",
    "\n",
    "<br>\n",
    "\n",
    "Generiere Single-GPU Daten: https://docs.rapids.ai/api/cuml/stable/api/#dataset-generation-single-gpu"
   ]
  },
  {
   "cell_type": "code",
   "execution_count": 84,
   "id": "4bd932bb-8509-445c-b553-46ec637279ae",
   "metadata": {
    "tags": []
   },
   "outputs": [],
   "source": [
    "# Trainings- und Testgröße\n",
    "train_size = 20000 # 20000\n",
    "test_size = 100\n",
    "n_samples = train_size + test_size\n",
    "\n",
    "# Erstelle X und y Daten für ein Cluster Problem \n",
    "X, y = datasets.make_blobs(n_samples=n_samples, n_features=2)\n",
    "X, X_test, y, y_test = train_test_split( X, y, train_size=0.70, random_state=5)"
   ]
  },
  {
   "cell_type": "markdown",
   "id": "cf1ee206-652e-442d-8dc6-b4e1401cdccf",
   "metadata": {},
   "source": [
    "Jetzt können wir uns anschauen was gemacht wurde, so könnten unsere Trainingsdaten auch aussehen."
   ]
  },
  {
   "cell_type": "code",
   "execution_count": 13,
   "id": "a8f3a142-c85a-4194-a40b-7a47b855b70e",
   "metadata": {
    "tags": []
   },
   "outputs": [
    {
     "name": "stdout",
     "output_type": "stream",
     "text": [
      "X: <class 'cupy.ndarray'> y: <class 'cupy.ndarray'> \n",
      " X[0]: [ 1.8046851 -6.573599 ]  \n",
      " y[0]: 1.0 \n",
      " Länge X, y: 14070, 14070\n"
     ]
    }
   ],
   "source": [
    "print(f\"X: {type(X)} y: {type(y)} \\n X[0]: {X[0]}  \\n y[0]: {y[0]} \\n Länge X, y: {len(X)}, {len(y)}\")"
   ]
  },
  {
   "cell_type": "markdown",
   "id": "1cbca6e0-9622-4e81-bbc8-3470e9d22b11",
   "metadata": {},
   "source": [
    "## 2.3 Daten sind schon Lokal verfügbar"
   ]
  },
  {
   "cell_type": "markdown",
   "id": "9e483ec0-2413-4977-b9bd-9a4d66c20dda",
   "metadata": {},
   "source": [
    "Mit cuDF können wir Daten direkt in die GPU laden und Daten schreiben. Es gibt viele Parameter, die angegeben werden können. \n",
    "\n",
    "Wenn die Daten nicht in den Speicher passen, können diese partitioniert werden, indem wir die Daten mit Dask-cuDF laden."
   ]
  },
  {
   "cell_type": "markdown",
   "id": "a66ff020-0ab2-489f-8046-aa1d4646182c",
   "metadata": {},
   "source": [
    "<img src=\"./pictures/rapids_chunk.PNG\">"
   ]
  },
  {
   "cell_type": "markdown",
   "id": "42f908b9-8bfc-4300-8f49-8126aa1dab0b",
   "metadata": {
    "tags": []
   },
   "source": [
    "Wir können Daten mit Dask laden und daraus ein Dask-cuDF erstellen.\n",
    "\n",
    "Intern nutzt jeder Worker cuDF um die Daten zu lesen. Es können verschiedene Quellen angegeben werden wie HDFs, S3, http, ... (https://docs.dask.org/en/stable/how-to/connect-to-remote-data.html)\n",
    "\n",
    "<br>\n",
    "\n",
    "cuDF Input/Output: https://docs.rapids.ai/api/cudf/legacy/api_docs/io/#input-output <br>\n",
    "Dask-cuDF Creating and storing DataFrames: https://docs.rapids.ai/api/dask-cudf/stable/api/#creating-and-storing-dataframes"
   ]
  },
  {
   "cell_type": "raw",
   "id": "9043997d-21f4-4f42-863d-d6880b0612b4",
   "metadata": {
    "tags": []
   },
   "source": [
    "x_cudf = cudf.read_csv(\"data.csv\")   # Lese CSV\n",
    "       = cudf.read_text(\"\")\n",
    "       = cudf.read_json(\"\")\n",
    "       = cudf.read_parquet(\"\")\n",
    "       = cudf.io.parquet.read_parquet_metadata(\"\")\n",
    "       = cudf.read_orc(\"\")\n",
    "       = cudf.read_hdf(\"\")\n",
    "       = cudf.read_feather(\"\")"
   ]
  },
  {
   "cell_type": "code",
   "execution_count": 6,
   "id": "6cf3bd73-0f77-4a85-9207-380d36254cb5",
   "metadata": {
    "tags": []
   },
   "outputs": [],
   "source": [
    "df = cudf.DataFrame(\n",
    "    {\n",
    "        \"a\": list(range(20)),\n",
    "        \"b\": list(reversed(range(20))),\n",
    "        \"c\": list(range(20)),\n",
    "    })"
   ]
  },
  {
   "cell_type": "raw",
   "id": "bbd85924-294e-48b3-8847-806b5253ea44",
   "metadata": {
    "tags": []
   },
   "source": [
    "df.to_csv(\"my_csv\")          # Speichere als csv \n",
    "df.to_parquet(\"my_parquet\")  # Speichere als parquet\n",
    "df.DataFrame.to_hdf()\n",
    "..."
   ]
  },
  {
   "cell_type": "markdown",
   "id": "15369210-76e0-4a0e-bf9e-c4d2ef21f526",
   "metadata": {},
   "source": [
    "In dem Fall, dass die Daten sehr groß sind oder wir viele Daten lesen wollen, können wir alternativ zu cuDF auch Dask-cuDF nutzen. Je nach Version unterstützt cuDF noch nicht das Lesen mehrere Dateien.\n",
    "\n",
    "Die Anwendung von Dask-cuDF ist einfach. Wer Dask schon kennt, die API von Dask-cuDF ist nahzu identisch mit Dask."
   ]
  },
  {
   "cell_type": "markdown",
   "id": "dcd99cfb-8734-475b-a0b4-857f6ef13a31",
   "metadata": {},
   "source": [
    "Beim lesen können wir eine Blocksize angeben. Dann wird eine Anzahl an Partitionen erstellt. "
   ]
  },
  {
   "cell_type": "raw",
   "id": "158c7c81-d314-4cd8-8348-44be4de9823c",
   "metadata": {},
   "source": [
    "# Lese Daten mit Dask   \n",
    "dask_df = dask.dataframe.read_csv(\"...\", blocksize=\"250MB\")\n",
    "        = dask.dataframe.read_parquet(\"...\", blocksize=\"250MB\")\n",
    "        = dask.dataframe.read_json(\"\")\n",
    "        \n",
    "# Schreiben mit Dask\n",
    "dask_df.to_csv('name')\n",
    "dask_df.to_parquet('name', engine='pyarrow')\n",
    "...\n",
    "\n",
    "\n",
    "# Erstelle ein Dask-cuDF aus einem Dask Dataframe.\n",
    "dcf = dask_cudf.from_dask_dataframe(dask_df)\n",
    "dcf \n",
    "\n",
    "\n",
    "# Oder nutze direkt Dask-cuDF\n",
    "dcf = dask_cudf.read_csv(\"\")\n",
    "dcf = dask_cudf.read_json()\n",
    "         = dask_cudf.read_orc()\n",
    "         = dask_cudf.read_parquet()\n",
    "         = dask_cudf.read_text()\n",
    "\n",
    "dcf.to_csv('name')"
   ]
  },
  {
   "cell_type": "markdown",
   "id": "e45e306f-e88f-4182-98bf-1055bd926d47",
   "metadata": {},
   "source": [
    "Für ein kurzes Beispiel, schreiben wir eine Datei und lesen diese mit Dask-cuDF."
   ]
  },
  {
   "cell_type": "code",
   "execution_count": 86,
   "id": "cb11193d-8535-48e8-b641-b6b6e3176e43",
   "metadata": {
    "tags": []
   },
   "outputs": [],
   "source": [
    "# save data\n",
    "np.savetxt(\"csv_file.csv\", cp.asnumpy(X), delimiter=\",\", header=\"A,B\")"
   ]
  },
  {
   "cell_type": "code",
   "execution_count": 87,
   "id": "b31a7ed3-6832-43af-95c9-f288c82993fb",
   "metadata": {
    "tags": []
   },
   "outputs": [
    {
     "data": {
      "text/html": [
       "<div><strong>Dask DataFrame Structure:</strong></div>\n",
       "<div>\n",
       "<style scoped>\n",
       "    .dataframe tbody tr th:only-of-type {\n",
       "        vertical-align: middle;\n",
       "    }\n",
       "\n",
       "    .dataframe tbody tr th {\n",
       "        vertical-align: top;\n",
       "    }\n",
       "\n",
       "    .dataframe thead th {\n",
       "        text-align: right;\n",
       "    }\n",
       "</style>\n",
       "<table border=\"1\" class=\"dataframe\">\n",
       "  <thead>\n",
       "    <tr style=\"text-align: right;\">\n",
       "      <th></th>\n",
       "      <th># A</th>\n",
       "      <th>B</th>\n",
       "    </tr>\n",
       "    <tr>\n",
       "      <th>npartitions=8</th>\n",
       "      <th></th>\n",
       "      <th></th>\n",
       "    </tr>\n",
       "  </thead>\n",
       "  <tbody>\n",
       "    <tr>\n",
       "      <th></th>\n",
       "      <td>float64</td>\n",
       "      <td>float64</td>\n",
       "    </tr>\n",
       "    <tr>\n",
       "      <th></th>\n",
       "      <td>...</td>\n",
       "      <td>...</td>\n",
       "    </tr>\n",
       "    <tr>\n",
       "      <th>...</th>\n",
       "      <td>...</td>\n",
       "      <td>...</td>\n",
       "    </tr>\n",
       "    <tr>\n",
       "      <th></th>\n",
       "      <td>...</td>\n",
       "      <td>...</td>\n",
       "    </tr>\n",
       "    <tr>\n",
       "      <th></th>\n",
       "      <td>...</td>\n",
       "      <td>...</td>\n",
       "    </tr>\n",
       "  </tbody>\n",
       "</table>\n",
       "</div>\n",
       "<div>Dask Name: read-csv, 1 graph layer</div>"
      ],
      "text/plain": [
       "<dask_cudf.DataFrame | 8 tasks | 8 npartitions>"
      ]
     },
     "execution_count": 87,
     "metadata": {},
     "output_type": "execute_result"
    }
   ],
   "source": [
    "# \"*.csv\" um alle CSV Dateien zu lesen\n",
    "dcf = dask_cudf.read_csv(\"csv_file.csv\", blocksize=\"100KB\")  \n",
    "dcf"
   ]
  },
  {
   "cell_type": "code",
   "execution_count": 88,
   "id": "7be6728a-33a8-4532-984e-fce718e62480",
   "metadata": {
    "tags": []
   },
   "outputs": [
    {
     "data": {
      "text/plain": [
       "dask_cudf.core.DataFrame"
      ]
     },
     "execution_count": 88,
     "metadata": {},
     "output_type": "execute_result"
    }
   ],
   "source": [
    "type(dask_cdf)"
   ]
  },
  {
   "cell_type": "markdown",
   "id": "fa500168-a3f8-4b2a-aaa0-17815fbc4aae",
   "metadata": {},
   "source": [
    "Für unseren Versuch haben wir die Trainingsdaten X. Beim lesen mit dask_cudf versucht der Worker dann den gegebenen Pfad zu lesen. Wir arbeiten ggf. in einem anderen Verzeichnis.\n",
    "Damit der Worker die Datei sieht, muss der Worker diese schreiben."
   ]
  },
  {
   "cell_type": "code",
   "execution_count": 89,
   "id": "6aaf8242-9f78-4f40-b2d2-69b9ad93af97",
   "metadata": {
    "tags": []
   },
   "outputs": [],
   "source": [
    "@dask.delayed\n",
    "def write_data(X):\n",
    "    import cupy as cp\n",
    "    np.savetxt(\"csv_file.csv\", cp.asnumpy(X), delimiter=\",\", header=\"A,B\")\n",
    "fut = write_data(X)\n",
    "fut.compute()"
   ]
  },
  {
   "cell_type": "markdown",
   "id": "e8953fdc-6321-479d-89f3-bdbfeb4d74dd",
   "metadata": {},
   "source": [
    "Jetzt hat dieser Worker die Datei und wir können die Datei lesen."
   ]
  },
  {
   "cell_type": "code",
   "execution_count": 90,
   "id": "fbcea5b6-1147-4682-b557-e2784dcd5d2e",
   "metadata": {
    "tags": []
   },
   "outputs": [
    {
     "data": {
      "text/html": [
       "<div><strong>Dask DataFrame Structure:</strong></div>\n",
       "<div>\n",
       "<style scoped>\n",
       "    .dataframe tbody tr th:only-of-type {\n",
       "        vertical-align: middle;\n",
       "    }\n",
       "\n",
       "    .dataframe tbody tr th {\n",
       "        vertical-align: top;\n",
       "    }\n",
       "\n",
       "    .dataframe thead th {\n",
       "        text-align: right;\n",
       "    }\n",
       "</style>\n",
       "<table border=\"1\" class=\"dataframe\">\n",
       "  <thead>\n",
       "    <tr style=\"text-align: right;\">\n",
       "      <th></th>\n",
       "      <th># A</th>\n",
       "      <th>B</th>\n",
       "    </tr>\n",
       "    <tr>\n",
       "      <th>npartitions=8</th>\n",
       "      <th></th>\n",
       "      <th></th>\n",
       "    </tr>\n",
       "  </thead>\n",
       "  <tbody>\n",
       "    <tr>\n",
       "      <th></th>\n",
       "      <td>float64</td>\n",
       "      <td>float64</td>\n",
       "    </tr>\n",
       "    <tr>\n",
       "      <th></th>\n",
       "      <td>...</td>\n",
       "      <td>...</td>\n",
       "    </tr>\n",
       "    <tr>\n",
       "      <th>...</th>\n",
       "      <td>...</td>\n",
       "      <td>...</td>\n",
       "    </tr>\n",
       "    <tr>\n",
       "      <th></th>\n",
       "      <td>...</td>\n",
       "      <td>...</td>\n",
       "    </tr>\n",
       "    <tr>\n",
       "      <th></th>\n",
       "      <td>...</td>\n",
       "      <td>...</td>\n",
       "    </tr>\n",
       "  </tbody>\n",
       "</table>\n",
       "</div>\n",
       "<div>Dask Name: read-csv, 1 graph layer</div>"
      ],
      "text/plain": [
       "<dask_cudf.DataFrame | 8 tasks | 8 npartitions>"
      ]
     },
     "execution_count": 90,
     "metadata": {},
     "output_type": "execute_result"
    }
   ],
   "source": [
    "dcf = dask_cudf.read_csv(\"csv_file.csv\", blocksize=\"100KB\")  \n",
    "\n",
    "dcf = dask_df.persist()\n",
    "dcf"
   ]
  },
  {
   "cell_type": "code",
   "execution_count": 91,
   "id": "d3af94c1-532c-46b5-a906-6a54ff312164",
   "metadata": {
    "tags": []
   },
   "outputs": [
    {
     "data": {
      "text/plain": [
       "dask_cudf.core.DataFrame"
      ]
     },
     "execution_count": 91,
     "metadata": {},
     "output_type": "execute_result"
    }
   ],
   "source": [
    "type(dask_df)"
   ]
  },
  {
   "cell_type": "markdown",
   "id": "3135ef8a-1c0a-40ef-ada7-7c930f538512",
   "metadata": {
    "tags": []
   },
   "source": [
    "Mit Persist sagen wir, das die Daten aktiv im Speicher gehalten werden."
   ]
  },
  {
   "cell_type": "code",
   "execution_count": 92,
   "id": "2e2eeec4-5cf7-41af-a381-f575941b54dc",
   "metadata": {
    "tags": []
   },
   "outputs": [
    {
     "data": {
      "text/html": [
       "<table>\n",
       "    <tr>\n",
       "        <th>Worker</th>\n",
       "        <th>Key count</th>\n",
       "        <th>Key list</th>\n",
       "    </tr>\n",
       "\n",
       "    \n",
       "    <tr>\n",
       "        <td>tcp://149.201.182.203:42963</td>\n",
       "        <td>28</td>\n",
       "        <td>\n",
       "            <details>\n",
       "            <summary style='display:list-item'>Expand</summary>\n",
       "            <table>\n",
       "            \n",
       "                <tr><td>('read-csv-ed8861c034a65772f82ec2304d734821', 0)</td></tr>\n",
       "            \n",
       "                <tr><td>('read-csv-ed8861c034a65772f82ec2304d734821', 1)</td></tr>\n",
       "            \n",
       "                <tr><td>('read-csv-ed8861c034a65772f82ec2304d734821', 2)</td></tr>\n",
       "            \n",
       "                <tr><td>('read-csv-ed8861c034a65772f82ec2304d734821', 3)</td></tr>\n",
       "            \n",
       "                <tr><td>('read-csv-ed8861c034a65772f82ec2304d734821', 4)</td></tr>\n",
       "            \n",
       "                <tr><td>('read-csv-ed8861c034a65772f82ec2304d734821', 5)</td></tr>\n",
       "            \n",
       "                <tr><td>('read-csv-ed8861c034a65772f82ec2304d734821', 6)</td></tr>\n",
       "            \n",
       "                <tr><td>('read-csv-ed8861c034a65772f82ec2304d734821', 7)</td></tr>\n",
       "            \n",
       "                <tr><td>('read-csv-ed8861c034a65772f82ec2304d734821', 8)</td></tr>\n",
       "            \n",
       "                <tr><td>('read-csv-ed8861c034a65772f82ec2304d734821', 9)</td></tr>\n",
       "            \n",
       "                <tr><td>('read-csv-1a1e3c72740a68a8e10cb0a911b14d54', 0)</td></tr>\n",
       "            \n",
       "                <tr><td>('read-csv-1a1e3c72740a68a8e10cb0a911b14d54', 1)</td></tr>\n",
       "            \n",
       "                <tr><td>('read-csv-1a1e3c72740a68a8e10cb0a911b14d54', 10)</td></tr>\n",
       "            \n",
       "                <tr><td>('read-csv-1a1e3c72740a68a8e10cb0a911b14d54', 11)</td></tr>\n",
       "            \n",
       "                <tr><td>('read-csv-1a1e3c72740a68a8e10cb0a911b14d54', 12)</td></tr>\n",
       "            \n",
       "                <tr><td>('read-csv-1a1e3c72740a68a8e10cb0a911b14d54', 13)</td></tr>\n",
       "            \n",
       "                <tr><td>('read-csv-1a1e3c72740a68a8e10cb0a911b14d54', 14)</td></tr>\n",
       "            \n",
       "                <tr><td>('read-csv-1a1e3c72740a68a8e10cb0a911b14d54', 15)</td></tr>\n",
       "            \n",
       "                <tr><td>('read-csv-1a1e3c72740a68a8e10cb0a911b14d54', 16)</td></tr>\n",
       "            \n",
       "                <tr><td>('read-csv-1a1e3c72740a68a8e10cb0a911b14d54', 17)</td></tr>\n",
       "            \n",
       "                <tr><td>('read-csv-1a1e3c72740a68a8e10cb0a911b14d54', 2)</td></tr>\n",
       "            \n",
       "                <tr><td>('read-csv-1a1e3c72740a68a8e10cb0a911b14d54', 3)</td></tr>\n",
       "            \n",
       "                <tr><td>('read-csv-1a1e3c72740a68a8e10cb0a911b14d54', 4)</td></tr>\n",
       "            \n",
       "                <tr><td>('read-csv-1a1e3c72740a68a8e10cb0a911b14d54', 5)</td></tr>\n",
       "            \n",
       "                <tr><td>('read-csv-1a1e3c72740a68a8e10cb0a911b14d54', 6)</td></tr>\n",
       "            \n",
       "                <tr><td>('read-csv-1a1e3c72740a68a8e10cb0a911b14d54', 7)</td></tr>\n",
       "            \n",
       "                <tr><td>('read-csv-1a1e3c72740a68a8e10cb0a911b14d54', 8)</td></tr>\n",
       "            \n",
       "                <tr><td>('read-csv-1a1e3c72740a68a8e10cb0a911b14d54', 9)</td></tr>\n",
       "            \n",
       "            </table>\n",
       "            </details>\n",
       "        </td>\n",
       "    </tr>\n",
       "    \n",
       "</table>"
      ],
      "text/plain": [
       "{'tcp://149.201.182.203:42963': (\"('read-csv-ed8861c034a65772f82ec2304d734821', 0)\",\n",
       "  \"('read-csv-ed8861c034a65772f82ec2304d734821', 1)\",\n",
       "  \"('read-csv-ed8861c034a65772f82ec2304d734821', 2)\",\n",
       "  \"('read-csv-ed8861c034a65772f82ec2304d734821', 3)\",\n",
       "  \"('read-csv-ed8861c034a65772f82ec2304d734821', 4)\",\n",
       "  \"('read-csv-ed8861c034a65772f82ec2304d734821', 5)\",\n",
       "  \"('read-csv-ed8861c034a65772f82ec2304d734821', 6)\",\n",
       "  \"('read-csv-ed8861c034a65772f82ec2304d734821', 7)\",\n",
       "  \"('read-csv-ed8861c034a65772f82ec2304d734821', 8)\",\n",
       "  \"('read-csv-ed8861c034a65772f82ec2304d734821', 9)\",\n",
       "  \"('read-csv-1a1e3c72740a68a8e10cb0a911b14d54', 0)\",\n",
       "  \"('read-csv-1a1e3c72740a68a8e10cb0a911b14d54', 1)\",\n",
       "  \"('read-csv-1a1e3c72740a68a8e10cb0a911b14d54', 10)\",\n",
       "  \"('read-csv-1a1e3c72740a68a8e10cb0a911b14d54', 11)\",\n",
       "  \"('read-csv-1a1e3c72740a68a8e10cb0a911b14d54', 12)\",\n",
       "  \"('read-csv-1a1e3c72740a68a8e10cb0a911b14d54', 13)\",\n",
       "  \"('read-csv-1a1e3c72740a68a8e10cb0a911b14d54', 14)\",\n",
       "  \"('read-csv-1a1e3c72740a68a8e10cb0a911b14d54', 15)\",\n",
       "  \"('read-csv-1a1e3c72740a68a8e10cb0a911b14d54', 16)\",\n",
       "  \"('read-csv-1a1e3c72740a68a8e10cb0a911b14d54', 17)\",\n",
       "  \"('read-csv-1a1e3c72740a68a8e10cb0a911b14d54', 2)\",\n",
       "  \"('read-csv-1a1e3c72740a68a8e10cb0a911b14d54', 3)\",\n",
       "  \"('read-csv-1a1e3c72740a68a8e10cb0a911b14d54', 4)\",\n",
       "  \"('read-csv-1a1e3c72740a68a8e10cb0a911b14d54', 5)\",\n",
       "  \"('read-csv-1a1e3c72740a68a8e10cb0a911b14d54', 6)\",\n",
       "  \"('read-csv-1a1e3c72740a68a8e10cb0a911b14d54', 7)\",\n",
       "  \"('read-csv-1a1e3c72740a68a8e10cb0a911b14d54', 8)\",\n",
       "  \"('read-csv-1a1e3c72740a68a8e10cb0a911b14d54', 9)\")}"
      ]
     },
     "execution_count": 92,
     "metadata": {},
     "output_type": "execute_result"
    }
   ],
   "source": [
    "# Damit sehen wir die Patitionen\n",
    "client.has_what()"
   ]
  },
  {
   "cell_type": "markdown",
   "id": "27d41e9d-736a-4577-88d7-cb1bda878f91",
   "metadata": {},
   "source": [
    "### Trainieren"
   ]
  },
  {
   "cell_type": "markdown",
   "id": "5f4c6870-f745-434f-8985-7b2a4ee2349a",
   "metadata": {},
   "source": [
    "Mit den partitionierten Daten können wir jetzt das Model trainieren."
   ]
  },
  {
   "cell_type": "code",
   "execution_count": 93,
   "id": "9cebd5a5-c6f9-4b72-9540-41435a4b0adc",
   "metadata": {
    "tags": []
   },
   "outputs": [
    {
     "name": "stdout",
     "output_type": "stream",
     "text": [
      "CPU times: user 17 ms, sys: 4.18 ms, total: 21.2 ms\n",
      "Wall time: 37.6 ms\n"
     ]
    },
    {
     "data": {
      "text/plain": [
       "KMeans()"
      ]
     },
     "execution_count": 93,
     "metadata": {},
     "output_type": "execute_result"
    }
   ],
   "source": [
    "%time single_model.fit(dcf)  "
   ]
  },
  {
   "cell_type": "markdown",
   "id": "e01aec99-0b5c-4a39-8a85-348fa8a9aee9",
   "metadata": {},
   "source": [
    "Eine Alternative wäre, die Partitionen stückweise zu nutzen. "
   ]
  },
  {
   "cell_type": "code",
   "execution_count": 94,
   "id": "1bbcab58-870a-455c-9b92-d19409ebba73",
   "metadata": {
    "tags": []
   },
   "outputs": [
    {
     "name": "stdout",
     "output_type": "stream",
     "text": [
      "CPU times: user 75.3 ms, sys: 99 µs, total: 75.4 ms\n",
      "Wall time: 142 ms\n"
     ]
    }
   ],
   "source": [
    "%%time\n",
    "# Alternativ: \n",
    "\n",
    "partitions = 6  # Anzahl partitionen\n",
    "single_model = single_Kmeans(init=\"k-means||\", random_state=100)\n",
    "\n",
    "for i in range(partitions):\n",
    "    # Gehe Partitionen durch.\n",
    "    # - So können pro Iteration Daten ausgegeben werden. \n",
    "    single_model.fit(dcf.get_partition(i))\n",
    "    "
   ]
  },
  {
   "cell_type": "markdown",
   "id": "c4974209-fc93-43f5-9583-56bd7bdf606d",
   "metadata": {},
   "source": [
    "# 3. Training"
   ]
  },
  {
   "cell_type": "markdown",
   "id": "af592bad-b261-4cf5-a2ab-6a85ea28dbec",
   "metadata": {},
   "source": [
    "Wie bereits erwähnt, ist die API fast genau so wie bei Sklearn. Wenn wir jetzt Daten haben und diese noch verarbeiten wollen, muss darauf geachtet werden, dass die Datentypen am Ende richtig sind.\n",
    "\n",
    "\n",
    "Für das Model gibt es einige Parameter, die wir einstellen können, dieser Auszug zeigt alle möglichen Parameter <br>\n",
    "<i>handle=None, n_clusters=8, max_iter=300, tol=0.0001, verbose=False, random_state=1, init='scalable-k-means++', n_init=1, oversampling_factor=2.0, max_samples_per_batch=32768, output_type=None</i>\n",
    "* n_clusters: The number of centroids or clusters you want.\n",
    "* max_iter: The more iterations of EM, the more accurate, but slower.\n",
    "* tol: Stopping criterion when centroid means do not change much.\n",
    "\n",
    "<br>\n",
    "\n",
    "Sklearn Kmeans: https://scikit-learn.org/stable/modules/generated/sklearn.cluster.KMeans.html <br>\n",
    "cuML SNSG Kmeans: https://docs.rapids.ai/api/cuml/stable/api/#k-means-clustering"
   ]
  },
  {
   "cell_type": "code",
   "execution_count": 95,
   "id": "822a51b6-63d6-4c2b-83bb-576869276805",
   "metadata": {
    "tags": []
   },
   "outputs": [],
   "source": [
    "# Single Node GPU K-Means\n",
    "from cuml import KMeans as single_Kmeans"
   ]
  },
  {
   "cell_type": "markdown",
   "id": "c4105d1b-8a63-4e24-b2b4-62e342751ebf",
   "metadata": {
    "tags": []
   },
   "source": [
    "Jetzt kann man wie üblich vorgehen. Das Model Trainieren, Speichern, Laden und Evaluieren.\n",
    "\n",
    "Wir können das Dashboard von Dask öffnen und sehen unter GPU die Auslastung (wenn es nicht zu schnell fertig ist)."
   ]
  },
  {
   "cell_type": "code",
   "execution_count": 96,
   "id": "569828b6-200f-4d7a-b863-ceaa8b727f52",
   "metadata": {
    "tags": []
   },
   "outputs": [
    {
     "name": "stdout",
     "output_type": "stream",
     "text": [
      "CPU times: user 12.5 ms, sys: 12.1 ms, total: 24.5 ms\n",
      "Wall time: 21.7 ms\n"
     ]
    },
    {
     "data": {
      "text/plain": [
       "KMeans()"
      ]
     },
     "execution_count": 96,
     "metadata": {},
     "output_type": "execute_result"
    }
   ],
   "source": [
    "# Erstelle Model mit Parameter \n",
    "single_model = single_Kmeans(init=\"k-means||\", random_state=100)\n",
    "                     \n",
    "# Training  \n",
    "%time single_model.fit(X)"
   ]
  },
  {
   "cell_type": "markdown",
   "id": "7dadb97f-c62a-4054-bf85-676a1e7f9629",
   "metadata": {},
   "source": [
    "Nach dem Trainieren können wir Predictions machen."
   ]
  },
  {
   "cell_type": "code",
   "execution_count": 97,
   "id": "16c1a350-1a21-4c9c-b7e9-dfd78da8da81",
   "metadata": {
    "tags": []
   },
   "outputs": [
    {
     "name": "stdout",
     "output_type": "stream",
     "text": [
      "Länge: 6030 \n",
      "Typ: <class 'cupy.ndarray'>\n",
      " [[  3.1369233  -9.806425 ]\n",
      " [  1.5548234   4.953351 ]\n",
      " [  1.3772724   3.4159353]\n",
      " ...\n",
      " [  3.392383    3.2132409]\n",
      " [  0.8432759 -10.015812 ]\n",
      " [  2.218586  -10.843707 ]]\n"
     ]
    }
   ],
   "source": [
    "to_predict = X_test\n",
    "print(f\"Länge: {len(to_predict)} \\nTyp: {type(to_predict)}\\n {to_predict}\")"
   ]
  },
  {
   "cell_type": "code",
   "execution_count": 98,
   "id": "9838cece-d0f8-49bb-9f3d-cb7a81c339df",
   "metadata": {
    "tags": []
   },
   "outputs": [
    {
     "data": {
      "text/plain": [
       "cupy.ndarray"
      ]
     },
     "execution_count": 98,
     "metadata": {},
     "output_type": "execute_result"
    }
   ],
   "source": [
    "single_kmeans_pred = single_model.predict(to_predict)\n",
    "# Als Output bekommen wir ein cupy Array\n",
    "type(single_kmeans_pred)"
   ]
  },
  {
   "cell_type": "markdown",
   "id": "d24f14e3-d5e9-4929-9365-07ebf7d62e5d",
   "metadata": {},
   "source": [
    "# 3. Speichern, Laden, Testen"
   ]
  },
  {
   "cell_type": "markdown",
   "id": "1a1a12f3-7c26-4995-8d35-91ff45bfffe8",
   "metadata": {},
   "source": [
    "Das Speichern und Laden des Modelsgeht einfach mit nur wenigen Schritten. Das Evaluieren ist ähnlich wie bei Sklearn."
   ]
  },
  {
   "cell_type": "code",
   "execution_count": 99,
   "id": "c512b115-0435-4a68-8775-af1efce4f022",
   "metadata": {
    "tags": []
   },
   "outputs": [],
   "source": [
    "import pickle\n",
    "# Speichern\n",
    "pickle.dump(single_model, open(\"template_data_Kmeans/cuml_SingleNode_kmeans_model.pkl\", \"wb\"))\n",
    "\n",
    "# Laden:\n",
    "loaded_model = pickle.load(open(\"template_data_Kmeans/cuml_SingleNode_kmeans_model.pkl\", \"rb\"))"
   ]
  },
  {
   "cell_type": "code",
   "execution_count": 100,
   "id": "93efbf8b-a249-4bcf-ad40-89d8bf24491d",
   "metadata": {
    "tags": []
   },
   "outputs": [],
   "source": [
    "from sklearn.manifold import trustworthiness   # CPU Berechnung \n",
    "# Oder auch:\n",
    "from cuml.metrics.trustworthiness import trustworthiness as cuml_trustworthiness   # GPU Berechnung, Viel schneller"
   ]
  },
  {
   "cell_type": "markdown",
   "id": "0bb318b2-1251-4847-8ca5-b62269f1b7d2",
   "metadata": {},
   "source": [
    "Wir können z.B. die trustworthiness Anwenden.\n",
    "\n",
    "Wenn wir Sklearn für die trustworthiness nutzen wollen, muss der Typ des Inputs passen. Unsere Daten sind in dem Format cupy.ndarray.\n",
    "\n",
    "Um Numpy zu nutzen, müssen wir nur  `.get()` hinter unsere Variablen schreiben, wie: `y.get()`. Oder wir wandeln die Daten vorher in ein Numpy um."
   ]
  },
  {
   "cell_type": "code",
   "execution_count": 48,
   "id": "e623c8b0-6336-46c5-8d93-baac5ea6d0c1",
   "metadata": {
    "tags": []
   },
   "outputs": [
    {
     "name": "stdout",
     "output_type": "stream",
     "text": [
      "Type X: <class 'cupy.ndarray'>\n",
      "Type X.get(): <class 'numpy.ndarray'>\n"
     ]
    }
   ],
   "source": [
    "print(f\"Type X: {type(X)}\\nType X.get(): {type(X.get())}\")"
   ]
  },
  {
   "cell_type": "code",
   "execution_count": 49,
   "id": "2bc902ad-58a1-479b-b9e7-50d4f634364f",
   "metadata": {
    "tags": []
   },
   "outputs": [
    {
     "name": "stdout",
     "output_type": "stream",
     "text": [
      "CPU times: user 129 ms, sys: 0 ns, total: 129 ms\n",
      "Wall time: 128 ms\n",
      "Score: 0.9999686574341249\n"
     ]
    }
   ],
   "source": [
    "# cuML trustworthiness, hier kein .get() nötig\n",
    "X_embedded = loaded_model.transform(X)  \n",
    "%time score = cuml_trustworthiness( X, X_embedded )\n",
    "print(f\"Score: {score}\")"
   ]
  },
  {
   "cell_type": "markdown",
   "id": "aa9797d2-dff1-45b4-b695-f0d671549b8f",
   "metadata": {},
   "source": [
    "# 4. cuML Kmeans => Sklearn Kmeans Model"
   ]
  },
  {
   "cell_type": "code",
   "execution_count": 101,
   "id": "7a52851c-595d-4efa-a282-4aa6dce5458a",
   "metadata": {
    "tags": []
   },
   "outputs": [],
   "source": [
    "from sklearn.cluster import KMeans as sk_Kmeans"
   ]
  },
  {
   "cell_type": "markdown",
   "id": "60241ac7-40de-418c-a2d1-7a940b2fbaa3",
   "metadata": {},
   "source": [
    "Das Model bietet keine normale Überführung in ein CPU-Model. Es ist jedoch möglich, einige Werte dem Sklearn Model zu übergeben.\n",
    "\n",
    "Ist das Ziel das Model später auf einem System zu nutzen, das keine CPU hat, kann das trainierte Model in ein Sklearn Model \"konvertiert\" werden."
   ]
  },
  {
   "cell_type": "code",
   "execution_count": 102,
   "id": "c77c8307-f0ff-45f8-877f-a742c05e2449",
   "metadata": {
    "tags": []
   },
   "outputs": [],
   "source": [
    "# Erstelle Basismodel\n",
    "sk_model_new =  sk_Kmeans()"
   ]
  },
  {
   "cell_type": "code",
   "execution_count": 103,
   "id": "e79e05bf-05ac-4a4d-b426-11e3588aa885",
   "metadata": {
    "tags": []
   },
   "outputs": [
    {
     "name": "stdout",
     "output_type": "stream",
     "text": [
      "Überführe cuML Model zu Sklearn Model.\n"
     ]
    }
   ],
   "source": [
    "sk_model_new  = rapids_tools.snsg_kmeans__singleModel_to_sklearnModel(loaded_model, sk_model_new)"
   ]
  },
  {
   "cell_type": "markdown",
   "id": "444c3e55-6202-49c0-ba42-bd515506a2a9",
   "metadata": {},
   "source": [
    "Danach sollte eine Prediction möglich sein."
   ]
  },
  {
   "cell_type": "code",
   "execution_count": 104,
   "id": "a6a7bf47-dcd7-481c-bcb9-eaf23a905cd2",
   "metadata": {
    "tags": []
   },
   "outputs": [
    {
     "data": {
      "text/plain": [
       "array([5], dtype=int32)"
      ]
     },
     "execution_count": 104,
     "metadata": {},
     "output_type": "execute_result"
    }
   ],
   "source": [
    "sk_model_new.predict(np.asarray( [ [1.5, 2.4] ], dtype=np.float32 ))"
   ]
  },
  {
   "cell_type": "markdown",
   "id": "c11e7c12-5296-428c-b9ed-5c30d2fa4f5f",
   "metadata": {},
   "source": [
    "Dann können wir das Model speichern und wieder Laden."
   ]
  },
  {
   "cell_type": "code",
   "execution_count": 105,
   "id": "411463aa-fa9e-4cb8-9c24-710f4ecb098f",
   "metadata": {
    "tags": []
   },
   "outputs": [],
   "source": [
    "# Speichern \n",
    "pickle.dump(sk_model_new, open(\"template_data_Kmeans_Multi/sklearn_kmeans_model.pkl\", \"wb\"))\n",
    "# Laden\n",
    "loaded_sklearn_model = pickle.load(open(\"template_data_Kmeans_Multi/sklearn_kmeans_model.pkl\", \"rb\"))"
   ]
  },
  {
   "cell_type": "code",
   "execution_count": 106,
   "id": "7a87f469-f41a-4a13-a8fc-bf140bc7b89f",
   "metadata": {
    "tags": []
   },
   "outputs": [
    {
     "data": {
      "text/plain": [
       "array([5], dtype=int32)"
      ]
     },
     "execution_count": 106,
     "metadata": {},
     "output_type": "execute_result"
    }
   ],
   "source": [
    "loaded_sklearn_model.predict(np.asarray( [ [1.5, 2.4] ], dtype=np.float32 ))"
   ]
  },
  {
   "cell_type": "code",
   "execution_count": 107,
   "id": "ec450f91-3a8f-4301-9f80-869e044d8d11",
   "metadata": {
    "tags": []
   },
   "outputs": [
    {
     "name": "stdout",
     "output_type": "stream",
     "text": [
      "CPU times: user 10.2 ms, sys: 69 µs, total: 10.2 ms\n",
      "Wall time: 10.1 ms\n",
      "Score: 0.9998888046207576\n"
     ]
    }
   ],
   "source": [
    "# cuML trustworthiness\n",
    "X_embedded = loaded_sklearn_model.transform(X_test.get())  \n",
    "%time score = cuml_trustworthiness(X_test, X_embedded )\n",
    "print(f\"Score: {score}\")"
   ]
  },
  {
   "cell_type": "markdown",
   "id": "9ab60b9f-2b21-4aea-8e80-7925bb86a2ee",
   "metadata": {},
   "source": [
    "Danach können wir die Predictions prüfen, ob beide Modelle die gleichen Ausgeben haben. Der Input muss vom Typ Numpy sein."
   ]
  },
  {
   "cell_type": "code",
   "execution_count": 108,
   "id": "b4e84065-6a71-483c-8e2c-456427744554",
   "metadata": {
    "tags": []
   },
   "outputs": [],
   "source": [
    "# Predictions des Sklearn Models\n",
    "single_kmeans_sklearn_pred = loaded_sklearn_model.predict(X_test.get())"
   ]
  },
  {
   "cell_type": "markdown",
   "id": "4d5061e5-8703-4e1f-baec-ad9b67bb7eba",
   "metadata": {},
   "source": [
    "In dem Fall das es eine Ungleiheit gibt, kommt eine Meldung."
   ]
  },
  {
   "cell_type": "code",
   "execution_count": 109,
   "id": "d06bd79d-fe29-453e-9a58-5d487b70af50",
   "metadata": {
    "tags": []
   },
   "outputs": [
    {
     "name": "stdout",
     "output_type": "stream",
     "text": [
      "Gebe 10 Zeilen aus, die ungleich sind\n"
     ]
    }
   ],
   "source": [
    "rapids_tools.arrays_equal( cp.asnumpy( single_kmeans_pred ), single_kmeans_sklearn_pred )"
   ]
  },
  {
   "cell_type": "code",
   "execution_count": 59,
   "id": "9ef31ea6-0359-42c7-ba68-bb1ef635f79b",
   "metadata": {
    "tags": []
   },
   "outputs": [],
   "source": [
    "# Shutdown Cluster\n",
    "client.shutdown()"
   ]
  }
 ],
 "metadata": {
  "kernelspec": {
   "display_name": "Python 3 (ipykernel)",
   "language": "python",
   "name": "python3"
  },
  "language_info": {
   "codemirror_mode": {
    "name": "ipython",
    "version": 3
   },
   "file_extension": ".py",
   "mimetype": "text/x-python",
   "name": "python",
   "nbconvert_exporter": "python",
   "pygments_lexer": "ipython3",
   "version": "3.10.10"
  }
 },
 "nbformat": 4,
 "nbformat_minor": 5
}
