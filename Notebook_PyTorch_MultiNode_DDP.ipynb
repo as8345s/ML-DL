{
 "cells": [
  {
   "cell_type": "markdown",
   "id": "8610038a-a040-4cb1-aa0d-117515c6e2ac",
   "metadata": {},
   "source": [
    "# Pytorch Deep-Learning | Multi-Node / Multi-GPU | Docker \n",
    "\n",
    "***"
   ]
  },
  {
   "cell_type": "markdown",
   "id": "238778d6-e8bc-4861-9b5f-60d7616539bb",
   "metadata": {},
   "source": [
    "In diesem Notebook wird PyTorch DDP verwendet, um das Trainieren auf einem Dask-Cluster zu skalieren. \n",
    "\n",
    "Von Pytorch selber gibt es euch einige Anwendungsbeispiele für Deep-Learning.\n",
    "Saturncloud stellt uns Module bereit, einer dieser Module nennt sich Dask-PyTorch-DDP, was wir für das Trainieren mit Dask nutzen werden. <br>Ob Docker oder nicht, es muss ein Dask-Cluster erstellt werden, damit das mit Dask und PyTorch funktioniert. Die Worker sollten auf die GPU zugreifen können. \n",
    "\n",
    "\n",
    "Das verteilte Trainieren erfolgt so, dass wir unser Model als DDP-Model wrappen und mittels Dask auf die Worker verteilen. Das Verteilen findet im Hintergrund statt.\n",
    "\n",
    "<u>Wann sollte PyTorch DDP genutzt werden:</u><br>\n",
    "- Das Model passt auf eine GPU\n",
    "- Es gibt sehr viele Trainingsdaten.<br>\n",
    "DDP beschleunigt das Training, indem jeder erstellte Worker das gleiche Model mit unterschiedlichen Daten trainiert.\n",
    "\n",
    "\n",
    "<br>\n",
    "\n",
    "Dask und Dask.distributed sollten die gleiche Version haben. <br>\n",
    "Dask: https://www.dask.org && https://docs.dask.org/en/stable/ <br>\n",
    "PyTorch: https://pytorch.org  <br>\n",
    "PyTorch releases: https://github.com/pytorch/pytorch/releases <br>\n",
    "Dask-PyTorch-DDP Open Source Module von Saturncloud: https://github.com/saturncloud/dask-pytorch-ddp/tree/main <br>\n",
    "PyTorch DDP \"WHAT IS DISTRIBUTED DATA PARALLEL (DDP)\" https://pytorch.org/tutorials/beginner/ddp_series_theory.html\n"
   ]
  },
  {
   "cell_type": "markdown",
   "id": "75391cda-a122-4a8b-8202-8f154f65366e",
   "metadata": {},
   "source": [
    "# 1. PyTorch und Dask"
   ]
  },
  {
   "cell_type": "markdown",
   "id": "4657ec2c-dc98-4302-8114-0b002ee0d9fa",
   "metadata": {},
   "source": [
    "Um die Verwendung von PyTorch DDP und den erstellten Modulen zu veranschaulichen, wird das PyTorch Basic Tutorial für den Basisfall genutzt. <br>\n",
    "Daraufhin können  Anpassungen gemacht werden.\n",
    "\n",
    "\n",
    "Die Netzwerke und Trainingsloops ändern sich für das Verteilte Trainieren  mit DDP nicht groß. Die Trainingsfunktion wird von jedem Worker ausgeführt. Ein Worker entspricht einer GPU mit genau einem Prozess. \n",
    "\n",
    "<br>\n",
    "\n",
    "PyTorch Tutorial: https://pytorch.org/tutorials/beginner/blitz/cifar10_tutorial.html<br>\n",
    "<p style=\"font-size:13px;\">Bilder aus dem Tutorial https://pytorch.org/tutorials/beginner/blitz/cifar10_tutorial.html </p>"
   ]
  },
  {
   "cell_type": "markdown",
   "id": "6fc812d1-b75e-4c18-a25d-4804d4a55b6f",
   "metadata": {
    "tags": []
   },
   "source": [
    "<div>\n",
    "    <p style=\"float: left;\"><img src=\"./pictures/pytorch_cnn_1.PNG\" border=\"1px;\" width=\"425px;\" hight=\"425px;\" ></p>\n",
    "    <p style=\"float: left;\"><img src=\"./pictures/pytorch_cnn_2.PNG\" border=\"1px;\" width=\"425px;\" hight=\"425px;\"></p>   <br>\n",
    "</div>"
   ]
  },
  {
   "cell_type": "markdown",
   "id": "fbefdc75-27a1-47d1-b222-d38ee8e5bca1",
   "metadata": {},
   "source": [
    "Wir teilen das Training in 4 Bereiche auf. Hier nutzen wir MNSG."
   ]
  },
  {
   "cell_type": "markdown",
   "id": "79bf73f5-d915-429d-b213-39afd50c000c",
   "metadata": {
    "tags": []
   },
   "source": [
    "\n",
    "<img src=\"./pictures/rapids_flynn.PNG\"  width=\"625px;\" hight=\"625px;\">\n"
   ]
  },
  {
   "cell_type": "markdown",
   "id": "2e7d0c7d-d5ea-4bc6-b223-79d246da51dc",
   "metadata": {},
   "source": [
    "<u>PyTorch DDP kurz erklärt</u>\n",
    "\n",
    "DDP steht für Distributed Data Parallel. Nehmen wir an das wir 3 Nodes haben, mit je 1 GPU. PyTorch DDP startet 1 Prozess pro GPU, also haben wir am Ende 3 Prozesse. Ein Prozess nutzt ein CPU-Kern. Das Data Parallel entsteht dadurch, dass die Trainingsdaten parallel in die Netze gefüttert werden. Jeder Worker kann die lokalen Daten nutzen, in der Trainingsfunktion die jeder Worker ausführt, kann definiert werden wie Daten geladen werden.\n",
    "\n",
    "Wenn nur der Host die Daten hat, müssen diese mit dem Cluster geteilt werden.\n"
   ]
  },
  {
   "cell_type": "markdown",
   "id": "e94d51d7-43a9-4720-8411-3d7424981179",
   "metadata": {},
   "source": [
    "Die Abbildung unten zeigt 3 Nodes mit jeweils 1 GPU. Jede GPU hat eine Kopie des Models. Zum Trainieren werden die lokalen Daten geladen. Wie Daten geladen werden, ist den Benutzern überlassen. "
   ]
  },
  {
   "cell_type": "markdown",
   "id": "328d5953-f288-4ba6-a85c-66c5857c37e3",
   "metadata": {},
   "source": [
    "\n",
    "<img src=\"./pictures/5_DDP.PNG\"  width=\"925px;\" hight=\"725px;\">\n",
    "<!--</center>-->"
   ]
  },
  {
   "cell_type": "markdown",
   "id": "e1310c5f-f590-41c5-8df1-56247ded8da6",
   "metadata": {},
   "source": [
    "Da wir die Trainingsdaten aufteilen, bekommt jedes Model einen anderen Input. Wenn das Netz auf eine GPU gut passt, wird das Model einfach auf die GPUs kopiert. Jeder Worker hat dann das gleiche Model zu Beginn, sowie Optimierer, usw. als wäre man nur auf einer lokalen Maschine.\n",
    "\n",
    "Passt ein Model nicht auf eine GPU, so muss das Model aufgeteilt werden => Model Parallel <br>\n",
    "Das ist in einem anderem Notebook beschrieben.\n",
    "\n",
    "Die Synchronisation erfolgt mittels eines bucketed Ring All-Reduce Algorithmus. Die Layers des Models werden in sogenannten Buckets organisiert. \n"
   ]
  },
  {
   "cell_type": "markdown",
   "id": "b700a3cf-a3c9-4559-8850-d97d5f8d25a0",
   "metadata": {},
   "source": [
    "Bild aus dem <a href=\"https://www.youtube.com/watch?v=3XUG7cjte2U\">Erklärvideo:</a> <br>                         \n",
    "<img src=\"./pictures/3_DDP.png\" width=\"425px;\" hight=\"550px;\">\n",
    "<img src=\"./pictures/4_DDP.PNG\" width=\"425px;\" hight=\"550px;\">"
   ]
  },
  {
   "cell_type": "markdown",
   "id": "c7d0c567-8f6d-4b00-b3a7-0999a2293756",
   "metadata": {},
   "source": [
    "PyTorch kümmert sich dann um den Rest.\n",
    "\n",
    "\n",
    "\n",
    "<br>\n",
    "\n",
    "Ring All-Reduce: https://tech.preferred.jp/en/blog/technologies-behind-distributed-deep-learning-allreduce/<br>\n",
    "PyTorch DDP \"GETTING STARTED WITH DISTRIBUTED DATA PARALLEL\": https://pytorch.org/tutorials/intermediate/ddp_tutorial.html <br>\n",
    "PyTorch DDP Erklärvideo (von PyTorch YouTube): https://www.youtube.com/watch?v=Cvdhwx-OBBo&list=PL_lsbAsL_o2CSuhUhJIiW0IkdT5C2wGWj&index=2  <br>\n"
   ]
  },
  {
   "cell_type": "markdown",
   "id": "cc1453ac-6b17-4cc7-88e3-3121330eefea",
   "metadata": {},
   "source": [
    "# 2. Aufbau und Möglichkeiten "
   ]
  },
  {
   "cell_type": "markdown",
   "id": "820363ec-228b-44a9-86cd-5f74619b58c4",
   "metadata": {},
   "source": [
    "Wir importieren Dateien, die Klassen und Funktion erhalten, um die Benutzung zu vereinfachen.\n",
    "\n",
    "In den Modulen selber können Einstellungen vorgenommen werden. Wenn PYTORCH_MODULE_LOG auf False gesetzt wird, werden keine Informationen ausgegeben."
   ]
  },
  {
   "cell_type": "code",
   "execution_count": 1,
   "id": "4f4095c6-9676-468c-8542-8cc98d8808a4",
   "metadata": {
    "tags": []
   },
   "outputs": [
    {
     "name": "stdout",
     "output_type": "stream",
     "text": [
      "Tools 1.0 | Setze Umgebungsvariablen\n",
      "PYTORCH_DIST_BACKEND: nccl\n",
      "PYTORCH_DIST_DDP_PORT: 23456\n",
      "NCCL_SOCKET_NTHREADS: 4\n",
      "NCCL_NSOCKS_PERTHREAD: 2\n",
      "PYTORCH_MODULE_LOG: True\n",
      "\n",
      "RPC Config:\n",
      "GLOO_SOCKET_IFNAME: eno1, NCCL_SOCKET_IFNAME: eno1\n",
      "TP_SOCKET_IFNAME: eno1    , START_ON_RANK: 0\n",
      "PyTorch Dispatcher-/Resulthandler 1.0\n"
     ]
    }
   ],
   "source": [
    "## Tools um die Nutzung zu vereinfache\n",
    "# - Das Modul selber imortiert auch pytorch_dispatcher_resulthandler\n",
    "import pytorch_tools as pytorch_tools"
   ]
  },
  {
   "cell_type": "code",
   "execution_count": 2,
   "id": "38d5637e-e2bd-4add-a645-4a608afbac00",
   "metadata": {
    "tags": []
   },
   "outputs": [],
   "source": [
    "# Code für PyTorch DDP\n",
    "import pytorch_dispatcher_resulthandler"
   ]
  },
  {
   "cell_type": "code",
   "execution_count": 3,
   "id": "2e2c3454-5b58-4e0f-8cff-531cff056267",
   "metadata": {
    "tags": []
   },
   "outputs": [
    {
     "name": "stdout",
     "output_type": "stream",
     "text": [
      "Client-IP: 127.0.0.1:8786\n"
     ]
    },
    {
     "data": {
      "text/html": [
       "<div>\n",
       "    <div style=\"width: 24px; height: 24px; background-color: #e1e1e1; border: 3px solid #9D9D9D; border-radius: 5px; position: absolute;\"> </div>\n",
       "    <div style=\"margin-left: 48px;\">\n",
       "        <h3 style=\"margin-bottom: 0px;\">Client</h3>\n",
       "        <p style=\"color: #9D9D9D; margin-bottom: 0px;\">Client-065c0bd1-84a7-11ee-b135-a4bb6d4fbfd8</p>\n",
       "        <table style=\"width: 100%; text-align: left;\">\n",
       "\n",
       "        <tr>\n",
       "        \n",
       "            <td style=\"text-align: left;\"><strong>Connection method:</strong> Direct</td>\n",
       "            <td style=\"text-align: left;\"></td>\n",
       "        \n",
       "        </tr>\n",
       "\n",
       "        \n",
       "            <tr>\n",
       "                <td style=\"text-align: left;\">\n",
       "                    <strong>Dashboard: </strong> <a href=\"http://127.0.0.1:8787/status\" target=\"_blank\">http://127.0.0.1:8787/status</a>\n",
       "                </td>\n",
       "                <td style=\"text-align: left;\"></td>\n",
       "            </tr>\n",
       "        \n",
       "\n",
       "        </table>\n",
       "\n",
       "        \n",
       "            <button style=\"margin-bottom: 12px;\" data-commandlinker-command=\"dask:populate-and-launch-layout\" data-commandlinker-args='{\"url\": \"http://127.0.0.1:8787/status\" }'>\n",
       "                Launch dashboard in JupyterLab\n",
       "            </button>\n",
       "        \n",
       "\n",
       "        \n",
       "            <details>\n",
       "            <summary style=\"margin-bottom: 20px;\"><h3 style=\"display: inline;\">Scheduler Info</h3></summary>\n",
       "            <div style=\"\">\n",
       "    <div>\n",
       "        <div style=\"width: 24px; height: 24px; background-color: #FFF7E5; border: 3px solid #FF6132; border-radius: 5px; position: absolute;\"> </div>\n",
       "        <div style=\"margin-left: 48px;\">\n",
       "            <h3 style=\"margin-bottom: 0px;\">Scheduler</h3>\n",
       "            <p style=\"color: #9D9D9D; margin-bottom: 0px;\">Scheduler-cbc9e132-7c92-47ce-ad33-0a1794533d5a</p>\n",
       "            <table style=\"width: 100%; text-align: left;\">\n",
       "                <tr>\n",
       "                    <td style=\"text-align: left;\">\n",
       "                        <strong>Comm:</strong> tcp://149.201.182.203:8786\n",
       "                    </td>\n",
       "                    <td style=\"text-align: left;\">\n",
       "                        <strong>Workers:</strong> 2\n",
       "                    </td>\n",
       "                </tr>\n",
       "                <tr>\n",
       "                    <td style=\"text-align: left;\">\n",
       "                        <strong>Dashboard:</strong> <a href=\"http://149.201.182.203:8787/status\" target=\"_blank\">http://149.201.182.203:8787/status</a>\n",
       "                    </td>\n",
       "                    <td style=\"text-align: left;\">\n",
       "                        <strong>Total threads:</strong> 2\n",
       "                    </td>\n",
       "                </tr>\n",
       "                <tr>\n",
       "                    <td style=\"text-align: left;\">\n",
       "                        <strong>Started:</strong> 1 hour ago\n",
       "                    </td>\n",
       "                    <td style=\"text-align: left;\">\n",
       "                        <strong>Total memory:</strong> 125.06 GiB\n",
       "                    </td>\n",
       "                </tr>\n",
       "            </table>\n",
       "        </div>\n",
       "    </div>\n",
       "\n",
       "    <details style=\"margin-left: 48px;\">\n",
       "        <summary style=\"margin-bottom: 20px;\">\n",
       "            <h3 style=\"display: inline;\">Workers</h3>\n",
       "        </summary>\n",
       "\n",
       "        \n",
       "        <div style=\"margin-bottom: 20px;\">\n",
       "            <div style=\"width: 24px; height: 24px; background-color: #DBF5FF; border: 3px solid #4CC9FF; border-radius: 5px; position: absolute;\"> </div>\n",
       "            <div style=\"margin-left: 48px;\">\n",
       "            <details>\n",
       "                <summary>\n",
       "                    <h4 style=\"margin-bottom: 0px; display: inline;\">Worker: tcp://149.201.182.188:45851</h4>\n",
       "                </summary>\n",
       "                <table style=\"width: 100%; text-align: left;\">\n",
       "                    <tr>\n",
       "                        <td style=\"text-align: left;\">\n",
       "                            <strong>Comm: </strong> tcp://149.201.182.188:45851\n",
       "                        </td>\n",
       "                        <td style=\"text-align: left;\">\n",
       "                            <strong>Total threads: </strong> 1\n",
       "                        </td>\n",
       "                    </tr>\n",
       "                    <tr>\n",
       "                        <td style=\"text-align: left;\">\n",
       "                            <strong>Dashboard: </strong> <a href=\"http://149.201.182.188:42299/status\" target=\"_blank\">http://149.201.182.188:42299/status</a>\n",
       "                        </td>\n",
       "                        <td style=\"text-align: left;\">\n",
       "                            <strong>Memory: </strong> 62.53 GiB\n",
       "                        </td>\n",
       "                    </tr>\n",
       "                    <tr>\n",
       "                        <td style=\"text-align: left;\">\n",
       "                            <strong>Nanny: </strong> tcp://149.201.182.188:35995\n",
       "                        </td>\n",
       "                        <td style=\"text-align: left;\"></td>\n",
       "                    </tr>\n",
       "                    <tr>\n",
       "                        <td colspan=\"2\" style=\"text-align: left;\">\n",
       "                            <strong>Local directory: </strong> /tmp/dask-worker-space/worker-6o7jx3gc\n",
       "                        </td>\n",
       "                    </tr>\n",
       "\n",
       "                    \n",
       "                    <tr>\n",
       "                        <td style=\"text-align: left;\">\n",
       "                            <strong>GPU: </strong>Quadro RTX 5000\n",
       "                        </td>\n",
       "                        <td style=\"text-align: left;\">\n",
       "                            <strong>GPU memory: </strong> 16.00 GiB\n",
       "                        </td>\n",
       "                    </tr>\n",
       "                    \n",
       "\n",
       "                    \n",
       "                    <tr>\n",
       "                        <td style=\"text-align: left;\">\n",
       "                            <strong>Tasks executing: </strong> \n",
       "                        </td>\n",
       "                        <td style=\"text-align: left;\">\n",
       "                            <strong>Tasks in memory: </strong> \n",
       "                        </td>\n",
       "                    </tr>\n",
       "                    <tr>\n",
       "                        <td style=\"text-align: left;\">\n",
       "                            <strong>Tasks ready: </strong> \n",
       "                        </td>\n",
       "                        <td style=\"text-align: left;\">\n",
       "                            <strong>Tasks in flight: </strong>\n",
       "                        </td>\n",
       "                    </tr>\n",
       "                    <tr>\n",
       "                        <td style=\"text-align: left;\">\n",
       "                            <strong>CPU usage:</strong> 8.0%\n",
       "                        </td>\n",
       "                        <td style=\"text-align: left;\">\n",
       "                            <strong>Last seen: </strong> Just now\n",
       "                        </td>\n",
       "                    </tr>\n",
       "                    <tr>\n",
       "                        <td style=\"text-align: left;\">\n",
       "                            <strong>Memory usage: </strong> 3.14 GiB\n",
       "                        </td>\n",
       "                        <td style=\"text-align: left;\">\n",
       "                            <strong>Spilled bytes: </strong> 0 B\n",
       "                        </td>\n",
       "                    </tr>\n",
       "                    <tr>\n",
       "                        <td style=\"text-align: left;\">\n",
       "                            <strong>Read bytes: </strong> 18.11 kiB\n",
       "                        </td>\n",
       "                        <td style=\"text-align: left;\">\n",
       "                            <strong>Write bytes: </strong> 1.66 kiB\n",
       "                        </td>\n",
       "                    </tr>\n",
       "                    \n",
       "\n",
       "                </table>\n",
       "            </details>\n",
       "            </div>\n",
       "        </div>\n",
       "        \n",
       "        <div style=\"margin-bottom: 20px;\">\n",
       "            <div style=\"width: 24px; height: 24px; background-color: #DBF5FF; border: 3px solid #4CC9FF; border-radius: 5px; position: absolute;\"> </div>\n",
       "            <div style=\"margin-left: 48px;\">\n",
       "            <details>\n",
       "                <summary>\n",
       "                    <h4 style=\"margin-bottom: 0px; display: inline;\">Worker: tcp://149.201.182.203:42399</h4>\n",
       "                </summary>\n",
       "                <table style=\"width: 100%; text-align: left;\">\n",
       "                    <tr>\n",
       "                        <td style=\"text-align: left;\">\n",
       "                            <strong>Comm: </strong> tcp://149.201.182.203:42399\n",
       "                        </td>\n",
       "                        <td style=\"text-align: left;\">\n",
       "                            <strong>Total threads: </strong> 1\n",
       "                        </td>\n",
       "                    </tr>\n",
       "                    <tr>\n",
       "                        <td style=\"text-align: left;\">\n",
       "                            <strong>Dashboard: </strong> <a href=\"http://149.201.182.203:35851/status\" target=\"_blank\">http://149.201.182.203:35851/status</a>\n",
       "                        </td>\n",
       "                        <td style=\"text-align: left;\">\n",
       "                            <strong>Memory: </strong> 62.53 GiB\n",
       "                        </td>\n",
       "                    </tr>\n",
       "                    <tr>\n",
       "                        <td style=\"text-align: left;\">\n",
       "                            <strong>Nanny: </strong> tcp://149.201.182.203:36345\n",
       "                        </td>\n",
       "                        <td style=\"text-align: left;\"></td>\n",
       "                    </tr>\n",
       "                    <tr>\n",
       "                        <td colspan=\"2\" style=\"text-align: left;\">\n",
       "                            <strong>Local directory: </strong> /tmp/dask-worker-space/worker-w5jys_e0\n",
       "                        </td>\n",
       "                    </tr>\n",
       "\n",
       "                    \n",
       "                    <tr>\n",
       "                        <td style=\"text-align: left;\">\n",
       "                            <strong>GPU: </strong>Quadro RTX 5000\n",
       "                        </td>\n",
       "                        <td style=\"text-align: left;\">\n",
       "                            <strong>GPU memory: </strong> 16.00 GiB\n",
       "                        </td>\n",
       "                    </tr>\n",
       "                    \n",
       "\n",
       "                    \n",
       "                    <tr>\n",
       "                        <td style=\"text-align: left;\">\n",
       "                            <strong>Tasks executing: </strong> \n",
       "                        </td>\n",
       "                        <td style=\"text-align: left;\">\n",
       "                            <strong>Tasks in memory: </strong> \n",
       "                        </td>\n",
       "                    </tr>\n",
       "                    <tr>\n",
       "                        <td style=\"text-align: left;\">\n",
       "                            <strong>Tasks ready: </strong> \n",
       "                        </td>\n",
       "                        <td style=\"text-align: left;\">\n",
       "                            <strong>Tasks in flight: </strong>\n",
       "                        </td>\n",
       "                    </tr>\n",
       "                    <tr>\n",
       "                        <td style=\"text-align: left;\">\n",
       "                            <strong>CPU usage:</strong> 8.0%\n",
       "                        </td>\n",
       "                        <td style=\"text-align: left;\">\n",
       "                            <strong>Last seen: </strong> Just now\n",
       "                        </td>\n",
       "                    </tr>\n",
       "                    <tr>\n",
       "                        <td style=\"text-align: left;\">\n",
       "                            <strong>Memory usage: </strong> 3.14 GiB\n",
       "                        </td>\n",
       "                        <td style=\"text-align: left;\">\n",
       "                            <strong>Spilled bytes: </strong> 0 B\n",
       "                        </td>\n",
       "                    </tr>\n",
       "                    <tr>\n",
       "                        <td style=\"text-align: left;\">\n",
       "                            <strong>Read bytes: </strong> 64.96 kiB\n",
       "                        </td>\n",
       "                        <td style=\"text-align: left;\">\n",
       "                            <strong>Write bytes: </strong> 80.39 kiB\n",
       "                        </td>\n",
       "                    </tr>\n",
       "                    \n",
       "\n",
       "                </table>\n",
       "            </details>\n",
       "            </div>\n",
       "        </div>\n",
       "        \n",
       "\n",
       "    </details>\n",
       "</div>\n",
       "            </details>\n",
       "        \n",
       "\n",
       "    </div>\n",
       "</div>"
      ],
      "text/plain": [
       "<Client: 'tcp://149.201.182.203:8786' processes=2 threads=2, memory=125.06 GiB>"
      ]
     },
     "execution_count": 3,
     "metadata": {},
     "output_type": "execute_result"
    }
   ],
   "source": [
    "# Erstelle Client \n",
    "client = pytorch_tools.create_dask_client()  # Gebe IP an. Standart:  127.0.0.1:8786 (Scheduler ist da wo auch Jupyter läuft)\n",
    "client"
   ]
  },
  {
   "cell_type": "markdown",
   "id": "e6ba7169-c08a-481b-b45c-782c05cd7388",
   "metadata": {},
   "source": [
    "Das Modul enhält Klassen, Funktionen und setzt Umbegungsvariablen, die auch andere Worker sehen müssen. Damit das kappt, muss das Modul im Cluster hochgeladen werden. <br> \n",
    "\n",
    "Wenn die Module verändert werden, müssen diese erneut hochgeladen werden. Beim Erstellen des Clients mit \"pytorch_tools.create_dask_client()\" wird die Funktion \"scatter_files()\" aufgerufen, das diese Module hochlädt."
   ]
  },
  {
   "cell_type": "code",
   "execution_count": 4,
   "id": "b66d8ca2-5fb7-44e3-a076-49aaf6fc3d49",
   "metadata": {
    "tags": []
   },
   "outputs": [],
   "source": [
    "## So werden die Module pytorch_tools.py und pytorch_dispatcher_resulthandler.py mit dem Cluster geteilt. \n",
    "#  *Bei Änderungen muss der Kernel in Jupyter neugestartet werden. \n",
    "pytorch_tools.scatter_files(client) "
   ]
  },
  {
   "cell_type": "markdown",
   "id": "69f74b14-d341-4db6-8a3b-4a81d3bc470e",
   "metadata": {},
   "source": [
    "Wenn wir eigene Module erstellen, können wir diese auch mit dem Cluster teilen. "
   ]
  },
  {
   "cell_type": "raw",
   "id": "3d659b04-d25a-4f0f-833b-21c35ebdb0fe",
   "metadata": {
    "tags": []
   },
   "source": [
    "## Lade Datei hoch. Gibt Status aus... \n",
    "#  - ggf. müssen die Verzeichnisse angepasst werden.\n",
    "client.upload_file('myfile.py')"
   ]
  },
  {
   "cell_type": "code",
   "execution_count": 5,
   "id": "81e75e4a-b24e-49d7-84b5-db9f8d26ebae",
   "metadata": {
    "tags": []
   },
   "outputs": [
    {
     "data": {
      "text/plain": [
       "dict_keys(['tcp://149.201.182.188:44333', 'tcp://149.201.182.205:45123'])"
      ]
     },
     "execution_count": 5,
     "metadata": {},
     "output_type": "execute_result"
    }
   ],
   "source": [
    "# Zeige Schlüssel. Die Ports ändern sich. \n",
    "client.has_what().keys()"
   ]
  },
  {
   "cell_type": "code",
   "execution_count": 144,
   "id": "487df301-8356-4fe6-92d7-6c05ad47fe82",
   "metadata": {
    "tags": []
   },
   "outputs": [
    {
     "data": {
      "text/plain": [
       "dict_keys(['tcp://149.201.182.188:46327', 'tcp://149.201.182.203:45273', 'tcp://149.201.182.205:32919'])"
      ]
     },
     "execution_count": 144,
     "metadata": {},
     "output_type": "execute_result"
    }
   ],
   "source": [
    "# Starte alle Worker neu\n",
    "client.restart_workers( client.has_what().keys() )\n",
    "client.has_what().keys()"
   ]
  },
  {
   "cell_type": "code",
   "execution_count": 104,
   "id": "d19ea200-d091-45f5-a0af-9f945f2d9530",
   "metadata": {
    "tags": []
   },
   "outputs": [],
   "source": [
    "# Startet client neu.\n",
    "#client.restart()"
   ]
  },
  {
   "cell_type": "markdown",
   "id": "9b896152-b89c-4c86-9ab4-c1dccf88e9c8",
   "metadata": {},
   "source": [
    "Das Setup mit Docker kann so aussehen. Es gibt eine Node die Scheduler ist. Diese Node kann auch einen Worker haben. \n",
    "\n",
    "Wenn der Scheduler auch worker sein soll, muss eine zweite Konsole geöffnet werden, um den Worker zu starten. Wer am Ende Scheduler ist, ist egal, alle Knote sind gleichberechtigt."
   ]
  },
  {
   "cell_type": "markdown",
   "id": "bd12cc4e-e8fe-4480-bdb5-b4f047cd2ba1",
   "metadata": {},
   "source": [
    "Beispiel Setup (auf Node1 läuft auch Jupyter).: <br>\n",
    "<img src=\"pictures/cluster_setup.PNG\" width=\"925px;\" hight=\"850px;\"><br>\n",
    "Docker logo:<br>\n",
    "https://www.docker.com/company/newsroom/media-resources/![cluster_setup.png](attachment:9a543a66-02b7-4661-a8f9-a9be164d0575.png)"
   ]
  },
  {
   "cell_type": "markdown",
   "id": "ea0f8fcb-8e54-451c-9aa7-d5028b8dadbe",
   "metadata": {},
   "source": [
    "Das untere Bild zeigt, wie die Aufteilung von Client, Worker und Scheduler sein könnten. Nachrichten und das Model selber werden an den Client geschickt, da von dort aus die Traningsfunktion mit Dask an die Worker submitet wird. Der Resulthandler der sich auf dem Client befindet, sammelt die Nachrichten. "
   ]
  },
  {
   "cell_type": "markdown",
   "id": "5aab9082-6b9a-4770-9daf-64bdd95e74de",
   "metadata": {},
   "source": [
    "<img src=\"./pictures/cluster_aufbau.PNG\" width=\"725px;\" hight=\"850px;\" >"
   ]
  },
  {
   "cell_type": "markdown",
   "id": "6fa61035-604b-46d8-a14b-18d771e422f4",
   "metadata": {},
   "source": [
    "Als Erstes kommen die Importe, was fehlt, kann dazugenommen werden. Alle Knoten (falls Cluster) sollten dieselben Pakete installiert haben, möglichst mit derselben Version."
   ]
  },
  {
   "cell_type": "code",
   "execution_count": 1,
   "id": "d5a1b72c-4f9b-434d-b5ca-42dcab31f399",
   "metadata": {
    "tags": []
   },
   "outputs": [],
   "source": [
    "# Imports die wir benötigen\n",
    "###########################################################################\n",
    "import torch\n",
    "import torch.nn as nn\n",
    "import torch.nn.functional as F\n",
    "import torch.optim as optim\n",
    "\n",
    "\n",
    "from torch.utils.data import Dataset, DataLoader\n",
    "from torch.nn.parallel import DistributedDataParallel as DDP\n",
    "import torch.distributed as dist\n",
    "import torchvision\n",
    "from torch.utils.data.distributed import DistributedSampler\n",
    "import torchvision.transforms as transforms\n",
    "\n",
    "from dask.distributed import Client\n",
    "import dask\n",
    "\n",
    "import time\n",
    "import sys\n",
    "import os\n",
    "import datetime\n",
    "import pickle\n",
    "\n",
    "import numpy as np\n",
    "import torch.distributed as dist\n",
    "from distributed.pubsub import Pub, Sub\n"
   ]
  },
  {
   "cell_type": "markdown",
   "id": "1688cb67-9b55-46dc-9c87-acdecdfd6fb6",
   "metadata": {},
   "source": [
    "Was passiert im Hintergrund?<br>\n",
    "Es wird pro Worker eine Funktion submitet. Diese Funktion ist unsere Trainingsfunktion. Jeder Worker führt das Training aus und nutzt die eigenen Daten. Wenn Daten lokal geladen werden, werden keine Daten über das Netzwerk geteilt. Wie Daten geladen werden, ist ganz dem Benutzer überlassen."
   ]
  },
  {
   "cell_type": "markdown",
   "id": "4ac92475-96d4-42d6-bf6e-99f1dc9709ad",
   "metadata": {},
   "source": [
    "<u>Hinweis:</u><br>\n",
    "Bei `run()` sollte ein freier Port angegeben werden, eingestellt ist <u>23456</u>. Siehe pytorch_dispatcher_resulthandler.py"
   ]
  },
  {
   "cell_type": "markdown",
   "id": "7f78e288-b456-4e08-bdc5-16ad0ca3d539",
   "metadata": {},
   "source": [
    "Vereinfacht würde das so aussehen:\n",
    "\n",
    "<img  src=\"./pictures/dispatcher_flow.PNG\" width=\"1100px;\" hight=\"900px;\">"
   ]
  },
  {
   "cell_type": "markdown",
   "id": "5d4d4c2a-5452-4a67-a77b-9786ed212ea0",
   "metadata": {},
   "source": [
    "Jeder Worker kann Nachrichten ausgeben. Es wird ein Channel erstellen, mit einem Subscriber und mehreren Publishern (die Worker). Der Host (z.B. Jupyter) bekommt die Nachrichten. Sobald was auf den Channel gelegt wird, liest der Subscriber diese Daten. "
   ]
  },
  {
   "attachments": {
    "3539fc8c-2fa8-4c6a-834c-f7721640d15e.png": {
     "image/png": "[encoded data removed]"
    }
   },
   "cell_type": "markdown",
   "id": "fe9a71c6-7dd2-48f5-bcc5-07350bd63506",
   "metadata": {},
   "source": [
    "\n",
    "<br>\n",
    "<p style=\"float: left;\"><img src=\"./pictures/pubsub2.PNG\" width=\"625px;\" hight=\"750px;\" ><![pubsub2.png](attachment:3539fc8c-2fa8-4c6a-834c-f7721640d15e.png)/p>\n",
    "<p style=\"float: left;\"><img src=\"./pictures/pubsub3.PNG\" width=\"625px;\" hight=\"750px;\"></p>"
   ]
  },
  {
   "cell_type": "markdown",
   "id": "fe55b60f-d313-4e9b-88b7-2ae7e3638b0e",
   "metadata": {},
   "source": [
    "## 2.2 Netzwerke"
   ]
  },
  {
   "cell_type": "markdown",
   "id": "c814a3da-fc0f-4bdb-9537-4af11d5096ff",
   "metadata": {},
   "source": [
    "Es gibt verschiedene Netzwerke und Wege diese zu erstellen. Bei DDP wird das Netzwerke auf allen Knoten kopiert und dann mit den Trainingsdaten versorgt. Das klappt gut, wenn das Netzwerk auf eine GPU passt. \n",
    "\n",
    "Ist das Netzwerk zu groß für eine GPU, können die Layers auf die GPUs aufgeteilt werden => Model Parallel. \n",
    "Zu Model Parallel gibt es ein separates Notebook.\n",
    "\n",
    "\n",
    "Bei der Struktur der Netzwerke muss hauptsächlich darauf geachtet werden, dass bestimmte Teile explizit auf die GPU geschoben werden.\n",
    "\n",
    "So könnten Netzwerke aussehen:\n"
   ]
  },
  {
   "cell_type": "code",
   "execution_count": 6,
   "id": "ac2b6624-c3b0-4816-9f42-2ccfb27fe4a9",
   "metadata": {
    "tags": []
   },
   "outputs": [],
   "source": [
    "#############################              \n",
    "###  Beispiel Netzwerke die man bei DDP nutzen könnte.\n",
    "#############################\n",
    "\n",
    "# CNN | PyTorch Basic Tutorial | https://pytorch.org/tutorials/beginner/blitz/cifar10_tutorial.html\n",
    "class Model(nn.Module):\n",
    "    def __init__(self):\n",
    "        super().__init__()\n",
    "        self.conv1 = nn.Conv2d(3, 6, 5)\n",
    "        self.pool = nn.MaxPool2d(2, 2)\n",
    "        self.conv2 = nn.Conv2d(6, 16, 5)\n",
    "        self.fc1 = nn.Linear(16 * 5 * 5, 120)\n",
    "        self.fc2 = nn.Linear(120, 84)\n",
    "        self.fc3 = nn.Linear(84, 10)\n",
    "\n",
    "    def forward(self, x):\n",
    "        x = self.pool(F.relu(self.conv1(x)))\n",
    "        x = self.pool(F.relu(self.conv2(x)))\n",
    "        x = torch.flatten(x, 1) # flatten all dimensions except batch\n",
    "        x = F.relu(self.fc1(x))\n",
    "        x = F.relu(self.fc2(x))\n",
    "        x = self.fc3(x)\n",
    "        return x\n",
    "    \n",
    "    \n",
    "# RNN | https://www.deeplearningwizard.com/deep_learning/practical_pytorch/pytorch_recurrent_neuralnetwork/#3-building-a-recurrent-neural-network-with-pytorch-gpu\n",
    "class Model_2(nn.Module):\n",
    "    def __init__(self, input_dim, hidden_dim, layer_dim, output_dim):\n",
    "        super(Model_2, self).__init__()\n",
    "        # Hidden dimensions\n",
    "        self.hidden_dim = hidden_dim\n",
    "\n",
    "        # Number of hidden layers\n",
    "        self.layer_dim = layer_dim\n",
    "\n",
    "        # Building your RNN\n",
    "        # batch_first=True causes input/output tensors to be of shape\n",
    "        # (batch_dim, seq_dim, feature_dim)\n",
    "        self.rnn = nn.RNN(input_dim, hidden_dim, layer_dim, batch_first=True, nonlinearity='tanh')\n",
    "\n",
    "        # Readout layer\n",
    "        self.fc = nn.Linear(hidden_dim, output_dim)\n",
    "\n",
    "    def forward(self, x):\n",
    "        # Initialize hidden state with zeros\n",
    "        #######################\n",
    "        #  USE GPU FOR MODEL  #\n",
    "        #######################\n",
    "        h0 = torch.zeros(self.layer_dim, x.size(0), self.hidden_dim).to(device)                                 # Hier:  to(device)\n",
    "\n",
    "        # One time step\n",
    "        # We need to detach the hidden state to prevent exploding/vanishing gradients\n",
    "        # This is part of truncated backpropagation through time (BPTT)\n",
    "        out, hn = self.rnn(x, h0.detach())\n",
    "\n",
    "        # Index hidden state of last time step\n",
    "        # out.size() --> 100, 28, 100 \n",
    "        # out[:, -1, :] --> 100, 100 --> just want last time step hidden states! \n",
    "        out = self.fc(out[:, -1, :]) \n",
    "        # out.size() --> 100, 10\n",
    "        return out\n",
    "    \n",
    "\n",
    "# LSTM | https://machinelearningmastery.com/lstm-for-time-series-prediction-in-pytorch/ \n",
    "# - Mit CSV Datei einlesen\n",
    "class Model_3(nn.Module):\n",
    "    def __init__(self):\n",
    "        super().__init__()\n",
    "        self.lstm = nn.LSTM(input_size=1, hidden_size=50, num_layers=1, batch_first=True)\n",
    "        self.linear = nn.Linear(50, 1)\n",
    "    def forward(self, x):\n",
    "        x, _ = self.lstm(x)\n",
    "        x = self.linear(x)\n",
    "        return x\n",
    "    \n",
    "    \n",
    "# LSTM | https://www.deeplearningwizard.com/deep_learning/practical_pytorch/pytorch_lstm_neuralnetwork/#model-c-3-hidden-layer\n",
    "class Model_4(nn.Module):\n",
    "    def __init__(self, input_dim, hidden_dim, layer_dim, output_dim):\n",
    "        super(Model_4, self).__init__()\n",
    "        # Hidden dimensions\n",
    "        self.hidden_dim = hidden_dim\n",
    "\n",
    "        # Number of hidden layers\n",
    "        self.layer_dim = layer_dim\n",
    "\n",
    "        # Building your LSTM\n",
    "        # batch_first=True causes input/output tensors to be of shape\n",
    "        # (batch_dim, seq_dim, feature_dim)\n",
    "        self.lstm = nn.LSTM(input_dim, hidden_dim, layer_dim, batch_first=True)\n",
    "\n",
    "        # Readout layer\n",
    "        self.fc = nn.Linear(hidden_dim, output_dim)\n",
    "\n",
    "    def forward(self, x):\n",
    "        # Initialize hidden state with zeros                                       \n",
    "        h0 = torch.zeros(self.layer_dim, x.size(0), self.hidden_dim, device=x.device).requires_grad_()                # Hier: device=x.device  oder .to(device), siehe RNN\n",
    "\n",
    "        # Initialize cell state\n",
    "        c0 = torch.zeros(self.layer_dim, x.size(0), self.hidden_dim, device=x.device).requires_grad_()                # Hier: device=x.device  oder .to(device), siehe RNN\n",
    "\n",
    "        # One time step\n",
    "        # We need to detach as we are doing truncated backpropagation through time (BPTT)\n",
    "        # If we don't, we'll backprop all the way to the start even after going through another batch\n",
    "        out, (hn, cn) = self.lstm(x, (h0.detach(), c0.detach()))\n",
    "\n",
    "        # Index hidden state of last time step\n",
    "        # out.size() --> 100, 28, 100\n",
    "        # out[:, -1, :] --> 100, 100 --> just want last time step hidden states! \n",
    "        out = self.fc(out[:, -1, :]) \n",
    "        # out.size() --> 100, 10\n",
    "        return out\n",
    "    \n",
    "# Autencoder | https://www.geeksforgeeks.org/implementing-an-autoencoder-in-pytorch/\n",
    "class Model_5(torch.nn.Module):\n",
    "    def __init__(self):\n",
    "        super().__init__()\n",
    "         \n",
    "        # Building an linear encoder with Linear\n",
    "        # layer followed by Relu activation function\n",
    "        # 784 ==> 9\n",
    "        self.encoder = torch.nn.Sequential(\n",
    "            torch.nn.Linear(28 * 28, 128),\n",
    "            torch.nn.ReLU(),\n",
    "            torch.nn.Linear(128, 64),\n",
    "            torch.nn.ReLU(),\n",
    "            torch.nn.Linear(64, 36),\n",
    "            torch.nn.ReLU(),\n",
    "            torch.nn.Linear(36, 18),\n",
    "            torch.nn.ReLU(),\n",
    "            torch.nn.Linear(18, 9)\n",
    "        )\n",
    "         \n",
    "        # Building an linear decoder with Linear\n",
    "        # layer followed by Relu activation function\n",
    "        # The Sigmoid activation function\n",
    "        # outputs the value between 0 and 1\n",
    "        # 9 ==> 784\n",
    "        self.decoder = torch.nn.Sequential(\n",
    "            torch.nn.Linear(9, 18),\n",
    "            torch.nn.ReLU(),\n",
    "            torch.nn.Linear(18, 36),\n",
    "            torch.nn.ReLU(),\n",
    "            torch.nn.Linear(36, 64),\n",
    "            torch.nn.ReLU(),\n",
    "            torch.nn.Linear(64, 128),\n",
    "            torch.nn.ReLU(),\n",
    "            torch.nn.Linear(128, 28 * 28),\n",
    "            torch.nn.Sigmoid()\n",
    "        )\n",
    " \n",
    "    def forward(self, x):\n",
    "        encoded = self.encoder(x)\n",
    "        decoded = self.decoder(encoded)\n",
    "        return decoded"
   ]
  },
  {
   "cell_type": "markdown",
   "id": "708bb8a1-1629-4c0d-a329-09218e4be549",
   "metadata": {},
   "source": [
    "Diese Netzwerke sind Beispiele, wie sowas aussehen könnte. Bei den RNN und LSTM Modellen ist zu beachten, dass man bei forward() h0, c0, ..., auf die GPU packt mittels `.to(device)` oder mit `device=x.device`. Wenn man es nicht macht, kommt ein Fehler, dass Teile auf der GPU und CPU sind. Falls so ein Fehler auftaucht, wird normalerweise gesagt, wo und woran es liegt. "
   ]
  },
  {
   "cell_type": "markdown",
   "id": "82fd2c5a-4a2a-4891-91d6-1237fbe08703",
   "metadata": {},
   "source": [
    "## 2.3 Trainingsroutine"
   ]
  },
  {
   "cell_type": "markdown",
   "id": "4cf117ec-8bfc-4813-ba2d-89a05e8928c6",
   "metadata": {},
   "source": [
    "\n",
    "Wir betrachten wir den Fall, dass wir ein Docker Cluster Setup haben. PyTorch DDP kann mit 1 Worker gut umgehen, will man mehrere, startet man mehrer Worker. Man selber muss sich keine Gedanken um das Skalieren machen.\n",
    "\n",
    "\n",
    "Die <u>Batchgröße</u> kann die Geschwindigkeit und Qualität des Trainings beeinflussen. \n",
    "\n",
    "Im Folgendem könne wir auch ein <u>DDP Hook nutzen</u>. Der Hook hier heißt PowerSGD Hook. Es komprimiert die Kommunikation und ist geeignet wenn die Netzwerkkommunikation ein Bottleneck ist, besonders wenn das Model groß ist. Eine umfassende Beschreibung find man in dem Paper. Bei kleineren Modellen kann es zu keinem Unterschied kommen, man kann es trotzdem ausprobieren.\n",
    "\n",
    "Der PowerSGD Hook hat 2 Wichtige Parameter:<br>\n",
    "`matrix_approximation_rank:int` Kompressionsrate, ein hoher Wert kann die Berechnungskosten der Kompression steigern. Starte bei 1 und erhöhe immer um 2.  <br>\n",
    "`start_powerSGD_iter:int` Warte bis zum Schritt n, dann führe ein All Reduce der vorherigen Schritte durch. Vorgeschlagen wird ein Wert <br>\n",
    "der Größe 10% der gesamten Trainingsschritte. \n",
    "\n",
    "Der Zweck des Hooks ist es, die Kommunikation beim verteilten Trainieren zu verbessern. <br>\n",
    "Es gibt noch weitere Hooks: fp16_compress_hook(), bf16_compress_hook() und batched_powerSGD_hook(). Momentan wird hier nur der PowerSGD und fp16_compress_hook Hook angeboten. <br>\n",
    "Die Hooks für bf16 brauchen eine NCCL Version > 2.9.6\n"
   ]
  },
  {
   "cell_type": "markdown",
   "id": "94f98e6f-b50f-4a29-9992-86938536ec5c",
   "metadata": {},
   "source": [
    "<u>Was wir zusätzlich nutzen können:</u> <br>\n",
    "Distributed Optimizer, die die Kommunikation und Optimierung beeinflussen. Siehe (https://pytorch.org/docs/main/distributed.optim.html#torch.distributed.optim.DistributedOptimizer) <br>\n",
    "DDP Hooks, um die Kommunikation mit DDP zu beeinflussen. Siehe (https://pytorch.org/docs/stable/ddp_comm_hooks.html)<br>\n",
    "BF/FP16 Format statt float32, kann die Berechnungskosten senken. Zur Anwendung siehe hier (https://pytorch.org/tutorials/recipes/recipes/amp_recipe.html#default-precision)\n",
    "\n",
    "Alle drei haben <u>Einfluss</u> auf die Trainingszeit und die Genauigkeit des Models. Der Optimierer und Hooks sind im Modul enthalten und können einfach eingesetzt werden."
   ]
  },
  {
   "cell_type": "markdown",
   "id": "a381d6af-c16d-4229-9d6b-9bcbd9c7d293",
   "metadata": {},
   "source": [
    "Anwendung von:<br>\n",
    "Distributed Optimizer: PostLocalSGDOpt mit `model, optimizer = pytorch_tools.register_distOpt_PostLocalSGDOpt(model, device_id, optimizer, period=4, warm_up:int=100)`.  <br>\n",
    "Hook PowerSGD: `model = pytorch_tools.register_DDP_PowerSGD_hook(model, device_id, matrix_approximation_rank:int=12, start_powerSGD_iter:int=2)`. <br>\n",
    "Hook PowerSGD fp16: `model = pytorch_tools.register_fp16_compress_wrapper_SgdPower_hook(model, device_id, matrix_approximation_rank:int=12, start_powerSGD_iter:int=2):`\n",
    "\n",
    "\n",
    "Der Optimierer PostLocalSGDOpt läuft auf jedem Worker. <br>\n",
    "`period` gibt an, dass alle 4 Schritte Global gemittelt wird. `warm_up` gibt an, dass die ersten 100 Schritte die Gradienten lokal gemittelt werden."
   ]
  },
  {
   "cell_type": "markdown",
   "id": "36291dcc-4408-4814-9e31-19df4b8fb362",
   "metadata": {},
   "source": [
    "Das untere Beispiel zeigt, wie ein Training aussehen könnte. Wir nutzen dafür das Model aus dem Basic PyTorch Tutorial und das Cifar10 Dataset, was jeder Worker aus dem Internet lädt.\n",
    "\n",
    "Wenn dieser Ablauf funktioniert, sollte es keine Probleme mit dem verteilten Trainieren geben. Man kann so den <u>Aufbau testen</u>, sowie Dask und den Cluster.\n",
    "\n",
    "<br>\n",
    "\n",
    "\n",
    "DDP Hook:<br>\n",
    "https://pytorch.org/docs/stable/ddp_comm_hooks.html <br>\n",
    "- Science Paper: https://arxiv.org/pdf/1905.13727.pdf\n",
    "- Accelerating PyTorch DDP by 10X With PowerSGD (Von PyTorch): https://medium.com/pytorch/accelerating-pytorch-ddp-by-10x-with-powersgd-585aef12881d\n",
    "- Verfügbare PyTorch Hooks: https://medium.com/analytics-vidhya/pytorch-hooks-5909c7636fb\n",
    "\n",
    "Distributed Optimizer:<br>\n",
    "- post-local SGD https://pytorch.org/docs/main/distributed.optim.html#torch.distributed.optim.PostLocalSGDOptimizer  Paper: https://arxiv.org/abs/1808.07217"
   ]
  },
  {
   "cell_type": "markdown",
   "id": "58f79623-fa03-47d5-89cf-af238a7604f9",
   "metadata": {
    "jp-MarkdownHeadingCollapsed": true,
    "tags": []
   },
   "source": [
    "<u>Hinweis:</u><br>\n",
    "Wenn es hängt oder bei Problemen: Worker/Notebook/Cluster, ... neustarten.<br>\n",
    "Das kann manchmal helfen. Das Problem kann auftauchen, wenn Exceptions vorkommen. \n",
    "\n",
    "Die Registrierung eines Hooks mit \"register_comm_hook\" kann nur einmal stattfinden (passiert im Hintergrund). Das bedeutet, dass das entweder PowerSGD oder ein Distributed Optimizer genutzt werden kann, beides geht nicht. \n",
    "\n",
    "Wenn man beides nutzt, wird eine Exception geworfen: \"Exception: \"RuntimeError('register_comm_hook or register_builtin_comm_hook can only be called once.')\"\"<br>\n",
    "\n",
    "\n",
    "<u>Hinweis zum Dataloader:</u><br>\n",
    "Um die Parameter num_workers und prefetch_factor zu nutzen, muss unter Dask eingestellt werden, dass die Worker nicht als Daemon Prozesse starten. Diese Parameter können die Trainingszeit verkürzen. <br>\n",
    "`num_workers:int` Erstelle n-Prozesse zum laden der Daten. <br>\n",
    "`prefetch_factor:int` Lade n-Batches vor. \n",
    "\n",
    "Damit das funktioniert, muss <u>vor</u> dem start der Worker eine Umgebungsvariable gesetzt werden. Bei jedem Worker muss es gesetzt sein. <br>\n",
    "Setze: `DASK_DISTRIBUTED__WORKER__DAEMON=False`. Der Standartwert ist `True`.\n",
    "\n",
    "\n",
    "Eine Abfrage kann so gemacht werden:<br>\n",
    "`dask.config.get(\"distributed.worker.daemon\")`. \n",
    "\n",
    "\n",
    "<br>\n",
    "\n",
    "\n",
    "Setzen und abfragen von Einstellungen in Dask: https://docs.dask.org/en/latest/configuration.html#conversion-utility\n",
    "\n"
   ]
  },
  {
   "cell_type": "code",
   "execution_count": 7,
   "id": "9de39759-d177-41e5-907c-689fe873647b",
   "metadata": {
    "tags": []
   },
   "outputs": [],
   "source": [
    "## Trainingsfunktion die jeder Worker ausführt. \n",
    "\n",
    "def train():\n",
    "    \n",
    "    pub_stats  = Pub(\"my_channel\")                          # Channel für Nachrichten              \n",
    "    worker_rank = int(dist.get_rank())                      # Globaler Rank\n",
    "    worker_ip = os.getenv('WORKER_HOST')                    # Worker IP\n",
    "    device_id = worker_rank % torch.cuda.device_count()\n",
    "    \n",
    "    device = torch.device(\"cuda\")  # 'cuda': Nutze alle GPUs | 0: nutze GPU 0 | 'cpu': Nutze CPU, Backend auf gloo stellen | \"cuda\" if torch.cuda.is_available() else \"cpu\")\n",
    "    \n",
    "    \"\"\"Edits: \n",
    "    num_epochs: Epochen\n",
    "    batch_size: Batchgröße \n",
    "      - Die Auswahl von batch_size kann die Trainingszeit und Genauigkeit beeinflussen.\n",
    "    transform: Transformiere Bilddaten\n",
    "    trainset: Erstellt ein PyTorch Dataset. \n",
    "      - Wie man eigene Datasets erstellt findet, man weiter unten. \n",
    "    sampler: Nutze Sampler, wenn alle Daten auf allen Knoten gleich sind, und sich nicht unterscheiden.\n",
    "      - Hier hat jeder das Cifar10 Dataset, der Sampler sorgt für die gleichmäßige Aufteilung. \n",
    "    \"\"\"\n",
    "    num_epochs = 5     # Change\n",
    "    batch_size = 16    # Change  \n",
    "\n",
    "    transform = transforms.Compose( [transforms.ToTensor(),\n",
    "     transforms.Normalize((0.5, 0.5, 0.5), (0.5, 0.5, 0.5))])\n",
    "    \n",
    "    trainset = torchvision.datasets.CIFAR10(root='./data', train=True,  download=True, transform=transform) # Das Dataset liegt bei jedem Worker in ./data\n",
    "    # PyTorch DistributedSampler:\n",
    "    # - Wenn alle Daten gleich sind, sorgt der DistributedSampler für die Aufteilung dieser Daten.\n",
    "    sampler = DistributedSampler(trainset)\n",
    "    # Beim Dataloader kann num_workers und prefetch_factor übergeben werden. In Dask bevor die Worker starten: export DASK_DISTRIBUTED__WORKER__DAEMON=False\n",
    "    loader = DataLoader(trainset, batch_size=batch_size, sampler=sampler, num_workers=2, prefetch_factor=4, pin_memory=True ) #num_workers=2, prefetch_factor=1, pin_memory=True\n",
    "    \n",
    "    \n",
    "    # the model has to both be passed to the GPU device, then has to be wrapped in DDP so it can communicate with the other workers\n",
    "    model = Model().to(device) \n",
    "    # Model direkt in DDP umwandeln.  \n",
    "    model = DDP(model,  device_ids=[device_id]) \n",
    "    \n",
    "    ##  - Nutze Hook: - ##\n",
    "    # - Paramater: model, device_id, matrix_approximation_rank:int=12, start_powerSGD_iter:int=2\n",
    "    #model = pytorch_tools.register_DDP_PowerSGD_hook(model, device_id)   # SGD Hook, Model wird dort auch in DDP umgewandelt.  \n",
    "\n",
    "\n",
    "    # Edits:\n",
    "    # - optimizer und criterion laufen Lokal auf jedem Worker. \n",
    "    criterion = nn.CrossEntropyLoss()\n",
    "    optimizer = optim.SGD(model.parameters(), lr=0.001, momentum=0.9)\n",
    "    \n",
    "    ## - Kann einen verteilten Optimierer nutzen. Dann aber keinen anderen Hook. - ##\n",
    "    # - register_distOpt_PostLocalSGDOpt(model,  device_id, local_optim, period:int=4, warm_up:int=100)\n",
    "    #model, optimizer = pytorch_tools.register_distOpt_PostLocalSGDOpt(model, device_id, optimizer)\n",
    "    \n",
    "    for epoch in range(num_epochs):\n",
    "        \n",
    "        # this ensures the data is reshuffled each epoch, if using sampler. \n",
    "        sampler.set_epoch(epoch)\n",
    "         \n",
    "        correct = 0\n",
    "        for i, (batch_x, batch_y) in enumerate(loader):\n",
    "        \n",
    "            optimizer.zero_grad()\n",
    "            # Verschiebe X, y auf GPU\n",
    "            outputs = model(batch_x.to(device))                     # Oder vorher:  batch_x = batch_x.to(device)    batch_y = batch_y.to(device)  \n",
    "            loss = criterion(outputs, batch_y.to(device))\n",
    "            \n",
    "            # PyTorch DDP Gradient AllReduce\n",
    "            loss.backward()\n",
    "            # Update weights\n",
    "            optimizer.step()   \n",
    "            \n",
    "            \"\"\" Schreibe Nachricht   \n",
    "            if worker_rank == 0:  # Worker x \n",
    "                msg = \"...\"  # loss.item(), ...\n",
    "                pub_stats.put({\"msg\": msg})  # Wird in Jupyter angezeigt, Dict wird ausgegeben.  \n",
    "            \"\"\"\n",
    "\n",
    "           #  Während des Trainierens können verschiedene Werte berechnet werden, wie die accuracy.\n",
    "        \n",
    "            _, predicted = torch.max(outputs.data, 1)\n",
    "            if torch.cuda.is_available():\n",
    "                correct += (predicted.cpu() == batch_y.cpu()).sum()\n",
    "            else:\n",
    "                correct += (predicted == batch_y).sum()\n",
    "        accuracy = 100 * correct / len(trainset)\n",
    "\n",
    "        \n",
    "        # Worker 0 soll Model senden und gibt Nachricht aus.\n",
    "        if worker_rank == 0: # jede Epoche\n",
    "\n",
    "            msg = f\"loss: {round(loss.item(), 4)} acc: {accuracy}  epoche: ({epoch+1}/{num_epochs})\"\n",
    "            pub_stats.put({\"msg\": msg})\n",
    "            \n",
    "            ## Model als Dict, Pfad, **kwargs wie epoch=epoch\n",
    "            # - pytorch_tools.ddp_save_model_dict(channel, model_dict, path, **kwargs)\n",
    "            pytorch_tools.ddp_save_model_dict(pub_stats, model.state_dict(), \"./DDPmodel\", epoch=epoch)\n",
    "            # ** Oder auch: model.module.state_dict() \n",
    "            #    - Dann muss beim Laden das Model nicht als \"torch.nn.DataParallel( Model() )\" gewrapped werden.  \n",
    "                    "
   ]
  },
  {
   "cell_type": "markdown",
   "id": "f7665c99-b059-4801-87f6-1d785912d8e9",
   "metadata": {},
   "source": [
    "Das Model wird als Dict gespeichert. Beim Speichern können noch weitere Daten mitgegeben werden, die beim späteren Laden dann verfügbar sind. <br>\n",
    "Das Dict mappt die zugehörigen Layers des Models zu den Parametern. Nicht das ganze Model wird gespeichet. \n",
    "\n",
    "Mit `pytorch_tools.ddp_save_model_dict(pub_stats, model.state_dict(), \"./DDPmodel\")` wird das Model gespeichert und enthält die Endung `.pt`. <br>\n",
    "Es werden nur die Trainierten Parameter gespeichert. \n",
    "\n",
    "Werden weitere Parameter wie Epoche übergeben, wird ein Checkpoint mit der Endung `.ckpt` erstellt.  So könnte das Speichern aussehen: <br>\n",
    "`pytorch_tools.ddp_save_model_dict(pub_stats, model.state_dict(), \"./DDPmodel\", epoch=epoch, optimizer_state_dict=optimizer.state_dict() )`.\n",
    "\n",
    "Mit diesen oberen zwei Methoden kann das Model als Dict über das Netzwerk gesendet werden, damit der Client die Resultate bekommt. <br>\n",
    "Anders sieht es aus, wenn das ganze Model verschickt werden soll, da gibt es bei der Serialisierung Probleme. <br>\n",
    "Momentan kann das Model nur als Dict gespeichert werden. \n",
    "\n",
    "\n",
    "<br>\n",
    "Mehr Informationen über das Speichern und Laden in PyTorch: <br> \n",
    "\n",
    "What is a state_dict?: https://pytorch.org/tutorials/beginner/saving_loading_models.html#what-is-a-state-dict  <br>\n",
    "Saving & Loading Model for Inference (Endung .pt oder .pth): https://pytorch.org/tutorials/beginner/saving_loading_models.html#saving-loading-model-for-inference <br>\n",
    "Export/Load Model in TorchScript Format:  https://pytorch.org/tutorials/beginner/saving_loading_models.html#export-load-model-in-torchscript-format <br>\n",
    "Saving & Loading a General Checkpoint for Inference and/or Resuming Training (Endung ckpt.): https://pytorch.org/tutorials/beginner/saving_loading_models.html#saving-loading-a-general-checkpoint-for-inference-and-or-resuming-training"
   ]
  },
  {
   "cell_type": "code",
   "execution_count": 8,
   "id": "cfa1e2a3-bb10-419e-a0f7-295b4af2db8d",
   "metadata": {
    "tags": []
   },
   "outputs": [
    {
     "name": "stdout",
     "output_type": "stream",
     "text": [
      "Worker count: 2\n",
      "Start training\n",
      "\n",
      "loss: 2.0959 acc: 9.043999671936035  epoche: (1/5)\n",
      "loss: 1.5769 acc: 17.36199951171875  epoche: (2/5)\n",
      "loss: 1.343 acc: 21.17799949645996  epoche: (3/5)\n",
      "loss: 1.2019 acc: 23.350000381469727  epoche: (4/5)\n",
      "loss: 1.5007 acc: 25.110000610351562  epoche: (5/5)\n",
      "Time elapsed: 56.15068078041077\n",
      "16.11.2023  17:40:19 \n",
      "\n"
     ]
    }
   ],
   "source": [
    "# Am Ende wird die Systemzeit ausgegeben. Die Stunden können abweichen. Mit date_time_hour_offset kann es angepasst werden. Rechne zur Uhrzeit +/- n-Stunden.\n",
    "# - pytorch_tools.run(train, client, date_time_hour_offset:int=0 )  Zeitformat:  Tag-Monat-Jahr  Stunde-Minute-Sekunde\n",
    "pytorch_tools.run(train, client) "
   ]
  },
  {
   "cell_type": "markdown",
   "id": "90bd72be-a6d6-4216-b297-128c65b28dba",
   "metadata": {},
   "source": [
    "Die Trainingsfunktion kann auch Parameter annehmen, um pro Worker bestimmte Entscheidungen zu treffen, wie das Laden verschiedener Daten aus verschiedenen Verzeichnissen.\n",
    "\n",
    "Das Beispiel unten wird das Vorgehen erläutern. "
   ]
  },
  {
   "cell_type": "markdown",
   "id": "1f0d7191-29e1-4293-a43c-ef65b9ec1298",
   "metadata": {},
   "source": [
    "Diese Methoden zeigt, wie das Modul die Informationen erfasst, die dann für die Verteilung genutzt werden.<br>\n",
    "Jeder Worker führt auch ein Print aus indem IP, Rang und lokaler Rang ausgegeben werden. "
   ]
  },
  {
   "cell_type": "code",
   "execution_count": 9,
   "id": "40459287-554a-4c4f-ba4f-8516e1efe8b5",
   "metadata": {
    "tags": []
   },
   "outputs": [
    {
     "data": {
      "text/plain": [
       "[{'worker': 'tcp://149.201.182.188:45851',\n",
       "  'local_rank': 0,\n",
       "  'global_rank': 0,\n",
       "  'host': '149.201.182.188'},\n",
       " {'worker': 'tcp://149.201.182.203:42399',\n",
       "  'local_rank': 0,\n",
       "  'global_rank': 1,\n",
       "  'host': '149.201.182.203'}]"
      ]
     },
     "execution_count": 9,
     "metadata": {},
     "output_type": "execute_result"
    }
   ],
   "source": [
    "# Aufteilung der Worker\n",
    "pytorch_tools.listDaskWorker(client)"
   ]
  },
  {
   "cell_type": "markdown",
   "id": "b63074bd-7d8c-42b3-8b27-34d75098c901",
   "metadata": {},
   "source": [
    "Jeder Worker kann durch einen Rank erkannt werden. Durch Abfragen in der Trainingsfunktion von IP und anderen Informationen z.B. mittels Python, kann jeder <br>\n",
    "Worker bestimmte Aufgaben erledigen. Als Beispiel soll jeder Worker mit seiner IP eine Liste auswählen. Bei mehreren Workern mit gleicher IP müssen mehr <br>\n",
    "Erkenungsmerkmale wie Port oder Rang genutzt werden."
   ]
  },
  {
   "cell_type": "code",
   "execution_count": 10,
   "id": "9df5b5cc-fc98-4062-802b-ff1eb48f474f",
   "metadata": {
    "tags": []
   },
   "outputs": [],
   "source": [
    "## Unterteile Daten als Dict oder anders.\n",
    "# Jeder Worker mit IP soll eine bestimmte Liste bekommen. Jeder Worker bekommt diese Parameter. \n",
    "shared_info = {'worker_data': { '149.201.182.203': [1,2,3,4], '149.201.182.188': [5,6,7,8] } }                    "
   ]
  },
  {
   "cell_type": "code",
   "execution_count": 11,
   "id": "3a994b8a-f589-4274-9564-a4fdff47e2ce",
   "metadata": {
    "tags": []
   },
   "outputs": [],
   "source": [
    "# Parameter task\n",
    "def train_test(task):\n",
    "    pub_stats   = Pub(\"my_channel\")                \n",
    "    worker_rank = int(dist.get_rank())                  # Globaler Rank\n",
    "    worker_ip   = os.getenv('WORKER_HOST')              # Worker IP\n",
    "    # Mit Python können auch andere Merkmale wie Hostname ermittelt werden. \n",
    "    \n",
    "    time.sleep(2)\n",
    "    data = task['worker_data'][worker_ip]\n",
    "    msg = f\"I'm worker {worker_ip} and my list is {data}\"\n",
    "   \n",
    "    pub_stats.put({\"msg\": msg}) \n",
    "    "
   ]
  },
  {
   "cell_type": "code",
   "execution_count": 12,
   "id": "5ba0150c-4094-400a-af1a-01404ef5362e",
   "metadata": {
    "tags": []
   },
   "outputs": [
    {
     "name": "stdout",
     "output_type": "stream",
     "text": [
      "Worker count: 2\n",
      "Start training\n",
      "\n",
      "I'm worker 149.201.182.203 and my list is [1, 2, 3, 4]\n",
      "I'm worker 149.201.182.188 and my list is [5, 6, 7, 8]\n",
      "Time elapsed: 5.042824745178223\n",
      "16.11.2023  17:40:45 \n",
      "\n"
     ]
    }
   ],
   "source": [
    "pytorch_tools.run(train_test, client, task=shared_info) "
   ]
  },
  {
   "cell_type": "raw",
   "id": "5458fb75-4dc7-4def-ba68-a4db426ba681",
   "metadata": {
    "tags": []
   },
   "source": [
    "## Auch so möglich: \n",
    "\n",
    "def train_test(a:int, b:int=100):\n",
    "    # ...\n",
    "    msg = f\"I'm worker {worker_ip} | {a+b}\"\n",
    "    # ...\n",
    "pytorch_tools.run(train_test, client, a=10, b=22) \n",
    "\n",
    ">> I'm worker ... | 32"
   ]
  },
  {
   "cell_type": "markdown",
   "id": "ae19c68b-0e28-4512-8e6b-7866f93f314c",
   "metadata": {},
   "source": [
    "### 2.3.2 Evaluieren in der Trainingsloop"
   ]
  },
  {
   "cell_type": "markdown",
   "id": "6b9ed25e-6e9a-4938-af24-8c2dcbcf51e0",
   "metadata": {},
   "source": [
    "Bei dem Trainieren kann man neben dem normalen Vorgehen auch das Model gleichzeitig evaluieren, dazu muss man auch einiges beachten. Eines der wichtigen Dinge ist, dass bestimmte Teile auf der GPU und andere auf der CPU sein müssen, damit das Evaluieren gut geht, sonst tauchen Fehler auf.\n",
    "\n",
    "Das folgende Beispiele zeigt eine Trainingsschleife, wo auch die Genauigkeit getestet wird. Aufkommende Fehlern weisen auf die Bereiche hin, es kann vorkommen das manche Fehlermeldungen nicht sehr aussagekräftig sind, meist findet man auf GitHub und andere Webseiten Lösungen dazu."
   ]
  },
  {
   "cell_type": "raw",
   "id": "dd696051-af18-4289-9bfe-3119846f4f78",
   "metadata": {
    "tags": []
   },
   "source": [
    "# RNN |  dnn_RNN Notebook | https://www.deeplearningwizard.com/deep_learning/practical_pytorch/pytorch_recurrent_neuralnetwork/#3-building-a-recurrent-neural-network-with-pytorch-gpu\n",
    " accuracy=0\n",
    "        if  (worker_rank == 0):\n",
    "            # Calculate Accuracy         \n",
    "            correct = 0\n",
    "            total = 0\n",
    "            # Iterate through test dataset\n",
    "            for images, labels in test_loader:\n",
    "                #######################\n",
    "                #  USE GPU FOR MODEL  #\n",
    "                #######################\n",
    "                images = images.view(-1, seq_dim, input_dim).to(device)\n",
    "\n",
    "                # Forward pass only to get logits/output\n",
    "                outputs = model(images)\n",
    "\n",
    "                # Get predictions from the maximum value\n",
    "                _, predicted = torch.max(outputs.data, 1)\n",
    "\n",
    "                # Total number of labels\n",
    "                total += labels.size(0)\n",
    "\n",
    "                # Total correct predictions\n",
    "                #######################\n",
    "                #  USE GPU FOR MODEL  #\n",
    "                #######################\n",
    "                if torch.cuda.is_available():\n",
    "                    correct += (predicted.cpu() == labels.cpu()).sum()\n",
    "                else:\n",
    "                    correct += (predicted == labels).sum()\n",
    "\n",
    "            accuracy = 100 * correct / total\n",
    "            \n",
    "# LSTM | dnn_1_lstm | https://machinelearningmastery.com/lstm-for-time-series-prediction-in-pytorch/ \n",
    " if worker_rank == 0:\n",
    "\n",
    "            # Validation\n",
    "            if epoch % 100 != 0:\n",
    "                continue\n",
    "            model.eval()\n",
    "            with torch.no_grad():\n",
    "                # tensor.detach().cpu().numpy()\n",
    "                y_pred = model(X_train)\n",
    "\n",
    "                tmp_data_rmse = criterion(y_pred, y_train)\n",
    "                tmp_data_rmse = tmp_data_rmse.cpu()                 # Move to CPU\n",
    "                train_rmse = np.sqrt(tmp_data_rmse)\n",
    "\n",
    "                y_pred = model(X_test)\n",
    "\n",
    "                tmp_data_rmse = criterion(y_pred, y_test) \n",
    "                tmp_data_rmse = tmp_data_rmse.cpu()                 # Move to CPU          \n",
    "\n",
    "                test_rmse = np.sqrt(tmp_data_rmse)                  # Für Ausgabe"
   ]
  },
  {
   "cell_type": "markdown",
   "id": "59efa896-cae9-40b1-b953-dd3ee89a8507",
   "metadata": {},
   "source": [
    "# 3. Details zu den Datasets und Dataloaders"
   ]
  },
  {
   "cell_type": "markdown",
   "id": "eaf198c0-f1fa-4a76-87c7-496ded29f936",
   "metadata": {
    "tags": []
   },
   "source": [
    "Das PyTorch Dataset ermöglicht das einfache Umgehen  mit den Daten. Die Funktion braucht 3 Methoden: `__init__`, `__len__` und `__getitem__`. In der init Methode kann man z.B. die Daten nochmal verändern oder von dort aus laden. \n",
    "\n",
    "Ohne ein Dataset können Daten so direkt geladen werden: `Train_loader = DataLoader(torch.utils.data.TensorDataset(X_train, y_train), shuffle=True, batch_size=8)`.<br>\n",
    "Es ist leicht und schnell erledigt. Man kann auch ein eigenes PyTorch Dataset erstellen. Beispiele dazu folgen.\n",
    "\n",
    "Der Dataloader wird beim Training genutzt und hat Zugriff auf das Dataset.\n",
    "\n",
    "\n",
    "<br>\n",
    "\n",
    "PyTorch Dataset und Dataloader: https://pytorch.org/tutorials/beginner/basics/data_tutorial.html#loading-a-dataset  <br>\n",
    "PyTorch Dataloader https://pytorch.org/docs/stable/data.html#data-loading-order-and-sampler"
   ]
  },
  {
   "cell_type": "raw",
   "id": "da8158ed-fb96-4cff-b669-b69ad615c68b",
   "metadata": {
    "tags": []
   },
   "source": [
    "# Daten können auch mit dem Client über das Netzwerk verteilt werden. Geht gut mit kleinen Daten zum testen.\n",
    "# - data kann ein Array sein, ein Dataset, Pandas DataFrame, ... \n",
    "client.scatter(data, broadcast=True)"
   ]
  },
  {
   "cell_type": "markdown",
   "id": "93730bd3-a8dd-4e92-99aa-206ae328c7ed",
   "metadata": {},
   "source": [
    "Das Laden und Verarbeiten der Daten kann als Funktion ausgelagert werden. Dort (oder im Dataset) kann vom HDFs gelesen werden.<br>\n",
    "\n",
    "<u>Hinweis:</u><br>\n",
    "Wenn es zu einem Pickelerror kommt, müssen bestimmte Klassen und Funktionen in eine .py Datei geschrieben und von jedem Worker importiert werde. <br>\n",
    "Dateien können mit `client.upload_file('myfile.py')` hochgeladen werden."
   ]
  },
  {
   "cell_type": "markdown",
   "id": "0e5cac77-64f1-4216-96cc-04700121dd64",
   "metadata": {},
   "source": [
    "## 3.1 Eigenes PyTorch Dataset"
   ]
  },
  {
   "cell_type": "markdown",
   "id": "e26d19f2-4e5c-4501-9f0e-d8ddfa6b592f",
   "metadata": {},
   "source": [
    "Wenn wir Bilder aus dem HDFS laden wollen, müssen wir eine Funktion nutzen. Derzeit können wir den Vorteil der Datenlokalität nicht nutzen, siehe (https://dask.discourse.group/t/reading-data-and-image-data-from-hdfs-for-training/2220/2).\n",
    "\n"
   ]
  },
  {
   "cell_type": "raw",
   "id": "6a28922c-962e-4327-bbe7-f893720f8a23",
   "metadata": {},
   "source": [
    "# Eigenes Dataset was für das training genutzt wird.\n",
    "class CustomImageDataset(Dataset):\n",
    "    def __init__(self):\n",
    "       Lade Daten...\n",
    "       Worker mit Rang n und IP m soll diese Daten laden... \n",
    "       Einstellungen...\n",
    "    \n",
    "    def __len__(self):\n",
    "        Gebe Länge der Daten zurück\n",
    "\n",
    "    def __getitem__(self, idx):\n",
    "        # Verändere Daten ggf. \n",
    "        # .... \n",
    "        return image, label"
   ]
  },
  {
   "cell_type": "markdown",
   "id": "ab2be33e-baf0-4bd1-8e00-4f4cf86f78f8",
   "metadata": {},
   "source": [
    "Das Beispiel zeigt, wie man derzeit Bilddaten aus dem HDFs laden könnte. \n",
    "\n",
    "Als erstes listen wir alle Pfade auf, danach laden wir die Bilder. "
   ]
  },
  {
   "cell_type": "code",
   "execution_count": 26,
   "id": "a349a805-2b8c-4900-9e40-6660738bdfdc",
   "metadata": {
    "tags": []
   },
   "outputs": [],
   "source": [
    "# Liste alle Pfade der Bilder auf.\n",
    "def get_filenames(fs): \n",
    "    \n",
    "    classes =['dog', 'chicken']   # Klassen dir wir haben (und auch verzeichnisse) \n",
    "    data = []\n",
    "    file_location = []\n",
    "    # HDFs verbindung\n",
    "    hdfs = fs.HadoopFileSystem(\"hdfs://sun.bigdata.fh-aachen.de\", port=9000, user=\"schechtel\")\n",
    "        \n",
    "    for i in classes:\n",
    "        files = hdfs.get_file_info(fs.FileSelector(f'/project/schechtel/animals/{i}')) # Pro Verzechniss werden alle Pfade aufgelistet. \n",
    "        print(f\"Class: {i} \\t items: {len(files)}\")\n",
    "        for path in files:\n",
    "            data.append([path.path, i])  # Data: [...PNG , Klasse Dog]\n",
    "            \n",
    "    np.random.shuffle(data) # Shuffle\n",
    "\n",
    "    return data"
   ]
  },
  {
   "cell_type": "code",
   "execution_count": 20,
   "id": "ecbdac8a-13b4-436d-85a0-f086600ce2f3",
   "metadata": {
    "tags": []
   },
   "outputs": [],
   "source": [
    "import skimage\n",
    "\n",
    "# Dataset\n",
    "class create_trainset(Dataset):\n",
    "    def __init__(self, data_paths):  \n",
    "        \"\"\"\n",
    "        data_paths: Die Pfade die mit get_filenames ermittelt wurde.\n",
    "        - Könnte auch hier gemacht werden... \n",
    "        \"\"\"\n",
    "        self.data_paths = data_paths  # Data: [...PNG , Klasse Dog]\n",
    "        self.hdfs = fs.HadoopFileSystem(\"hdfs://sun.bigdata.fh-aachen.de\", port=9000, user=\"schechtel\")  # HDFS  Verbindung \n",
    "        # Sonstige Angaben... \n",
    "        self.img_dim    = (32, 32) # 227\n",
    "        self.transform = transforms.Compose(\n",
    "                           [transforms.ToTensor(),\n",
    "                            transforms.Normalize((0.5, 0.5, 0.5), (0.5, 0.5, 0.5))] )\n",
    "        self.class_map = {'dog':0, 'chicken': 1}\n",
    "          \n",
    "    def __len__(self):\n",
    "        return len(self.data_paths)  # Länge des Datasets \n",
    "\n",
    "    def __getitem__(self, idx):      # Iteriere mit idx:   __getitem__(idx)\n",
    "         \n",
    "        img_path, class_name = self.data_paths[idx]    # img_path=...PNG,  class_name=... dog\n",
    "\n",
    "        loded_image = skimage.io.imread( self.hdfs.open_input_file(img_path) )\n",
    "        img = Image.fromarray(np.uint8(loded_image)) \n",
    "        img = fn.center_crop(img, self.img_dim) \n",
    "        img = self.transform(img) \n",
    "        \n",
    "        class_id = self.class_map[class_name]   # dog => 0\n",
    "        \n",
    "        img_tensor = torch.from_numpy(np.asarray(img).copy())\n",
    "        \n",
    "        class_id = torch.tensor([class_id]) \n",
    "\n",
    "        return img_tensor, class_id \n",
    "        "
   ]
  },
  {
   "cell_type": "markdown",
   "id": "24061cd6-a225-4c25-b9d7-dad8082489c7",
   "metadata": {},
   "source": [
    "Wenn die Daten lokal auf dem Rechner sind, könnte das Laden der Daten so aussehen wie unten. <br>\n",
    "Im Dataset ermitteln wir mittels Python alle Bildnamen und Pfade.\n",
    "\n",
    "Im Dataset können auch Subsets von Pfaden für veschiedene Worker erstellt werden, oder auch Datasets für das Testen. "
   ]
  },
  {
   "cell_type": "raw",
   "id": "075ad3cd-8939-47c7-b70e-78dde7450629",
   "metadata": {
    "jupyter": {
     "outputs_hidden": true
    },
    "tags": []
   },
   "source": [
    "##-- HDFS --##\n",
    "##-- HDFS --##\n",
    "from pyarrow import fs\n",
    "files_list = get_filenames(fs)\n",
    "hdfs = fs.HadoopFileSystem(\"hdfs://sun.bigdata.fh-aachen.de\", port=9000, user=\"schechtel\") # get hdfs\n",
    "files = hdfs.get_file_info(fs.FileSelector('/project/schechtel/')) # get all files in hdfs dir\n",
    "# Prior attempt to load libhdfs failed\n",
    "##-- HDFS --##\n",
    "##-- HDFS --##"
   ]
  },
  {
   "cell_type": "code",
   "execution_count": 13,
   "id": "83f2b014-bdf3-4a55-a81a-805232d3631a",
   "metadata": {
    "tags": []
   },
   "outputs": [
    {
     "name": "stdout",
     "output_type": "stream",
     "text": [
      "Overwriting mask_dataset_func.py\n"
     ]
    }
   ],
   "source": [
    "%%writefile mask_dataset_func.py\n",
    "from torch.utils.data import Dataset, DataLoader\n",
    "from torch.utils.data.distributed import DistributedSampler\n",
    "from PIL import Image\n",
    "import skimage\n",
    "import torch\n",
    "import numpy as np\n",
    "import os\n",
    "class mask_dataset(Dataset):\n",
    "    def __init__(self):\n",
    "        self.classes=['with_mask','without_mask']             # 2 Klassen\n",
    "        self.class_map={'with_mask':0, 'without_mask':1 }\n",
    "        self.dir=\"01work/Datasets/facemask/archive/\"          # ../archive/with_mask  |  ../archive/without_mask  \n",
    "        self.img_paths=[]\n",
    "        \n",
    "        for klass in self.classes:\n",
    "            tmp_list = os.listdir(f\"{self.dir}{klass}\")   # os.listdir(): Liste Verzeichniss auf und gebe als Liste zurück \n",
    "            print(f\"Klasse: {klass}, Items: {len(tmp_list)}\")\n",
    "            for path in tmp_list:\n",
    "                self.img_paths.append([f\"{self.dir}{klass}/{path}\", self.class_map[klass]]) #   [....PNG , with_mask => 0 ]\n",
    "        print(f\"Gesamte Items: {len(self.img_paths)}\")    \n",
    "        \n",
    "        # Shuffle...\n",
    "        # worker n soll diese Pfade Pfade bekommen... \n",
    "        # Testimg = ...\n",
    "                \n",
    "    def __len__(self):\n",
    "          return len( self.img_paths)\n",
    "\n",
    "    def __getitem__(self, idx):\n",
    "        \n",
    "        img = skimage.io.imread( self.img_paths[idx][0] )\n",
    "        img = Image.fromarray(np.uint8(img))\n",
    "        img_tensor = torch.from_numpy(np.asarray(img).copy())\n",
    "        \n",
    "        return img_tensor, torch.tensor(int(self.img_paths[idx][1]))"
   ]
  },
  {
   "cell_type": "code",
   "execution_count": 14,
   "id": "1360b0d3-4263-493e-aaf9-a393e7d0254f",
   "metadata": {
    "tags": []
   },
   "outputs": [],
   "source": [
    "# Schreibe Datei und lade es hoch.\n",
    "client.upload_file(\"mask_dataset_func.py\")\n",
    "import mask_dataset_func"
   ]
  },
  {
   "cell_type": "code",
   "execution_count": 15,
   "id": "a80e2c37-c90a-4ab0-86a6-66151e6c65ca",
   "metadata": {
    "tags": []
   },
   "outputs": [
    {
     "name": "stdout",
     "output_type": "stream",
     "text": [
      "Worker count: 2\n",
      "Start training\n",
      "\n",
      "Done\n",
      "Done\n",
      "Time elapsed: 62.014142990112305\n",
      "16.11.2023  17:42:5 \n",
      "\n"
     ]
    }
   ],
   "source": [
    "def do_train():\n",
    "    pub_stats   = Pub(\"my_channel\")                \n",
    "    worker_rank = int(dist.get_rank())                  # Globaler Rank\n",
    "    worker_ip   = os.getenv('WORKER_HOST')              # Worker IP\n",
    "    # Mit Python können auch andere Merkmale wie Hostname ermittelt werden. \n",
    "    \n",
    "    dataset = mask_dataset_func.mask_dataset()  # Ggf. mit Parameter \n",
    "    sampler = DistributedSampler(dataset)  # Iterationen auf Worker aufteilen \n",
    "    loader = DataLoader(dataset, batch_size=16, sampler=sampler, num_workers=2, prefetch_factor=4, pin_memory=True ) # sampler=sampler, num_workers=2, prefetch_factor=4, pin_memory=True \n",
    "    \n",
    "    \n",
    "    for epoch in range(2): \n",
    "        sampler.set_epoch(epoch)\n",
    "        for i, (batch_x, batch_y) in enumerate(loader):\n",
    "            X = batch_x\n",
    "            y = batch_y\n",
    "            if i%10==0:\n",
    "                print(i)\n",
    "            if i==100:\n",
    "                break\n",
    "    \n",
    "    msg = \"Done\"\n",
    "    pub_stats.put({\"msg\": msg}) \n",
    "\n",
    "    \n",
    "pytorch_tools.run(do_train, client) "
   ]
  },
  {
   "cell_type": "markdown",
   "id": "168adfec-a64d-4c1c-8379-60346ee480ae",
   "metadata": {},
   "source": [
    "### 3.3.1 Auswirkung des Distrubuted Samplers"
   ]
  },
  {
   "cell_type": "markdown",
   "id": "16bf3387-eec5-43f9-b98c-9130903f3226",
   "metadata": {},
   "source": [
    "Wir haben also ein Dataset. Wenn wir diese Daten nicht mit dem Sampler aufteilen, verhält es sich als wäre es nur ein Worker. Teilen wir diese Daten unter den Workern auf (Data Parallel), so ist das Training schneller beendet.\n",
    "\n",
    "Bekommen die Worker durch diese Aufteilung zu wenig Daten, dann ist die Genauigkeit am Ende viel schlechter. Für eine bestimmte Menge an Daten sollten nicht zu viele Worker beteiligt sein, wenn die Daten pro Worker am Ende gering sind.\n",
    "\n",
    "Wie gut die Genauigkeit am Ende ist, liegt an vielen Faktoren. "
   ]
  },
  {
   "cell_type": "raw",
   "id": "8d8fabb4-e5df-45c0-82e0-737d5caed539",
   "metadata": {},
   "source": [
    "sampler = DistributedSampler(trainset) # Übergebe Dataset\n",
    "loader = DataLoader(trainset, batch_size=batch_size, sampler=sampler) # Setze Sampler\n",
    "...\n",
    "for epoch  in epoches:\n",
    "   sampler.set_epoch(epoch)\n",
    "   ...."
   ]
  },
  {
   "cell_type": "markdown",
   "id": "93a989f8-115c-4eff-b19e-220b9b7dcafe",
   "metadata": {},
   "source": [
    "Wenn sich die lokalen Daten pro Worker unterscheiden, ist ein Sampler nicht notwendig.\n",
    "\n",
    "Wenn alle Worker gleiche Daten haben (wie das Cifar10 Dataset), dann werden die Iterationen aufgeteilt."
   ]
  },
  {
   "cell_type": "markdown",
   "id": "b2bbb51b-4d28-42c5-88d0-2cd3abfd1511",
   "metadata": {},
   "source": [
    "Länge eines Trainsets: `trainset.__len__()`<br>\n",
    "Länge des Samplers: `len(sampler)` <br>"
   ]
  },
  {
   "cell_type": "markdown",
   "id": "faa1c4e0-2e1e-49be-bbe3-fc7698f59940",
   "metadata": {},
   "source": [
    "Worker: 6, ohne Sampler <br>\n",
    "<img src=\"./pictures/samplertrain_1.PNG\" >\n",
    "\n",
    "Worker: 6, mit Sampler<br>\n",
    "<img src=\"./pictures/samplertrain_2.PNG\" >\n",
    "\n",
    "Worker: 3, mit Sampler<br>\n",
    "<img src=\"./pictures/samplertrain_3.PNG\" >\n",
    "\n",
    "Worker: 2, mit Sampler<br>\n",
    "<img src=\"./pictures/samplertrain_4.PNG\" >"
   ]
  },
  {
   "cell_type": "markdown",
   "id": "3ec15ff9-e259-4e52-83a5-70f173025e87",
   "metadata": {},
   "source": [
    "Diese waren einfache Evaluierungen, die während des Trainings wie oben gemacht wurden. <br>\n",
    "Am Ende ist die Genauigkeit nach dem Evaluieren tendenziell besser. <br>\n",
    "Bei 3 Nodes die während des Trainings evaluiert wurden, lag die Genauigkeit bei 15,2%. Am Ende das Evaluieren mit dem Testset 45%.\n",
    "\n",
    "Mit der Evaluierung mit dem Trainset ergab sich ein Verlust von 9% der Genauigkeit von 1 bis 3 Nodes. Dabei lieferte das Trainieren mit nur einen Node die bessere genauigkeit, dauerte auch am längsten."
   ]
  },
  {
   "cell_type": "markdown",
   "id": "8ba9cdd4-892f-4ecc-9620-8d0e2bb59277",
   "metadata": {},
   "source": [
    "# 4. Model Laden und Evaluieren "
   ]
  },
  {
   "cell_type": "markdown",
   "id": "a0afbd13-3606-42ea-895d-5be8c5ca6869",
   "metadata": {},
   "source": [
    "Nachdem wir das Model trainiert und gespeichert haben, können wir es laden. Für das Laden können wir eine GPU oder CPU nutzen. Das Netzwerk sollte beim Laden verfügbar sein.\n",
    "\n",
    "<u>Hinweis bei der CPU Nutzung:</u> <br>\n",
    "Trotz dem mappen der Lokation mit `.cpu()`  kann ein GPU Device automatisch ausgewählt werden, was zu einer Fehlermeldung führt: <br>\n",
    "\"module must have its parameters and buffers on device cuda:0 (device_ids[0]) but found one of them on device: cpu\"<br>\n",
    "Um das zu umgehen, falls sowas auftritt, sollte keine GPU aktiv sein. Ist keine GPU vorhanden, sollten diese Fehler nicht auftreten. \n"
   ]
  },
  {
   "cell_type": "markdown",
   "id": "2f9e4724-130e-444d-86c5-f6f9bc2dbae6",
   "metadata": {},
   "source": [
    "## 4.1 Model CIFAR10"
   ]
  },
  {
   "cell_type": "markdown",
   "id": "58265829-132f-4359-823d-3d5bf085d978",
   "metadata": {},
   "source": [
    "Hier erstellen wir ein Testset, um das trainierte Model zu evaluieren. Das Testset ist wieder ein eigenes Dataset, was erstellt werden kann. "
   ]
  },
  {
   "cell_type": "code",
   "execution_count": 16,
   "id": "b6990e41-8f42-4e58-9dce-3fce6853c583",
   "metadata": {
    "tags": []
   },
   "outputs": [
    {
     "name": "stdout",
     "output_type": "stream",
     "text": [
      "Downloading https://www.cs.toronto.edu/~kriz/cifar-10-python.tar.gz to ./data/cifar-10-python.tar.gz\n"
     ]
    },
    {
     "name": "stderr",
     "output_type": "stream",
     "text": [
      "100%|██████████| 170498071/170498071 [00:09<00:00, 18939153.75it/s]\n"
     ]
    },
    {
     "name": "stdout",
     "output_type": "stream",
     "text": [
      "Extracting ./data/cifar-10-python.tar.gz to ./data\n"
     ]
    }
   ],
   "source": [
    "transform = transforms.Compose(\n",
    "    [transforms.ToTensor(),\n",
    "     transforms.Normalize((0.5, 0.5, 0.5), (0.5, 0.5, 0.5))])\n",
    "\n",
    "# Cifar10 Testset\n",
    "testset = torchvision.datasets.CIFAR10(root='./data', train=False, download=True, transform=transform)\n",
    "# Dataloader                                     \n",
    "testloader = torch.utils.data.DataLoader(testset, batch_size=4,shuffle=False)\n",
    "                                         \n",
    "dataiter = iter(testloader)\n",
    "images, labels = next(dataiter)"
   ]
  },
  {
   "cell_type": "markdown",
   "id": "8ed1e481-1f1f-413d-878a-5f8b737c3dd1",
   "metadata": {},
   "source": [
    "Wenn beim Speichern weitere Parameter übergeben wurde wie \"epoch=epoch\", können diese aus dem Checkpoint gelesen werden.<br>\n",
    "`checkpoint.keys()` gibt die verfügbaren Schlüssel an, wenn es ein Checkpoint ist. "
   ]
  },
  {
   "cell_type": "code",
   "execution_count": 17,
   "id": "d6d422c8-571f-4c18-ad4c-b98d74bbe302",
   "metadata": {
    "tags": []
   },
   "outputs": [],
   "source": [
    "########### GPU ###############\n",
    "\n",
    "model = torch.nn.DataParallel( Model().cuda() ) #Wrap als DP wenn nötig. \n",
    "\n",
    "#model      = Model().cuda()\n",
    "checkpoint = torch.load(\"DDPmodel.ckpt\")                # Lade Ckpt \n",
    "\n",
    "model.load_state_dict(checkpoint['model_state_dict'])   # Lade Dict in das Model \n",
    "epoche     = checkpoint['kwargs']['epoch']              # Lade Sonstiges... R\n",
    "\n",
    "## Sonstiges falls übergeben. Z.B.: \n",
    "#  optimizer = optim.SGD(model.parameters(), lr=0.001, momentum=0.9)\n",
    "#  optimizer.load_state_dict(checkpoint['kwargs']['optimizer_state_dict'])\n",
    "#  loss = checkpoint['kwargs']['loss']\n",
    "\n",
    "## Wenn Endung .pt:\n",
    "#   modelpt = torch.load(\"DDPmodel.pt\")   # Dict darin enthalten             \n",
    "#   model.load_state_dict(modelpt)  \n"
   ]
  },
  {
   "cell_type": "code",
   "execution_count": 18,
   "id": "a24353e9-c024-4063-aab8-c88e658980ec",
   "metadata": {
    "tags": []
   },
   "outputs": [],
   "source": [
    "# Das sollte dann funktionieren\n",
    "images_gpu = images.to('cuda') # Oder device wählen\n",
    "outputs = model(images_gpu)"
   ]
  },
  {
   "cell_type": "markdown",
   "id": "2daef561-ed64-4846-80ec-d2aaf9a83a19",
   "metadata": {},
   "source": [
    "Dasselbe mit CPU"
   ]
  },
  {
   "cell_type": "code",
   "execution_count": 90,
   "id": "f9984323-da34-4f8e-b405-0ba358299eab",
   "metadata": {
    "tags": []
   },
   "outputs": [
    {
     "data": {
      "text/plain": [
       "<All keys matched successfully>"
      ]
     },
     "execution_count": 90,
     "metadata": {},
     "output_type": "execute_result"
    }
   ],
   "source": [
    "########### CPU ###############\n",
    "### Auf CPU Cluster getestet, es funktioniert ### \n",
    "\n",
    "model = torch.nn.DataParallel( Model().cpu()  ) # Wrap als DP wenn nötig. \n",
    "\n",
    "#model      = Model().cpu()\n",
    "# Lade Model als Checkpoint \n",
    "checkpoint = torch.load( \"DDPmodel.ckpt\", map_location=torch.device('cpu') )\n",
    "\n",
    "model.load_state_dict(checkpoint['model_state_dict'])   # Lade Dict in das Model \n",
    "\n"
   ]
  },
  {
   "cell_type": "code",
   "execution_count": 91,
   "id": "b76bcc43-f8e8-4a56-b93a-1bfd8edac960",
   "metadata": {
    "tags": []
   },
   "outputs": [],
   "source": [
    "# Dann sollte das funktionieren:\n",
    "images_cpu = images.to('cpu')\n",
    "outputs = model(images_cpu)"
   ]
  },
  {
   "cell_type": "markdown",
   "id": "726bcae4-fdcd-40e0-ba0a-d2beaec53bdc",
   "metadata": {},
   "source": [
    "Nach dem Laden können wir das Model so nutzen wie wir es wollen.\n",
    "\n",
    "Die unteren Beispiele sind aus PyTorch. Wir überprüfen die Accuracy.  Die Predictions können auf GPU oder CPU laufen.\n",
    "\n",
    "<br>\n",
    "\n",
    "Test the network on the test data: https://pytorch.org/tutorials/beginner/blitz/cifar10_tutorial.html#test-the-network-on-the-test-data"
   ]
  },
  {
   "cell_type": "code",
   "execution_count": 19,
   "id": "fa9b63cb-278f-48e5-82b3-8655b09a5ecc",
   "metadata": {
    "tags": []
   },
   "outputs": [
    {
     "name": "stdout",
     "output_type": "stream",
     "text": [
      "Accuracy of the network on the 10000 test images: 50 %\n"
     ]
    }
   ],
   "source": [
    "# Pytorch Example on website https://pytorch.org/tutorials/beginner/blitz/cifar10_tutorial.html\n",
    "correct = 0\n",
    "total = 0\n",
    "\n",
    "# since we're not training, we don't need to calculate the gradients for our outputs\n",
    "with torch.no_grad():\n",
    "    for data in testloader:\n",
    "        images, labels = data\n",
    "        \n",
    "        images = images.cuda()      # CUDA for GPU usage  \n",
    "        labels = labels.cuda()      # CUDA for GPU usage \n",
    "\n",
    "        # calculate outputs by running images through the network\n",
    "        outputs = model(images)\n",
    "        # the class with the highest energy is what we choose as prediction\n",
    "        _, predicted = torch.max(outputs.data, 1)\n",
    "        total += labels.size(0)\n",
    "        correct += (predicted == labels).sum().item()\n",
    "\n",
    "print(f'Accuracy of the network on the 10000 test images: {100 * correct // total} %')"
   ]
  },
  {
   "cell_type": "markdown",
   "id": "bbd9925a-53d9-4afe-8c1b-01bd808f8ce6",
   "metadata": {},
   "source": [
    "Das Trainieren mit 1 bis 3 Nodes ergab folgendes: <br>\n",
    "Node 1:  55% <br>\n",
    "Node 2:  50% <br>\n",
    "Node 3:  46% "
   ]
  },
  {
   "cell_type": "code",
   "execution_count": 58,
   "id": "7a154239-4308-404d-82a1-2b57bff0190a",
   "metadata": {
    "tags": []
   },
   "outputs": [
    {
     "name": "stdout",
     "output_type": "stream",
     "text": [
      "Accuracy for class: plane is 46.4 %\n",
      "Accuracy for class: car   is 82.9 %\n",
      "Accuracy for class: bird  is 24.6 %\n",
      "Accuracy for class: cat   is 23.4 %\n",
      "Accuracy for class: deer  is 40.2 %\n",
      "Accuracy for class: dog   is 43.2 %\n",
      "Accuracy for class: frog  is 51.6 %\n",
      "Accuracy for class: horse is 53.5 %\n",
      "Accuracy for class: ship  is 60.8 %\n",
      "Accuracy for class: truck is 40.8 %\n"
     ]
    }
   ],
   "source": [
    "## Weitere Möglichkeit\n",
    "\n",
    "# Pytorch Example on website https://pytorch.org/tutorials/beginner/blitz/cifar10_tutorial.html\n",
    "# prepare to count predictions for each class\n",
    "classes = ('plane', 'car', 'bird', 'cat',\n",
    "           'deer', 'dog', 'frog', 'horse', 'ship', 'truck')\n",
    "correct_pred = {classname: 0 for classname in classes}\n",
    "total_pred = {classname: 0 for classname in classes}\n",
    "\n",
    "# again no gradients needed\n",
    "with torch.no_grad():\n",
    "    for data in testloader:\n",
    "        images, labels = data\n",
    "\n",
    "        images = images.cuda()      # CUDA for GPU usage \n",
    "        labels = labels.cuda()      # CUDA for GPU usage \n",
    "\n",
    "        outputs = model(images)\n",
    "        _, predictions = torch.max(outputs, 1)\n",
    "        # collect the correct predictions for each class\n",
    "        for label, prediction in zip(labels, predictions):\n",
    "            if label == prediction:\n",
    "                correct_pred[classes[label]] += 1\n",
    "            total_pred[classes[label]] += 1\n",
    "\n",
    "\n",
    "# print accuracy for each class\n",
    "for classname, correct_count in correct_pred.items():\n",
    "    accuracy = 100 * float(correct_count) / total_pred[classname]\n",
    "    print(f'Accuracy for class: {classname:5s} is {accuracy:.1f} %')"
   ]
  },
  {
   "cell_type": "markdown",
   "id": "ec60aa95-ed5d-4340-8769-e12b9f02e2f0",
   "metadata": {},
   "source": [
    "## 4.2 Weiteres"
   ]
  },
  {
   "cell_type": "markdown",
   "id": "74a9742c-e445-407c-a8d4-92f7aa5a2aa3",
   "metadata": {},
   "source": [
    "Die ganze Evaluierung kann in Funktionen ausgelagert und vereinfacht werden.<br>\n",
    "Mit Torchmetric kann die Evaluierung vereinfacht werden und mehr. \n",
    "\n",
    "Um mehr Übersicht zu haben, kann auch das TensorBoard von TensorFlow für PyTorch eingesetzt werden.\n",
    "\n",
    "<br>\n",
    "\n",
    "WELCOME TO TORCHMETRICS: https://torchmetrics.readthedocs.io/en/stable/ <br>\n",
    "TORCHMETRICS Beispiel: https://lightning.ai/docs/pytorch/stable/ecosystem/metrics.html <br>\n",
    "TORCH.UTILS.TENSORBOARD: https://pytorch.org/docs/stable/tensorboard.html"
   ]
  },
  {
   "cell_type": "raw",
   "id": "02f43b87-74e7-48c3-8f0d-262375bacee6",
   "metadata": {},
   "source": [
    "## So kann das Evaluieren mit torchmetrics aussehen.:\n",
    "#  - PyTorch Lightning Beispiel: https://lightning.ai/docs/pytorch/stable/ecosystem/metrics.html\n",
    "\n",
    "!pip install torchmetrics   # Einfache installation und sofort anwendbar. \n",
    "import torchmetrics\n",
    "\n",
    "device = torch.device('cuda')\n",
    "metric = torchmetrics.Accuracy(task=\"multiclass\", num_classes=10).to(device)\n",
    "\n",
    "with torch.no_grad():\n",
    "    for data in testloader:\n",
    "        images, labels = data\n",
    "        \n",
    "        images = images.cuda()   \n",
    "        labels = labels.cuda()    \n",
    "\n",
    "        outputs = model(images)\n",
    "        acc = metric(outputs, labels)\n",
    "        \n",
    "acc = metric.compute()\n",
    "print(f\"Accuracy on all data: {acc}\")\n",
    "\n",
    "# Resetting internal state such that metric ready for new data\n",
    "metric.reset()\n",
    "\n",
    ">>\n",
    ">> Accuracy on all data: 0.4674000144004822\n",
    ">>"
   ]
  },
  {
   "cell_type": "markdown",
   "id": "9922b385-a404-4895-8469-f58e2c541e9c",
   "metadata": {},
   "source": [
    "# 5. Andere Netzwerke"
   ]
  },
  {
   "cell_type": "markdown",
   "id": "d26d4ef6-e88c-411c-9c42-bda42f331c92",
   "metadata": {},
   "source": [
    "Das was gemacht haben, geht auch mit größeren Netzwerken wie AlexNet. Um es schlicht zu halten, nutzen wir wieder das Cifar10 Dataset.\n",
    "\n",
    "Bei größeren Netzen nutzen wir den <u>PowerSGD Hook</u>, um die Kommunikation über Maschienen zu verbessern. Das Beschleunigt das Training.<br>\n",
    "Es kann auch `torch.autocast()` genutzt werden, um Daten in ein anderes Format zu bringen."
   ]
  },
  {
   "cell_type": "code",
   "execution_count": 20,
   "id": "c9a1cb21-e21f-411a-864c-769f8d01b1bb",
   "metadata": {
    "tags": []
   },
   "outputs": [],
   "source": [
    "# AlexNet: https://blog.paperspace.com/alexnet-pytorch/\n",
    "\n",
    "##- AlexNet Beispiel -## \n",
    "# - Klassen: 10 \n",
    "# Unser AlexNet.:\n",
    "class AlexNet(nn.Module):\n",
    "    def __init__(self, num_classes=10):\n",
    "        super(AlexNet, self).__init__()\n",
    "        self.layer1 = nn.Sequential(\n",
    "            nn.Conv2d(3, 96, kernel_size=11, stride=4, padding=0),\n",
    "            nn.BatchNorm2d(96),\n",
    "            nn.ReLU(),\n",
    "            nn.MaxPool2d(kernel_size = 3, stride = 2))\n",
    "        self.layer2 = nn.Sequential(\n",
    "            nn.Conv2d(96, 256, kernel_size=5, stride=1, padding=2),\n",
    "            nn.BatchNorm2d(256),\n",
    "            nn.ReLU(),\n",
    "            nn.MaxPool2d(kernel_size = 3, stride = 2))\n",
    "        self.layer3 = nn.Sequential(\n",
    "            nn.Conv2d(256, 384, kernel_size=3, stride=1, padding=1),\n",
    "            nn.BatchNorm2d(384),\n",
    "            nn.ReLU())\n",
    "        self.layer4 = nn.Sequential(\n",
    "            nn.Conv2d(384, 384, kernel_size=3, stride=1, padding=1),\n",
    "            nn.BatchNorm2d(384),\n",
    "            nn.ReLU())\n",
    "        self.layer5 = nn.Sequential(\n",
    "            nn.Conv2d(384, 256, kernel_size=3, stride=1, padding=1),\n",
    "            nn.BatchNorm2d(256),\n",
    "            nn.ReLU(),\n",
    "            nn.MaxPool2d(kernel_size = 3, stride = 2))\n",
    "        self.fc = nn.Sequential(\n",
    "            nn.Dropout(0.5),\n",
    "            nn.Linear(9216, 4096),\n",
    "            nn.ReLU())\n",
    "        self.fc1 = nn.Sequential(\n",
    "            nn.Dropout(0.5),\n",
    "            nn.Linear(4096, 4096),\n",
    "            nn.ReLU())\n",
    "        self.fc2= nn.Sequential(\n",
    "            nn.Linear(4096, num_classes))\n",
    "        \n",
    "    def forward(self, x):\n",
    "        #with torch.autocast(device_type='cuda', dtype=torch.float16):  \n",
    "        out = self.layer1(x)\n",
    "        out = self.layer2(out)\n",
    "        out = self.layer3(out)\n",
    "        out = self.layer4(out)\n",
    "        out = self.layer5(out)\n",
    "        out = out.reshape(out.size(0), -1)\n",
    "        out = self.fc(out)\n",
    "        out = self.fc1(out)\n",
    "        out = self.fc2(out)\n",
    "        return out\n",
    "            "
   ]
  },
  {
   "cell_type": "markdown",
   "id": "e7cbe978-acc2-4eb7-a03d-386c42abd5c4",
   "metadata": {},
   "source": [
    "Um den Hook zu nutzen:<br>\n",
    "`model = pytorch_tools.register_DDP_PowerSGD_hook(model, device_id, matrix_approximation_rank:int=12, start_powerSGD_iter:int=2)`\n",
    "\n",
    "matrix_approximation_rank steuert die Kompression. Fange mit dem Wert 2 an und erhöhe immer um 2. start_powerSGD_iter fängt bei 2 an und kann jeweils erhöht werden. Man kann verschiedene Einstellungen testen, auch verschiedene Batchgrößen. \n",
    "\n",
    "Momentan steht matrix_approximation_rank auf 12 und start_powerSGD_iter auf 2."
   ]
  },
  {
   "cell_type": "code",
   "execution_count": 21,
   "id": "1dd35d58-acfc-4291-9a42-c90c397a3de6",
   "metadata": {
    "tags": []
   },
   "outputs": [],
   "source": [
    "## Trainingsfunktion die jeder Worker ausführt. \n",
    "\n",
    "def train():\n",
    "    \n",
    "    pub_stats  = Pub(\"my_channel\")                          # Channel für Nachrichten              \n",
    "    worker_rank = int(dist.get_rank())                      # Globaler Rank\n",
    "    worker_ip = os.getenv('WORKER_HOST')                    # Worker IP\n",
    "    device_id = worker_rank % torch.cuda.device_count()\n",
    "    \n",
    "    device = torch.device(\"cuda\")  # 'cuda': Nutze alle GPUs | 0: nutze GPU 0 | 'cpu': Nutze CPU, Backend auf gloo stellen | \"cuda\" if torch.cuda.is_available() else \"cpu\")\n",
    "  \n",
    "    num_epochs = 5     \n",
    "    batch_size = 256   \n",
    "\n",
    "    transform = transforms.Compose([\n",
    "        transforms.Resize((227,227)),\n",
    "        transforms.ToTensor(),\n",
    "        transforms.Normalize(\n",
    "            mean=[0.4914, 0.4822, 0.4465],\n",
    "            std=[0.2023, 0.1994, 0.2010])\n",
    "        ])\n",
    "    \n",
    "    trainset = torchvision.datasets.CIFAR10(root='./data', train=True,  download=True, transform=transform) \n",
    "    sampler = DistributedSampler(trainset)\n",
    "    loader = DataLoader(trainset, batch_size=batch_size, sampler=sampler, num_workers=2, prefetch_factor=4, pin_memory=True ) \n",
    "    \n",
    "    model = AlexNet().to(device)\n",
    "    model = DDP(model,  device_ids=[device_id], bucket_cap_mb=40)  # bucket_cap_mb=40, mixed_precision=\"fp16\"\n",
    "    \n",
    "    ##  - Nutze Hook: - ##\n",
    "    # - Paramater: model, device_id, matrix_approximation_rank:int=12, start_powerSGD_iter:int=2\n",
    "    #model = pytorch_tools.register_DDP_PowerSGD_hook(model, device_id)   # SGD Hook, Model wird dort auch in DDP umgewandelt. \n",
    "    model = pytorch_tools.register_fp16_compress_wrapper_SgdPower_hook(model, device_id)\n",
    "\n",
    "    criterion = nn.CrossEntropyLoss()\n",
    "    optimizer = optim.SGD(model.parameters(), lr=0.001, momentum=0.9)\n",
    "    \n",
    "    ## - Kann einen verteilten Optimierer nutzen. Dann aber keinen anderen Hook. - ##\n",
    "    # - register_distOpt_PostLocalSGDOpt(model,  device_id, local_optim, period:int=4, warm_up:int=100)\n",
    "    #model, optimizer = pytorch_tools.register_distOpt_PostLocalSGDOpt(model, device_id, optimizer)\n",
    "    \n",
    "    #scaler= torch.cuda.amp.GradScaler()\n",
    "    for epoch in range(num_epochs):\n",
    "        # this ensures the data is reshuffled each epoch, if using sampler. \n",
    "        sampler.set_epoch(epoch)\n",
    "         \n",
    "        correct = 0\n",
    "        for i, (batch_x, batch_y) in enumerate(loader):\n",
    "        \n",
    "            optimizer.zero_grad()\n",
    "            \n",
    "            #with torch.autocast(device_type='cuda', dtype=torch.float16):    \n",
    "            outputs = model(batch_x.to(device))                     \n",
    "            loss = criterion(outputs, batch_y.to(device))\n",
    "            \n",
    "            # PyTorch DDP Gradient AllReduce\n",
    "            loss.backward()\n",
    "            #scaler.scale(loss).backward()\n",
    "            # Update weights\n",
    "            optimizer.step()\n",
    "            #scaler.step(optimizer)\n",
    "            #scaler.update()\n",
    "            \n",
    "           # with torch.autocast(device_type='cuda', dtype=torch.float16):  # new\n",
    "            _, predicted = torch.max(outputs.data, 1)\n",
    "            if torch.cuda.is_available():\n",
    "                   correct += (predicted.cpu() == batch_y.cpu()).sum()\n",
    "            else:\n",
    "                   correct += (predicted == batch_y).sum()\n",
    "            accuracy = 100 * correct / len(trainset)\n",
    "\n",
    "        if worker_rank == 0: # jede Epoche\n",
    "            msg = f\"loss: {round(loss.item(), 4)} acc: {accuracy}  epoche: ({epoch+1}/{num_epochs})\"\n",
    "            pub_stats.put({\"msg\": msg})\n",
    "            pytorch_tools.ddp_save_model_dict(pub_stats, model.state_dict(), \"./DDPmodel_ALexNet\")\n",
    "       "
   ]
  },
  {
   "cell_type": "code",
   "execution_count": 22,
   "id": "2f1f4130-5191-456b-a448-ac153ee2f561",
   "metadata": {
    "collapsed": true,
    "jupyter": {
     "outputs_hidden": true
    },
    "tags": []
   },
   "outputs": [
    {
     "name": "stdout",
     "output_type": "stream",
     "text": [
      "Worker count: 2\n",
      "Start training\n",
      "\n"
     ]
    },
    {
     "name": "stderr",
     "output_type": "stream",
     "text": [
      "ERROR:root:Pin memory thread exited unexpectedly\n",
      "Traceback (most recent call last):\n",
      "  File \"/rapids/notebooks/01work/final_work/pytorch_dispatcher_resulthandler.py\", line 325, in _get_results\n",
      "    fut.result()\n",
      "  File \"/opt/conda/envs/rapids/lib/python3.10/site-packages/distributed/client.py\", line 314, in result\n",
      "    raise exc.with_traceback(tb)\n",
      "  File \"/tmp/dask-worker-space/worker-w5jys_e0/pytorch_dispatcher_resulthandler.py\", line 245, in dispatch_with_ddp\n",
      "    val = pytorch_function(*args, **kwargs)\n",
      "  File \"/tmp/ipykernel_12597/614650358.py\", line 48, in train\n",
      "    for i, (batch_x, batch_y) in enumerate(loader):\n",
      "  File \"/opt/conda/envs/rapids/lib/python3.10/site-packages/torch/utils/data/dataloader.py\", line 634, in __next__\n",
      "    data = self._next_data()\n",
      "  File \"/opt/conda/envs/rapids/lib/python3.10/site-packages/torch/utils/data/dataloader.py\", line 1329, in _next_data\n",
      "    idx, data = self._get_data()\n",
      "  File \"/opt/conda/envs/rapids/lib/python3.10/site-packages/torch/utils/data/dataloader.py\", line 1290, in _get_data\n",
      "    raise RuntimeError('Pin memory thread exited unexpectedly')\n",
      "RuntimeError: Pin memory thread exited unexpectedly\n"
     ]
    },
    {
     "ename": "KeyboardInterrupt",
     "evalue": "",
     "output_type": "error",
     "traceback": [
      "\u001b[0;31m---------------------------------------------------------------------------\u001b[0m",
      "\u001b[0;31mKeyboardInterrupt\u001b[0m                         Traceback (most recent call last)",
      "\u001b[0;32m/tmp/ipykernel_12597/2858130547.py\u001b[0m in \u001b[0;36m<module>\u001b[0;34m\u001b[0m\n\u001b[0;32m----> 1\u001b[0;31m \u001b[0mpytorch_tools\u001b[0m\u001b[0;34m.\u001b[0m\u001b[0mrun\u001b[0m\u001b[0;34m(\u001b[0m\u001b[0mtrain\u001b[0m\u001b[0;34m,\u001b[0m \u001b[0mclient\u001b[0m\u001b[0;34m)\u001b[0m\u001b[0;34m\u001b[0m\u001b[0;34m\u001b[0m\u001b[0m\n\u001b[0m",
      "\u001b[0;32m/rapids/notebooks/01work/final_work/pytorch_tools.py\u001b[0m in \u001b[0;36mrun\u001b[0;34m(train, client, date_time_hour_offset, pytorch_mode, *args, **kwargs)\u001b[0m\n\u001b[1;32m    203\u001b[0m     \u001b[0mprint\u001b[0m\u001b[0;34m(\u001b[0m\u001b[0;34m\"Start training\\n\"\u001b[0m\u001b[0;34m)\u001b[0m\u001b[0;34m\u001b[0m\u001b[0;34m\u001b[0m\u001b[0m\n\u001b[1;32m    204\u001b[0m     \u001b[0mtime_start\u001b[0m\u001b[0;34m=\u001b[0m\u001b[0mtime\u001b[0m\u001b[0;34m.\u001b[0m\u001b[0mtime\u001b[0m\u001b[0;34m(\u001b[0m\u001b[0;34m)\u001b[0m\u001b[0;34m\u001b[0m\u001b[0;34m\u001b[0m\u001b[0m\n\u001b[0;32m--> 205\u001b[0;31m     \u001b[0mrh\u001b[0m\u001b[0;34m.\u001b[0m\u001b[0mprocess_results\u001b[0m\u001b[0;34m(\u001b[0m\u001b[0mfutures\u001b[0m\u001b[0;34m,\u001b[0m \u001b[0mraise_errors\u001b[0m\u001b[0;34m=\u001b[0m\u001b[0;32mFalse\u001b[0m\u001b[0;34m)\u001b[0m\u001b[0;34m\u001b[0m\u001b[0;34m\u001b[0m\u001b[0m\n\u001b[0m\u001b[1;32m    206\u001b[0m     \u001b[0mprint\u001b[0m\u001b[0;34m(\u001b[0m\u001b[0;34mf\"Time elapsed: {time.time() - time_start}\"\u001b[0m\u001b[0;34m)\u001b[0m\u001b[0;34m\u001b[0m\u001b[0;34m\u001b[0m\u001b[0m\n\u001b[1;32m    207\u001b[0m     \u001b[0mdate\u001b[0m \u001b[0;34m=\u001b[0m \u001b[0mdatetime\u001b[0m\u001b[0;34m.\u001b[0m\u001b[0mdatetime\u001b[0m\u001b[0;34m.\u001b[0m\u001b[0mnow\u001b[0m\u001b[0;34m(\u001b[0m\u001b[0;34m)\u001b[0m\u001b[0;34m\u001b[0m\u001b[0;34m\u001b[0m\u001b[0m\n",
      "\u001b[0;32m/rapids/notebooks/01work/final_work/pytorch_dispatcher_resulthandler.py\u001b[0m in \u001b[0;36mprocess_results\u001b[0;34m(self, futures, raise_errors)\u001b[0m\n\u001b[1;32m    347\u001b[0m         \"\"\"\n\u001b[1;32m    348\u001b[0m \u001b[0;34m\u001b[0m\u001b[0m\n\u001b[0;32m--> 349\u001b[0;31m         \u001b[0;32mfor\u001b[0m \u001b[0mresult\u001b[0m \u001b[0;32min\u001b[0m \u001b[0mself\u001b[0m\u001b[0;34m.\u001b[0m\u001b[0m_get_results\u001b[0m\u001b[0;34m(\u001b[0m\u001b[0mfutures\u001b[0m\u001b[0;34m,\u001b[0m \u001b[0mraise_errors\u001b[0m\u001b[0;34m=\u001b[0m\u001b[0mraise_errors\u001b[0m\u001b[0;34m)\u001b[0m\u001b[0;34m:\u001b[0m\u001b[0;34m\u001b[0m\u001b[0;34m\u001b[0m\u001b[0m\n\u001b[0m\u001b[1;32m    350\u001b[0m \u001b[0;34m\u001b[0m\u001b[0m\n\u001b[1;32m    351\u001b[0m \u001b[0;34m\u001b[0m\u001b[0m\n",
      "\u001b[0;32m/rapids/notebooks/01work/final_work/pytorch_dispatcher_resulthandler.py\u001b[0m in \u001b[0;36m_get_results\u001b[0;34m(self, futures, raise_errors)\u001b[0m\n\u001b[1;32m    317\u001b[0m                 \u001b[0;31m# Dask:   wait(fs[, timeout, return_when])      Wait until all/any futures are finished\u001b[0m\u001b[0;34m\u001b[0m\u001b[0;34m\u001b[0m\u001b[0m\n\u001b[1;32m    318\u001b[0m                 \u001b[0;31m# Read here: https://distributed.dask.org/en/stable/api.html\u001b[0m\u001b[0;34m\u001b[0m\u001b[0;34m\u001b[0m\u001b[0m\n\u001b[0;32m--> 319\u001b[0;31m                 \u001b[0mresult\u001b[0m \u001b[0;34m=\u001b[0m \u001b[0mwait\u001b[0m\u001b[0;34m(\u001b[0m\u001b[0mfutures\u001b[0m\u001b[0;34m,\u001b[0m \u001b[0;36m5\u001b[0m\u001b[0;34m,\u001b[0m \u001b[0mFIRST_COMPLETED\u001b[0m\u001b[0;34m)\u001b[0m  \u001b[0;31m#0.1\u001b[0m\u001b[0;34m\u001b[0m\u001b[0;34m\u001b[0m\u001b[0m\n\u001b[0m\u001b[1;32m    320\u001b[0m             \u001b[0;32mexcept\u001b[0m \u001b[0mDistributedTimeoutError\u001b[0m\u001b[0;34m:\u001b[0m\u001b[0;34m\u001b[0m\u001b[0;34m\u001b[0m\u001b[0m\n\u001b[1;32m    321\u001b[0m                 \u001b[0;32mcontinue\u001b[0m\u001b[0;34m\u001b[0m\u001b[0;34m\u001b[0m\u001b[0m\n",
      "\u001b[0;32m/opt/conda/envs/rapids/lib/python3.10/site-packages/distributed/client.py\u001b[0m in \u001b[0;36mwait\u001b[0;34m(fs, timeout, return_when)\u001b[0m\n\u001b[1;32m   4995\u001b[0m         \u001b[0mtimeout\u001b[0m \u001b[0;34m=\u001b[0m \u001b[0mparse_timedelta\u001b[0m\u001b[0;34m(\u001b[0m\u001b[0mtimeout\u001b[0m\u001b[0;34m,\u001b[0m \u001b[0mdefault\u001b[0m\u001b[0;34m=\u001b[0m\u001b[0;34m\"s\"\u001b[0m\u001b[0;34m)\u001b[0m\u001b[0;34m\u001b[0m\u001b[0;34m\u001b[0m\u001b[0m\n\u001b[1;32m   4996\u001b[0m     \u001b[0mclient\u001b[0m \u001b[0;34m=\u001b[0m \u001b[0mdefault_client\u001b[0m\u001b[0;34m(\u001b[0m\u001b[0;34m)\u001b[0m\u001b[0;34m\u001b[0m\u001b[0;34m\u001b[0m\u001b[0m\n\u001b[0;32m-> 4997\u001b[0;31m     \u001b[0mresult\u001b[0m \u001b[0;34m=\u001b[0m \u001b[0mclient\u001b[0m\u001b[0;34m.\u001b[0m\u001b[0msync\u001b[0m\u001b[0;34m(\u001b[0m\u001b[0m_wait\u001b[0m\u001b[0;34m,\u001b[0m \u001b[0mfs\u001b[0m\u001b[0;34m,\u001b[0m \u001b[0mtimeout\u001b[0m\u001b[0;34m=\u001b[0m\u001b[0mtimeout\u001b[0m\u001b[0;34m,\u001b[0m \u001b[0mreturn_when\u001b[0m\u001b[0;34m=\u001b[0m\u001b[0mreturn_when\u001b[0m\u001b[0;34m)\u001b[0m\u001b[0;34m\u001b[0m\u001b[0;34m\u001b[0m\u001b[0m\n\u001b[0m\u001b[1;32m   4998\u001b[0m     \u001b[0;32mreturn\u001b[0m \u001b[0mresult\u001b[0m\u001b[0;34m\u001b[0m\u001b[0;34m\u001b[0m\u001b[0m\n\u001b[1;32m   4999\u001b[0m \u001b[0;34m\u001b[0m\u001b[0m\n",
      "\u001b[0;32m/opt/conda/envs/rapids/lib/python3.10/site-packages/distributed/utils.py\u001b[0m in \u001b[0;36msync\u001b[0;34m(self, func, asynchronous, callback_timeout, *args, **kwargs)\u001b[0m\n\u001b[1;32m    347\u001b[0m             \u001b[0;32mreturn\u001b[0m \u001b[0mfuture\u001b[0m\u001b[0;34m\u001b[0m\u001b[0;34m\u001b[0m\u001b[0m\n\u001b[1;32m    348\u001b[0m         \u001b[0;32melse\u001b[0m\u001b[0;34m:\u001b[0m\u001b[0;34m\u001b[0m\u001b[0;34m\u001b[0m\u001b[0m\n\u001b[0;32m--> 349\u001b[0;31m             return sync(\n\u001b[0m\u001b[1;32m    350\u001b[0m                 \u001b[0mself\u001b[0m\u001b[0;34m.\u001b[0m\u001b[0mloop\u001b[0m\u001b[0;34m,\u001b[0m \u001b[0mfunc\u001b[0m\u001b[0;34m,\u001b[0m \u001b[0;34m*\u001b[0m\u001b[0margs\u001b[0m\u001b[0;34m,\u001b[0m \u001b[0mcallback_timeout\u001b[0m\u001b[0;34m=\u001b[0m\u001b[0mcallback_timeout\u001b[0m\u001b[0;34m,\u001b[0m \u001b[0;34m**\u001b[0m\u001b[0mkwargs\u001b[0m\u001b[0;34m\u001b[0m\u001b[0;34m\u001b[0m\u001b[0m\n\u001b[1;32m    351\u001b[0m             )\n",
      "\u001b[0;32m/opt/conda/envs/rapids/lib/python3.10/site-packages/distributed/utils.py\u001b[0m in \u001b[0;36msync\u001b[0;34m(loop, func, callback_timeout, *args, **kwargs)\u001b[0m\n\u001b[1;32m    410\u001b[0m     \u001b[0;32melse\u001b[0m\u001b[0;34m:\u001b[0m\u001b[0;34m\u001b[0m\u001b[0;34m\u001b[0m\u001b[0m\n\u001b[1;32m    411\u001b[0m         \u001b[0;32mwhile\u001b[0m \u001b[0;32mnot\u001b[0m \u001b[0me\u001b[0m\u001b[0;34m.\u001b[0m\u001b[0mis_set\u001b[0m\u001b[0;34m(\u001b[0m\u001b[0;34m)\u001b[0m\u001b[0;34m:\u001b[0m\u001b[0;34m\u001b[0m\u001b[0;34m\u001b[0m\u001b[0m\n\u001b[0;32m--> 412\u001b[0;31m             \u001b[0mwait\u001b[0m\u001b[0;34m(\u001b[0m\u001b[0;36m10\u001b[0m\u001b[0;34m)\u001b[0m\u001b[0;34m\u001b[0m\u001b[0;34m\u001b[0m\u001b[0m\n\u001b[0m\u001b[1;32m    413\u001b[0m \u001b[0;34m\u001b[0m\u001b[0m\n\u001b[1;32m    414\u001b[0m     \u001b[0;32mif\u001b[0m \u001b[0merror\u001b[0m\u001b[0;34m:\u001b[0m\u001b[0;34m\u001b[0m\u001b[0;34m\u001b[0m\u001b[0m\n",
      "\u001b[0;32m/opt/conda/envs/rapids/lib/python3.10/site-packages/distributed/utils.py\u001b[0m in \u001b[0;36mwait\u001b[0;34m(timeout)\u001b[0m\n\u001b[1;32m    399\u001b[0m     \u001b[0;32mdef\u001b[0m \u001b[0mwait\u001b[0m\u001b[0;34m(\u001b[0m\u001b[0mtimeout\u001b[0m\u001b[0;34m)\u001b[0m\u001b[0;34m:\u001b[0m\u001b[0;34m\u001b[0m\u001b[0;34m\u001b[0m\u001b[0m\n\u001b[1;32m    400\u001b[0m         \u001b[0;32mtry\u001b[0m\u001b[0;34m:\u001b[0m\u001b[0;34m\u001b[0m\u001b[0;34m\u001b[0m\u001b[0m\n\u001b[0;32m--> 401\u001b[0;31m             \u001b[0;32mreturn\u001b[0m \u001b[0me\u001b[0m\u001b[0;34m.\u001b[0m\u001b[0mwait\u001b[0m\u001b[0;34m(\u001b[0m\u001b[0mtimeout\u001b[0m\u001b[0;34m)\u001b[0m\u001b[0;34m\u001b[0m\u001b[0;34m\u001b[0m\u001b[0m\n\u001b[0m\u001b[1;32m    402\u001b[0m         \u001b[0;32mexcept\u001b[0m \u001b[0mKeyboardInterrupt\u001b[0m\u001b[0;34m:\u001b[0m\u001b[0;34m\u001b[0m\u001b[0;34m\u001b[0m\u001b[0m\n\u001b[1;32m    403\u001b[0m             \u001b[0mloop\u001b[0m\u001b[0;34m.\u001b[0m\u001b[0madd_callback\u001b[0m\u001b[0;34m(\u001b[0m\u001b[0mcancel\u001b[0m\u001b[0;34m)\u001b[0m\u001b[0;34m\u001b[0m\u001b[0;34m\u001b[0m\u001b[0m\n",
      "\u001b[0;32m/opt/conda/envs/rapids/lib/python3.10/threading.py\u001b[0m in \u001b[0;36mwait\u001b[0;34m(self, timeout)\u001b[0m\n\u001b[1;32m    605\u001b[0m             \u001b[0msignaled\u001b[0m \u001b[0;34m=\u001b[0m \u001b[0mself\u001b[0m\u001b[0;34m.\u001b[0m\u001b[0m_flag\u001b[0m\u001b[0;34m\u001b[0m\u001b[0;34m\u001b[0m\u001b[0m\n\u001b[1;32m    606\u001b[0m             \u001b[0;32mif\u001b[0m \u001b[0;32mnot\u001b[0m \u001b[0msignaled\u001b[0m\u001b[0;34m:\u001b[0m\u001b[0;34m\u001b[0m\u001b[0;34m\u001b[0m\u001b[0m\n\u001b[0;32m--> 607\u001b[0;31m                 \u001b[0msignaled\u001b[0m \u001b[0;34m=\u001b[0m \u001b[0mself\u001b[0m\u001b[0;34m.\u001b[0m\u001b[0m_cond\u001b[0m\u001b[0;34m.\u001b[0m\u001b[0mwait\u001b[0m\u001b[0;34m(\u001b[0m\u001b[0mtimeout\u001b[0m\u001b[0;34m)\u001b[0m\u001b[0;34m\u001b[0m\u001b[0;34m\u001b[0m\u001b[0m\n\u001b[0m\u001b[1;32m    608\u001b[0m             \u001b[0;32mreturn\u001b[0m \u001b[0msignaled\u001b[0m\u001b[0;34m\u001b[0m\u001b[0;34m\u001b[0m\u001b[0m\n\u001b[1;32m    609\u001b[0m \u001b[0;34m\u001b[0m\u001b[0m\n",
      "\u001b[0;32m/opt/conda/envs/rapids/lib/python3.10/threading.py\u001b[0m in \u001b[0;36mwait\u001b[0;34m(self, timeout)\u001b[0m\n\u001b[1;32m    322\u001b[0m             \u001b[0;32melse\u001b[0m\u001b[0;34m:\u001b[0m\u001b[0;34m\u001b[0m\u001b[0;34m\u001b[0m\u001b[0m\n\u001b[1;32m    323\u001b[0m                 \u001b[0;32mif\u001b[0m \u001b[0mtimeout\u001b[0m \u001b[0;34m>\u001b[0m \u001b[0;36m0\u001b[0m\u001b[0;34m:\u001b[0m\u001b[0;34m\u001b[0m\u001b[0;34m\u001b[0m\u001b[0m\n\u001b[0;32m--> 324\u001b[0;31m                     \u001b[0mgotit\u001b[0m \u001b[0;34m=\u001b[0m \u001b[0mwaiter\u001b[0m\u001b[0;34m.\u001b[0m\u001b[0macquire\u001b[0m\u001b[0;34m(\u001b[0m\u001b[0;32mTrue\u001b[0m\u001b[0;34m,\u001b[0m \u001b[0mtimeout\u001b[0m\u001b[0;34m)\u001b[0m\u001b[0;34m\u001b[0m\u001b[0;34m\u001b[0m\u001b[0m\n\u001b[0m\u001b[1;32m    325\u001b[0m                 \u001b[0;32melse\u001b[0m\u001b[0;34m:\u001b[0m\u001b[0;34m\u001b[0m\u001b[0;34m\u001b[0m\u001b[0m\n\u001b[1;32m    326\u001b[0m                     \u001b[0mgotit\u001b[0m \u001b[0;34m=\u001b[0m \u001b[0mwaiter\u001b[0m\u001b[0;34m.\u001b[0m\u001b[0macquire\u001b[0m\u001b[0;34m(\u001b[0m\u001b[0;32mFalse\u001b[0m\u001b[0;34m)\u001b[0m\u001b[0;34m\u001b[0m\u001b[0;34m\u001b[0m\u001b[0m\n",
      "\u001b[0;31mKeyboardInterrupt\u001b[0m: "
     ]
    }
   ],
   "source": [
    "pytorch_tools.run(train, client)"
   ]
  },
  {
   "cell_type": "markdown",
   "id": "9814b772-284e-480a-8c54-728e6de4e890",
   "metadata": {},
   "source": [
    "Folgendes wurde erfasst:<br>\n",
    "Node 1: 199s, acc: 60% Evaluiert  <br>\n",
    "Node 2: 127s, acc: 54% Evaluiert  <br>\n",
    "Node 3: 104s, acc: 47% Evaluiert\n",
    "\n",
    "\n",
    "\n"
   ]
  },
  {
   "cell_type": "code",
   "execution_count": 22,
   "id": "9aeff11b-4057-46ca-8f2c-cc1d928fa0bc",
   "metadata": {
    "tags": []
   },
   "outputs": [
    {
     "name": "stdout",
     "output_type": "stream",
     "text": [
      "Files already downloaded and verified\n"
     ]
    }
   ],
   "source": [
    "transform = transforms.Compose([\n",
    "        transforms.Resize((227,227)),\n",
    "        transforms.ToTensor(),\n",
    "        transforms.Normalize(\n",
    "            mean=[0.4914, 0.4822, 0.4465],\n",
    "            std=[0.2023, 0.1994, 0.2010])\n",
    "        ])\n",
    "\n",
    "testset = torchvision.datasets.CIFAR10(root='./data', train=False,download=True, transform=transform)                                     \n",
    "testloader = torch.utils.data.DataLoader(testset, batch_size=4,shuffle=False)\n",
    "                                         \n",
    "dataiter = iter(testloader)\n",
    "images, labels = next(dataiter)\n",
    "images = images\n"
   ]
  },
  {
   "cell_type": "code",
   "execution_count": 23,
   "id": "333bf188-50cb-4350-a444-82ff9c0222f2",
   "metadata": {
    "tags": []
   },
   "outputs": [
    {
     "data": {
      "text/plain": [
       "<All keys matched successfully>"
      ]
     },
     "execution_count": 23,
     "metadata": {},
     "output_type": "execute_result"
    }
   ],
   "source": [
    "model = torch.nn.DataParallel( AlexNet().cuda() )\n",
    "model.load_state_dict(torch.load(\"DDPmodel_ALexNet.pt\"))"
   ]
  },
  {
   "cell_type": "code",
   "execution_count": 28,
   "id": "03ee7d2e-c00d-469f-bbad-927c28545c21",
   "metadata": {
    "tags": []
   },
   "outputs": [
    {
     "name": "stdout",
     "output_type": "stream",
     "text": [
      "Accuracy of the network on the 10000 test images: 47 %\n",
      "CPU times: user 1min 57s, sys: 51.2 ms, total: 1min 57s\n",
      "Wall time: 11.7 s\n"
     ]
    }
   ],
   "source": [
    "%%time\n",
    "# Pytorch Example on website https://pytorch.org/tutorials/beginner/blitz/cifar10_tutorial.html\n",
    "correct = 0\n",
    "total = 0\n",
    "# since we're not training, we don't need to calculate the gradients for our outputs\n",
    "with torch.no_grad():\n",
    "    for data in testloader:\n",
    "\n",
    "        images, labels = data\n",
    "        \n",
    "        images = images.cuda()      # CUDA for GPU usage  \n",
    "        labels = labels.cuda()      # CUDA for GPU usage \n",
    "\n",
    "        with torch.autocast(device_type='cuda', dtype=torch.float16):\n",
    "            outputs = model(images)\n",
    "            _, predicted = torch.max(outputs.data, 1)\n",
    "            total += labels.size(0)\n",
    "            correct += (predicted == labels).sum().item()\n",
    "\n",
    "print(f'Accuracy of the network on the 10000 test images: {100 * correct // total} %')"
   ]
  },
  {
   "cell_type": "markdown",
   "id": "dc57ffd7-5e02-4906-a4fb-6da326d727ce",
   "metadata": {},
   "source": [
    "Es kann auch die Zeit gemessen werden, ob die Einfachheit von torchmetrics auch schneller ist. <br>\n",
    "In diesem Versuch mit Cifar10 hat das Evaluieren mit torchmetrics nur knapp 0,7s länger gedauert. Viele Faktoren können eine Auswirkung haben. "
   ]
  },
  {
   "cell_type": "code",
   "execution_count": 29,
   "id": "695cb027-2331-41c6-88b6-0a5d0d8e227d",
   "metadata": {
    "tags": []
   },
   "outputs": [
    {
     "name": "stdout",
     "output_type": "stream",
     "text": [
      "Accuracy on all data: 0.4846999943256378\n",
      "CPU times: user 2min 4s, sys: 39.5 ms, total: 2min 4s\n",
      "Wall time: 12.5 s\n"
     ]
    }
   ],
   "source": [
    "%%time\n",
    "#import torchmetrics\n",
    "device = torch.device('cuda')\n",
    "metric = torchmetrics.Accuracy(task=\"multiclass\", num_classes=10).to(device)\n",
    "\n",
    "with torch.no_grad():\n",
    "    for data in testloader:\n",
    "        images, labels = data\n",
    "        \n",
    "        images = images.cuda()   \n",
    "        labels = labels.cuda()    \n",
    "\n",
    "        outputs = model(images)\n",
    "        acc = metric(outputs, labels)\n",
    "        \n",
    "acc = metric.compute()\n",
    "print(f\"Accuracy on all data: {acc}\")\n",
    "\n",
    "# Resetting internal state such that metric ready for new data\n",
    "metric.reset()"
   ]
  },
  {
   "cell_type": "code",
   "execution_count": 23,
   "id": "590e67fb-3e20-44ec-8ee8-5e43927695e2",
   "metadata": {
    "tags": []
   },
   "outputs": [],
   "source": [
    "client.shutdown()"
   ]
  },
  {
   "cell_type": "code",
   "execution_count": null,
   "id": "f198e6fb-cc34-4b47-9507-48a2f4c9a95e",
   "metadata": {},
   "outputs": [],
   "source": []
  },
  {
   "cell_type": "code",
   "execution_count": null,
   "id": "8fba41fa-868f-4db0-ac3f-ef2dc4618c1a",
   "metadata": {},
   "outputs": [],
   "source": []
  },
  {
   "cell_type": "code",
   "execution_count": null,
   "id": "6c5f333d-8939-4732-b143-51076d06358d",
   "metadata": {},
   "outputs": [],
   "source": []
  },
  {
   "cell_type": "code",
   "execution_count": null,
   "id": "71f22c83-a686-4fff-b41e-83d164b7a560",
   "metadata": {},
   "outputs": [],
   "source": []
  }
 ],
 "metadata": {
  "kernelspec": {
   "display_name": "Python 3 (ipykernel)",
   "language": "python",
   "name": "python3"
  },
  "language_info": {
   "codemirror_mode": {
    "name": "ipython",
    "version": 3
   },
   "file_extension": ".py",
   "mimetype": "text/x-python",
   "name": "python",
   "nbconvert_exporter": "python",
   "pygments_lexer": "ipython3",
   "version": "3.10.10"
  }
 },
 "nbformat": 4,
 "nbformat_minor": 5
}
