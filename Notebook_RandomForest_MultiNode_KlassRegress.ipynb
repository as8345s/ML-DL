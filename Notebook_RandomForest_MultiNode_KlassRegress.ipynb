{
 "cells": [
  {
   "cell_type": "markdown",
   "id": "e7941933-6212-4df8-a302-d1d0ce9c2296",
   "metadata": {},
   "source": [
    "# Template für Random-Forest Klassifizierung und Regression | Multi-Node/Multi-GPU\n",
    "\n",
    "***"
   ]
  },
  {
   "cell_type": "markdown",
   "id": "4a2b576f-bd8e-4345-86b3-b369e2ca16c6",
   "metadata": {
    "tags": []
   },
   "source": [
    "<img src=\"./pictures/mog2.PNG\"  width=\"1000px;\" hight=\"900px;\">"
   ]
  },
  {
   "cell_type": "markdown",
   "id": "2f258484-edd8-4032-829e-888b35b51a29",
   "metadata": {},
   "source": [
    "In diesem Abschnitt wird erkläre, wie man den KMeans Algorithmus auf Worker skaliert und zum Laufen bringt. Dazu nutzen wir Dask und Rapids. Dask bietet uns ein Dashboard wo wir Einzelheiten verfolgen können. Dask-Cuda lässt sich gut mit PyTorch und anderen Frameworks kombinieren, ohne die Clustereinstellungen groß zu ändern.\n",
    "\n",
    "In dem Nootebook für das Setup wird erklärt, wie man selber sowas auf seinem eigenen PC/Workstation/Cluster installiert. Es gibt auch andere Möglichkeiten das zu installieren. Hier nutzen wir ein Cluster Setup mit Nodes, installiert mittels Docker.   \n",
    "\n",
    "<u>Hinweis:</u><br>\n",
    "Wenn es mal hängt, muss ggf. der Cluster, Worker oder das Notebook neu gestartet werden. Sowas passiert, wenn z.B. eine Exception vorkommt.   \n",
    "\n",
    "<br>\n",
    "\n",
    "Dask: https://www.dask.org | https://docs.dask.org/en/stable/ <br>\n",
    "Rapids: https://rapids.ai <br> "
   ]
  },
  {
   "cell_type": "markdown",
   "id": "82f7128f-ab01-40d9-9ea7-7849bb6e35a4",
   "metadata": {},
   "source": [
    "# 1. Rapids und Dask"
   ]
  },
  {
   "cell_type": "markdown",
   "id": "0bc8cd0f-db87-4e11-8699-09cb5cf67d60",
   "metadata": {},
   "source": [
    "<img src=\"./pictures/raspids_oss.PNG\"  width=\"825px;\" hight=\"725px;\">\n",
    "(Bild: (https://on-demand.gputechconf.com/gtcdc/2018/pdf/dc8256-rapids-the-platform-inside-and-out.pdf))"
   ]
  },
  {
   "cell_type": "markdown",
   "id": "68d289bd-5f02-490d-bc89-0d0dc37f447c",
   "metadata": {},
   "source": [
    "Rapids bietet uns eine Sammlung von Libraries, die uns bei vielen Dingen unterstützen kann. Eine dieser Libraries, die wir nutzen werden, nennt sich cuDF. cuDF sind Cuda Dataframes, die erstmal nur auf einer GPU laufen. Die Idee dahinter ist, dass wir <u>nah zu dasselbe machen</u> wie bei Pandas (Panda DataFrame), aber nur auf einer GPU. Dadurch können viele Berechnungen viel schneller durchgeführt werden. Beispielsweise das Vorverarbeiten von Daten vor dem Trainieren, oder anderweitige Zwecke. Die API ist nah zu identisch wie bei Pandas. \n",
    "\n",
    "Rapids funktioniert <u>nur</u> mit <u>Nvidia Grafikkarten</u>.\n",
    "\n",
    "Rapids ist OpenSource, die API Beschreibungen der Libraries verlinken den dahinterliegenden Code. Der Code enthählt selber nochmal Kommentare und erklärungen.\n",
    "\n",
    "Rapids entwickelt sich und es kommen Updates sowie Erweiterungen. Algorithmen, die noch nicht (Single-/Multi-Node/ GPU) verfügbar sind, können noch in den neueren Versionen auftauchen. Das gilt besonders für Multi-Node/Multi-GPU Implementierungen der Algorithmen. Es kann sein das manche Multi-Node/Multi-GPU Algorithmen sich am Ende nicht zusammenfassen lassen können, oder das Speichern/Laden sowie die Verwendung dieser auf GPU/CPU eingeschränkt sind. Andere Multi-Node/Multi-GPU Algorithmen können so wie in diesem Template hier verwendet werden. Einge andere können sich in der Anwendung unterscheiden. \n",
    "\n",
    "\n",
    "Floating-Point Berechnungen mit cuDF werden auf der GPU parallel ausgeführt, also ist die Reihenfolge nicht deterministisch. Die Ergebnisse können von Pandas abweichen.\n",
    "a + b ist nicht gleich b + a. Das kann z.B. bei data.sum() vorkommen.\n",
    "cuDF unterstützt auch verschiedene Datentypen wie int32, int64, float32, float64. Die ganze Liste ist hier zu finden.\n",
    "\n",
    "Es gibt noch Dask-cuDF, diese nutzt man unter anderem, um große Daten zu Partitionieren. Die API ist Dask-ähnlich. \n",
    "\n",
    "Eine weitere Library von Rapids ist cuML, welche auch cuDF nutzt. Diese enthält verschiedene supervised und unsupervsed Algorithmen. Der Fokus hier liegt dabei, dass die Algorithmen möglichst auf einer GPU laufen. Ein Teil dieser Algorithmen kann mittels eines Clusters (cuML nutzt dafür ein Dask Cluster) auf verschiedene Nodes und GPUs skalieren. \n",
    "\n",
    "Die API von cuML ist fast genauso aufgebaut wie bei \n",
    "Sklearn. <br> Die Release Notes von cuML sind hier zu finden (https://github.com/rapidsai/cuml/releases).\n",
    "  \n",
    "\n",
    "Was wir neben Rapids und Dask noch nutzen können ist CuPy [5]. CuPy ist wie Numpy, nur läuft es unter auf GPU. CuPy wird hier nicht detailliert erklärt.\n",
    "\n",
    "<br> \n",
    "\n",
    "cuDF Cuda DataFrames Dok.:  https://docs.rapids.ai/api/cudf/stable/ <br>\n",
    "cuDF API: https://docs.rapids.ai/api/cudf/stable/api_docs/api/cudf.dataframe/ <br>\n",
    "cuDF Floating-Point Berechnung: https://docs.rapids.ai/api/cudf/stable/user_guide/pandas-comparison/#floating-point-computation        <br>\n",
    "cuDF Datentypen: https://docs.rapids.ai/api/cudf/stable/user_guide/data-types/ | https://docs.rapids.ai/api/cudf/stable/user_guide/io/ <br>\n",
    "\n",
    "cuML GitHub: https://github.com/rapidsai/cuml  <br>\n",
    "cuML Dok.: https://docs.rapids.ai/api/cuml/stable/ <br>\n",
    "\n",
    "Dask-cuDF: https://docs.rapids.ai/api/dask-cudf/stable/\n",
    "\n",
    "CuPy: https://cupy.dev\n",
    "\n"
   ]
  },
  {
   "cell_type": "markdown",
   "id": "0eca02fc-041f-4e10-86f9-c54fc305ef9a",
   "metadata": {},
   "source": [
    "Was wir nutzen:<br>\n",
    "cuDF: DataFrames deren API nahezu identisch mit Pandas ist. Also quasi Pandas auf GPU.<br>\n",
    "dask_cudf: Dask bietet uns DataFrames, die verteilt sind. Mit dask_cudf läuft das ganze auf GPU. Also quasi Dask auf GPU. <br>\n",
    "cupy: wie Numpy und Scipy aber auf GPU."
   ]
  },
  {
   "cell_type": "markdown",
   "id": "3a76f6a0-bd2f-4981-8692-f01cc6f60f9c",
   "metadata": {},
   "source": [
    "<img src=\"./pictures/df.PNG\"  width=\"725px;\" hight=\"725px;\">"
   ]
  },
  {
   "cell_type": "markdown",
   "id": "fb3387d8-780b-4bae-bfa4-3e53f8564d27",
   "metadata": {},
   "source": [
    "Wir teilen das Training in 4 Bereiche auf. Hier nutzen wir MNSG."
   ]
  },
  {
   "cell_type": "markdown",
   "id": "dc1db187-4e6e-4d1e-acd4-d58ddac115be",
   "metadata": {},
   "source": [
    "<img src=\"./pictures/rapids_flynn.PNG\"  width=\"725px;\" hight=\"725px;\">"
   ]
  },
  {
   "cell_type": "markdown",
   "id": "b98e22af-a215-491a-935e-53253e39d2a1",
   "metadata": {},
   "source": [
    "Das Bild zeigt in welchen Bereichen man welche DataFrames nutzen kann. Pandas liegt dabei nicht im Fokus.\n",
    "\n",
    "<img src=\"./pictures/zuordnung.PNG\"  width=\"1050px;\" hight=\"1050px;\">\n",
    "\n",
    "Da wir mit Dask-cuDF und Dask große Daten lesen und partitionieren können, ist auch der Einsatz im SNSG Bereich möglich. cuDF unterstützt das lesen mehrere Dateien (bis jetzt)  nicht, so das man Dask oder Dask-cuDF nutzen muss, wenn man globstings nutzt, um alle CVS Dateien in einem Verzeichnis zu lesen.\n",
    "\n",
    "Es gibt auch die Möglichkeit cuDF als Backend für Dask zu nutzen.\n",
    "\n",
    "<br>\n",
    "\n",
    "cuDF Backend für Dask: https://docs.rapids.ai/api/dask-cudf/stable/#dataframe-creation-from-on-disk-formats"
   ]
  },
  {
   "cell_type": "markdown",
   "id": "54724909-85b2-48c4-91dd-248067d9a194",
   "metadata": {},
   "source": [
    "<b>[Bild Konvertierungen]</b>"
   ]
  },
  {
   "cell_type": "markdown",
   "id": "c6d165f9-6f24-4bd5-a37c-07980ad3ecee",
   "metadata": {},
   "source": [
    "<u>Hinweis:</u><br>\n",
    "Variablen die GPU Speicher nutzen und nicht mehr gebraucht werden, sollten mittels `del` gelöscht werden. Wenn nach dem Löschen immer noch Speicher belegt ist, muss der Kernel des Notebooks neugestartet werden. "
   ]
  },
  {
   "cell_type": "code",
   "execution_count": 1,
   "id": "55b2277f-db33-4e3d-9076-68ca095c3cb2",
   "metadata": {
    "tags": []
   },
   "outputs": [],
   "source": [
    "# Imports \n",
    "import cupy as   cp\n",
    "import cudf\n",
    "import cuml\n",
    "from cuml.dask.common import utils as dask_utils\n",
    "import dask_cudf\n",
    "import dask\n",
    "\n",
    "import numpy as np\n",
    "from numpy import genfromtxt\n",
    "\n",
    "import pandas as pd\n",
    "import os\n",
    "import time"
   ]
  },
  {
   "cell_type": "markdown",
   "id": "a81bda2d-ecba-4c3b-8485-8e21deebfe4e",
   "metadata": {},
   "source": [
    "Da dier API wie Pandas aufgebaut ist, wird cuDF im detail nicht erklärt. Bei interesse kann man sich die API durchlesen (https://docs.rapids.ai/api/cudf/stable/user_guide/pandas-comparison/).  "
   ]
  },
  {
   "cell_type": "code",
   "execution_count": 2,
   "id": "f245c222-8375-4fbd-b759-2be8da6a24fc",
   "metadata": {
    "tags": []
   },
   "outputs": [
    {
     "name": "stdout",
     "output_type": "stream",
     "text": [
      "Pandas:\n",
      "0       1\n",
      "1       2\n",
      "2    <NA>\n",
      "dtype: int64\n",
      "\n",
      "Rapids:\n",
      "0       1\n",
      "1       2\n",
      "2    <NA>\n",
      "dtype: object\n"
     ]
    }
   ],
   "source": [
    "# cuDF und Panda series \n",
    "s_cuda = cudf.Series([1, 2, cudf.NA])\n",
    "s_panda = pd.Series([1, 2, pd.NA])\n",
    "\n",
    "print(f\"Pandas:\\n{s_cuda}\\n\")\n",
    "print(f\"Rapids:\\n{s_panda}\")"
   ]
  },
  {
   "cell_type": "markdown",
   "id": "ee9f8e38-63a4-4ad2-ad3a-c7d2f6108b39",
   "metadata": {},
   "source": [
    "Wir können DataFrames auf verschiedenste Arten erstellen. Unten befinden sich Beispiele wie man DataFrames erstellt. Mehr dazu finden man in der API Beschreibung [3, 6]."
   ]
  },
  {
   "cell_type": "markdown",
   "id": "a654e737-f1a5-4758-a1ec-b140dd9d63f1",
   "metadata": {},
   "source": [
    "Es gibt noch viele weitere Gemeinsamkeiten. Für unsere Zwecke reicht das erstmal."
   ]
  },
  {
   "cell_type": "markdown",
   "id": "b5bafdb2-2f64-428c-bf2b-3f5afe3336bc",
   "metadata": {},
   "source": [
    "## 1.1 Start Dask-Cluster (Mit Docker)"
   ]
  },
  {
   "cell_type": "markdown",
   "id": "4b37df32-4d1b-4513-8276-be8f71f5f1f4",
   "metadata": {},
   "source": [
    "Pro GPU wird genau ein Prozess für einen Worker gestartet. Die Worker-ID wird hochgezählt. <br>\n",
    "\n",
    "<u>Hinweise:</u><br>\n",
    "Die MNMG Versionen der Algorithmen können auch auf SNSG laufen."
   ]
  },
  {
   "cell_type": "markdown",
   "id": "486c5086-c572-4442-9f9f-91cb8476cb91",
   "metadata": {},
   "source": [
    "<img src=\"./pictures/rapids_cluster2.PNG\">"
   ]
  },
  {
   "cell_type": "code",
   "execution_count": 2,
   "id": "eec737d7-04c1-4cba-a8a6-b5d6d6e5f29f",
   "metadata": {
    "tags": []
   },
   "outputs": [
    {
     "name": "stdout",
     "output_type": "stream",
     "text": [
      "Rapids-tools 1.0\n",
      "Umgebungsvariablen werden gesetzt\n",
      "NCCL_SOCKET_NTHREADS: 4\n",
      "NCCL_NSOCKS_PERTHREAD: 2\n"
     ]
    }
   ],
   "source": [
    "# Ein Modul, das uns unterstützt.\n",
    "import rapids_tools as rapids_tools    "
   ]
  },
  {
   "cell_type": "code",
   "execution_count": 3,
   "id": "59e2f554-741e-4d38-b683-ed7420fbf1f6",
   "metadata": {
    "tags": []
   },
   "outputs": [
    {
     "name": "stdout",
     "output_type": "stream",
     "text": [
      "Client IP: 127.0.0.1:8786\n"
     ]
    },
    {
     "data": {
      "text/html": [
       "<div>\n",
       "    <div style=\"width: 24px; height: 24px; background-color: #e1e1e1; border: 3px solid #9D9D9D; border-radius: 5px; position: absolute;\"> </div>\n",
       "    <div style=\"margin-left: 48px;\">\n",
       "        <h3 style=\"margin-bottom: 0px;\">Client</h3>\n",
       "        <p style=\"color: #9D9D9D; margin-bottom: 0px;\">Client-d3b856ea-796f-11ee-8059-a4bb6d4fbfd8</p>\n",
       "        <table style=\"width: 100%; text-align: left;\">\n",
       "\n",
       "        <tr>\n",
       "        \n",
       "            <td style=\"text-align: left;\"><strong>Connection method:</strong> Direct</td>\n",
       "            <td style=\"text-align: left;\"></td>\n",
       "        \n",
       "        </tr>\n",
       "\n",
       "        \n",
       "            <tr>\n",
       "                <td style=\"text-align: left;\">\n",
       "                    <strong>Dashboard: </strong> <a href=\"http://127.0.0.1:8787/status\" target=\"_blank\">http://127.0.0.1:8787/status</a>\n",
       "                </td>\n",
       "                <td style=\"text-align: left;\"></td>\n",
       "            </tr>\n",
       "        \n",
       "\n",
       "        </table>\n",
       "\n",
       "        \n",
       "            <button style=\"margin-bottom: 12px;\" data-commandlinker-command=\"dask:populate-and-launch-layout\" data-commandlinker-args='{\"url\": \"http://127.0.0.1:8787/status\" }'>\n",
       "                Launch dashboard in JupyterLab\n",
       "            </button>\n",
       "        \n",
       "\n",
       "        \n",
       "            <details>\n",
       "            <summary style=\"margin-bottom: 20px;\"><h3 style=\"display: inline;\">Scheduler Info</h3></summary>\n",
       "            <div style=\"\">\n",
       "    <div>\n",
       "        <div style=\"width: 24px; height: 24px; background-color: #FFF7E5; border: 3px solid #FF6132; border-radius: 5px; position: absolute;\"> </div>\n",
       "        <div style=\"margin-left: 48px;\">\n",
       "            <h3 style=\"margin-bottom: 0px;\">Scheduler</h3>\n",
       "            <p style=\"color: #9D9D9D; margin-bottom: 0px;\">Scheduler-107b436b-4ef0-49bd-8320-20369c6fd48b</p>\n",
       "            <table style=\"width: 100%; text-align: left;\">\n",
       "                <tr>\n",
       "                    <td style=\"text-align: left;\">\n",
       "                        <strong>Comm:</strong> tcp://149.201.182.203:8786\n",
       "                    </td>\n",
       "                    <td style=\"text-align: left;\">\n",
       "                        <strong>Workers:</strong> 1\n",
       "                    </td>\n",
       "                </tr>\n",
       "                <tr>\n",
       "                    <td style=\"text-align: left;\">\n",
       "                        <strong>Dashboard:</strong> <a href=\"http://149.201.182.203:8787/status\" target=\"_blank\">http://149.201.182.203:8787/status</a>\n",
       "                    </td>\n",
       "                    <td style=\"text-align: left;\">\n",
       "                        <strong>Total threads:</strong> 1\n",
       "                    </td>\n",
       "                </tr>\n",
       "                <tr>\n",
       "                    <td style=\"text-align: left;\">\n",
       "                        <strong>Started:</strong> 3 minutes ago\n",
       "                    </td>\n",
       "                    <td style=\"text-align: left;\">\n",
       "                        <strong>Total memory:</strong> 62.53 GiB\n",
       "                    </td>\n",
       "                </tr>\n",
       "            </table>\n",
       "        </div>\n",
       "    </div>\n",
       "\n",
       "    <details style=\"margin-left: 48px;\">\n",
       "        <summary style=\"margin-bottom: 20px;\">\n",
       "            <h3 style=\"display: inline;\">Workers</h3>\n",
       "        </summary>\n",
       "\n",
       "        \n",
       "        <div style=\"margin-bottom: 20px;\">\n",
       "            <div style=\"width: 24px; height: 24px; background-color: #DBF5FF; border: 3px solid #4CC9FF; border-radius: 5px; position: absolute;\"> </div>\n",
       "            <div style=\"margin-left: 48px;\">\n",
       "            <details>\n",
       "                <summary>\n",
       "                    <h4 style=\"margin-bottom: 0px; display: inline;\">Worker: tcp://149.201.182.203:41373</h4>\n",
       "                </summary>\n",
       "                <table style=\"width: 100%; text-align: left;\">\n",
       "                    <tr>\n",
       "                        <td style=\"text-align: left;\">\n",
       "                            <strong>Comm: </strong> tcp://149.201.182.203:41373\n",
       "                        </td>\n",
       "                        <td style=\"text-align: left;\">\n",
       "                            <strong>Total threads: </strong> 1\n",
       "                        </td>\n",
       "                    </tr>\n",
       "                    <tr>\n",
       "                        <td style=\"text-align: left;\">\n",
       "                            <strong>Dashboard: </strong> <a href=\"http://149.201.182.203:42937/status\" target=\"_blank\">http://149.201.182.203:42937/status</a>\n",
       "                        </td>\n",
       "                        <td style=\"text-align: left;\">\n",
       "                            <strong>Memory: </strong> 62.53 GiB\n",
       "                        </td>\n",
       "                    </tr>\n",
       "                    <tr>\n",
       "                        <td style=\"text-align: left;\">\n",
       "                            <strong>Nanny: </strong> tcp://149.201.182.203:44041\n",
       "                        </td>\n",
       "                        <td style=\"text-align: left;\"></td>\n",
       "                    </tr>\n",
       "                    <tr>\n",
       "                        <td colspan=\"2\" style=\"text-align: left;\">\n",
       "                            <strong>Local directory: </strong> /tmp/dask-worker-space/worker-somqjake\n",
       "                        </td>\n",
       "                    </tr>\n",
       "\n",
       "                    \n",
       "                    <tr>\n",
       "                        <td style=\"text-align: left;\">\n",
       "                            <strong>GPU: </strong>Quadro RTX 5000\n",
       "                        </td>\n",
       "                        <td style=\"text-align: left;\">\n",
       "                            <strong>GPU memory: </strong> 16.00 GiB\n",
       "                        </td>\n",
       "                    </tr>\n",
       "                    \n",
       "\n",
       "                    \n",
       "                    <tr>\n",
       "                        <td style=\"text-align: left;\">\n",
       "                            <strong>Tasks executing: </strong> \n",
       "                        </td>\n",
       "                        <td style=\"text-align: left;\">\n",
       "                            <strong>Tasks in memory: </strong> \n",
       "                        </td>\n",
       "                    </tr>\n",
       "                    <tr>\n",
       "                        <td style=\"text-align: left;\">\n",
       "                            <strong>Tasks ready: </strong> \n",
       "                        </td>\n",
       "                        <td style=\"text-align: left;\">\n",
       "                            <strong>Tasks in flight: </strong>\n",
       "                        </td>\n",
       "                    </tr>\n",
       "                    <tr>\n",
       "                        <td style=\"text-align: left;\">\n",
       "                            <strong>CPU usage:</strong> 8.0%\n",
       "                        </td>\n",
       "                        <td style=\"text-align: left;\">\n",
       "                            <strong>Last seen: </strong> Just now\n",
       "                        </td>\n",
       "                    </tr>\n",
       "                    <tr>\n",
       "                        <td style=\"text-align: left;\">\n",
       "                            <strong>Memory usage: </strong> 411.12 MiB\n",
       "                        </td>\n",
       "                        <td style=\"text-align: left;\">\n",
       "                            <strong>Spilled bytes: </strong> 0 B\n",
       "                        </td>\n",
       "                    </tr>\n",
       "                    <tr>\n",
       "                        <td style=\"text-align: left;\">\n",
       "                            <strong>Read bytes: </strong> 2.50 kiB\n",
       "                        </td>\n",
       "                        <td style=\"text-align: left;\">\n",
       "                            <strong>Write bytes: </strong> 1.64 kiB\n",
       "                        </td>\n",
       "                    </tr>\n",
       "                    \n",
       "\n",
       "                </table>\n",
       "            </details>\n",
       "            </div>\n",
       "        </div>\n",
       "        \n",
       "\n",
       "    </details>\n",
       "</div>\n",
       "            </details>\n",
       "        \n",
       "\n",
       "    </div>\n",
       "</div>"
      ],
      "text/plain": [
       "<Client: 'tcp://149.201.182.203:8786' processes=1 threads=1, memory=62.53 GiB>"
      ]
     },
     "execution_count": 3,
     "metadata": {},
     "output_type": "execute_result"
    }
   ],
   "source": [
    "## Erstelle Client \n",
    "# rapids_tools wird mit dem Cluster geteilt, um Umgebungsvariablen zu setzen.\n",
    "client = rapids_tools.create_dask_client()  # Gebe IP an. Standard:  127.0.0.1:8786 (Scheduler ist da wo auch Jupyter läuft)\n",
    "client"
   ]
  },
  {
   "cell_type": "markdown",
   "id": "a819f17d-5ab7-4e26-9fde-a57a54eef3bd",
   "metadata": {},
   "source": [
    "Wenn wir eigene Python Module erstellen, können wir diese auch mit dem Cluster teilen.\n",
    "\n",
    "Beim Ausführen sollte der Status \"OK\" ausgegeben werden. Wenn die Worker oder der Cluster neugestartet werden, müssen die Module ggf. neu geteilt werden."
   ]
  },
  {
   "cell_type": "code",
   "execution_count": 4,
   "id": "ed8bcdce-a5c4-4f9f-9bba-e20dfa3f6a91",
   "metadata": {
    "tags": []
   },
   "outputs": [
    {
     "data": {
      "text/plain": [
       "{'tcp://149.201.182.203:41373': {'status': 'OK'}}"
      ]
     },
     "execution_count": 4,
     "metadata": {},
     "output_type": "execute_result"
    }
   ],
   "source": [
    "# Lade Datei hoch. Gibt Status aus... \n",
    "client.upload_file('rapids_tools.py')  # Nur als Beispiel"
   ]
  },
  {
   "cell_type": "code",
   "execution_count": 6,
   "id": "ca51a26f-59c3-47cd-81a6-7dd2b7e748fe",
   "metadata": {
    "tags": []
   },
   "outputs": [
    {
     "data": {
      "text/plain": [
       "dict_keys(['tcp://149.201.182.188:35905', 'tcp://149.201.182.203:38543', 'tcp://149.201.182.205:39657'])"
      ]
     },
     "execution_count": 6,
     "metadata": {},
     "output_type": "execute_result"
    }
   ],
   "source": [
    "# Zeige Schlüssel. Die Ports ändern sich. \n",
    "client.has_what().keys()"
   ]
  },
  {
   "cell_type": "code",
   "execution_count": 20,
   "id": "9c1afde1-20ec-45e9-9582-eb9e98350402",
   "metadata": {
    "tags": []
   },
   "outputs": [
    {
     "data": {
      "text/plain": [
       "dict_keys(['tcp://149.201.182.188:46201', 'tcp://149.201.182.203:33309'])"
      ]
     },
     "execution_count": 20,
     "metadata": {},
     "output_type": "execute_result"
    }
   ],
   "source": [
    "# Starte alle Worker neu\n",
    "client.restart_workers( client.has_what().keys() )\n",
    "client.has_what().keys()"
   ]
  },
  {
   "cell_type": "code",
   "execution_count": 8,
   "id": "c157419c-fa59-46a1-8458-df69d1a61d11",
   "metadata": {},
   "outputs": [],
   "source": [
    "# Startet client neu.\n",
    "#client.restart()"
   ]
  },
  {
   "cell_type": "markdown",
   "id": "f0cbbb43-7559-4b98-abe6-3275ed8f05ae",
   "metadata": {},
   "source": [
    "# 2. Daten"
   ]
  },
  {
   "cell_type": "markdown",
   "id": "834a22b0-cb4a-400f-a638-67d5d7425cbf",
   "metadata": {},
   "source": [
    "## 2.1 Daten generieren"
   ]
  },
  {
   "cell_type": "markdown",
   "id": "db1ea234-50bd-412f-b986-3b43b403c762",
   "metadata": {},
   "source": [
    "Als Anfang erstellen wir Daten. Daten die auf dem Host sind, müssen erst verteilt werden.\n",
    "\n",
    "cuML bietet uns Möglichkeiten Datensets zu erstellen."
   ]
  },
  {
   "cell_type": "code",
   "execution_count": 5,
   "id": "f6774687-8fd2-481f-a0b8-83098ad99326",
   "metadata": {
    "tags": []
   },
   "outputs": [],
   "source": [
    "from cuml.datasets  import make_blobs      # Klassifikation    \n",
    "from cuml.datasets  import make_regression # Regression\n",
    "\n",
    "from cuml import datasets  \n",
    "from cuml.model_selection import train_test_split"
   ]
  },
  {
   "cell_type": "markdown",
   "id": "0446de35-13e0-47da-93ce-5cebab43e392",
   "metadata": {},
   "source": [
    "Ein Weg an Daten zu kommen, ist Datensets zu nutzen, die schon mit den Frameworks kommen. \n",
    "\n",
    "Das können wir nutzen, um den Aufbau des Codes zu testen und zu überprüfen, ob die Installation von Rapids und die Dask-Worker funktionieren."
   ]
  },
  {
   "cell_type": "markdown",
   "id": "0e9ad0bb-5778-437b-9cbe-887d5314b17c",
   "metadata": {},
   "source": [
    "Es gibt einige Parameter, die wir eingeben können, um Daten so zu generieren wie wir es wollen. Um es einfach zu halten, nutzen wir nur wenige Parameter.\n",
    "\n",
    "<br>\n",
    "\n",
    "Generiere Single-GPU Daten: https://docs.rapids.ai/api/cuml/stable/api/#dataset-generation-single-gpu"
   ]
  },
  {
   "cell_type": "code",
   "execution_count": 6,
   "id": "741c5be6-57d3-46b5-97ae-b6157af32c34",
   "metadata": {
    "tags": []
   },
   "outputs": [],
   "source": [
    "# Trainings- und Testgröße\n",
    "\n",
    "train_size = 15000000   # 15.000.000  Features: 20 \n",
    "test_size  = 100\n",
    "centers    = 5\n",
    "\n",
    "n_samples  = train_size + test_size\n",
    "\n",
    "# Für Klassifizierung\n",
    "X_c, y_c = datasets.make_blobs(n_samples=15000000, n_features=10)\n",
    "# Für Regression \n",
    "#X_r, y_r = datasets.make_regression(n_samples=n_samples)\n",
    "\n",
    "# Teile Daten auf\n",
    "X_train_c, X_test_c, y_train_c, y_test_c = train_test_split( X_c, y_c, train_size=0.80, random_state=5)\n",
    "#X_train_r, X_test_r, y_train_r, y_test_r = train_test_split( X_r, y_r, train_size=0.80, random_state=5)"
   ]
  },
  {
   "cell_type": "code",
   "execution_count": 8,
   "id": "0ae28060-27f7-40aa-ab8f-3d4088ce43c8",
   "metadata": {
    "tags": []
   },
   "outputs": [
    {
     "data": {
      "text/plain": [
       "array([ 0.76812583, -3.785273  ,  1.8216226 , 10.967538  , -1.482454  ,\n",
       "       -4.4057393 , -1.8101425 , -9.3877735 , -2.7475626 , -6.707412  ],\n",
       "      dtype=float32)"
      ]
     },
     "execution_count": 8,
     "metadata": {},
     "output_type": "execute_result"
    }
   ],
   "source": [
    "X_c[1]"
   ]
  },
  {
   "cell_type": "markdown",
   "id": "54edeced-934a-4c30-82c0-703612546f38",
   "metadata": {},
   "source": [
    "Jetzt können wir uns anschauen was gemacht wurde, so könnten unsere Trainingsdaten auch aussehen."
   ]
  },
  {
   "cell_type": "code",
   "execution_count": 10,
   "id": "f0541c0a-5238-415f-9423-eaee28d6301a",
   "metadata": {
    "tags": []
   },
   "outputs": [
    {
     "name": "stdout",
     "output_type": "stream",
     "text": [
      "Daten Klassifizierung:\n",
      "X: <class 'cupy.ndarray'> y: <class 'cupy.ndarray'> \n",
      " X[0]: [-4.390422 -7.993816]  \n",
      " y[0]: 0.0 \n",
      " Länge X, y: 2100, 2100\n"
     ]
    }
   ],
   "source": [
    "print(f\"Daten Klassifizierung:\\nX: {type(X_c)} y: {type(y_c)} \\n X[0]: {X_c[0]}  \\n y[0]: {y_c[0]} \\n Länge X, y: {len(X_c)}, {len(y_c)}\")"
   ]
  },
  {
   "cell_type": "code",
   "execution_count": 11,
   "id": "f08df21b-dbdc-4644-8ab3-beefbd9a23ca",
   "metadata": {
    "tags": []
   },
   "outputs": [
    {
     "name": "stdout",
     "output_type": "stream",
     "text": [
      "Daten Regression:\n",
      "X: <class 'cupy.ndarray'> y: <class 'cupy.ndarray'> \n",
      " X[0]: [0.27291918 0.6470641 ]  \n",
      " y[0]: [34.67788] \n",
      " Länge X, y: 2100, 2100\n"
     ]
    }
   ],
   "source": [
    "print(f\"Daten Regression:\\nX: {type(X_r)} y: {type(y_r)} \\n X[0]: {X_r[0]}  \\n y[0]: {y_r[0]} \\n Länge X, y: {len(X_r)}, {len(y_r)}\")"
   ]
  },
  {
   "cell_type": "markdown",
   "id": "56a5589e-ec6f-4622-86b0-0b9b791141ca",
   "metadata": {},
   "source": [
    "Die erstellten Daten sind in CuPy Format. Für das Trainieren müssen die Daten im Dask-cuDF Format sein. Alternativ können die Daten im Format Dask Array sein, mit CuPy als Backend (Siehe fit() https://docs.rapids.ai/api/cuml/stable/api/#id43)."
   ]
  },
  {
   "cell_type": "markdown",
   "id": "8c6c3501-4280-4f7f-a9ef-d552db895729",
   "metadata": {},
   "source": [
    "## 2.2 Dask und Dask_cuDF"
   ]
  },
  {
   "cell_type": "markdown",
   "id": "034119ab-a4c4-491a-ae85-059346174b81",
   "metadata": {},
   "source": [
    "Schauen wir uns den Fall an, das die Daten <u>erst verteilt werden</u> müssen. "
   ]
  },
  {
   "cell_type": "code",
   "execution_count": 12,
   "id": "ac3e0912-0e51-40d6-8d51-3f39f77ca92c",
   "metadata": {
    "tags": []
   },
   "outputs": [
    {
     "data": {
      "text/plain": [
       "array([[-4.390422 , -7.993816 ],\n",
       "       [-1.7899303, -8.560305 ],\n",
       "       [ 6.878088 ,  3.2281156],\n",
       "       ...,\n",
       "       [ 7.9013543,  3.418171 ],\n",
       "       [-3.146109 , -8.004911 ],\n",
       "       [-4.038967 , -7.6395087]], dtype=float32)"
      ]
     },
     "execution_count": 12,
     "metadata": {},
     "output_type": "execute_result"
    }
   ],
   "source": [
    "# X_c ist auf dem Host und nicht Partitioniert.\n",
    "X_c"
   ]
  },
  {
   "cell_type": "markdown",
   "id": "c505feb6-8d1b-409d-b760-f3e846071754",
   "metadata": {},
   "source": [
    "Bei Verteilen oder Laden der Daten mit HDFS, können wir eine Chunkgröße angeben oder die Anzahl der Partitionen. Die Worker übernehmen eine Anzahl der Partitionen für das Trainieren."
   ]
  },
  {
   "cell_type": "markdown",
   "id": "5e304213-0417-4c43-8e73-1edf074c71cd",
   "metadata": {},
   "source": [
    "X ist ein cupy. Wir brauchen ein dask_cuDF oder ein Dask Array mit cupy als Backend. \n",
    "\n",
    "Erst wandeln wir das Array X in ein DataFrame um. Dann werden wir X partitionieren."
   ]
  },
  {
   "cell_type": "code",
   "execution_count": 21,
   "id": "5d376ddb-d8b6-463d-a398-c235b0b2e191",
   "metadata": {
    "tags": []
   },
   "outputs": [
    {
     "name": "stdout",
     "output_type": "stream",
     "text": [
      "X Type: <class 'cudf.core.dataframe.DataFrame'> \n",
      "X ist:\n",
      "                  0         1         2         3          4         5  \\\n",
      "0         0.445445 -4.056909  2.238461  9.445652  -3.096715 -4.307353   \n",
      "1        -8.047665 -2.113462 -3.302359  9.171656  -1.997621  9.484214   \n",
      "2         0.394223 -4.543429  1.361037  9.055886  -2.092587 -2.869893   \n",
      "3        -7.687822  0.303481  3.407153 -3.149281   8.906869 -1.914889   \n",
      "4        -7.777630 -3.561938 -5.610600  9.720518  -0.735540  6.552356   \n",
      "...            ...       ...       ...       ...        ...       ...   \n",
      "11999995 -6.935137  1.793511  3.898031 -6.972420   9.803249 -2.236868   \n",
      "11999996 -8.591798  1.281032  3.008148 -4.796408  10.242216 -2.150061   \n",
      "11999997 -8.250855 -1.799571 -3.471779  8.979384  -1.971615  9.086596   \n",
      "11999998 -5.774130  1.029114  3.132514 -6.744684   6.761896 -0.117011   \n",
      "11999999 -1.915761 -3.922513  2.279961  9.516230  -1.955437 -3.873719   \n",
      "\n",
      "                 6          7         8         9  \n",
      "0        -0.724019 -10.573942 -4.191567 -5.029487  \n",
      "1        -5.302075  -8.573290  6.204762 -6.130042  \n",
      "2        -0.616836  -8.482412  0.081580 -6.665470  \n",
      "3         6.922771   5.801545 -7.596677 -6.458408  \n",
      "4        -5.983457  -7.703958  4.591040 -3.022097  \n",
      "...            ...        ...       ...       ...  \n",
      "11999995  8.340683   3.994187 -4.066855 -8.144424  \n",
      "11999996  7.570001   2.815605 -3.893172 -7.902995  \n",
      "11999997 -5.894227  -9.389590  5.807067 -3.579363  \n",
      "11999998  6.834490   5.222775 -6.036642 -8.170004  \n",
      "11999999 -0.645337  -8.403053 -2.238960 -5.654408  \n",
      "\n",
      "[12000000 rows x 10 columns]\n",
      "y Type: <class 'cudf.core.series.Series'>\n",
      "y ist:\n",
      "0           2\n",
      "1           1\n",
      "2           2\n",
      "3           0\n",
      "4           1\n",
      "           ..\n",
      "11999995    0\n",
      "11999996    0\n",
      "11999997    1\n",
      "11999998    0\n",
      "11999999    2\n",
      "Length: 12000000, dtype: int32\n"
     ]
    }
   ],
   "source": [
    "## cupy -> cuDF\n",
    "X_cudf_c = cudf.DataFrame(X_train_c).astype(np.float32)\n",
    "y_cudf_c = cudf.Series(y_train_c).astype('int32')\n",
    "print(f\"X Type: {type(X_cudf_c)} \\nX ist:\\n {X_cudf_c}\\ny Type: {type(y_cudf_c)}\\ny ist:\\n{y_cudf_c}\")"
   ]
  },
  {
   "cell_type": "markdown",
   "id": "3cdac75a-251b-40b6-b7ee-40d0b593c85c",
   "metadata": {},
   "source": [
    "Danach werden wir das DataFrame Partitionieren."
   ]
  },
  {
   "cell_type": "code",
   "execution_count": 14,
   "id": "5eea5931-f03b-40e0-a20a-989e1dbe1048",
   "metadata": {
    "tags": []
   },
   "outputs": [],
   "source": [
    "# Dasselbe bei für _r, ohne astype(np.float32)\n",
    "X_cudf_r = cudf.DataFrame(X_train_r)\n",
    "y_cudf_r = cudf.Series(y_train_r)"
   ]
  },
  {
   "cell_type": "code",
   "execution_count": 22,
   "id": "352fffd2-09f1-4066-8ccb-1830eacbfd20",
   "metadata": {
    "tags": []
   },
   "outputs": [
    {
     "name": "stdout",
     "output_type": "stream",
     "text": [
      "nworker: 2\n"
     ]
    }
   ],
   "source": [
    "workers = client.has_what().keys()\n",
    "n_workers = len(workers)\n",
    "print(f\"nworker: {n_workers}\")"
   ]
  },
  {
   "cell_type": "code",
   "execution_count": 23,
   "id": "98b02eab-8e33-4e47-a64b-6c1e6d5cd9c8",
   "metadata": {
    "tags": []
   },
   "outputs": [],
   "source": [
    "# cuDF -> dask_cuDF\n",
    "X_dask_c = dask_cudf.from_cudf( X_cudf_c, npartitions=n_workers )  # oder  npartitions = n_workers\n",
    "y_dask_c = dask_cudf.from_cudf( y_cudf_c, npartitions=n_workers )\n",
    "\n",
    "X_dask_c, y_dask_c = dask_utils.persist_across_workers(client, [X_dask_c, y_dask_c], workers=client.has_what().keys())  # Halte Ergebnis im Speicher "
   ]
  },
  {
   "cell_type": "code",
   "execution_count": 19,
   "id": "5b628920-ad34-4e44-a82c-3f2c2cb3651a",
   "metadata": {
    "tags": []
   },
   "outputs": [],
   "source": [
    "del X_dask_c, y_dask_c, X_cudf_c, y_cudf_c"
   ]
  },
  {
   "cell_type": "code",
   "execution_count": 17,
   "id": "04a6ca46-9013-449f-935c-60e3f4236809",
   "metadata": {
    "tags": []
   },
   "outputs": [],
   "source": [
    "# Für _r auch\n",
    "X_dask_r = dask_cudf.from_cudf( X_cudf_r, npartitions=n_workers )  # oder  npartitions = n_workers\n",
    "y_dask_r = dask_cudf.from_cudf( y_cudf_r, npartitions=n_workers )\n",
    "\n",
    "X_dask_r, y_dask_r = dask_utils.persist_across_workers(client, [X_dask_r, y_dask_r], workers=client.has_what().keys())  # Halte Ergebnis im Speicher "
   ]
  },
  {
   "cell_type": "code",
   "execution_count": 18,
   "id": "70625c7a-08f5-40d0-b573-6ee1c3f28762",
   "metadata": {
    "tags": []
   },
   "outputs": [
    {
     "name": "stdout",
     "output_type": "stream",
     "text": [
      "dask_X_c: <class 'dask_cudf.core.DataFrame'>\n",
      "<dask_cudf.DataFrame | 3 tasks | 3 npartitions>\n"
     ]
    }
   ],
   "source": [
    "print(f\"dask_X_c: {type(X_dask_c)}\\n{X_dask_c}\")"
   ]
  },
  {
   "cell_type": "code",
   "execution_count": 19,
   "id": "9a949875-8fbf-49aa-b0f7-53e10b8c523b",
   "metadata": {
    "tags": []
   },
   "outputs": [
    {
     "data": {
      "text/html": [
       "<div><strong>Dask DataFrame Structure:</strong></div>\n",
       "<div>\n",
       "<style scoped>\n",
       "    .dataframe tbody tr th:only-of-type {\n",
       "        vertical-align: middle;\n",
       "    }\n",
       "\n",
       "    .dataframe tbody tr th {\n",
       "        vertical-align: top;\n",
       "    }\n",
       "\n",
       "    .dataframe thead th {\n",
       "        text-align: right;\n",
       "    }\n",
       "</style>\n",
       "<table border=\"1\" class=\"dataframe\">\n",
       "  <thead>\n",
       "    <tr style=\"text-align: right;\">\n",
       "      <th></th>\n",
       "      <th>0</th>\n",
       "      <th>1</th>\n",
       "    </tr>\n",
       "    <tr>\n",
       "      <th>npartitions=3</th>\n",
       "      <th></th>\n",
       "      <th></th>\n",
       "    </tr>\n",
       "  </thead>\n",
       "  <tbody>\n",
       "    <tr>\n",
       "      <th>0</th>\n",
       "      <td>float32</td>\n",
       "      <td>float32</td>\n",
       "    </tr>\n",
       "    <tr>\n",
       "      <th>560</th>\n",
       "      <td>...</td>\n",
       "      <td>...</td>\n",
       "    </tr>\n",
       "    <tr>\n",
       "      <th>1120</th>\n",
       "      <td>...</td>\n",
       "      <td>...</td>\n",
       "    </tr>\n",
       "    <tr>\n",
       "      <th>1679</th>\n",
       "      <td>...</td>\n",
       "      <td>...</td>\n",
       "    </tr>\n",
       "  </tbody>\n",
       "</table>\n",
       "</div>\n",
       "<div>Dask Name: from_cudf, 1 graph layer</div>"
      ],
      "text/plain": [
       "<dask_cudf.DataFrame | 3 tasks | 3 npartitions>"
      ]
     },
     "execution_count": 19,
     "metadata": {},
     "output_type": "execute_result"
    }
   ],
   "source": [
    "X_dask_c"
   ]
  },
  {
   "cell_type": "code",
   "execution_count": 20,
   "id": "18312b9d-b5bb-4ffb-a8c0-bdc4ddb63633",
   "metadata": {
    "tags": []
   },
   "outputs": [
    {
     "data": {
      "text/html": [
       "<table>\n",
       "    <tr>\n",
       "        <th>Worker</th>\n",
       "        <th>Key count</th>\n",
       "        <th>Key list</th>\n",
       "    </tr>\n",
       "\n",
       "    \n",
       "    <tr>\n",
       "        <td>tcp://149.201.182.188:33351</td>\n",
       "        <td>4</td>\n",
       "        <td>\n",
       "            <details>\n",
       "            <summary style='display:list-item'>Expand</summary>\n",
       "            <table>\n",
       "            \n",
       "                <tr><td>('from_cudf-427dd0072f4a48c130c282242402dc99', 1)</td></tr>\n",
       "            \n",
       "                <tr><td>('from_cudf-a33c3ddacdcb428237dc320102bb7c71', 1)</td></tr>\n",
       "            \n",
       "                <tr><td>('from_cudf-10f10ff11cf8696158b024e810bfbef0', 1)</td></tr>\n",
       "            \n",
       "                <tr><td>('from_cudf-ec2bd4900dbe7e4b6dafc3178d92b077', 1)</td></tr>\n",
       "            \n",
       "            </table>\n",
       "            </details>\n",
       "        </td>\n",
       "    </tr>\n",
       "    \n",
       "    <tr>\n",
       "        <td>tcp://149.201.182.203:46815</td>\n",
       "        <td>4</td>\n",
       "        <td>\n",
       "            <details>\n",
       "            <summary style='display:list-item'>Expand</summary>\n",
       "            <table>\n",
       "            \n",
       "                <tr><td>('from_cudf-427dd0072f4a48c130c282242402dc99', 0)</td></tr>\n",
       "            \n",
       "                <tr><td>('from_cudf-a33c3ddacdcb428237dc320102bb7c71', 0)</td></tr>\n",
       "            \n",
       "                <tr><td>('from_cudf-10f10ff11cf8696158b024e810bfbef0', 0)</td></tr>\n",
       "            \n",
       "                <tr><td>('from_cudf-ec2bd4900dbe7e4b6dafc3178d92b077', 0)</td></tr>\n",
       "            \n",
       "            </table>\n",
       "            </details>\n",
       "        </td>\n",
       "    </tr>\n",
       "    \n",
       "    <tr>\n",
       "        <td>tcp://149.201.182.205:37759</td>\n",
       "        <td>4</td>\n",
       "        <td>\n",
       "            <details>\n",
       "            <summary style='display:list-item'>Expand</summary>\n",
       "            <table>\n",
       "            \n",
       "                <tr><td>('from_cudf-427dd0072f4a48c130c282242402dc99', 2)</td></tr>\n",
       "            \n",
       "                <tr><td>('from_cudf-a33c3ddacdcb428237dc320102bb7c71', 2)</td></tr>\n",
       "            \n",
       "                <tr><td>('from_cudf-10f10ff11cf8696158b024e810bfbef0', 2)</td></tr>\n",
       "            \n",
       "                <tr><td>('from_cudf-ec2bd4900dbe7e4b6dafc3178d92b077', 2)</td></tr>\n",
       "            \n",
       "            </table>\n",
       "            </details>\n",
       "        </td>\n",
       "    </tr>\n",
       "    \n",
       "</table>"
      ],
      "text/plain": [
       "{'tcp://149.201.182.188:33351': (\"('from_cudf-427dd0072f4a48c130c282242402dc99', 1)\",\n",
       "  \"('from_cudf-a33c3ddacdcb428237dc320102bb7c71', 1)\",\n",
       "  \"('from_cudf-10f10ff11cf8696158b024e810bfbef0', 1)\",\n",
       "  \"('from_cudf-ec2bd4900dbe7e4b6dafc3178d92b077', 1)\"),\n",
       " 'tcp://149.201.182.203:46815': (\"('from_cudf-427dd0072f4a48c130c282242402dc99', 0)\",\n",
       "  \"('from_cudf-a33c3ddacdcb428237dc320102bb7c71', 0)\",\n",
       "  \"('from_cudf-10f10ff11cf8696158b024e810bfbef0', 0)\",\n",
       "  \"('from_cudf-ec2bd4900dbe7e4b6dafc3178d92b077', 0)\"),\n",
       " 'tcp://149.201.182.205:37759': (\"('from_cudf-427dd0072f4a48c130c282242402dc99', 2)\",\n",
       "  \"('from_cudf-a33c3ddacdcb428237dc320102bb7c71', 2)\",\n",
       "  \"('from_cudf-10f10ff11cf8696158b024e810bfbef0', 2)\",\n",
       "  \"('from_cudf-ec2bd4900dbe7e4b6dafc3178d92b077', 2)\")}"
      ]
     },
     "execution_count": 20,
     "metadata": {},
     "output_type": "execute_result"
    }
   ],
   "source": [
    "## Damit sehen wir was der Cluster hat.\n",
    "# Jeder hat ein Teil des DataFrames. Jeder Worker nutzt die eigenen Partitionen. \n",
    "client.has_what()"
   ]
  },
  {
   "cell_type": "markdown",
   "id": "4050020b-f4b8-486e-a772-addaab6ec738",
   "metadata": {},
   "source": [
    "So siet der Flow aus, wenn wir Daten als Host erzeugen und dann verteilen.\n",
    "\n",
    "<img src=\"./pictures/part.PNG\"  width=\"925px;\" hight=\"925px;\">"
   ]
  },
  {
   "cell_type": "markdown",
   "id": "05ca2a20-6dfa-4468-b298-0b641b9e4aa1",
   "metadata": {},
   "source": [
    "Zusammeengefasst: <br>\n",
    "Wenn wir Daten als Host erstellen (z.B. um den Aufbau zu testen), müssen die Daten Partitioniert werden. Das verteilen geht gut mit <u>geringen Datenmengen</u>.\n",
    "\n",
    "Nach dem Verteilen hat jeder Worker ein Teil dieser Daten. Diese Teile sind Partitionen."
   ]
  },
  {
   "cell_type": "markdown",
   "id": "0efe3377-2b36-4bb1-b36a-6348400b8dbe",
   "metadata": {},
   "source": [
    "<img src=\"./pictures/part2.PNG\"  width=\"925px;\" hight=\"925px;\">"
   ]
  },
  {
   "cell_type": "markdown",
   "id": "544fce5a-3e3c-4687-8b2a-b16f04950988",
   "metadata": {},
   "source": [
    "## 2.3 Daten sind schon Lokal verfügbar"
   ]
  },
  {
   "cell_type": "markdown",
   "id": "ddc6b362-3f01-4879-adec-2b333d6ec17b",
   "metadata": {},
   "source": [
    "Mit Dask-cuDF können wir Daten direkt in die GPU laden und Daten schreiben. Es gibt viele Parameter, die angegeben werden können (https://docs.rapids.ai/api/dask-cudf/stable/api/#creating-and-storing-dataframes). \n",
    "\n",
    "Wenn die Daten nicht in den Speicher passen, können diese partitioniert werden, indem wir die Daten mit Dask-cuDF laden."
   ]
  },
  {
   "cell_type": "markdown",
   "id": "ed8fe536-afd2-4502-bbcb-bd20e49d13ea",
   "metadata": {},
   "source": [
    "<img src=\"./pictures/rapids_chunk.PNG\">"
   ]
  },
  {
   "cell_type": "markdown",
   "id": "20c5b60e-782a-4be8-888b-e404f782e4c0",
   "metadata": {},
   "source": [
    "Wir können Daten mit Dask laden und daraus ein Dask-cuDF erstellen.\n",
    "\n",
    "Intern nutzt jeder Worker cuDF um die Daten zu lesen. Es können verschiedene Quellen angegeben werden wie HDFs, S3, http, ... (https://docs.dask.org/en/stable/how-to/connect-to-remote-data.html)"
   ]
  },
  {
   "cell_type": "raw",
   "id": "e0288017-8451-4fb7-808f-e983cc80adaf",
   "metadata": {},
   "source": [
    "# Lese Daten mit Dask\n",
    "dask_df = dask.dataframe.read_csv(    \"hdfs:// ...\", blocksize=\"250MB\")\n",
    "        = dask.dataframe.read_parquet(\"hdfs:// ...\", blocksize=\"250MB\")\n",
    "        = dask.dataframe.read_json(\"\")\n",
    "        \n",
    "# Schreiben mit Dask\n",
    "dask_df.to_csv('name')\n",
    "dask_df.to_parquet('name', engine='pyarrow')\n",
    "...\n",
    "\n"
   ]
  },
  {
   "cell_type": "raw",
   "id": "70c1b5d2-e8bb-4aab-a558-8f9564b0c4f1",
   "metadata": {},
   "source": [
    "# Erstelle ein Dask-cuDF aus einem Dask Dataframe.\n",
    "dcf = dask_cudf.from_dask_dataframe(dask_df)\n",
    "dcf "
   ]
  },
  {
   "cell_type": "markdown",
   "id": "4522b70b-19ef-40d2-8486-c631a6feb614",
   "metadata": {},
   "source": [
    "Wir können auch direkt Dask-cuDF nutzen um Daten zu laden. Das geht genau so wie bei Dask. Das schreiben der Daten mit Dask-cuDF folg auch der gleichen API.\n",
    "\n",
    "Jeder Worker sollte die gleichen Pfade sehen können."
   ]
  },
  {
   "cell_type": "raw",
   "id": "2822b817-da24-4c89-8649-bab09c161809",
   "metadata": {},
   "source": [
    "dcf = dask_cudf.read_csv(\"hdfs:// ...\")\n",
    "\n",
    "dcf.to_csv('name')"
   ]
  },
  {
   "cell_type": "markdown",
   "id": "827991b3-bc82-4518-a087-38d7eb08691e",
   "metadata": {},
   "source": [
    "Das erstellte Dask-cuDF kann dann zum trainieren genutzt werden. \n",
    "\n",
    "<br>\n",
    "\n",
    "Rapids Dask-cuDF Creating and storing DataFrames:  https://docs.rapids.ai/api/dask-cudf/stable/api/ <br>\n",
    "Reading Larger than Memory CSVs with RAPIDS and Dask: https://medium.com/rapids-ai/reading-larger-than-memory-csvs-with-rapids-and-dask-e6e27dfa6c0f\n"
   ]
  },
  {
   "cell_type": "markdown",
   "id": "b827e320-c769-46fe-9956-e105660dca48",
   "metadata": {},
   "source": [
    "<u>Hinweis zu HDFS:</u><br>\n",
    "Das lesen von vielen Dateien oder einer großen Datei bringt keinen Vorteile der Datenlokalität mehr, siehe (https://stackoverflow.com/questions/54565738/does-dask-communicate-with-hdfs-to-optimize-for-data-locality)<br>\n",
    "Das kann sich noch ändern. \n",
    " "
   ]
  },
  {
   "cell_type": "markdown",
   "id": "2b539fab-6234-47e4-8e91-86aca23058d0",
   "metadata": {},
   "source": [
    "# 3. Multi-Node/Multi-GPU Training: Dask und Dask_cuDF"
   ]
  },
  {
   "cell_type": "markdown",
   "id": "57617d80-911e-48f3-8ab1-f1ccab8c7e08",
   "metadata": {},
   "source": [
    "Wie bereits erwähnt, ist das Interface fast genau so wie bei sklearn. Wenn wir jetzt Daten haben und diese noch verarbeiten wollen, muss darauf geachtet werden, dass die Datentypen am Ende richtig sind. \n",
    "\n",
    "Für das Model gibt es einige Parameter, die wir einstellen können, dieser Auszug zeigt einige Parameter:  <br>\n",
    "\n",
    "Random-Forest Klassifikation:<br>\n",
    "`split_criterion: =   (0 or 'gini' | 1 or 'entropy' ) ` <br>\n",
    "`max_depthint= (default = 16) ` <br>\n",
    "`max_leavesint= (default = -1)` <br>\n",
    "`n_binsint= (default = 128)` <br>\n",
    "`n_streams=4 Number of parallel streams used for forest building. ` <br>\n",
    "Für Regression: <br>\n",
    "`split_criterion: =   ( 2 or 'mse' | 4 or 'poisson' | 5 or 'gamma' | 6 or 'inverse_gaussian') `<br>\n",
    "`accuracy_metric= ( r2 | median_ae | mean_ae | mse ) Decides the metric used to evaluate the performance of the model. ` <br>\n",
    "`max_depth= (default = 16) ` <br>\n",
    "`max_leaves= (default = -1)` <br>\n",
    "`n_bins= (default = 128)` <br>\n",
    "`n_streams=4 Number of parallel streams used for forest building. ` <br>\n",
    "\n",
    "\n",
    "Wir werden die normalen Einstellungen beibehalten.\n",
    "\n",
    "<br>\n",
    "\n",
    "Sklearn Random-Forest: <br>\n",
    "https://scikit-learn.org/stable/modules/generated/sklearn.ensemble.RandomForestClassifier.htmll <br>\n",
    "https://scikit-learn.org/stable/modules/generated/sklearn.ensemble.RandomForestRegressor.html <br>\n",
    "cuML MNMG Random-Forest: https://docs.rapids.ai/api/cuml/stable/api/#id47"
   ]
  },
  {
   "cell_type": "code",
   "execution_count": 24,
   "id": "7503d31a-76c6-4ef5-94a1-4fb80de8e0a7",
   "metadata": {
    "tags": []
   },
   "outputs": [],
   "source": [
    "# Imortiere Multi-Node RM\n",
    "from cuml.dask.ensemble import RandomForestClassifier as multi_RandomForestClassifier\n",
    "from cuml.dask.ensemble import RandomForestRegressor  as multi_RandomForestRegressor"
   ]
  },
  {
   "cell_type": "markdown",
   "id": "566f1fcf-e9fc-4d93-bb76-60a86b974840",
   "metadata": {},
   "source": [
    "Jetzt kann man wie üblich vorgehen. Das Model Trainieren, Speichern, Laden und Evaluieren.\n",
    "\n",
    "Wir können das Dashboard von Dask öffnen und sehen unter GPU die Auslastung (wenn es nicht zu schnell fertig ist)."
   ]
  },
  {
   "cell_type": "code",
   "execution_count": 25,
   "id": "0815317e-2e41-477a-ab96-e6345dc29120",
   "metadata": {
    "tags": []
   },
   "outputs": [
    {
     "name": "stdout",
     "output_type": "stream",
     "text": [
      "CPU times: user 69.7 ms, sys: 3.8 ms, total: 73.5 ms\n",
      "Wall time: 11.9 s\n"
     ]
    },
    {
     "data": {
      "text/plain": [
       "<cuml.dask.ensemble.randomforestclassifier.RandomForestClassifier at 0x7f4031141c00>"
      ]
     },
     "execution_count": 25,
     "metadata": {},
     "output_type": "execute_result"
    }
   ],
   "source": [
    "# Erstelle Model | RM Klassifizierung \n",
    "multi_rm_c = multi_RandomForestClassifier() \n",
    "                     \n",
    "# Training  \n",
    "%time multi_rm_c.fit(X_dask_c, y_dask_c)\n",
    "# 1gpu: 48s   2gpu: 12s   3gpus"
   ]
  },
  {
   "cell_type": "code",
   "execution_count": 23,
   "id": "570daca3-46fe-4b3d-ae0f-f66d73805901",
   "metadata": {
    "tags": []
   },
   "outputs": [
    {
     "name": "stdout",
     "output_type": "stream",
     "text": [
      "CPU times: user 55 ms, sys: 3.65 ms, total: 58.7 ms\n",
      "Wall time: 227 ms\n"
     ]
    },
    {
     "data": {
      "text/plain": [
       "<cuml.dask.ensemble.randomforestregressor.RandomForestRegressor at 0x7f78484ec640>"
      ]
     },
     "execution_count": 23,
     "metadata": {},
     "output_type": "execute_result"
    }
   ],
   "source": [
    "# Erstelle Model | RM Regressor \n",
    "multi_rm_r = multi_RandomForestRegressor()\n",
    "                     \n",
    "# Training  \n",
    "# - Input Type\n",
    "%time multi_rm_r.fit(X_dask_r, y_dask_r)"
   ]
  },
  {
   "cell_type": "markdown",
   "id": "4baedf49-7437-4480-98b5-b5c83d1ac729",
   "metadata": {},
   "source": [
    "Das Model ist momentan noch verteilt, wir können trotzdem Predictions machen. Dafür müssen wir die Daten wieder verteilen, wenn diese nicht schon lokal vorliegen."
   ]
  },
  {
   "cell_type": "code",
   "execution_count": 24,
   "id": "7632d38c-a273-4af5-8387-cc6493119a77",
   "metadata": {
    "collapsed": true,
    "jupyter": {
     "outputs_hidden": true
    },
    "tags": []
   },
   "outputs": [
    {
     "name": "stdout",
     "output_type": "stream",
     "text": [
      "Länge: 420 \n",
      "Typ: <class 'cupy.ndarray'>\n",
      " [[ 1.42820692e+00 -1.50018811e+00]\n",
      " [-1.86547264e-01  6.84669912e-01]\n",
      " [-1.22138178e+00 -2.04375267e-01]\n",
      " [-6.40086412e-01 -3.77113789e-01]\n",
      " [-6.18870735e-01 -8.98498952e-01]\n",
      " [ 1.13327253e+00 -1.53003788e+00]\n",
      " [ 8.95731211e-01  6.25492394e-01]\n",
      " [ 1.14272475e+00  2.14870214e+00]\n",
      " [-4.42176908e-01  4.91543720e-03]\n",
      " [-5.99980056e-02 -3.41275901e-01]\n",
      " [-4.65737522e-01  1.05170631e+00]\n",
      " [ 1.65781474e+00  4.48984802e-01]\n",
      " [-8.83426607e-01  9.25974995e-02]\n",
      " [ 1.60494137e+00  3.69798005e-01]\n",
      " [-2.74298728e-01 -4.47603688e-03]\n",
      " [ 1.14247286e+00 -1.59782290e+00]\n",
      " [-5.26987076e-01 -7.28040189e-02]\n",
      " [ 2.78331017e+00 -1.07615638e+00]\n",
      " [ 2.61367291e-01 -1.33413446e+00]\n",
      " [-1.22379982e+00 -9.01313066e-01]\n",
      " [-1.17765772e+00  1.93844810e-02]\n",
      " [-1.42233443e+00 -9.62353289e-01]\n",
      " [ 1.75954118e-01 -8.20863843e-01]\n",
      " [-1.21787906e+00 -1.77918777e-01]\n",
      " [-8.94374728e-01  1.12684555e-01]\n",
      " [-6.45377457e-01  1.32797241e+00]\n",
      " [-8.06818426e-01  4.02854800e-01]\n",
      " [ 4.32281911e-01  7.44073212e-01]\n",
      " [ 2.72919178e-01  6.47064090e-01]\n",
      " [ 1.36475861e-01 -1.51386893e+00]\n",
      " [ 7.30399430e-01  1.35136795e+00]\n",
      " [ 2.46936783e-01 -6.41518056e-01]\n",
      " [-1.63722503e+00 -1.21025324e+00]\n",
      " [-1.22792912e+00  7.40141749e-01]\n",
      " [-7.05929995e-01 -7.76963890e-01]\n",
      " [ 3.99667084e-01  1.59208989e+00]\n",
      " [ 2.31145573e+00  1.25432909e+00]\n",
      " [ 1.03754032e+00 -1.31025791e+00]\n",
      " [ 8.75253499e-01 -5.04118383e-01]\n",
      " [-1.03082705e+00 -9.77139592e-01]\n",
      " [-3.56895357e-01  2.37239629e-01]\n",
      " [ 6.07710004e-01 -7.73884833e-01]\n",
      " [ 7.24325597e-01  5.47407083e-02]\n",
      " [ 1.11814404e+00 -2.71623731e+00]\n",
      " [ 2.40725741e-01 -9.69204724e-01]\n",
      " [-1.36801231e+00  1.30372536e+00]\n",
      " [ 1.67551267e+00  1.22026585e-01]\n",
      " [-5.90738237e-01  9.78697360e-01]\n",
      " [ 3.61159503e-01  8.48713279e-01]\n",
      " [-3.30581129e-01 -2.06767774e+00]\n",
      " [ 3.69728148e-01 -1.41777575e+00]\n",
      " [ 3.97603989e-01 -3.80061448e-01]\n",
      " [-1.75129157e-03 -1.12950122e+00]\n",
      " [-2.01502845e-01  9.86775935e-01]\n",
      " [ 7.14459479e-01  1.76873577e+00]\n",
      " [-6.43195391e-01  1.61434090e+00]\n",
      " [ 8.58288333e-02  2.80822903e-01]\n",
      " [-1.00179827e+00  3.20318252e-01]\n",
      " [ 1.85270584e+00 -9.33235943e-01]\n",
      " [-4.13940430e-01 -7.71189213e-01]\n",
      " [-1.77230120e-01 -1.78617582e-01]\n",
      " [-6.92256093e-02 -9.42385942e-02]\n",
      " [ 1.19323349e+00  9.79193270e-01]\n",
      " [-1.42578948e+00 -9.55256820e-01]\n",
      " [ 9.70157385e-02  1.30869603e+00]\n",
      " [ 2.83744961e-01  1.48255980e+00]\n",
      " [-4.22884256e-01 -3.37780088e-01]\n",
      " [ 2.32609868e-01  1.67308259e+00]\n",
      " [ 6.01245105e-01 -6.09767437e-01]\n",
      " [-1.58070457e+00  1.04503326e-01]\n",
      " [-1.97293556e+00 -8.25515270e-01]\n",
      " [-2.16336417e+00 -1.39378572e+00]\n",
      " [-9.05842960e-01  1.26586604e+00]\n",
      " [ 5.69830537e-01  5.04252687e-02]\n",
      " [ 5.64654171e-01 -1.77557874e+00]\n",
      " [ 1.01455283e+00 -8.44598055e-01]\n",
      " [ 1.19558789e-01  5.20413995e-01]\n",
      " [-2.00560570e+00  1.01893628e+00]\n",
      " [-2.27621179e-02  7.08248436e-01]\n",
      " [-1.13656890e+00 -5.86531997e-01]\n",
      " [-1.40504968e+00 -1.39414012e-01]\n",
      " [ 5.38139164e-01 -2.18475997e-01]\n",
      " [ 1.45321703e+00 -3.85845751e-01]\n",
      " [ 1.79560530e+00  1.61709636e-01]\n",
      " [-1.84627593e+00  2.27856949e-01]\n",
      " [ 1.00266373e+00  4.13239419e-01]\n",
      " [-7.66679406e-01 -1.57710695e+00]\n",
      " [ 4.75627154e-01 -5.50816953e-02]\n",
      " [-9.38050449e-01  8.03717673e-01]\n",
      " [-1.80128351e-01  1.22614408e+00]\n",
      " [-1.80131662e+00  1.12806521e-01]\n",
      " [-5.03083944e-01 -5.54693401e-01]\n",
      " [-1.02971518e+00  7.03705251e-01]\n",
      " [-9.51043725e-01  1.59741700e+00]\n",
      " [-1.15450358e+00 -9.61139381e-01]\n",
      " [-2.12977552e+00  9.09678817e-01]\n",
      " [ 1.86737046e-01  4.91315007e-01]\n",
      " [-2.12284297e-01  1.62691200e+00]\n",
      " [-2.57994384e-01 -3.55738133e-01]\n",
      " [ 1.84170711e+00 -8.31891298e-01]\n",
      " [ 3.50357182e-02  7.72485435e-01]\n",
      " [-1.94468272e+00  5.91262043e-01]\n",
      " [ 3.76355410e-01 -9.23294544e-01]\n",
      " [-1.68909180e+00  4.09309864e-01]\n",
      " [ 8.41311365e-02 -8.28641415e-01]\n",
      " [ 1.39130557e+00 -9.25768554e-01]\n",
      " [-1.58279598e+00  1.93711445e-02]\n",
      " [-1.39093196e+00 -1.23812294e+00]\n",
      " [-2.42062330e+00 -1.88051760e+00]\n",
      " [ 3.15828979e-01 -2.34710008e-01]\n",
      " [ 7.69250467e-03  1.49729693e+00]\n",
      " [-1.11795910e-01 -4.61831242e-01]\n",
      " [ 4.24823128e-02  1.43801785e+00]\n",
      " [ 1.00871754e+00  1.26904893e+00]\n",
      " [-6.08928144e-01 -3.77507031e-01]\n",
      " [ 1.61797309e+00  6.56346321e-01]\n",
      " [-5.74506581e-01 -8.05905282e-01]\n",
      " [ 3.00394267e-01  5.04336953e-01]\n",
      " [ 8.92210007e-01 -1.61163855e+00]\n",
      " [-9.56091762e-01 -6.35799170e-01]\n",
      " [ 1.16392601e+00 -4.33233410e-01]\n",
      " [-5.03790140e-01  5.86002350e-01]\n",
      " [ 1.52416110e+00 -4.31280226e-01]\n",
      " [ 4.76088256e-01 -3.06403667e-01]\n",
      " [-1.80735916e-01 -9.31859195e-01]\n",
      " [ 3.15304399e-01 -1.59691381e+00]\n",
      " [-4.31734234e-01 -1.89588666e+00]\n",
      " [-5.41988909e-01  3.03284526e-01]\n",
      " [ 7.30200469e-01 -4.82379913e-01]\n",
      " [-8.41462851e-01  5.38843155e-01]\n",
      " [-1.81944624e-01  1.23033667e+00]\n",
      " [ 1.25276193e-01  7.89347172e-01]\n",
      " [ 5.73360473e-02  9.71954286e-01]\n",
      " [ 5.65550923e-01 -9.49825048e-01]\n",
      " [-2.39931062e-01 -2.41786647e+00]\n",
      " [ 2.03956708e-01 -7.58093745e-02]\n",
      " [-1.36109865e+00  4.04200017e-01]\n",
      " [-5.05471639e-02  4.74706769e-01]\n",
      " [-1.27596712e+00  5.10733485e-01]\n",
      " [-4.62898687e-02 -1.33132207e+00]\n",
      " [-7.86745131e-01 -1.61131060e+00]\n",
      " [-3.63904655e-01 -4.98499990e-01]\n",
      " [ 7.80009255e-02 -3.82995278e-01]\n",
      " [-4.04855907e-01 -5.61708093e-01]\n",
      " [ 2.01378727e+00 -1.99553072e-01]\n",
      " [ 1.16900241e+00  7.18270481e-01]\n",
      " [ 3.02129805e-01 -6.47703931e-02]\n",
      " [ 9.09556508e-01 -1.81466198e+00]\n",
      " [ 1.58258170e-01 -3.13223928e-01]\n",
      " [ 9.53405738e-01  5.58534741e-01]\n",
      " [-3.53397846e-01 -8.70360494e-01]\n",
      " [ 1.27784264e+00  1.17703784e+00]\n",
      " [ 2.05261409e-01  1.39802921e+00]\n",
      " [ 6.16717488e-02 -1.30132318e+00]\n",
      " [-5.80671802e-02 -6.33369386e-01]\n",
      " [ 9.86882627e-01  1.57635260e+00]\n",
      " [ 1.35005400e-01  1.45535731e+00]\n",
      " [ 3.18627775e-01 -1.57837582e+00]\n",
      " [ 1.87497944e-01  1.05023412e-02]\n",
      " [-8.77181053e-01 -1.34083164e+00]\n",
      " [ 5.65448344e-01 -6.50837243e-01]\n",
      " [ 3.55134755e-02 -1.41419220e+00]\n",
      " [-3.62859666e-01  1.03501153e+00]\n",
      " [-1.19737840e+00  4.62172180e-01]\n",
      " [ 4.19026643e-01  1.21237981e+00]\n",
      " [ 1.37049127e+00  3.66030298e-02]\n",
      " [ 6.02899730e-01 -9.92256701e-01]\n",
      " [ 3.40820342e-01  7.44192004e-01]\n",
      " [-1.14668500e+00  4.12021458e-01]\n",
      " [-1.98911595e+00  5.73548317e-01]\n",
      " [-1.00199378e+00  5.41310430e-01]\n",
      " [-1.42584729e+00  2.65450597e-01]\n",
      " [ 1.77845800e+00 -4.31145847e-01]\n",
      " [ 7.12743282e-01 -1.39601147e+00]\n",
      " [ 5.89280844e-01  1.16548300e-01]\n",
      " [ 1.58304918e+00 -4.43653136e-01]\n",
      " [-2.76328117e-01 -1.30192113e+00]\n",
      " [-1.89031148e+00 -2.89036489e+00]\n",
      " [-4.40947592e-01 -8.17630827e-01]\n",
      " [ 1.16379583e+00  1.24129973e-01]\n",
      " [-1.21328890e+00  4.92298245e-01]\n",
      " [ 1.59368789e+00  8.51775408e-01]\n",
      " [ 1.40678430e+00  3.59474085e-02]\n",
      " [-8.02937210e-01  6.55432880e-01]\n",
      " [ 4.24992085e-01  1.59185672e+00]\n",
      " [ 1.08237660e+00 -5.29182076e-01]\n",
      " [ 2.04804055e-02  3.21684361e-01]\n",
      " [ 3.54594201e-01 -1.09766686e+00]\n",
      " [ 1.28065002e+00  2.42768809e-01]\n",
      " [ 8.19242418e-01 -8.65762651e-01]\n",
      " [ 1.56242400e-01 -7.99116850e-01]\n",
      " [-3.49942505e-01  1.24229372e+00]\n",
      " [ 5.35772085e-01 -6.47901654e-01]\n",
      " [-1.41379452e+00 -9.57963467e-02]\n",
      " [ 5.32699674e-02 -1.89945781e+00]\n",
      " [-9.49659422e-02 -5.19729137e-01]\n",
      " [-1.17163777e+00 -3.44524831e-01]\n",
      " [-1.20605409e+00 -1.65150952e+00]\n",
      " [-5.24785399e-01 -1.19077849e+00]\n",
      " [ 8.74709129e-01 -8.97632003e-01]\n",
      " [-1.55832425e-01  2.10034221e-01]\n",
      " [-1.20207930e+00 -8.71384084e-01]\n",
      " [-1.49617887e+00  2.72060418e+00]\n",
      " [ 1.76891387e+00 -1.72788787e+00]\n",
      " [-2.36648843e-01  6.98961318e-01]\n",
      " [ 2.30097747e+00 -5.21518052e-01]\n",
      " [-2.24628401e+00 -1.02839863e+00]\n",
      " [ 4.46845591e-01 -1.17569923e+00]\n",
      " [-3.23717308e+00  4.86747652e-01]\n",
      " [-1.06301022e+00  4.61923420e-01]\n",
      " [ 7.40447342e-01 -1.83112741e+00]\n",
      " [ 2.12096125e-01  1.81970799e+00]\n",
      " [ 5.29895127e-01 -2.36660376e-01]\n",
      " [ 3.15714687e-01 -5.38145900e-01]\n",
      " [-5.91219425e-01 -5.08100808e-01]\n",
      " [ 9.50131640e-02  1.17728531e+00]\n",
      " [-6.40546858e-01 -5.87387145e-01]\n",
      " [ 1.92475066e-01 -4.15651649e-01]\n",
      " [ 4.05965000e-02  9.06523407e-01]\n",
      " [-1.05854726e+00  9.13792849e-01]\n",
      " [ 2.86258101e-01  7.91229606e-01]\n",
      " [-7.34692097e-01  8.09439301e-01]\n",
      " [ 8.88000488e-01  1.42698359e+00]\n",
      " [-4.83808577e-01  4.19224948e-01]\n",
      " [-5.69559395e-01 -8.48686159e-01]\n",
      " [ 5.56739509e-01 -2.01474905e-01]\n",
      " [-9.43816304e-01 -6.86147630e-01]\n",
      " [-1.55259863e-01  1.33605301e+00]\n",
      " [ 3.14062506e-01 -1.17704654e+00]\n",
      " [-1.43374813e+00 -5.40672362e-01]\n",
      " [-1.93898451e+00  4.31371659e-01]\n",
      " [-7.47128725e-01 -8.77596378e-01]\n",
      " [-9.01123226e-01  1.01976180e+00]\n",
      " [ 1.11655736e+00 -5.93137085e-01]\n",
      " [-1.60678458e+00 -3.22092980e-01]\n",
      " [ 2.54281282e-01 -1.47309101e+00]\n",
      " [ 1.01227932e-01 -1.46600497e+00]\n",
      " [-2.30218515e-01 -1.06062698e+00]\n",
      " [-1.23528257e-01  3.99100631e-01]\n",
      " [-2.64679436e-02  1.60684729e+00]\n",
      " [-1.44557357e-01  1.71894729e-02]\n",
      " [-1.20207047e+00 -3.11422825e+00]\n",
      " [-6.15776122e-01  1.34323657e+00]\n",
      " [ 2.12551999e+00 -2.96632260e-01]\n",
      " [-1.41283369e+00  3.43994826e-01]\n",
      " [-1.05886981e-02  2.29152441e-01]\n",
      " [ 1.69544482e+00  1.18599582e+00]\n",
      " [-4.72281456e-01  8.84436011e-01]\n",
      " [ 1.24374568e+00 -1.25380814e-01]\n",
      " [ 1.44615293e+00  7.90027082e-02]\n",
      " [ 3.35432577e+00 -1.60296893e+00]\n",
      " [-7.16791928e-01 -2.32833594e-01]\n",
      " [ 4.00145233e-01  1.33224219e-01]\n",
      " [-1.52373493e+00 -7.50325501e-01]\n",
      " [-5.58167100e-02  4.76581335e-01]\n",
      " [ 1.31546080e-01  8.81508708e-01]\n",
      " [ 7.65087366e-01  6.76700056e-01]\n",
      " [ 2.56474346e-01  1.46933115e+00]\n",
      " [ 7.19061077e-01  1.40239227e+00]\n",
      " [ 1.69617772e-01  2.85739869e-01]\n",
      " [-1.69095144e-01  1.15990072e-01]\n",
      " [ 5.24470806e-01  3.26483399e-02]\n",
      " [-1.14769101e+00  9.22506154e-02]\n",
      " [-4.05267566e-01 -1.32813859e+00]\n",
      " [-1.04215813e+00 -1.63971627e+00]\n",
      " [-1.16406524e+00 -1.58502981e-01]\n",
      " [-2.47110561e-01 -1.02117217e+00]\n",
      " [-8.84095788e-01 -3.67657542e-01]\n",
      " [ 1.79432690e+00  2.11732313e-02]\n",
      " [ 4.75261569e-01 -4.46407378e-01]\n",
      " [ 5.50791025e-01 -5.66865623e-01]\n",
      " [-6.75905824e-01 -8.99562061e-01]\n",
      " [ 7.82908261e-01 -4.89591122e-01]\n",
      " [ 9.86141801e-01  1.95079699e-01]\n",
      " [-4.39340472e-01 -1.13503611e+00]\n",
      " [ 3.03569883e-01 -5.70894361e-01]\n",
      " [-7.49025285e-01  5.31316757e-01]\n",
      " [ 6.17361486e-01 -2.23672792e-01]\n",
      " [ 2.21324325e-01 -2.38243148e-01]\n",
      " [-9.53817666e-01  1.51453471e+00]\n",
      " [ 1.81843066e+00  1.26031137e+00]\n",
      " [ 7.94589221e-01 -1.15332258e+00]\n",
      " [ 2.11428976e+00  2.23668909e+00]\n",
      " [-7.85519183e-02 -1.27215981e-01]\n",
      " [ 5.25749087e-01 -1.26880622e+00]\n",
      " [ 1.27175009e+00 -2.22240150e-01]\n",
      " [-1.94177043e+00 -5.33103850e-03]\n",
      " [ 1.20532072e+00  1.06172681e+00]\n",
      " [ 2.05153540e-01 -7.20976532e-01]\n",
      " [-6.98404253e-01  8.57499003e-01]\n",
      " [-1.54421315e-01 -1.57937217e+00]\n",
      " [-1.01784873e+00 -6.10445559e-01]\n",
      " [-5.89627922e-01  4.15416837e-01]\n",
      " [-1.34481835e+00 -1.17589962e+00]\n",
      " [ 7.11888552e-01 -6.86021745e-01]\n",
      " [-9.48342800e-01  5.46078756e-02]\n",
      " [ 2.95807123e-02 -2.23521113e-01]\n",
      " [-5.00982881e-01  4.42193411e-02]\n",
      " [ 1.29421842e+00 -4.59047586e-01]\n",
      " [-2.59577513e-01 -3.91176403e-01]\n",
      " [ 1.01486266e+00  2.43513182e-01]\n",
      " [ 6.78174853e-01  2.25474262e+00]\n",
      " [ 9.84715164e-01 -4.00862306e-01]\n",
      " [ 6.92248046e-01  7.97126532e-01]\n",
      " [ 4.70252961e-01 -1.46090269e+00]\n",
      " [-7.17471182e-01  1.10382609e-01]\n",
      " [-5.33974111e-01 -1.26336086e+00]\n",
      " [-1.44603336e+00  5.25731146e-01]\n",
      " [-6.89533293e-01  1.36876082e+00]\n",
      " [ 8.89607251e-01  1.37630260e+00]\n",
      " [ 5.11163473e-01 -1.28818274e+00]\n",
      " [-3.73601973e-01  2.33933821e-01]\n",
      " [ 4.66813713e-01 -2.20174980e+00]\n",
      " [-1.76338196e-01  2.68911898e-01]\n",
      " [ 1.97361633e-01  2.25098357e-01]\n",
      " [ 1.80410278e+00 -2.69667983e-01]\n",
      " [ 7.49462366e-01  6.85167313e-01]\n",
      " [-1.05703987e-01 -8.14809725e-02]\n",
      " [-3.82353574e-01 -3.29024744e+00]\n",
      " [-8.90777826e-01  8.64458203e-01]\n",
      " [-1.41965020e+00 -2.60375333e+00]\n",
      " [-6.20571673e-01 -1.23453343e+00]\n",
      " [ 6.41989231e-01  1.54024565e+00]\n",
      " [-8.95836651e-01 -3.21104169e-01]\n",
      " [-5.28291285e-01  6.98646247e-01]\n",
      " [-2.77864128e-01 -3.05022568e-01]\n",
      " [ 5.64861476e-01 -6.61885202e-01]\n",
      " [ 1.31483912e+00  1.66370988e+00]\n",
      " [ 1.88070703e+00  6.89998984e-01]\n",
      " [-8.97692382e-01  2.33519793e-01]\n",
      " [-5.38675010e-01  1.21358097e+00]\n",
      " [ 1.38149393e+00 -2.68071324e-01]\n",
      " [-4.10696059e-01 -6.83753848e-01]\n",
      " [ 2.19741940e+00 -3.17171931e-01]\n",
      " [-6.91389918e-01  8.50736022e-01]\n",
      " [-1.14554906e+00  7.17942938e-02]\n",
      " [-7.64531195e-01  1.44503176e+00]\n",
      " [ 1.50203311e+00 -7.82541156e-01]\n",
      " [-8.63974452e-01 -6.66724205e-01]\n",
      " [ 1.47712052e+00  8.92266393e-01]\n",
      " [-4.14989263e-01  1.03708160e+00]\n",
      " [-5.86673677e-01  1.17581463e+00]\n",
      " [ 6.97953165e-01 -5.44196546e-01]\n",
      " [-4.40263122e-01  2.11754131e+00]\n",
      " [ 1.81428778e+00 -1.61650205e+00]\n",
      " [ 6.90918788e-03  8.26545596e-01]\n",
      " [-1.00016391e+00 -4.44903433e-01]\n",
      " [ 6.14285469e-01 -9.83337462e-01]\n",
      " [ 3.28249454e-01 -5.20017892e-02]\n",
      " [ 1.36569691e+00  1.54421484e+00]\n",
      " [ 1.01696599e+00 -6.55204773e-01]\n",
      " [-1.91694486e+00  2.19955111e+00]\n",
      " [-1.82059968e+00  4.03350919e-01]\n",
      " [-2.12759763e-01  3.76189202e-01]\n",
      " [-6.82621181e-01  3.92742157e-01]\n",
      " [ 1.23617566e+00 -3.03778291e-01]\n",
      " [ 8.95535767e-01 -1.14211524e+00]\n",
      " [-1.19052601e+00 -1.83487391e+00]\n",
      " [ 1.80120635e+00  6.01661444e-01]\n",
      " [ 8.97170246e-01  1.88234186e+00]\n",
      " [ 4.95229393e-01 -2.58486010e-02]\n",
      " [-2.05453023e-01  1.44017899e+00]\n",
      " [-9.23807085e-01 -3.32441479e-01]\n",
      " [-1.48214579e+00 -5.38412511e-01]\n",
      " [ 4.43310738e-01  2.37071165e-03]\n",
      " [-1.09176052e+00  7.35310495e-01]\n",
      " [-7.22332299e-01 -7.37682283e-02]\n",
      " [-4.56940308e-02  2.04407200e-01]\n",
      " [ 9.10853982e-01 -1.32911885e+00]\n",
      " [-7.44204164e-01  1.45420879e-01]\n",
      " [ 1.49214423e+00 -7.02942312e-01]\n",
      " [-9.21156466e-01 -1.82023555e-01]\n",
      " [-4.23786998e-01 -7.34649837e-01]\n",
      " [-3.43386918e-01  2.06375778e-01]\n",
      " [ 5.24539948e-01 -1.00685501e+00]\n",
      " [ 1.36466575e+00  9.40258503e-02]\n",
      " [ 6.96312010e-01  7.13544190e-01]\n",
      " [ 3.09405279e+00 -1.13264918e+00]\n",
      " [-8.65566909e-01  1.22517192e+00]\n",
      " [-2.65799075e-01  3.76921803e-01]\n",
      " [-5.81668794e-01  1.59769213e+00]\n",
      " [ 1.14570820e+00  9.22529757e-01]\n",
      " [ 5.80189586e-01 -7.09410012e-02]\n",
      " [-7.51970038e-02  4.10046667e-01]\n",
      " [-1.47369593e-01 -9.70612586e-01]\n",
      " [-4.66796368e-01  1.66919053e-01]\n",
      " [-4.66939658e-01 -7.94373453e-01]\n",
      " [ 8.50490153e-01 -1.13178420e+00]\n",
      " [ 1.70375919e+00 -1.32088885e-01]\n",
      " [-9.83728349e-01  1.51082501e-01]\n",
      " [-1.06571698e+00 -5.64549863e-01]\n",
      " [ 4.50054228e-01 -5.40945828e-01]\n",
      " [ 1.89335883e+00  5.33065975e-01]\n",
      " [ 3.58110517e-01 -2.69760609e-01]\n",
      " [ 1.36499316e-01 -3.31653416e-01]\n",
      " [-9.48233664e-01 -2.46725142e-01]\n",
      " [ 1.29290771e+00  1.01025379e+00]\n",
      " [-1.27783072e+00 -3.35364133e-01]\n",
      " [-4.39265490e-01  6.17100000e-01]\n",
      " [-1.04799531e-01 -2.44497254e-01]\n",
      " [-3.61858934e-01 -7.95150459e-01]\n",
      " [ 7.49093890e-01 -2.14831233e+00]\n",
      " [ 5.45395911e-01  2.11759508e-01]\n",
      " [ 3.95075470e-01 -1.40865850e+00]\n",
      " [-6.19039178e-01 -9.80304718e-01]\n",
      " [ 4.98458147e-01  1.21996832e+00]\n",
      " [-8.09585869e-01  1.26546133e+00]\n",
      " [-8.31411898e-01 -2.43343979e-01]\n",
      " [ 5.18912852e-01 -9.90138769e-01]\n",
      " [ 6.93187118e-01 -9.43542540e-01]\n",
      " [-1.62485015e+00 -1.36775362e+00]\n",
      " [-1.32281184e-02  5.60547829e-01]\n",
      " [ 1.43003976e+00  6.06751800e-01]\n",
      " [-1.29109287e+00 -1.47820199e+00]\n",
      " [-1.02045941e+00  1.04925144e+00]\n",
      " [-2.59105355e-01 -3.91953915e-01]\n",
      " [-1.32343858e-01 -5.05726755e-01]\n",
      " [ 1.30633399e-01  1.23832285e+00]\n",
      " [ 4.80749369e-01  1.71191061e+00]\n",
      " [ 3.59059185e-01  1.26276064e+00]]\n"
     ]
    }
   ],
   "source": [
    "# Regression \n",
    "to_predict_r = X_test_r\n",
    "print(f\"Länge: {len(to_predict_r)} \\nTyp: {type(to_predict_r)}\\n {to_predict_r}\")"
   ]
  },
  {
   "cell_type": "markdown",
   "id": "0be48549-f1ad-4f11-b343-81dd897d9da1",
   "metadata": {},
   "source": [
    "Das cupy Array müssen wir in ein cuDF, dann in ein dask_cuDF umwandeln."
   ]
  },
  {
   "cell_type": "code",
   "execution_count": 25,
   "id": "78e94c38-289c-497a-ac88-53671213c43e",
   "metadata": {
    "tags": []
   },
   "outputs": [],
   "source": [
    "# Regression \n",
    "to_predict__dask_r = dask_cudf.from_cudf(cudf.DataFrame( to_predict_r ), npartitions=n_workers)"
   ]
  },
  {
   "cell_type": "code",
   "execution_count": 26,
   "id": "947cac7c-9824-431f-8584-1fee3143bb5d",
   "metadata": {
    "tags": []
   },
   "outputs": [
    {
     "name": "stdout",
     "output_type": "stream",
     "text": [
      "<dask_cudf.Series | 10 tasks | 3 npartitions>\n"
     ]
    }
   ],
   "source": [
    "# Regression \n",
    "pred_futures = multi_rm_r.predict(to_predict__dask_r)\n",
    "print(pred_futures)"
   ]
  },
  {
   "cell_type": "markdown",
   "id": "fc0f9dd5-3b73-4e1c-8f5c-07fb393129a9",
   "metadata": {},
   "source": [
    "Die futures wurden erstellt. Um die Berechnung zu starten schreiben wir `.compute()`"
   ]
  },
  {
   "cell_type": "code",
   "execution_count": 27,
   "id": "c3abc15e-9d9e-4bfd-a1b1-7e6462f5fc94",
   "metadata": {
    "tags": []
   },
   "outputs": [
    {
     "name": "stdout",
     "output_type": "stream",
     "text": [
      "CPU times: user 33.1 ms, sys: 54 µs, total: 33.2 ms\n",
      "Wall time: 405 ms\n"
     ]
    }
   ],
   "source": [
    "%time pred_futures__MultiNodeOrig_results_r = pred_futures.compute()"
   ]
  },
  {
   "cell_type": "code",
   "execution_count": 28,
   "id": "c455a837-0f57-46a2-ad08-3a120730bbbc",
   "metadata": {
    "tags": []
   },
   "outputs": [
    {
     "data": {
      "text/plain": [
       "0    -66.669022\n",
       "1     30.539501\n",
       "2    -21.801332\n",
       "3    -24.911106\n",
       "4    -49.476677\n",
       "5    -68.462410\n",
       "6     38.065460\n",
       "7    115.754089\n",
       "8     -4.368572\n",
       "9    -17.929943\n",
       "dtype: float32"
      ]
     },
     "execution_count": 28,
     "metadata": {},
     "output_type": "execute_result"
    }
   ],
   "source": [
    "# Index of table | result\n",
    "pred_futures__MultiNodeOrig_results_r.head(10)"
   ]
  },
  {
   "cell_type": "markdown",
   "id": "65b45de8-2c92-4c4a-869c-286b43980648",
   "metadata": {},
   "source": [
    "Dasselbe ist auch mit dem Klassifizierer möglich."
   ]
  },
  {
   "cell_type": "code",
   "execution_count": 29,
   "id": "29ac2eb3-971e-4364-b16e-1558faa0d442",
   "metadata": {
    "collapsed": true,
    "jupyter": {
     "outputs_hidden": true
    },
    "tags": []
   },
   "outputs": [
    {
     "name": "stdout",
     "output_type": "stream",
     "text": [
      "Länge: 420 \n",
      "Typ: <class 'cupy.ndarray'>\n",
      " [[ -3.8746302   -7.7102246 ]\n",
      " [  8.461737     3.488795  ]\n",
      " [ -2.9855368  -10.363907  ]\n",
      " [ -4.3325787   -8.440752  ]\n",
      " [  8.542121     4.9818277 ]\n",
      " [ -1.9604208   -8.873977  ]\n",
      " [ -2.7259488   -8.845068  ]\n",
      " [  7.168546     3.9781618 ]\n",
      " [  8.437181     4.601076  ]\n",
      " [ -2.8101258   -9.039558  ]\n",
      " [  6.8697004    1.895816  ]\n",
      " [  5.106079     5.1688995 ]\n",
      " [  5.723507     2.9781814 ]\n",
      " [  7.0216484    3.4909797 ]\n",
      " [ -2.0167768   -9.756744  ]\n",
      " [ -2.0137606   -7.268175  ]\n",
      " [  7.0262985    3.896807  ]\n",
      " [ -3.444375    -9.146772  ]\n",
      " [  8.320475     1.4232137 ]\n",
      " [ -4.5000396   -8.577863  ]\n",
      " [  7.446222     4.237891  ]\n",
      " [  6.7105694    1.651472  ]\n",
      " [  7.0225286    1.8492386 ]\n",
      " [  8.167989     4.9849973 ]\n",
      " [ -4.529224    -7.750746  ]\n",
      " [  9.288561     3.8546402 ]\n",
      " [ -3.1707718   -9.65032   ]\n",
      " [ -2.4145374  -10.171262  ]\n",
      " [ -4.390422    -7.993816  ]\n",
      " [  8.872564     2.2624142 ]\n",
      " [  7.053499     2.39192   ]\n",
      " [ -4.0264945   -8.507057  ]\n",
      " [ -2.5105553   -8.750834  ]\n",
      " [  7.980383     2.2917821 ]\n",
      " [  6.9375362    3.241324  ]\n",
      " [  7.510973     4.938013  ]\n",
      " [  8.107039     3.1771092 ]\n",
      " [  6.914669     4.496115  ]\n",
      " [  7.359861     2.8989387 ]\n",
      " [  5.3359785    3.9441538 ]\n",
      " [  6.166717     2.6457758 ]\n",
      " [ -3.34221     -7.8203807 ]\n",
      " [  6.5416155    4.012255  ]\n",
      " [ -4.9346023   -9.150372  ]\n",
      " [ -3.4601936   -9.512614  ]\n",
      " [  8.528774     4.354089  ]\n",
      " [  7.201895     4.5016537 ]\n",
      " [  7.542087     2.970573  ]\n",
      " [  8.532061     2.5492582 ]\n",
      " [ -2.075952    -7.6555967 ]\n",
      " [  5.8592186    2.89144   ]\n",
      " [ -2.7883973   -9.9248085 ]\n",
      " [ -2.932772    -7.958505  ]\n",
      " [  7.3503356    4.3404713 ]\n",
      " [  8.684788     2.814733  ]\n",
      " [ -5.061695    -8.673136  ]\n",
      " [  8.046469     4.29519   ]\n",
      " [ -2.7143538   -8.096656  ]\n",
      " [ -3.806381    -9.067098  ]\n",
      " [ -3.4402413   -7.1343107 ]\n",
      " [ -3.76722    -11.015411  ]\n",
      " [ -2.1664257   -8.927447  ]\n",
      " [  7.602385     5.61408   ]\n",
      " [  7.8720937    2.079683  ]\n",
      " [ -4.4073296   -9.738204  ]\n",
      " [  7.601879     5.562687  ]\n",
      " [  7.2222733    1.7992516 ]\n",
      " [ -4.3990197   -7.834348  ]\n",
      " [ -4.185875    -7.964313  ]\n",
      " [  7.223422     1.3495574 ]\n",
      " [  6.538475     3.7065654 ]\n",
      " [  7.601249     3.8983517 ]\n",
      " [ -1.8310777   -7.652687  ]\n",
      " [  7.4020767    5.14502   ]\n",
      " [  8.324658     3.0039282 ]\n",
      " [  5.438739     4.2863517 ]\n",
      " [ -4.4078856  -10.065844  ]\n",
      " [  6.7363224    2.8480387 ]\n",
      " [  6.052589     3.7174141 ]\n",
      " [  8.726362     5.6473055 ]\n",
      " [ -2.16296     -9.9759    ]\n",
      " [  7.243354     2.7992713 ]\n",
      " [ -4.9135456   -7.935411  ]\n",
      " [ -0.9910531  -10.699304  ]\n",
      " [  7.765398     3.0608773 ]\n",
      " [ -1.5381045   -9.146447  ]\n",
      " [  7.192905     1.4490538 ]\n",
      " [ -4.114737    -7.829215  ]\n",
      " [  6.7473955    3.6709304 ]\n",
      " [ -2.7201428   -8.345045  ]\n",
      " [ -2.761119    -7.3556094 ]\n",
      " [  8.047164     1.5630255 ]\n",
      " [  7.2486777    3.0210147 ]\n",
      " [  8.270275     4.901756  ]\n",
      " [  7.7373853    4.0155153 ]\n",
      " [  7.0714126    5.0836854 ]\n",
      " [  7.112316     3.3835707 ]\n",
      " [ -2.5783339   -8.330637  ]\n",
      " [ -4.104262    -8.893864  ]\n",
      " [  7.9097247    5.3848023 ]\n",
      " [  6.345878     4.757234  ]\n",
      " [ -2.1895475  -11.35677   ]\n",
      " [  6.4964504    4.813913  ]\n",
      " [  7.3493085    3.6170826 ]\n",
      " [  7.3880115    0.54716825]\n",
      " [ -3.3739376   -8.706437  ]\n",
      " [  5.7703123    3.6645398 ]\n",
      " [ -3.754109   -10.1465225 ]\n",
      " [ -2.4611049   -8.991683  ]\n",
      " [  8.247579     1.6271747 ]\n",
      " [  8.5825205    2.409123  ]\n",
      " [ -2.5256267   -7.255412  ]\n",
      " [ -2.2049265   -8.517669  ]\n",
      " [ -2.641246    -8.389508  ]\n",
      " [ -2.7851462   -8.622174  ]\n",
      " [  7.6367464    4.4201493 ]\n",
      " [ -4.816848    -9.202312  ]\n",
      " [  9.442298     1.9939368 ]\n",
      " [ -3.0044167   -8.171709  ]\n",
      " [  7.456674     3.8371701 ]\n",
      " [ -2.562437    -7.498547  ]\n",
      " [  7.987482     4.1339746 ]\n",
      " [ -2.7170413   -7.968787  ]\n",
      " [  7.5742545    3.205776  ]\n",
      " [ -3.786843    -7.9438715 ]\n",
      " [  8.318595     3.5538568 ]\n",
      " [ -4.2521954   -8.9913845 ]\n",
      " [ -1.9072857   -9.325256  ]\n",
      " [  6.7205353    2.3312712 ]\n",
      " [  6.2588916    5.482929  ]\n",
      " [  7.3875437    1.4566613 ]\n",
      " [  5.2908497    2.8167868 ]\n",
      " [ -2.71312     -8.877291  ]\n",
      " [  7.563202     3.5594187 ]\n",
      " [ -3.6057835   -8.592083  ]\n",
      " [ -1.735861    -6.1639457 ]\n",
      " [ -4.305623    -6.750084  ]\n",
      " [ -4.131647   -10.340651  ]\n",
      " [ -3.973616    -8.709963  ]\n",
      " [ -3.6117563  -10.130193  ]\n",
      " [  8.388429     3.4529922 ]\n",
      " [ -2.916674    -8.150766  ]\n",
      " [ -1.666217    -8.825242  ]\n",
      " [  7.3116717    3.639135  ]\n",
      " [ -4.1664214  -11.2137375 ]\n",
      " [ -4.5810785   -6.7883244 ]\n",
      " [  7.7092423    4.689962  ]\n",
      " [  8.234855     1.9542779 ]\n",
      " [ -3.7251964   -8.049778  ]\n",
      " [  6.460399     1.1260903 ]\n",
      " [ -2.9360683   -8.855613  ]\n",
      " [  8.354245     3.207417  ]\n",
      " [  7.198347     2.309687  ]\n",
      " [  8.658639     3.7646668 ]\n",
      " [  6.384486     3.2985635 ]\n",
      " [  8.068494     4.0409093 ]\n",
      " [ -2.733365    -8.916228  ]\n",
      " [  7.5502467    1.5513549 ]\n",
      " [  7.9774275    2.1859932 ]\n",
      " [ -2.7871866   -7.803634  ]\n",
      " [ -3.3783627   -8.757704  ]\n",
      " [  8.060335     2.7740767 ]\n",
      " [  7.705743     1.0520384 ]\n",
      " [ -2.5647302   -7.928173  ]\n",
      " [ -3.849075    -9.727292  ]\n",
      " [  7.5574274    3.5121312 ]\n",
      " [  7.89102      4.072353  ]\n",
      " [ -3.220384    -8.74587   ]\n",
      " [  8.150992     4.8709865 ]\n",
      " [  7.992838     3.6942706 ]\n",
      " [  6.8077497    3.336226  ]\n",
      " [ -3.6857865   -8.525319  ]\n",
      " [  8.622082     1.6876327 ]\n",
      " [  9.3004055    3.2402065 ]\n",
      " [ -2.3670175  -10.073586  ]\n",
      " [  7.8726254    0.64779246]\n",
      " [  5.7184753    1.0701072 ]\n",
      " [ -3.0431194   -9.083832  ]\n",
      " [  7.3572946    4.7254663 ]\n",
      " [  7.567246     3.7526102 ]\n",
      " [ -2.1845748   -8.28963   ]\n",
      " [  8.250758     0.8683014 ]\n",
      " [  6.66656      4.2643657 ]\n",
      " [ -2.9567208   -8.051322  ]\n",
      " [  6.4963493    1.7925874 ]\n",
      " [ -4.0987606   -8.658868  ]\n",
      " [  8.048813     2.603971  ]\n",
      " [  6.2847958    4.674155  ]\n",
      " [  7.096548     3.848634  ]\n",
      " [ -0.71655154  -7.689274  ]\n",
      " [  8.067708     2.1009848 ]\n",
      " [  7.0215197    5.4775405 ]\n",
      " [ -3.8207335   -7.919446  ]\n",
      " [  7.6741815    4.090339  ]\n",
      " [  7.0255947    3.6267576 ]\n",
      " [  5.4484987    1.0241938 ]\n",
      " [ -3.0825593  -10.235093  ]\n",
      " [  8.121594     1.6479918 ]\n",
      " [  9.099214     4.578826  ]\n",
      " [  7.6082935    4.7557836 ]\n",
      " [  5.3214226    3.309619  ]\n",
      " [  7.155543     3.0492964 ]\n",
      " [  6.701906     3.027979  ]\n",
      " [  7.0561523    3.7079105 ]\n",
      " [ -2.1968122   -7.886162  ]\n",
      " [  7.554105     3.1818929 ]\n",
      " [  6.8995886    4.3994784 ]\n",
      " [  5.851249     3.575568  ]\n",
      " [ -5.262287    -7.526883  ]\n",
      " [  4.441084     4.993981  ]\n",
      " [  8.9248295    2.3326588 ]\n",
      " [  6.917738     2.3063965 ]\n",
      " [ -3.8068511   -7.605395  ]\n",
      " [  7.718869     3.4197013 ]\n",
      " [ -3.3697693   -9.062893  ]\n",
      " [ -3.100207    -9.426337  ]\n",
      " [  6.110271     4.756371  ]\n",
      " [ -2.4597688   -5.8021812 ]\n",
      " [ -2.7858288   -7.2062173 ]\n",
      " [  7.8422976    3.6625214 ]\n",
      " [  6.5483294    1.5272884 ]\n",
      " [  8.326632     3.3235207 ]\n",
      " [  9.3952055    2.3077488 ]\n",
      " [  8.85708      3.6274745 ]\n",
      " [  6.623497     3.6120195 ]\n",
      " [ -1.3763901   -7.9320626 ]\n",
      " [ -4.2636786   -8.107221  ]\n",
      " [  8.668283     4.600606  ]\n",
      " [ -1.7931274   -9.044841  ]\n",
      " [ -4.0038013   -9.283006  ]\n",
      " [  6.666477     2.6255608 ]\n",
      " [ -3.4992638   -8.648313  ]\n",
      " [ -2.7282743   -7.0725794 ]\n",
      " [  7.7440004    1.2697139 ]\n",
      " [ -2.5835283   -8.8780575 ]\n",
      " [  7.656591     1.3346399 ]\n",
      " [ -3.4366755   -6.5899158 ]\n",
      " [  5.6306953    4.037203  ]\n",
      " [ -3.7915554   -8.878474  ]\n",
      " [ -2.2509422  -10.22995   ]\n",
      " [ -2.9424598   -6.4808083 ]\n",
      " [ -4.2369614   -7.6823187 ]\n",
      " [ -3.7133632   -8.854182  ]\n",
      " [  9.185739     4.7498827 ]\n",
      " [  8.290956     3.7179844 ]\n",
      " [  8.269149     2.164671  ]\n",
      " [ -3.326466    -9.035378  ]\n",
      " [  6.7524147    3.9515095 ]\n",
      " [  7.0041885    4.1351724 ]\n",
      " [ -3.255435    -7.174402  ]\n",
      " [ -1.4602562   -9.331887  ]\n",
      " [  7.767502     4.4128265 ]\n",
      " [ -4.69169     -8.428443  ]\n",
      " [  6.3321667    4.0065513 ]\n",
      " [  8.540321    -0.1780119 ]\n",
      " [  7.906212     1.4065385 ]\n",
      " [  7.911119     1.779238  ]\n",
      " [ -4.1453586   -7.9511366 ]\n",
      " [  9.1852665    0.27132535]\n",
      " [  8.109051     4.183774  ]\n",
      " [  5.491188    -0.17296052]\n",
      " [ -4.3338146   -7.8875384 ]\n",
      " [  8.4182205    3.0770853 ]\n",
      " [  6.477832     3.1676757 ]\n",
      " [ -3.32134     -9.089941  ]\n",
      " [ -3.3549962   -9.963356  ]\n",
      " [  6.624191     5.1413865 ]\n",
      " [ -3.912974    -8.606805  ]\n",
      " [  8.750238     4.318319  ]\n",
      " [  5.981169     2.4376636 ]\n",
      " [  6.487948     4.6893086 ]\n",
      " [  7.094715     0.4250399 ]\n",
      " [  7.6112194    6.002123  ]\n",
      " [  8.03209      2.334068  ]\n",
      " [  8.138956     0.9817281 ]\n",
      " [  6.092905     0.72183204]\n",
      " [  8.188491     0.82744324]\n",
      " [  7.0505333    3.7528539 ]\n",
      " [ -4.1535006   -9.4522085 ]\n",
      " [ -3.4150834   -6.50216   ]\n",
      " [ -3.1892607   -9.358511  ]\n",
      " [  8.458602     2.8427129 ]\n",
      " [ -4.874859    -8.413359  ]\n",
      " [ 10.484328     1.4825838 ]\n",
      " [  7.4269824    5.3757453 ]\n",
      " [ -2.0922527   -8.784485  ]\n",
      " [ -4.2582426   -7.621031  ]\n",
      " [  7.735127     4.2776423 ]\n",
      " [  7.2760987    4.9667    ]\n",
      " [  7.7138906    5.0351353 ]\n",
      " [ -4.038967    -7.6395087 ]\n",
      " [  7.2489066    4.538885  ]\n",
      " [ -3.5749004   -8.712195  ]\n",
      " [  7.2834935    2.0599034 ]\n",
      " [  6.341762     1.0710983 ]\n",
      " [  8.320651    -0.4017911 ]\n",
      " [  7.588635     2.4141006 ]\n",
      " [  6.015517     3.2797065 ]\n",
      " [ -2.5710711   -7.782282  ]\n",
      " [ -1.2977005   -8.765951  ]\n",
      " [  8.342765     0.50361216]\n",
      " [  7.5999475    4.3825426 ]\n",
      " [ -2.078791    -7.379183  ]\n",
      " [ -2.6007748   -8.156064  ]\n",
      " [  7.877597     1.8670056 ]\n",
      " [  7.4566975    4.093865  ]\n",
      " [  7.9858093    5.181631  ]\n",
      " [ -3.0427673   -7.389551  ]\n",
      " [  5.8228793    3.558545  ]\n",
      " [  8.167875     5.2039905 ]\n",
      " [ -3.079358    -9.642446  ]\n",
      " [ -1.5933857   -8.553751  ]\n",
      " [  6.6447163    2.179157  ]\n",
      " [  9.077251     2.022278  ]\n",
      " [  9.844471     2.0992918 ]\n",
      " [ -3.087172    -7.7276    ]\n",
      " [  6.643898     5.809663  ]\n",
      " [  8.975074     3.7627497 ]\n",
      " [  6.4053545    2.357057  ]\n",
      " [  6.67227      5.0819163 ]\n",
      " [ -1.6898868   -7.1429834 ]\n",
      " [  7.504524     4.0538206 ]\n",
      " [ -3.380122    -7.906974  ]\n",
      " [  8.920206     3.1169214 ]\n",
      " [ -4.4967403   -8.091714  ]\n",
      " [ -3.8637528   -7.804395  ]\n",
      " [ -3.1890428   -8.217205  ]\n",
      " [  8.406119     4.513758  ]\n",
      " [  7.800288     2.7614415 ]\n",
      " [  7.8911676    4.052324  ]\n",
      " [  7.452277     4.2101927 ]\n",
      " [  8.773907     1.1614745 ]\n",
      " [  6.7458277    5.4131308 ]\n",
      " [  7.4183455    5.3078985 ]\n",
      " [  7.85252      4.7895126 ]\n",
      " [  7.8530655    3.216996  ]\n",
      " [  7.8239856    3.5215168 ]\n",
      " [ -4.034971    -9.421504  ]\n",
      " [  7.634033     3.0019155 ]\n",
      " [  5.55544      4.167005  ]\n",
      " [ -2.7416525   -7.349194  ]\n",
      " [ -2.051198    -8.998331  ]\n",
      " [  9.382428     1.2576356 ]\n",
      " [ -2.2203102   -8.067419  ]\n",
      " [  7.816366     1.8328359 ]\n",
      " [  8.617394     5.4865084 ]\n",
      " [ -1.4751588   -7.623005  ]\n",
      " [  7.811775     3.8367689 ]\n",
      " [ -5.3146896   -9.146086  ]\n",
      " [  7.601088     2.7339306 ]\n",
      " [  5.428507     1.2458619 ]\n",
      " [  9.475009     0.43859065]\n",
      " [  6.0642905    4.520255  ]\n",
      " [  8.439567     2.968237  ]\n",
      " [  6.14257      2.1566677 ]\n",
      " [  7.6630106    4.5214257 ]\n",
      " [  7.701515     4.2108326 ]\n",
      " [  6.1510396    1.8151691 ]\n",
      " [  8.854338     2.9477072 ]\n",
      " [ -2.804819    -9.315786  ]\n",
      " [  7.76694      4.373119  ]\n",
      " [ -3.9185433   -9.126276  ]\n",
      " [  6.203731     2.3109117 ]\n",
      " [  7.6073503    3.4514008 ]\n",
      " [ -3.714786    -7.162946  ]\n",
      " [  8.345237     1.0817013 ]\n",
      " [ -2.8242376   -6.654596  ]\n",
      " [ -4.129576    -9.474604  ]\n",
      " [  7.80915      3.082364  ]\n",
      " [  7.0088086    1.691361  ]\n",
      " [ -1.6750032   -8.217464  ]\n",
      " [ -3.122555    -9.03246   ]\n",
      " [  9.0989485    2.1418958 ]\n",
      " [ -1.5384212  -10.229502  ]\n",
      " [  7.466291     2.236005  ]\n",
      " [ -3.0302212   -6.959706  ]\n",
      " [  8.385928     2.8074117 ]\n",
      " [  6.837857     2.5839427 ]\n",
      " [  6.1808133    5.57369   ]\n",
      " [  6.5222163    3.2498884 ]\n",
      " [  7.40569     -0.6114938 ]\n",
      " [  7.4869647    4.5479164 ]\n",
      " [ -1.4374286   -9.557978  ]\n",
      " [ -2.5506868   -7.5904727 ]\n",
      " [  8.410004     4.187667  ]\n",
      " [  6.60203      1.8030741 ]\n",
      " [  7.5911627    2.350916  ]\n",
      " [  9.654027     1.927819  ]\n",
      " [  8.856824     3.1819339 ]\n",
      " [  7.1831594    5.7771173 ]\n",
      " [  6.4891624    2.7674263 ]\n",
      " [  8.069293     4.9504633 ]\n",
      " [  5.8202353    2.3146098 ]\n",
      " [  6.1334257    4.604015  ]\n",
      " [  8.16711      3.5309443 ]\n",
      " [  7.2360225    4.6292562 ]\n",
      " [  7.860603     3.0792613 ]\n",
      " [  7.829074     3.7182925 ]\n",
      " [  6.995454     3.4874334 ]\n",
      " [  7.209846     0.9588102 ]\n",
      " [  8.0884695    3.5532446 ]\n",
      " [  5.8418245    1.1479627 ]\n",
      " [  6.970969     3.6759431 ]\n",
      " [  8.613388     2.4758508 ]\n",
      " [ -4.3364897   -8.815047  ]\n",
      " [  7.119013     2.2426033 ]\n",
      " [  7.172378     3.7603772 ]\n",
      " [  7.950224     2.000573  ]\n",
      " [  9.049616     5.1730704 ]\n",
      " [ -3.8354034   -8.395191  ]\n",
      " [ -4.5048933   -7.418707  ]\n",
      " [  8.281523     3.2370048 ]\n",
      " [  7.211257     3.6121993 ]\n",
      " [  6.357561     3.973109  ]\n",
      " [ -3.0497172   -7.5622783 ]\n",
      " [  6.253553     3.4246624 ]\n",
      " [ -4.0133915   -8.180098  ]\n",
      " [  7.428158     3.5573351 ]\n",
      " [  6.990513     1.1870375 ]\n",
      " [  8.4787245    0.9959943 ]] \n",
      "\n",
      "CPU times: user 74.6 ms, sys: 971 µs, total: 75.5 ms\n",
      "Wall time: 589 ms\n"
     ]
    },
    {
     "data": {
      "text/plain": [
       "0    0.0\n",
       "1    1.0\n",
       "2    0.0\n",
       "3    0.0\n",
       "4    1.0\n",
       "5    0.0\n",
       "6    0.0\n",
       "7    1.0\n",
       "8    1.0\n",
       "9    0.0\n",
       "dtype: float32"
      ]
     },
     "execution_count": 29,
     "metadata": {},
     "output_type": "execute_result"
    }
   ],
   "source": [
    "# Klassifizierung\n",
    "to_predict_c = X_test_c\n",
    "print(f\"Länge: {len(to_predict_c)} \\nTyp: {type(to_predict_c)}\\n {to_predict_c} \\n\")\n",
    "# Klassifizierung\n",
    "to_predict__dask_c = dask_cudf.from_cudf(cudf.DataFrame( to_predict_c ), npartitions=n_workers)\n",
    "pred_futures_c = multi_rm_c.predict(to_predict__dask_c)\n",
    "# Klassifizierung\n",
    "%time pred_futures__MultiNodeOrig_results_c = pred_futures_c.compute()\n",
    "pred_futures__MultiNodeOrig_results_c.head(10)"
   ]
  },
  {
   "cell_type": "markdown",
   "id": "bacd9b87-9a7b-413a-8cfa-7b69dc0f2520",
   "metadata": {},
   "source": [
    "# 3. Speichern, Laden, Testen"
   ]
  },
  {
   "cell_type": "markdown",
   "id": "344d2d86-588f-41e4-83fe-e779604696f1",
   "metadata": {},
   "source": [
    "Das Speichern bei MNMG geht etwas anders, aber auch schnell und einfach. Dazu muss das verteilte Model zusammengefasst werden.\n",
    "\n",
    "Multi-Node / Multi-GPU => Single-Node/Single-GPU Model\n",
    "\n",
    "<br>\n",
    "\n",
    "Speichern und Laden: https://docs.rapids.ai/api/cuml/stable/pickling_cuml_models/"
   ]
  },
  {
   "cell_type": "code",
   "execution_count": 31,
   "id": "583499fe-dc0f-45bb-aa51-efb299c7526c",
   "metadata": {
    "tags": []
   },
   "outputs": [],
   "source": [
    "combined_c = multi_rm_c.get_combined_model()\n",
    "combined_r = multi_rm_r.get_combined_model()"
   ]
  },
  {
   "cell_type": "code",
   "execution_count": 32,
   "id": "5264560a-2689-4386-81ac-704769485b67",
   "metadata": {
    "tags": []
   },
   "outputs": [],
   "source": [
    "# Speichere Single-Node/Single-GPU Model \n",
    "import pickle\n",
    "# RM Klassifizierer\n",
    "pickle.dump(combined_c, open(\"template_data_RM_Multi/cuml_SingleNode_RM_c_model.pkl\", \"wb\"))\n",
    "# RM Regressor\n",
    "pickle.dump(combined_r, open(\"template_data_RM_Multi/cuml_SingleNode_RM_r_model.pkl\", \"wb\"))\n",
    "\n",
    "# Lade:\n",
    "loaded_model_c = pickle.load(open(\"template_data_RM_Multi/cuml_SingleNode_RM_c_model.pkl\", \"rb\"))\n",
    "loaded_model_r = pickle.load(open(\"template_data_RM_Multi/cuml_SingleNode_RM_r_model.pkl\", \"rb\"))"
   ]
  },
  {
   "cell_type": "markdown",
   "id": "3d7e5135-768c-45b9-a8c3-1b70419fc22d",
   "metadata": {},
   "source": [
    "Das Predicten sollte dann ohne Probleme funktionieren."
   ]
  },
  {
   "cell_type": "code",
   "execution_count": 34,
   "id": "898236b2-5612-4eaf-bed6-0a3ed0e89fc6",
   "metadata": {
    "tags": []
   },
   "outputs": [
    {
     "data": {
      "text/plain": [
       "array([2.], dtype=float32)"
      ]
     },
     "execution_count": 34,
     "metadata": {},
     "output_type": "execute_result"
    }
   ],
   "source": [
    "# Klassifizierung\n",
    "loaded_model_c.predict(cp.asarray( [ [1.5, 2.4] ], dtype=cp.float32 ))"
   ]
  },
  {
   "cell_type": "code",
   "execution_count": 35,
   "id": "3c4058b3-8128-4418-a58d-298f1da53dd1",
   "metadata": {
    "tags": []
   },
   "outputs": [
    {
     "data": {
      "text/plain": [
       "array([124.833855], dtype=float32)"
      ]
     },
     "execution_count": 35,
     "metadata": {},
     "output_type": "execute_result"
    }
   ],
   "source": [
    "# Regression\n",
    "loaded_model_r.predict(cp.asarray( [ [1.5, 2.4] ], dtype=cp.float32 ))"
   ]
  },
  {
   "cell_type": "markdown",
   "id": "1c669678-f888-4f10-ab2b-d728ff1e5e1e",
   "metadata": {},
   "source": [
    "Danach können wir Metriken nutzen."
   ]
  },
  {
   "cell_type": "code",
   "execution_count": 41,
   "id": "ac8068ca-6c77-4c35-a2b3-c00e721873e2",
   "metadata": {
    "tags": []
   },
   "outputs": [],
   "source": [
    "# Auch mit cuML möglich\n",
    "#   cuml.metrics.accuracy_score()    # GPU\n",
    "#   cuml.metrics.r2_score()          # GPU\n",
    "\n",
    "from sklearn.metrics import accuracy_score   # CPU\n",
    "from sklearn.metrics import r2_score         # CPU"
   ]
  },
  {
   "cell_type": "markdown",
   "id": "b45c6359-4e1b-4a43-b892-433033313a25",
   "metadata": {},
   "source": [
    "Konvertiere cuDF zu Numpy:"
   ]
  },
  {
   "cell_type": "code",
   "execution_count": 39,
   "id": "8aa4da6d-654f-4477-84e8-195378f45670",
   "metadata": {
    "tags": []
   },
   "outputs": [],
   "source": [
    "pred_c_numpy = cudf.DataFrame.to_numpy(pred_futures__MultiNodeOrig_results_c)\n",
    "pred_r_numpy = cudf.DataFrame.to_numpy(pred_futures__MultiNodeOrig_results_r)"
   ]
  },
  {
   "cell_type": "code",
   "execution_count": 123,
   "id": "7092e3b8-81e4-43e4-baae-16accc367ac6",
   "metadata": {
    "tags": []
   },
   "outputs": [
    {
     "name": "stdout",
     "output_type": "stream",
     "text": [
      "score__c: 0.8333333333333334 \n",
      "score__r: 0.9927694214601607\n"
     ]
    }
   ],
   "source": [
    "# Eval KNN Klassifizierer \n",
    "score__c = accuracy_score( y_test_c.get(), loaded_model_c.predict(X_test_c).get())\n",
    "\n",
    "# Eval KNN Regressor \n",
    "score__r = r2_score( y_test_r.get(), loaded_model_r.predict(X_test_r).get() )\n",
    "print(f\"score__c: {score__c} \\nscore__r: {score__r}\")"
   ]
  },
  {
   "cell_type": "markdown",
   "id": "c0b8c5b5-a602-4e38-a960-2a5a6e5e5b9b",
   "metadata": {},
   "source": [
    "Wir können wieder Predictions machen."
   ]
  },
  {
   "cell_type": "code",
   "execution_count": 133,
   "id": "a52c86c5-1562-4a7f-bba2-4386a7d4cb6a",
   "metadata": {
    "tags": []
   },
   "outputs": [],
   "source": [
    "pred__SingleLoadedModeOrig_results_c = loaded_model_c.predict(to_predict_c)\n",
    "pred__SingleLoadedModeOrig_results_r = loaded_model_r.predict(to_predict_r)"
   ]
  },
  {
   "cell_type": "code",
   "execution_count": 134,
   "id": "b517f553-84be-4a46-b577-4a31c627e101",
   "metadata": {
    "collapsed": true,
    "jupyter": {
     "outputs_hidden": true
    },
    "tags": []
   },
   "outputs": [
    {
     "data": {
      "text/plain": [
       "array([-6.66690216e+01,  3.05395012e+01, -2.18013325e+01, -2.49111061e+01,\n",
       "       -4.94766769e+01, -6.84624100e+01,  3.80654602e+01,  1.15754089e+02,\n",
       "       -4.36857176e+00, -1.79299431e+01,  4.94022369e+01,  3.54106102e+01,\n",
       "       -3.95462489e+00,  2.90549774e+01, -2.64627433e+00, -7.13911133e+01,\n",
       "       -9.37537193e+00, -4.07250633e+01, -6.52710114e+01, -5.25899887e+01,\n",
       "       -8.81695747e+00, -5.84501266e+01, -3.92684212e+01, -2.09454613e+01,\n",
       "       -3.81798983e+00,  5.94091377e+01,  1.33209267e+01,  4.03186836e+01,\n",
       "        3.44993439e+01, -7.65407486e+01,  7.07252655e+01, -3.01502972e+01,\n",
       "       -7.15061798e+01,  2.80474281e+01, -4.60887947e+01,  8.25705948e+01,\n",
       "        7.59161911e+01, -5.99445877e+01, -1.87173424e+01, -5.82415276e+01,\n",
       "        8.70534611e+00, -3.46351929e+01,  9.04294872e+00, -1.22446640e+02,\n",
       "       -4.83229790e+01,  5.15524025e+01,  1.87793446e+01,  4.50079193e+01,\n",
       "        4.46109009e+01, -1.09434357e+02, -6.60757599e+01, -1.61232929e+01,\n",
       "       -5.73884621e+01,  4.78678322e+01,  9.30490494e+01,  7.54552155e+01,\n",
       "        1.31792011e+01,  6.63059902e+00, -3.39259453e+01, -4.29713058e+01,\n",
       "       -1.12844067e+01, -5.92130947e+00,  5.81121368e+01, -5.82399406e+01,\n",
       "        6.47980576e+01,  7.67185516e+01, -2.18689880e+01,  8.57495117e+01,\n",
       "       -2.55432167e+01, -8.61449718e+00, -5.43878593e+01, -7.94949265e+01,\n",
       "        5.50608444e+01,  7.55613852e+00, -8.24516296e+01, -3.52020226e+01,\n",
       "        2.84169407e+01,  3.70717278e+01,  3.40174980e+01, -3.89206352e+01,\n",
       "       -1.99834938e+01, -6.00896835e+00, -1.01522646e+01,  2.05162220e+01,\n",
       "       -1.54696488e+00,  2.70679684e+01, -8.63673096e+01,  1.10711619e-01,\n",
       "        3.26601524e+01,  5.87573051e+01, -8.42745209e+00, -3.28723717e+01,\n",
       "        2.55756779e+01,  7.23597946e+01, -5.71009712e+01,  3.43266563e+01,\n",
       "        2.65315666e+01,  8.18514862e+01, -2.03595238e+01, -2.95144863e+01,\n",
       "        3.93518181e+01,  1.78481655e+01, -4.26641464e+01,  8.70436954e+00,\n",
       "       -4.04450340e+01, -3.57458000e+01, -1.26764231e+01, -7.21743011e+01,\n",
       "       -1.03135612e+02, -1.00082378e+01,  7.44643250e+01, -2.40332508e+01,\n",
       "        7.34372787e+01,  6.99927597e+01, -2.47110100e+01,  4.44519424e+01,\n",
       "       -4.69450836e+01,  2.77480373e+01, -7.56420059e+01, -4.11545410e+01,\n",
       "       -1.38980389e+01,  2.29614258e+01, -1.13872595e+01, -1.29545460e+01,\n",
       "       -4.80542068e+01, -7.68994141e+01, -9.93070984e+01,  9.04486465e+00,\n",
       "       -1.81660252e+01,  1.95665092e+01,  5.87573051e+01,  4.02668533e+01,\n",
       "        4.94369087e+01, -4.26981964e+01, -1.18279800e+02, -2.74463248e+00,\n",
       "        1.02998638e+01,  2.22437668e+01,  1.58331060e+01, -6.91065979e+01,\n",
       "       -8.79982224e+01, -2.89313316e+01, -1.85126476e+01, -3.18524456e+01,\n",
       "        2.52697968e+00,  4.33452187e+01, -1.47464705e+00, -8.50376129e+01,\n",
       "       -1.49550409e+01,  3.67805405e+01, -4.72827415e+01,  6.78825302e+01,\n",
       "        7.16470032e+01, -6.66690598e+01, -3.28891258e+01,  8.42588196e+01,\n",
       "        7.53545761e+01, -7.68994141e+01,  1.43283594e+00, -7.54413071e+01,\n",
       "       -2.87376289e+01, -7.10287628e+01,  4.93964691e+01,  1.25521832e+01,\n",
       "        6.27234688e+01,  1.18608456e+01, -4.53490334e+01,  3.94160461e+01,\n",
       "        1.12304697e+01,  1.71741753e+01,  1.86787586e+01,  2.25775003e+00,\n",
       "       -1.03413305e+01, -6.39751549e+01,  1.02369843e+01, -1.07702351e+01,\n",
       "       -7.02976837e+01, -1.24941734e+02, -4.51971436e+01,  1.56453552e+01,\n",
       "        1.59111242e+01,  5.28254585e+01,  1.24230909e+01,  2.59278469e+01,\n",
       "        8.25179749e+01, -1.80575466e+01,  1.57028790e+01, -5.41025085e+01,\n",
       "        2.12632465e+01, -3.77542915e+01, -3.91644707e+01,  5.80734863e+01,\n",
       "       -2.88205700e+01, -1.69501419e+01, -9.52351379e+01, -2.70788670e+01,\n",
       "       -2.86105690e+01, -9.01923676e+01, -6.44717941e+01, -3.81692085e+01,\n",
       "        8.20975208e+00, -5.22123032e+01,  1.15040947e+02, -7.70294342e+01,\n",
       "        3.10858212e+01, -1.20112848e+01, -6.28367653e+01, -5.59190598e+01,\n",
       "        1.38620872e+01,  1.30226765e+01, -8.58507385e+01,  9.00515137e+01,\n",
       "       -7.66662407e+00, -2.35701752e+01, -3.22868271e+01,  5.88915749e+01,\n",
       "       -3.53151817e+01, -1.81965675e+01,  4.54191284e+01,  3.67955742e+01,\n",
       "        4.15088501e+01,  3.47585526e+01,  7.86444244e+01,  1.35959015e+01,\n",
       "       -4.84564056e+01, -5.39045620e+00, -4.30061455e+01,  6.41567001e+01,\n",
       "       -5.69858398e+01, -3.65478592e+01,  7.37911177e+00, -5.00988579e+01,\n",
       "        4.15415802e+01, -2.24894924e+01, -2.91121407e+01, -7.03583374e+01,\n",
       "       -7.35922089e+01, -5.42304535e+01,  1.91830730e+01,  7.90690689e+01,\n",
       "       -1.46525657e+00, -1.24629951e+02,  5.94882812e+01, -4.25957012e+00,\n",
       "        7.38240957e+00,  1.09052773e+01,  7.12301788e+01,  4.02084694e+01,\n",
       "        2.43663025e+00,  1.58012724e+01, -6.80701904e+01, -1.82678471e+01,\n",
       "        9.51547527e+00, -4.98170013e+01,  2.22437668e+01,  4.43349419e+01,\n",
       "        3.99692917e+01,  7.55104523e+01,  7.47580566e+01,  1.52976999e+01,\n",
       "        3.62289238e+00,  5.81356382e+00, -5.84206581e+00, -7.20078049e+01,\n",
       "       -8.88009720e+01, -1.98523369e+01, -5.29649048e+01, -2.62518883e+01,\n",
       "        1.27303333e+01, -1.86167507e+01, -2.40476990e+01, -5.04604416e+01,\n",
       "       -1.77313347e+01,  1.71751213e+01, -6.27872124e+01, -2.53106480e+01,\n",
       "        2.00591679e+01, -6.24567127e+00, -1.07983713e+01,  6.78286057e+01,\n",
       "        7.31789474e+01, -5.02250786e+01,  1.21933266e+02, -7.74827051e+00,\n",
       "       -5.97060890e+01, -1.23081243e+00, -1.42580328e+01,  6.19208107e+01,\n",
       "       -3.35495110e+01,  3.62922897e+01, -8.13543167e+01, -3.82784424e+01,\n",
       "        1.35661926e+01, -6.89040222e+01, -2.85436172e+01, -5.72561693e+00,\n",
       "       -1.08317823e+01, -1.90193748e+00, -1.36587639e+01, -2.21780205e+01,\n",
       "        1.93773575e+01,  1.17743729e+02, -1.15402203e+01,  4.41306152e+01,\n",
       "       -6.88066406e+01, -1.53122604e+00, -6.84627686e+01,  1.68759537e+01,\n",
       "        6.03483696e+01,  7.42723923e+01, -6.07356873e+01,  8.65788174e+00,\n",
       "       -1.09264404e+02,  1.15414104e+01,  1.26992054e+01, -2.25773787e+00,\n",
       "        3.99648590e+01, -5.90556383e+00, -1.24167641e+02,  3.50654373e+01,\n",
       "       -1.24941734e+02, -6.79367828e+01,  8.03082886e+01, -2.44572659e+01,\n",
       "        2.98856926e+01, -1.85119362e+01, -2.90662365e+01,  9.00956879e+01,\n",
       "        4.75673637e+01,  3.04146528e+00,  5.55706024e+01, -3.58968711e+00,\n",
       "       -3.76501083e+01, -4.31783915e+00,  3.52642403e+01, -6.84787512e+00,\n",
       "        6.58063889e+01, -3.04307594e+01, -4.27967720e+01,  5.68529282e+01,\n",
       "        4.94173126e+01,  5.38448944e+01, -2.10731201e+01,  1.05931000e+02,\n",
       "       -7.24792023e+01,  4.10122795e+01, -3.12426968e+01, -4.51559982e+01,\n",
       "       -6.79054558e-01,  8.29153595e+01, -2.71514473e+01,  1.03382172e+02,\n",
       "        7.95340538e+00,  1.62087536e+01,  1.35208893e+01, -7.01510525e+00,\n",
       "       -4.93645439e+01, -9.91792374e+01,  4.33892975e+01,  9.78247147e+01,\n",
       "        2.66306758e+00,  7.05382690e+01, -2.49972134e+01, -3.69853897e+01,\n",
       "        3.68119979e+00,  2.59806385e+01, -1.10105915e+01,  8.79933929e+00,\n",
       "       -6.15473976e+01, -1.87953204e-01, -2.67554226e+01, -1.88841515e+01,\n",
       "       -4.01602936e+01,  6.63441563e+00, -4.72808685e+01,  1.60305214e+01,\n",
       "        3.95007820e+01, -4.32087440e+01,  5.27044220e+01,  1.61542377e+01,\n",
       "        7.42125092e+01,  5.61557999e+01, -7.45979473e-02,  1.92702732e+01,\n",
       "       -5.20837097e+01,  4.14545059e+00, -4.56026268e+01, -5.03429565e+01,\n",
       "        3.37647533e+00, -2.52933598e+00, -3.68512001e+01, -2.28872070e+01,\n",
       "        4.19336700e+01, -1.11380987e+01, -1.65007000e+01, -2.08895168e+01,\n",
       "        6.04567947e+01, -2.79407520e+01,  2.64207859e+01, -1.37824278e+01,\n",
       "       -4.42153473e+01, -1.10702759e+02,  1.40588903e+01, -6.60757599e+01,\n",
       "       -5.55140839e+01,  6.38122063e+01,  5.63434296e+01, -1.96830311e+01,\n",
       "       -4.64701118e+01, -4.21659088e+01, -7.94374695e+01,  2.83541183e+01,\n",
       "        4.04362564e+01, -8.11082382e+01,  4.27547302e+01, -2.21780205e+01,\n",
       "       -2.71099987e+01,  6.10121117e+01,  9.07584915e+01,  6.55085602e+01],\n",
       "      dtype=float32)"
      ]
     },
     "execution_count": 134,
     "metadata": {},
     "output_type": "execute_result"
    }
   ],
   "source": [
    "pred__SingleLoadedModeOrig_results_r"
   ]
  },
  {
   "cell_type": "markdown",
   "id": "a03ca5cf-594f-4c74-bc97-e56fb6aa4e52",
   "metadata": {},
   "source": [
    "## 3.1 Multi-Node/-Multi-GPU Predictions"
   ]
  },
  {
   "cell_type": "markdown",
   "id": "f7ecf101-9fcc-421a-ae7d-6fc821ddac59",
   "metadata": {},
   "source": [
    "Das trainierte Model ist momentan nur für den Single-GPU Bereich einsetzbar. Um die Predictions zu verteilen kann man.:<br>\n",
    "1) Jedem Worker das Model geben und die Daten hineinladen.\n",
    "\n"
   ]
  },
  {
   "cell_type": "markdown",
   "id": "ce71c12d-7732-4498-8f7d-40b5e61e9364",
   "metadata": {},
   "source": [
    "### 3.1.1 Details"
   ]
  },
  {
   "cell_type": "markdown",
   "id": "7f17d59d-51c6-4fd2-b7dd-a50a16bca49d",
   "metadata": {},
   "source": [
    "Das gespeicherte Model befindet sich auf dem Host oder wurde schon verteilt. In dem Fall, dass sich das Model auf dem Host befindet, muss es an jeweilige Worker verteilt werden."
   ]
  },
  {
   "cell_type": "code",
   "execution_count": 45,
   "id": "8898669c-fcbf-4771-baa0-7f9bd347c014",
   "metadata": {
    "tags": []
   },
   "outputs": [
    {
     "data": {
      "text/plain": [
       "RandomForestClassifier()"
      ]
     },
     "execution_count": 45,
     "metadata": {},
     "output_type": "execute_result"
    }
   ],
   "source": [
    "# Host lädt Model\n",
    "loaded_model_c = pickle.load(open(\"template_data_RM_Multi/cuml_SingleNode_RM_c_model.pkl\", \"rb\"))\n",
    "loaded_model_c"
   ]
  },
  {
   "cell_type": "markdown",
   "id": "081a7869-ff88-4e98-9148-7b2715b6a604",
   "metadata": {},
   "source": [
    "Mit Dask können wir das Model an alle Worker senden."
   ]
  },
  {
   "cell_type": "code",
   "execution_count": 46,
   "id": "06a3ee5b-0748-4de4-b348-f0a56d9674d6",
   "metadata": {
    "tags": []
   },
   "outputs": [],
   "source": [
    "futures = client.scatter(loaded_model_c, broadcast=True)"
   ]
  },
  {
   "cell_type": "code",
   "execution_count": 47,
   "id": "96c9ef2b-ad38-4fca-b16e-3f082c784f3f",
   "metadata": {
    "tags": []
   },
   "outputs": [
    {
     "data": {
      "text/html": [
       "<strong>Future: RandomForestClassifier</strong>\n",
       "<span style=\"color: var(--jp-ui-font-color2, gray)\"> status: </span>\n",
       "\n",
       "\n",
       "<span style=\"color: var(--jp-error-color0, black)\">finished</span>,\n",
       "\n",
       "\n",
       "\n",
       "<span style=\"color: var(--jp-ui-font-color2, gray)\"> type:</span> cuml.ensemble.randomforestclassifier.RandomForestClassifier,\n",
       "\n",
       "\n",
       "<span style=\"color: var(--jp-ui-font-color2, gray)\"> key:</span> RandomForestClassifier-5032de5a7a220fae390d0303c00816f5"
      ],
      "text/plain": [
       "<Future: finished, type: cuml.ensemble.randomforestclassifier.RandomForestClassifier, key: RandomForestClassifier-5032de5a7a220fae390d0303c00816f5>"
      ]
     },
     "execution_count": 47,
     "metadata": {},
     "output_type": "execute_result"
    }
   ],
   "source": [
    "# Future sollte den status finished angeben\n",
    "futures"
   ]
  },
  {
   "cell_type": "markdown",
   "id": "d6b3febf-6a60-4373-9b62-b7c244b1fc06",
   "metadata": {},
   "source": [
    "Jetzt können wir eine Funktion schreiben die uns die Predictions liefert. Wir können Lokale Daten nehmen oder erst wieder Daten für die Prediction verteilen."
   ]
  },
  {
   "cell_type": "code",
   "execution_count": 51,
   "id": "8aa90075-f78f-4b2e-b706-8d06e25bd593",
   "metadata": {
    "tags": []
   },
   "outputs": [
    {
     "data": {
      "text/html": [
       "<div><strong>Dask DataFrame Structure:</strong></div>\n",
       "<div>\n",
       "<style scoped>\n",
       "    .dataframe tbody tr th:only-of-type {\n",
       "        vertical-align: middle;\n",
       "    }\n",
       "\n",
       "    .dataframe tbody tr th {\n",
       "        vertical-align: top;\n",
       "    }\n",
       "\n",
       "    .dataframe thead th {\n",
       "        text-align: right;\n",
       "    }\n",
       "</style>\n",
       "<table border=\"1\" class=\"dataframe\">\n",
       "  <thead>\n",
       "    <tr style=\"text-align: right;\">\n",
       "      <th></th>\n",
       "      <th>0</th>\n",
       "      <th>1</th>\n",
       "    </tr>\n",
       "    <tr>\n",
       "      <th>npartitions=3</th>\n",
       "      <th></th>\n",
       "      <th></th>\n",
       "    </tr>\n",
       "  </thead>\n",
       "  <tbody>\n",
       "    <tr>\n",
       "      <th>0</th>\n",
       "      <td>float32</td>\n",
       "      <td>float32</td>\n",
       "    </tr>\n",
       "    <tr>\n",
       "      <th>140</th>\n",
       "      <td>...</td>\n",
       "      <td>...</td>\n",
       "    </tr>\n",
       "    <tr>\n",
       "      <th>280</th>\n",
       "      <td>...</td>\n",
       "      <td>...</td>\n",
       "    </tr>\n",
       "    <tr>\n",
       "      <th>419</th>\n",
       "      <td>...</td>\n",
       "      <td>...</td>\n",
       "    </tr>\n",
       "  </tbody>\n",
       "</table>\n",
       "</div>\n",
       "<div>Dask Name: from_cudf, 1 graph layer</div>"
      ],
      "text/plain": [
       "<dask_cudf.DataFrame | 3 tasks | 3 npartitions>"
      ]
     },
     "execution_count": 51,
     "metadata": {},
     "output_type": "execute_result"
    }
   ],
   "source": [
    "to_predict__dask = dask_cudf.from_cudf(cudf.DataFrame( X_test_c ), npartitions=n_workers)\n",
    "to_predict__dask"
   ]
  },
  {
   "cell_type": "markdown",
   "id": "39b115b3-a84a-4b31-9281-00629cf966f0",
   "metadata": {},
   "source": [
    "<img src=\"./pictures/pred1.PNG\"  width=\"925px;\" hight=\"925px;\">\n",
    "\n",
    "<img src=\"./pictures/pred2.PNG\"  width=\"325px;\" hight=\"225px;\" >"
   ]
  },
  {
   "cell_type": "markdown",
   "id": "b4366fb5-1748-4881-864f-e867088969d4",
   "metadata": {},
   "source": [
    "Mit Dask Delayed sagen wir, dass diese Funktion parallel ausgeführt werden soll. In der Funktion können wir verteilt Daten lesen und bearbeiten, bevor wir die Predictions machen. \n",
    "\n",
    "<br>\n",
    "\n",
    "Dask Delayed: https://docs.dask.org/en/stable/delayed.html"
   ]
  },
  {
   "cell_type": "code",
   "execution_count": 49,
   "id": "8aeabdad-1779-422a-9467-7658282113d1",
   "metadata": {
    "tags": []
   },
   "outputs": [
    {
     "data": {
      "text/plain": [
       "420"
      ]
     },
     "execution_count": 49,
     "metadata": {},
     "output_type": "execute_result"
    }
   ],
   "source": [
    "# Länge der Testdaten\n",
    "len(X_test_c)"
   ]
  },
  {
   "cell_type": "markdown",
   "id": "e404d180-a570-416e-b456-752e3f1f6aca",
   "metadata": {},
   "source": [
    "Wir haben die Daten als Dask-cuDF gelesen. Wenn wir das als Host machen, müssen wir in einer Schleife die Partitionen übergeben."
   ]
  },
  {
   "cell_type": "code",
   "execution_count": 119,
   "id": "17fad477-e23e-4025-9273-7311a59e5018",
   "metadata": {
    "tags": []
   },
   "outputs": [],
   "source": [
    "@dask.delayed\n",
    "def dask_predict(test_data, part):  # Jeder Worker führt das aus. \n",
    "    \n",
    "    # Das wird in der Console ausgegeben. Damit sehen wir das alles passt, und jeder worker seine Partitionen nimmt. \n",
    "    print(f\"type: {type(test_data)} länge: {len(test_data)}\\nHead:\\n{test_data.head(2)}\\nPartition: {part}\")\n",
    "\n",
    "    predictions = loaded_model_c.predict(test_data) \n",
    "\n",
    "    return predictions"
   ]
  },
  {
   "cell_type": "markdown",
   "id": "cdb867e4-2102-42fc-9601-a43f66dc0aaa",
   "metadata": {},
   "source": [
    "Wir müssen die Anzahl der Partitionen angeben. Die Worker werden die eigenen Partitionen bearbeiten."
   ]
  },
  {
   "cell_type": "code",
   "execution_count": 120,
   "id": "9e78e04d-6669-4d0f-bc64-b121970a8123",
   "metadata": {
    "tags": []
   },
   "outputs": [
    {
     "name": "stdout",
     "output_type": "stream",
     "text": [
      "Type: <class 'tuple'>\n",
      "\n"
     ]
    }
   ],
   "source": [
    "results = []\n",
    "parts = 3   # Anzahl Partitionen\n",
    "\n",
    "for part in range(parts):\n",
    "    fut = dask_predict( to_predict__dask.get_partition(part), part )\n",
    "    results.append( fut )\n",
    "    \n",
    "delayed_results = dask.compute(*results)\n",
    "\n",
    "print(f\"Type: {type(delayed_results)}\\n\")"
   ]
  },
  {
   "cell_type": "code",
   "execution_count": 121,
   "id": "7eaba39c-d0ce-46c1-ac42-aa9f0024d39f",
   "metadata": {
    "tags": []
   },
   "outputs": [
    {
     "data": {
      "text/plain": [
       "numpy.ndarray"
      ]
     },
     "execution_count": 121,
     "metadata": {},
     "output_type": "execute_result"
    }
   ],
   "source": [
    "# Mache daraus ein Numpy Array.\n",
    "deleayed_pred_c = []\n",
    "for i in range( len(delayed_results) ):\n",
    "    deleayed_pred_c = np.append(deleayed_pred_c, np.asarray( delayed_results[i].to_numpy()) )\n",
    "type(deleayed_pred_c)"
   ]
  },
  {
   "cell_type": "markdown",
   "id": "cdac4ebe-3722-40ca-b9bd-b923ced9ebc5",
   "metadata": {},
   "source": [
    "Danach werden wir überprüfen, ob die gemachten Predictions gleich sind."
   ]
  },
  {
   "cell_type": "code",
   "execution_count": 122,
   "id": "412256af-81ef-43c4-9efb-2de3156fb9f6",
   "metadata": {
    "tags": []
   },
   "outputs": [
    {
     "name": "stdout",
     "output_type": "stream",
     "text": [
      "Gebe 10 Zeilen aus, die ungleich sind\n"
     ]
    }
   ],
   "source": [
    "## Überprüfe ob das Array pred_futures__MultiNodeOrig_results == deleayed_pred ist.\n",
    "# cp.asnumpy() formt das Array in Numpy um.\n",
    "rapids_tools.arrays_equal( cp.asnumpy( pred__SingleLoadedModeOrig_results_c ),  deleayed_pred_c )"
   ]
  },
  {
   "cell_type": "markdown",
   "id": "b382bcad-ddfd-4cef-8d4b-9667ab7ff7a6",
   "metadata": {},
   "source": [
    "Eine andere Möglichkeit ist, dass die Worker die Daten lokal lesen und ggf. auch für sich diese Partitionieren. \n",
    "\n",
    "Es können wieder veschiedene Quellen angegeben werden. Für ein einfaches kleines Beispiel, schreibt jeder Worker eine CSV Datei die später gelesen wird. \n",
    "\n"
   ]
  },
  {
   "cell_type": "code",
   "execution_count": 140,
   "id": "3a8c5386-1d98-42f2-857a-16fe0cb3d063",
   "metadata": {
    "tags": []
   },
   "outputs": [],
   "source": [
    "## Diese Datei wird im lokalen Verzeichnis geschrieben.\n",
    "# Regression\n",
    "np.savetxt('csv_file.csv', cp.asnumpy( X_test_r ), delimiter=\",\", header=\"A,B\") # Sonst werden die Daten als header genommen "
   ]
  },
  {
   "cell_type": "code",
   "execution_count": 141,
   "id": "ce73ba00-c3d3-4667-878a-dcdaf1abd729",
   "metadata": {
    "tags": []
   },
   "outputs": [
    {
     "data": {
      "text/plain": [
       "(None, None, None)"
      ]
     },
     "execution_count": 141,
     "metadata": {},
     "output_type": "execute_result"
    }
   ],
   "source": [
    "## Damit schreibt jeder Worker diese Datei.\n",
    "@dask.delayed    # Jeder Worker führt das aus. \n",
    "def dask_write(test_data):\n",
    "    print(\"Write file\")\n",
    "    np.savetxt('csv_file.csv', np.asarray(test_data, dtype=np.float32), delimiter=\",\", header=\"A,B\")\n",
    "    \n",
    "futs = []\n",
    "for i in range(3):\n",
    "    futs.append(dask_write( cp.asnumpy( X_test_r ) ))\n",
    "dask.compute(*futs)"
   ]
  },
  {
   "cell_type": "markdown",
   "id": "f8e71704-8a08-4b4a-8006-6efa779a3332",
   "metadata": {},
   "source": [
    "jetzt können wir diese CSV Datei laden und für das Testen nutzen.\n",
    "Am Ende bekommen wir wieder ein Tupel. Diesemal werden alle Daten genutzt."
   ]
  },
  {
   "cell_type": "code",
   "execution_count": 147,
   "id": "dcd34fbc-a125-46aa-b3d7-8c41a04a517f",
   "metadata": {
    "tags": []
   },
   "outputs": [],
   "source": [
    "@dask.delayed\n",
    "def dask_predict_2():\n",
    "\n",
    "    test_data = cudf.read_csv(\"csv_file.csv\")       # Lese lokale Daten\n",
    "    test_data = test_data.astype(dtype='float32')   # Muss float32 sein, oder ändere IO\n",
    "    \n",
    "    # oder- nutze Dask-cuDF um lokale Daten zu partitionieren. \n",
    "    #test_data = dask_cudf.read_csv(\"csv_file.csv\",  blocksize=\"5KB\")       # Lese lokale Daten, gebe Blocksize an\n",
    "    #test_data = test_data.astype(dtype='float32')                          # Muss float32 sein, oder ändere IO\n",
    "    \n",
    "    print(f\"Data loaded, len: {len(test_data)}\")\n",
    "    \n",
    "    predictions = loaded_model_r.predict(test_data)\n",
    "    return predictions"
   ]
  },
  {
   "cell_type": "code",
   "execution_count": 148,
   "id": "ef6e7a2f-5034-4388-b95b-e71dba435f43",
   "metadata": {
    "collapsed": true,
    "jupyter": {
     "outputs_hidden": true
    },
    "tags": []
   },
   "outputs": [
    {
     "data": {
      "text/plain": [
       "(0    -66.669022\n",
       " 1     30.539501\n",
       " 2    -21.801332\n",
       " 3    -24.911106\n",
       " 4    -49.476677\n",
       "         ...    \n",
       " 23   -22.178020\n",
       " 24   -27.109999\n",
       " 25    61.012112\n",
       " 26    90.758492\n",
       " 27    65.508560\n",
       " Length: 420, dtype: float32,\n",
       " 0    -66.669022\n",
       " 1     30.539501\n",
       " 2    -21.801332\n",
       " 3    -24.911106\n",
       " 4    -49.476677\n",
       "         ...    \n",
       " 23   -22.178020\n",
       " 24   -27.109999\n",
       " 25    61.012112\n",
       " 26    90.758492\n",
       " 27    65.508560\n",
       " Length: 420, dtype: float32,\n",
       " 0    -66.669022\n",
       " 1     30.539501\n",
       " 2    -21.801332\n",
       " 3    -24.911106\n",
       " 4    -49.476677\n",
       "         ...    \n",
       " 23   -22.178020\n",
       " 24   -27.109999\n",
       " 25    61.012112\n",
       " 26    90.758492\n",
       " 27    65.508560\n",
       " Length: 420, dtype: float32)"
      ]
     },
     "execution_count": 148,
     "metadata": {},
     "output_type": "execute_result"
    }
   ],
   "source": [
    "futs = []\n",
    "for i in range(3):\n",
    "    futs.append(dask_predict_2())\n",
    "\n",
    "delayed_results = dask.compute(*futs)\n",
    "delayed_results"
   ]
  },
  {
   "cell_type": "markdown",
   "id": "cb4df66b-5629-4ea8-a780-9deb50537802",
   "metadata": {
    "tags": []
   },
   "source": [
    "Man sieht das alle Worker alle Predictions gemacht haben."
   ]
  },
  {
   "cell_type": "code",
   "execution_count": 150,
   "id": "5f22f736-f61a-4db6-b63e-79614f025680",
   "metadata": {
    "tags": []
   },
   "outputs": [
    {
     "data": {
      "text/plain": [
       "numpy.ndarray"
      ]
     },
     "execution_count": 150,
     "metadata": {},
     "output_type": "execute_result"
    }
   ],
   "source": [
    "# Mache daraus ein Numpy Array.\n",
    "deleayed_pred_r = []\n",
    "for i in range( 1 ):\n",
    "    deleayed_pred_r = np.append(deleayed_pred_r, np.asarray( delayed_results[i].to_numpy()) )\n",
    "type(deleayed_pred_r)"
   ]
  },
  {
   "cell_type": "code",
   "execution_count": 151,
   "id": "83485b82-378a-4b87-9a01-45133549a4f4",
   "metadata": {
    "tags": []
   },
   "outputs": [
    {
     "name": "stdout",
     "output_type": "stream",
     "text": [
      "Gebe 10 Zeilen aus, die ungleich sind\n"
     ]
    }
   ],
   "source": [
    "rapids_tools.arrays_equal( cp.asnumpy( pred__SingleLoadedModeOrig_results_r ),  deleayed_pred_r )"
   ]
  },
  {
   "cell_type": "markdown",
   "id": "3a0fab5b-9f4b-45f2-94c2-8843a35ebe26",
   "metadata": {},
   "source": [
    "## 3.2 Treelite"
   ]
  },
  {
   "cell_type": "markdown",
   "id": "1bf30938-2829-4853-8959-f4b577dc85ce",
   "metadata": {},
   "source": [
    "Jetzt schauen wir uns den Fall an, dass das Zielsystem keine GPU hat. Wir trainieren das Model mit GPUs und nutzen es in einem anderen System, dass keine GPUs besitzt. Für solche fälle können wir Random-Forest in einen allgemeinen Baum umwandeln.\n",
    "\n",
    "Auf dem Zielsystem muss dann nur die Library Treelite und numpy installiert sein.\n",
    "\n",
    "Das cuML Model bietet Intern schon Möglichkeiten Treelite Attribute zu extrahieren. \n",
    "\n",
    "<br>\n",
    "\n",
    "Treelite Dok.: https://treelite.readthedocs.io/en/latest/ <br>\n",
    "Wandel cuMl RM in Treelite um: https://docs.rapids.ai/api/cuml/nightly/pickling_cuml_models/#Exporting-cuML-Random-Forest-models-for-inferencing-on-machines-without-GPUs"
   ]
  },
  {
   "cell_type": "code",
   "execution_count": 152,
   "id": "356d52d8-1ef8-466e-ba67-976f195ea523",
   "metadata": {
    "tags": []
   },
   "outputs": [],
   "source": [
    "# Gebe ein Checkpoint Pfad an\n",
    "checkpoint_path = './template_data_RM_Multi/treelite_single_c.tl'\n",
    "# Klassifikation\n",
    "combined_c.convert_to_treelite_model().to_treelite_checkpoint(checkpoint_path)\n",
    "\n",
    "# Gebe ein Checkpoint Pfad an\n",
    "checkpoint_path = './template_data_RM_Multi/treelite_single_r.tl'\n",
    "# Regression\n",
    "combined_r.convert_to_treelite_model().to_treelite_checkpoint(checkpoint_path)"
   ]
  },
  {
   "cell_type": "markdown",
   "id": "b0b2bb6e-b753-4ada-98b3-2585c2717038",
   "metadata": {},
   "source": [
    "Danach muss das Model auf das Zielsystem kopiert werden. Dort sollte die Library treelite installiert sein, z.B. mit `pip install treelite`. Rapids bzw. cuML muss nicht vorhanden sein."
   ]
  },
  {
   "cell_type": "code",
   "execution_count": 153,
   "id": "9d854f88-472c-43ff-b538-4ffbc6ffbcf7",
   "metadata": {
    "tags": []
   },
   "outputs": [],
   "source": [
    "# Auf dem Zielsystem #\n",
    "\n",
    "# Treelite \n",
    "import treelite\n",
    "\n",
    "# The checkpoint file has been copied over\n",
    "checkpoint_path = './template_data_RM_Multi/treelite_single_c.tl'\n",
    "tl_model_c = treelite.Model.deserialize(checkpoint_path)\n",
    "\n",
    "# Regression\n",
    "checkpoint_path = './template_data_RM_Multi/treelite_single_r.tl'\n",
    "tl_model_r = treelite.Model.deserialize(checkpoint_path)"
   ]
  },
  {
   "cell_type": "code",
   "execution_count": 154,
   "id": "62382dbf-399b-4125-bc32-84991fdc048f",
   "metadata": {
    "tags": []
   },
   "outputs": [
    {
     "data": {
      "text/plain": [
       "array([[105.74283]], dtype=float32)"
      ]
     },
     "execution_count": 154,
     "metadata": {},
     "output_type": "execute_result"
    }
   ],
   "source": [
    "treelite.gtil.predict(tl_model_r, np.asarray([[1., 2.]],  dtype=np.float32))"
   ]
  },
  {
   "cell_type": "markdown",
   "id": "ad839d9d-3c2d-4f3b-9427-5359149e300d",
   "metadata": {},
   "source": [
    "Wir können wieder die Genauigkeit testen.\n",
    "\n",
    "<u>Hinweis:</u>\n",
    "In einer älteren Version von Rapids (23.04.00) gibt es ein Bug der dazu führt, dass der Baum des Klassifizierer nicht richtig zusammengeführt wird, was zu einem schlechten Score führt.<br>\n",
    "Siehe: https://github.com/rapidsai/cuml/issues/5359 und https://github.com/rapidsai/cuml/pull/5387  "
   ]
  },
  {
   "cell_type": "code",
   "execution_count": 155,
   "id": "44bdc226-d4f7-4b7e-ac94-f7d6bc3916ef",
   "metadata": {
    "tags": []
   },
   "outputs": [
    {
     "name": "stdout",
     "output_type": "stream",
     "text": [
      "score_c: 0.3738095238095238 \n",
      "score_r: 0.9927693920195462\n"
     ]
    }
   ],
   "source": [
    "predictions_c_treelite = treelite.gtil.predict(tl_model_c, np.asarray(X_test_c.get()))\n",
    "score__c      = accuracy_score( y_test_c.get(), predictions_c_treelite )\n",
    "\n",
    "predictions_r_treelite = treelite.gtil.predict(tl_model_r, np.asarray(X_test_r.get()))\n",
    "score__r      = r2_score( y_test_r.get(), predictions_r_treelite )\n",
    "\n",
    "\n",
    "print(f\"score_c: {score__c} \\nscore_r: {score__r}\")"
   ]
  },
  {
   "cell_type": "code",
   "execution_count": 163,
   "id": "c41d9bc7-5108-41ed-be78-1ffd3757e080",
   "metadata": {
    "collapsed": true,
    "jupyter": {
     "outputs_hidden": true
    },
    "tags": []
   },
   "outputs": [
    {
     "ename": "AssertionError",
     "evalue": "\nArrays are not almost equal to 4 decimals\n\nMismatched elements: 3 / 420 (0.714%)\nMax absolute difference: 0.00018311\nMax relative difference: 2.2971537e-06\n x: array([-6.6669e+01,  3.0540e+01, -2.1801e+01, -2.4911e+01, -4.9477e+01,\n       -6.8462e+01,  3.8065e+01,  1.1575e+02, -4.3686e+00, -1.7930e+01,\n        4.9402e+01,  3.5411e+01, -3.9546e+00,  2.9055e+01, -2.6463e+00,...\n y: array([-6.6669e+01,  3.0539e+01, -2.1801e+01, -2.4911e+01, -4.9477e+01,\n       -6.8462e+01,  3.8065e+01,  1.1575e+02, -4.3686e+00, -1.7930e+01,\n        4.9402e+01,  3.5411e+01, -3.9546e+00,  2.9055e+01, -2.6463e+00,...",
     "output_type": "error",
     "traceback": [
      "\u001b[0;31m---------------------------------------------------------------------------\u001b[0m",
      "\u001b[0;31mAssertionError\u001b[0m                            Traceback (most recent call last)",
      "\u001b[0;32m/tmp/ipykernel_3811/2981128481.py\u001b[0m in \u001b[0;36m<module>\u001b[0;34m\u001b[0m\n\u001b[0;32m----> 1\u001b[0;31m \u001b[0massert_array_almost_equal\u001b[0m\u001b[0;34m(\u001b[0m \u001b[0mcp\u001b[0m\u001b[0;34m.\u001b[0m\u001b[0masnumpy\u001b[0m\u001b[0;34m(\u001b[0m \u001b[0mpred__SingleLoadedModeOrig_results_r\u001b[0m \u001b[0;34m)\u001b[0m\u001b[0;34m,\u001b[0m  \u001b[0mpredictions_r_treelite\u001b[0m\u001b[0;34m,\u001b[0m \u001b[0mdecimal\u001b[0m\u001b[0;34m=\u001b[0m\u001b[0;36m4\u001b[0m \u001b[0;34m)\u001b[0m\u001b[0;34m\u001b[0m\u001b[0;34m\u001b[0m\u001b[0m\n\u001b[0m",
      "    \u001b[0;31m[... skipping hidden 1 frame]\u001b[0m\n",
      "\u001b[0;32m/opt/conda/envs/rapids/lib/python3.10/site-packages/numpy/testing/_private/utils.py\u001b[0m in \u001b[0;36massert_array_compare\u001b[0;34m(comparison, x, y, err_msg, verbose, header, precision, equal_nan, equal_inf)\u001b[0m\n\u001b[1;32m    842\u001b[0m                                 \u001b[0mverbose\u001b[0m\u001b[0;34m=\u001b[0m\u001b[0mverbose\u001b[0m\u001b[0;34m,\u001b[0m \u001b[0mheader\u001b[0m\u001b[0;34m=\u001b[0m\u001b[0mheader\u001b[0m\u001b[0;34m,\u001b[0m\u001b[0;34m\u001b[0m\u001b[0;34m\u001b[0m\u001b[0m\n\u001b[1;32m    843\u001b[0m                                 names=('x', 'y'), precision=precision)\n\u001b[0;32m--> 844\u001b[0;31m             \u001b[0;32mraise\u001b[0m \u001b[0mAssertionError\u001b[0m\u001b[0;34m(\u001b[0m\u001b[0mmsg\u001b[0m\u001b[0;34m)\u001b[0m\u001b[0;34m\u001b[0m\u001b[0;34m\u001b[0m\u001b[0m\n\u001b[0m\u001b[1;32m    845\u001b[0m     \u001b[0;32mexcept\u001b[0m \u001b[0mValueError\u001b[0m\u001b[0;34m:\u001b[0m\u001b[0;34m\u001b[0m\u001b[0;34m\u001b[0m\u001b[0m\n\u001b[1;32m    846\u001b[0m         \u001b[0;32mimport\u001b[0m \u001b[0mtraceback\u001b[0m\u001b[0;34m\u001b[0m\u001b[0;34m\u001b[0m\u001b[0m\n",
      "\u001b[0;31mAssertionError\u001b[0m: \nArrays are not almost equal to 4 decimals\n\nMismatched elements: 3 / 420 (0.714%)\nMax absolute difference: 0.00018311\nMax relative difference: 2.2971537e-06\n x: array([-6.6669e+01,  3.0540e+01, -2.1801e+01, -2.4911e+01, -4.9477e+01,\n       -6.8462e+01,  3.8065e+01,  1.1575e+02, -4.3686e+00, -1.7930e+01,\n        4.9402e+01,  3.5411e+01, -3.9546e+00,  2.9055e+01, -2.6463e+00,...\n y: array([-6.6669e+01,  3.0539e+01, -2.1801e+01, -2.4911e+01, -4.9477e+01,\n       -6.8462e+01,  3.8065e+01,  1.1575e+02, -4.3686e+00, -1.7930e+01,\n        4.9402e+01,  3.5411e+01, -3.9546e+00,  2.9055e+01, -2.6463e+00,..."
     ]
    }
   ],
   "source": [
    "rapids_tools.arrays_almost_equal( cp.asnumpy( pred__SingleLoadedModeOrig_results_r ),  predictions_r_treelite )"
   ]
  },
  {
   "cell_type": "code",
   "execution_count": 164,
   "id": "286617dd-2584-41c4-a763-b208dca42f79",
   "metadata": {
    "tags": []
   },
   "outputs": [],
   "source": [
    "client.shutdown()"
   ]
  },
  {
   "cell_type": "code",
   "execution_count": null,
   "id": "dd74b397-cc17-46ce-bad0-c552429dbf42",
   "metadata": {},
   "outputs": [],
   "source": []
  }
 ],
 "metadata": {
  "kernelspec": {
   "display_name": "Python 3 (ipykernel)",
   "language": "python",
   "name": "python3"
  },
  "language_info": {
   "codemirror_mode": {
    "name": "ipython",
    "version": 3
   },
   "file_extension": ".py",
   "mimetype": "text/x-python",
   "name": "python",
   "nbconvert_exporter": "python",
   "pygments_lexer": "ipython3",
   "version": "3.10.10"
  }
 },
 "nbformat": 4,
 "nbformat_minor": 5
}
