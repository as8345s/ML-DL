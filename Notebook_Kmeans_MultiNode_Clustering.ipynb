{
 "cells": [
  {
   "cell_type": "markdown",
   "id": "a7537cb7-bc0d-4854-a6cd-372a4054b8fa",
   "metadata": {},
   "source": [
    "# Template für K-means Clustering | Multi-Node/Multi-GPU\n",
    "\n",
    "\n",
    "***"
   ]
  },
  {
   "cell_type": "markdown",
   "id": "a7793ee9-7bdd-4f37-a61e-b2cb92c30505",
   "metadata": {},
   "source": [
    "<img src=\"./pictures/mog.PNG\"  width=\"1000px;\" hight=\"900px;\">"
   ]
  },
  {
   "cell_type": "markdown",
   "id": "a1f5918c-8434-45b7-9970-ae84e3c81f0e",
   "metadata": {},
   "source": [
    "In diesem Abschnitt wird erkläre, wie man den KMeans Algorithmus auf Worker skaliert und zum Laufen bringt. Dazu nutzen wir Dask und Rapids. Dask bietet uns ein Dashboard wo wir Einzelheiten verfolgen können. Dask-Cuda lässt sich gut mit PyTorch und anderen Frameworks kombinieren, ohne die Clustereinstellungen groß zu ändern.\n",
    "\n",
    "In dem Nootebook für das Setup wird erklärt, wie man selber sowas auf seinem eigenen PC/Workstation/Cluster installiert. Es gibt auch andere Möglichkeiten das zu installieren. Hier nutzen wir ein Cluster Setup mit Nodes, installiert mittels Docker.   \n",
    "\n",
    "<u>Hinweis:</u><br>\n",
    "Wenn es mal hängt, muss ggf. der Cluster, Worker oder das Notebook neu gestartet werden. Sowas passiert, wenn z.B. eine Exception vorkommt.   \n",
    "\n",
    "<br>\n",
    "\n",
    "Dask: https://www.dask.org | https://docs.dask.org/en/stable/ <br>\n",
    "Rapids: https://rapids.ai <br> "
   ]
  },
  {
   "cell_type": "markdown",
   "id": "5119a23c-4033-40ae-b813-553e5a1f8c59",
   "metadata": {},
   "source": [
    "# 1. Rapids und Dask"
   ]
  },
  {
   "cell_type": "markdown",
   "id": "02b31999-47b0-44f9-a02b-7827f123ca6f",
   "metadata": {
    "tags": []
   },
   "source": [
    "<img src=\"./pictures/raspids_oss.PNG\"  width=\"825px;\" hight=\"725px;\">\n",
    "(Bild: (https://on-demand.gputechconf.com/gtcdc/2018/pdf/dc8256-rapids-the-platform-inside-and-out.pdf))"
   ]
  },
  {
   "cell_type": "markdown",
   "id": "94c48d04-20b7-46dd-86a1-bde05c6653d6",
   "metadata": {},
   "source": [
    "Rapids bietet uns eine Sammlung von Libraries, die uns bei vielen Dingen unterstützen kann. Eine dieser Libraries, die wir nutzen werden, nennt sich cuDF. cuDF sind Cuda Dataframes, die erstmal nur auf einer GPU laufen. Die Idee dahinter ist, dass wir <u>nah zu dasselbe machen</u> wie bei Pandas (Panda DataFrame), aber nur auf einer GPU. Dadurch können viele Berechnungen viel schneller durchgeführt werden. Beispielsweise das Vorverarbeiten von Daten vor dem Trainieren, oder anderweitige Zwecke. Die API ist nah zu identisch wie bei Pandas. \n",
    "\n",
    "Rapids funktioniert <u>nur</u> mit <u>Nvidia Grafikkarten</u>.\n",
    "\n",
    "Rapids ist OpenSource, die API Beschreibungen der Libraries verlinken den dahinterliegenden Code. Der Code enthählt selber nochmal Kommentare und erklärungen.\n",
    "\n",
    "Rapids entwickelt sich und es kommen Updates sowie Erweiterungen. Algorithmen, die noch nicht (Single-/Multi-Node/ GPU) verfügbar sind, können noch in den neueren Versionen auftauchen. Das gilt besonders für Multi-Node/Multi-GPU Implementierungen der Algorithmen. Es kann sein das manche Multi-Node/Multi-GPU Algorithmen sich am Ende nicht zusammenfassen lassen können, oder das Speichern/Laden sowie die Verwendung dieser auf GPU/CPU eingeschränkt sind. Andere Multi-Node/Multi-GPU Algorithmen können so wie in diesem Template hier verwendet werden. Einge andere können sich in der Anwendung unterscheiden. \n",
    "\n",
    "\n",
    "Floating-Point Berechnungen mit cuDF werden auf der GPU parallel ausgeführt, also ist die Reihenfolge nicht deterministisch. Die Ergebnisse können von Pandas abweichen.\n",
    "a + b ist nicht gleich b + a. Das kann z.B. bei data.sum() vorkommen.\n",
    "cuDF unterstützt auch verschiedene Datentypen wie int32, int64, float32, float64. Die ganze Liste ist hier zu finden.\n",
    "\n",
    "Es gibt noch Dask-cuDF, diese nutzt man unter anderem, um große Daten zu Partitionieren. Die API ist Dask-ähnlich. \n",
    "\n",
    "Eine weitere Library von Rapids ist cuML, welche auch cuDF nutzt. Diese enthält verschiedene supervised und unsupervsed Algorithmen. Der Fokus hier liegt dabei, dass die Algorithmen möglichst auf einer GPU laufen. Ein Teil dieser Algorithmen kann mittels eines Clusters (cuML nutzt dafür ein Dask Cluster) auf verschiedene Nodes und GPUs skalieren. \n",
    "\n",
    "Die API von cuML ist fast genauso aufgebaut wie bei \n",
    "Sklearn. <br> Die Release Notes von cuML sind hier zu finden (https://github.com/rapidsai/cuml/releases).\n",
    "  \n",
    "\n",
    "Was wir neben Rapids und Dask noch nutzen können ist CuPy. CuPy ist wie Numpy, nur läuft es unter auf GPU. CuPy wird hier nicht detailliert erklärt.\n",
    "\n",
    "<br> \n",
    "\n",
    "cuDF Cuda DataFrames Dok.:  https://docs.rapids.ai/api/cudf/stable/ <br>\n",
    "cuDF API: https://docs.rapids.ai/api/cudf/stable/api_docs/api/cudf.dataframe/ <br>\n",
    "cuDF Floating-Point Berechnung: https://docs.rapids.ai/api/cudf/stable/user_guide/pandas-comparison/#floating-point-computation        <br>\n",
    "cuDF Datentypen: https://docs.rapids.ai/api/cudf/stable/user_guide/data-types/ | https://docs.rapids.ai/api/cudf/stable/user_guide/io/ <br>\n",
    "\n",
    "cuML GitHub: https://github.com/rapidsai/cuml  <br>\n",
    "cuML Dok.: https://docs.rapids.ai/api/cuml/stable/ <br>\n",
    "\n",
    "Dask-cuDF: https://docs.rapids.ai/api/dask-cudf/stable/\n",
    "\n",
    "CuPy: https://cupy.dev\n",
    "\n"
   ]
  },
  {
   "cell_type": "markdown",
   "id": "7bc987df-7b38-4da7-b0ef-0507f1b8ab0a",
   "metadata": {},
   "source": [
    "Was wir nutzen:<br>\n",
    "cuDF: DataFrames deren API nahezu identisch mit Pandas ist. Also quasi Pandas auf GPU.<br>\n",
    "dask_cudf: Dask bietet uns DataFrames, die verteilt sind. Mit dask_cudf läuft das ganze auf GPU. Also quasi Dask auf GPU. <br>\n",
    "cupy: wie Numpy und Scipy aber auf GPU."
   ]
  },
  {
   "cell_type": "markdown",
   "id": "e35d4e19-4643-437d-8762-b22609bfad67",
   "metadata": {},
   "source": [
    "<img src=\"./pictures/df.PNG\"  width=\"725px;\" hight=\"725px;\">"
   ]
  },
  {
   "cell_type": "markdown",
   "id": "5da0b3d8-77d1-4705-b8b9-aef9edf80369",
   "metadata": {},
   "source": [
    "Wir teilen das Training in 4 Bereiche auf. Hier nutzen wir MNSG."
   ]
  },
  {
   "cell_type": "markdown",
   "id": "929c423b-c72d-4df8-a873-5be48b143375",
   "metadata": {},
   "source": [
    "<img src=\"./pictures/rapids_flynn.PNG\"  width=\"725px;\" hight=\"725px;\">"
   ]
  },
  {
   "cell_type": "markdown",
   "id": "21d8d725-b7d6-44e8-a05e-a140fe2f825b",
   "metadata": {},
   "source": [
    "Das Bild zeigt in welchen Bereichen man welche DataFrames nutzen kann. Pandas liegt dabei nicht im Fokus.\n",
    "\n",
    "<img src=\"./pictures/zuordnung.PNG\"  width=\"1050px;\" hight=\"1050px;\">\n",
    "\n",
    "Da wir mit Dask-cuDF und Dask große Daten lesen und partitionieren können, ist auch der Einsatz im SNSG Bereich möglich. cuDF unterstützt das lesen mehrere Dateien (bis jetzt)  nicht, so das man Dask oder Dask-cuDF nutzen muss, wenn man globstings nutzt, um alle CVS Dateien in einem Verzeichnis zu lesen.\n",
    "\n",
    "Es gibt auch die Möglichkeit cuDF als Backend für Dask zu nutzen.\n",
    "\n",
    "<br>\n",
    "\n",
    "cuDF Backend für Dask: https://docs.rapids.ai/api/dask-cudf/stable/#dataframe-creation-from-on-disk-formats"
   ]
  },
  {
   "cell_type": "markdown",
   "id": "c51b5c1a-6e33-4df9-b0ad-6b304ab0b413",
   "metadata": {},
   "source": [
    "<b>[Bild Konvertierungen]</b>"
   ]
  },
  {
   "cell_type": "markdown",
   "id": "69c39f8b-19d7-45f5-a7a7-7170349908cd",
   "metadata": {
    "tags": []
   },
   "source": [
    "<u>Hinweis:</u><br>\n",
    "Variablen die GPU Speicher nutzen und nicht mehr gebraucht werden, sollten mittels `del` gelöscht werden. Wenn nach dem Löschen immer noch Speicher belegt ist, muss der Kernel des Notebooks neugestartet werden. "
   ]
  },
  {
   "cell_type": "code",
   "execution_count": 6,
   "id": "42dfead7-59f2-4a18-bea4-deaaa92b2947",
   "metadata": {
    "tags": []
   },
   "outputs": [],
   "source": [
    "# Imports \n",
    "import cupy as   cp\n",
    "import cudf\n",
    "import cuml\n",
    "from cuml.dask.common import utils as dask_utils\n",
    "import dask_cudf\n",
    "import dask\n",
    "\n",
    "import numpy as np\n",
    "from numpy import genfromtxt\n",
    "\n",
    "import pandas as pd\n",
    "import os\n",
    "import time"
   ]
  },
  {
   "cell_type": "markdown",
   "id": "c54dc87c-bf58-4de3-9103-9da0dab88014",
   "metadata": {},
   "source": [
    "Da dier API wie Pandas aufgebaut ist, wird cuDF im detail nicht erklärt. Bei interesse kann man sich die API durchlesen (https://docs.rapids.ai/api/cudf/stable/user_guide/pandas-comparison/).  "
   ]
  },
  {
   "cell_type": "code",
   "execution_count": 2,
   "id": "f63b3283-8037-4d60-afe4-a059a1995a63",
   "metadata": {
    "tags": []
   },
   "outputs": [
    {
     "name": "stdout",
     "output_type": "stream",
     "text": [
      "Pandas:\n",
      "0       1\n",
      "1       2\n",
      "2    <NA>\n",
      "dtype: int64\n",
      "\n",
      "Rapids:\n",
      "0       1\n",
      "1       2\n",
      "2    <NA>\n",
      "dtype: object\n"
     ]
    }
   ],
   "source": [
    "# cuDF und Panda series \n",
    "s_cuda = cudf.Series([1, 2, cudf.NA])\n",
    "s_panda = pd.Series([1, 2, pd.NA])\n",
    "\n",
    "print(f\"Pandas:\\n{s_cuda}\\n\")\n",
    "print(f\"Rapids:\\n{s_panda}\")"
   ]
  },
  {
   "cell_type": "markdown",
   "id": "53dcef6f-681b-4990-a815-2165e3d6f1ec",
   "metadata": {},
   "source": [
    "## 1.1 Start Dask-Cluster (Mit Docker)"
   ]
  },
  {
   "cell_type": "markdown",
   "id": "ec879a32-2c6f-4fb2-8260-229d6dd5d254",
   "metadata": {},
   "source": [
    "Pro GPU wird genau ein Prozess für einen Worker gestartet. Die Worker-ID wird hochgezählt. <br>\n",
    "\n",
    "<u>Hinweise:</u><br>\n",
    "Die MNMG Versionen der Algorithmen können auch auf SNSG laufen."
   ]
  },
  {
   "cell_type": "markdown",
   "id": "1aca313c-1081-453c-95d8-97e512051fa3",
   "metadata": {},
   "source": [
    "<img src=\"./pictures/rapids_cluster2.PNG\">"
   ]
  },
  {
   "cell_type": "code",
   "execution_count": 1,
   "id": "13b483a7-b77d-459a-b092-ed8ab7814106",
   "metadata": {
    "tags": []
   },
   "outputs": [
    {
     "name": "stdout",
     "output_type": "stream",
     "text": [
      "Rapids-tools 1.0\n",
      "Umgebungsvariablen werden gesetzt\n",
      "NCCL_SOCKET_NTHREADS: 4\n",
      "NCCL_NSOCKS_PERTHREAD: 2\n"
     ]
    }
   ],
   "source": [
    "# Ein Modul, das uns unterstützt.\n",
    "import rapids_tools as rapids_tools    "
   ]
  },
  {
   "cell_type": "code",
   "execution_count": 3,
   "id": "003f5fb6-7eb2-4ed0-a5c2-c69fcd231c89",
   "metadata": {
    "tags": []
   },
   "outputs": [
    {
     "name": "stdout",
     "output_type": "stream",
     "text": [
      "Client IP: 127.0.0.1:8786\n"
     ]
    },
    {
     "data": {
      "text/html": [
       "<div>\n",
       "    <div style=\"width: 24px; height: 24px; background-color: #e1e1e1; border: 3px solid #9D9D9D; border-radius: 5px; position: absolute;\"> </div>\n",
       "    <div style=\"margin-left: 48px;\">\n",
       "        <h3 style=\"margin-bottom: 0px;\">Client</h3>\n",
       "        <p style=\"color: #9D9D9D; margin-bottom: 0px;\">Client-f5fe845a-61ce-11ee-88a7-a4bb6d4fbfd8</p>\n",
       "        <table style=\"width: 100%; text-align: left;\">\n",
       "\n",
       "        <tr>\n",
       "        \n",
       "            <td style=\"text-align: left;\"><strong>Connection method:</strong> Direct</td>\n",
       "            <td style=\"text-align: left;\"></td>\n",
       "        \n",
       "        </tr>\n",
       "\n",
       "        \n",
       "            <tr>\n",
       "                <td style=\"text-align: left;\">\n",
       "                    <strong>Dashboard: </strong> <a href=\"http://127.0.0.1:8787/status\" target=\"_blank\">http://127.0.0.1:8787/status</a>\n",
       "                </td>\n",
       "                <td style=\"text-align: left;\"></td>\n",
       "            </tr>\n",
       "        \n",
       "\n",
       "        </table>\n",
       "\n",
       "        \n",
       "            <button style=\"margin-bottom: 12px;\" data-commandlinker-command=\"dask:populate-and-launch-layout\" data-commandlinker-args='{\"url\": \"http://127.0.0.1:8787/status\" }'>\n",
       "                Launch dashboard in JupyterLab\n",
       "            </button>\n",
       "        \n",
       "\n",
       "        \n",
       "            <details>\n",
       "            <summary style=\"margin-bottom: 20px;\"><h3 style=\"display: inline;\">Scheduler Info</h3></summary>\n",
       "            <div style=\"\">\n",
       "    <div>\n",
       "        <div style=\"width: 24px; height: 24px; background-color: #FFF7E5; border: 3px solid #FF6132; border-radius: 5px; position: absolute;\"> </div>\n",
       "        <div style=\"margin-left: 48px;\">\n",
       "            <h3 style=\"margin-bottom: 0px;\">Scheduler</h3>\n",
       "            <p style=\"color: #9D9D9D; margin-bottom: 0px;\">Scheduler-a68e1c94-9cdd-4258-a9d3-afdb0dffb529</p>\n",
       "            <table style=\"width: 100%; text-align: left;\">\n",
       "                <tr>\n",
       "                    <td style=\"text-align: left;\">\n",
       "                        <strong>Comm:</strong> tcp://149.201.182.203:8786\n",
       "                    </td>\n",
       "                    <td style=\"text-align: left;\">\n",
       "                        <strong>Workers:</strong> 3\n",
       "                    </td>\n",
       "                </tr>\n",
       "                <tr>\n",
       "                    <td style=\"text-align: left;\">\n",
       "                        <strong>Dashboard:</strong> <a href=\"http://149.201.182.203:8787/status\" target=\"_blank\">http://149.201.182.203:8787/status</a>\n",
       "                    </td>\n",
       "                    <td style=\"text-align: left;\">\n",
       "                        <strong>Total threads:</strong> 3\n",
       "                    </td>\n",
       "                </tr>\n",
       "                <tr>\n",
       "                    <td style=\"text-align: left;\">\n",
       "                        <strong>Started:</strong> 5 hours ago\n",
       "                    </td>\n",
       "                    <td style=\"text-align: left;\">\n",
       "                        <strong>Total memory:</strong> 187.58 GiB\n",
       "                    </td>\n",
       "                </tr>\n",
       "            </table>\n",
       "        </div>\n",
       "    </div>\n",
       "\n",
       "    <details style=\"margin-left: 48px;\">\n",
       "        <summary style=\"margin-bottom: 20px;\">\n",
       "            <h3 style=\"display: inline;\">Workers</h3>\n",
       "        </summary>\n",
       "\n",
       "        \n",
       "        <div style=\"margin-bottom: 20px;\">\n",
       "            <div style=\"width: 24px; height: 24px; background-color: #DBF5FF; border: 3px solid #4CC9FF; border-radius: 5px; position: absolute;\"> </div>\n",
       "            <div style=\"margin-left: 48px;\">\n",
       "            <details>\n",
       "                <summary>\n",
       "                    <h4 style=\"margin-bottom: 0px; display: inline;\">Worker: tcp://149.201.182.188:37547</h4>\n",
       "                </summary>\n",
       "                <table style=\"width: 100%; text-align: left;\">\n",
       "                    <tr>\n",
       "                        <td style=\"text-align: left;\">\n",
       "                            <strong>Comm: </strong> tcp://149.201.182.188:37547\n",
       "                        </td>\n",
       "                        <td style=\"text-align: left;\">\n",
       "                            <strong>Total threads: </strong> 1\n",
       "                        </td>\n",
       "                    </tr>\n",
       "                    <tr>\n",
       "                        <td style=\"text-align: left;\">\n",
       "                            <strong>Dashboard: </strong> <a href=\"http://149.201.182.188:34489/status\" target=\"_blank\">http://149.201.182.188:34489/status</a>\n",
       "                        </td>\n",
       "                        <td style=\"text-align: left;\">\n",
       "                            <strong>Memory: </strong> 62.53 GiB\n",
       "                        </td>\n",
       "                    </tr>\n",
       "                    <tr>\n",
       "                        <td style=\"text-align: left;\">\n",
       "                            <strong>Nanny: </strong> tcp://149.201.182.188:33707\n",
       "                        </td>\n",
       "                        <td style=\"text-align: left;\"></td>\n",
       "                    </tr>\n",
       "                    <tr>\n",
       "                        <td colspan=\"2\" style=\"text-align: left;\">\n",
       "                            <strong>Local directory: </strong> /tmp/dask-worker-space/worker-v5nb8n9b\n",
       "                        </td>\n",
       "                    </tr>\n",
       "\n",
       "                    \n",
       "                    <tr>\n",
       "                        <td style=\"text-align: left;\">\n",
       "                            <strong>GPU: </strong>Quadro RTX 5000\n",
       "                        </td>\n",
       "                        <td style=\"text-align: left;\">\n",
       "                            <strong>GPU memory: </strong> 16.00 GiB\n",
       "                        </td>\n",
       "                    </tr>\n",
       "                    \n",
       "\n",
       "                    \n",
       "                    <tr>\n",
       "                        <td style=\"text-align: left;\">\n",
       "                            <strong>Tasks executing: </strong> \n",
       "                        </td>\n",
       "                        <td style=\"text-align: left;\">\n",
       "                            <strong>Tasks in memory: </strong> \n",
       "                        </td>\n",
       "                    </tr>\n",
       "                    <tr>\n",
       "                        <td style=\"text-align: left;\">\n",
       "                            <strong>Tasks ready: </strong> \n",
       "                        </td>\n",
       "                        <td style=\"text-align: left;\">\n",
       "                            <strong>Tasks in flight: </strong>\n",
       "                        </td>\n",
       "                    </tr>\n",
       "                    <tr>\n",
       "                        <td style=\"text-align: left;\">\n",
       "                            <strong>CPU usage:</strong> 10.0%\n",
       "                        </td>\n",
       "                        <td style=\"text-align: left;\">\n",
       "                            <strong>Last seen: </strong> Just now\n",
       "                        </td>\n",
       "                    </tr>\n",
       "                    <tr>\n",
       "                        <td style=\"text-align: left;\">\n",
       "                            <strong>Memory usage: </strong> 2.84 GiB\n",
       "                        </td>\n",
       "                        <td style=\"text-align: left;\">\n",
       "                            <strong>Spilled bytes: </strong> 0 B\n",
       "                        </td>\n",
       "                    </tr>\n",
       "                    <tr>\n",
       "                        <td style=\"text-align: left;\">\n",
       "                            <strong>Read bytes: </strong> 4.20 kiB\n",
       "                        </td>\n",
       "                        <td style=\"text-align: left;\">\n",
       "                            <strong>Write bytes: </strong> 1.46 kiB\n",
       "                        </td>\n",
       "                    </tr>\n",
       "                    \n",
       "\n",
       "                </table>\n",
       "            </details>\n",
       "            </div>\n",
       "        </div>\n",
       "        \n",
       "        <div style=\"margin-bottom: 20px;\">\n",
       "            <div style=\"width: 24px; height: 24px; background-color: #DBF5FF; border: 3px solid #4CC9FF; border-radius: 5px; position: absolute;\"> </div>\n",
       "            <div style=\"margin-left: 48px;\">\n",
       "            <details>\n",
       "                <summary>\n",
       "                    <h4 style=\"margin-bottom: 0px; display: inline;\">Worker: tcp://149.201.182.203:36965</h4>\n",
       "                </summary>\n",
       "                <table style=\"width: 100%; text-align: left;\">\n",
       "                    <tr>\n",
       "                        <td style=\"text-align: left;\">\n",
       "                            <strong>Comm: </strong> tcp://149.201.182.203:36965\n",
       "                        </td>\n",
       "                        <td style=\"text-align: left;\">\n",
       "                            <strong>Total threads: </strong> 1\n",
       "                        </td>\n",
       "                    </tr>\n",
       "                    <tr>\n",
       "                        <td style=\"text-align: left;\">\n",
       "                            <strong>Dashboard: </strong> <a href=\"http://149.201.182.203:40161/status\" target=\"_blank\">http://149.201.182.203:40161/status</a>\n",
       "                        </td>\n",
       "                        <td style=\"text-align: left;\">\n",
       "                            <strong>Memory: </strong> 62.53 GiB\n",
       "                        </td>\n",
       "                    </tr>\n",
       "                    <tr>\n",
       "                        <td style=\"text-align: left;\">\n",
       "                            <strong>Nanny: </strong> tcp://149.201.182.203:46313\n",
       "                        </td>\n",
       "                        <td style=\"text-align: left;\"></td>\n",
       "                    </tr>\n",
       "                    <tr>\n",
       "                        <td colspan=\"2\" style=\"text-align: left;\">\n",
       "                            <strong>Local directory: </strong> /tmp/dask-worker-space/worker-c1xouy5n\n",
       "                        </td>\n",
       "                    </tr>\n",
       "\n",
       "                    \n",
       "                    <tr>\n",
       "                        <td style=\"text-align: left;\">\n",
       "                            <strong>GPU: </strong>Quadro RTX 5000\n",
       "                        </td>\n",
       "                        <td style=\"text-align: left;\">\n",
       "                            <strong>GPU memory: </strong> 16.00 GiB\n",
       "                        </td>\n",
       "                    </tr>\n",
       "                    \n",
       "\n",
       "                    \n",
       "                    <tr>\n",
       "                        <td style=\"text-align: left;\">\n",
       "                            <strong>Tasks executing: </strong> \n",
       "                        </td>\n",
       "                        <td style=\"text-align: left;\">\n",
       "                            <strong>Tasks in memory: </strong> \n",
       "                        </td>\n",
       "                    </tr>\n",
       "                    <tr>\n",
       "                        <td style=\"text-align: left;\">\n",
       "                            <strong>Tasks ready: </strong> \n",
       "                        </td>\n",
       "                        <td style=\"text-align: left;\">\n",
       "                            <strong>Tasks in flight: </strong>\n",
       "                        </td>\n",
       "                    </tr>\n",
       "                    <tr>\n",
       "                        <td style=\"text-align: left;\">\n",
       "                            <strong>CPU usage:</strong> 6.0%\n",
       "                        </td>\n",
       "                        <td style=\"text-align: left;\">\n",
       "                            <strong>Last seen: </strong> Just now\n",
       "                        </td>\n",
       "                    </tr>\n",
       "                    <tr>\n",
       "                        <td style=\"text-align: left;\">\n",
       "                            <strong>Memory usage: </strong> 2.85 GiB\n",
       "                        </td>\n",
       "                        <td style=\"text-align: left;\">\n",
       "                            <strong>Spilled bytes: </strong> 0 B\n",
       "                        </td>\n",
       "                    </tr>\n",
       "                    <tr>\n",
       "                        <td style=\"text-align: left;\">\n",
       "                            <strong>Read bytes: </strong> 28.54 kiB\n",
       "                        </td>\n",
       "                        <td style=\"text-align: left;\">\n",
       "                            <strong>Write bytes: </strong> 26.91 kiB\n",
       "                        </td>\n",
       "                    </tr>\n",
       "                    \n",
       "\n",
       "                </table>\n",
       "            </details>\n",
       "            </div>\n",
       "        </div>\n",
       "        \n",
       "        <div style=\"margin-bottom: 20px;\">\n",
       "            <div style=\"width: 24px; height: 24px; background-color: #DBF5FF; border: 3px solid #4CC9FF; border-radius: 5px; position: absolute;\"> </div>\n",
       "            <div style=\"margin-left: 48px;\">\n",
       "            <details>\n",
       "                <summary>\n",
       "                    <h4 style=\"margin-bottom: 0px; display: inline;\">Worker: tcp://149.201.182.205:46201</h4>\n",
       "                </summary>\n",
       "                <table style=\"width: 100%; text-align: left;\">\n",
       "                    <tr>\n",
       "                        <td style=\"text-align: left;\">\n",
       "                            <strong>Comm: </strong> tcp://149.201.182.205:46201\n",
       "                        </td>\n",
       "                        <td style=\"text-align: left;\">\n",
       "                            <strong>Total threads: </strong> 1\n",
       "                        </td>\n",
       "                    </tr>\n",
       "                    <tr>\n",
       "                        <td style=\"text-align: left;\">\n",
       "                            <strong>Dashboard: </strong> <a href=\"http://149.201.182.205:34183/status\" target=\"_blank\">http://149.201.182.205:34183/status</a>\n",
       "                        </td>\n",
       "                        <td style=\"text-align: left;\">\n",
       "                            <strong>Memory: </strong> 62.53 GiB\n",
       "                        </td>\n",
       "                    </tr>\n",
       "                    <tr>\n",
       "                        <td style=\"text-align: left;\">\n",
       "                            <strong>Nanny: </strong> tcp://149.201.182.205:45977\n",
       "                        </td>\n",
       "                        <td style=\"text-align: left;\"></td>\n",
       "                    </tr>\n",
       "                    <tr>\n",
       "                        <td colspan=\"2\" style=\"text-align: left;\">\n",
       "                            <strong>Local directory: </strong> /tmp/dask-worker-space/worker-hcxz7qi5\n",
       "                        </td>\n",
       "                    </tr>\n",
       "\n",
       "                    \n",
       "                    <tr>\n",
       "                        <td style=\"text-align: left;\">\n",
       "                            <strong>GPU: </strong>Quadro RTX 5000\n",
       "                        </td>\n",
       "                        <td style=\"text-align: left;\">\n",
       "                            <strong>GPU memory: </strong> 16.00 GiB\n",
       "                        </td>\n",
       "                    </tr>\n",
       "                    \n",
       "\n",
       "                    \n",
       "                    <tr>\n",
       "                        <td style=\"text-align: left;\">\n",
       "                            <strong>Tasks executing: </strong> \n",
       "                        </td>\n",
       "                        <td style=\"text-align: left;\">\n",
       "                            <strong>Tasks in memory: </strong> \n",
       "                        </td>\n",
       "                    </tr>\n",
       "                    <tr>\n",
       "                        <td style=\"text-align: left;\">\n",
       "                            <strong>Tasks ready: </strong> \n",
       "                        </td>\n",
       "                        <td style=\"text-align: left;\">\n",
       "                            <strong>Tasks in flight: </strong>\n",
       "                        </td>\n",
       "                    </tr>\n",
       "                    <tr>\n",
       "                        <td style=\"text-align: left;\">\n",
       "                            <strong>CPU usage:</strong> 8.0%\n",
       "                        </td>\n",
       "                        <td style=\"text-align: left;\">\n",
       "                            <strong>Last seen: </strong> Just now\n",
       "                        </td>\n",
       "                    </tr>\n",
       "                    <tr>\n",
       "                        <td style=\"text-align: left;\">\n",
       "                            <strong>Memory usage: </strong> 2.84 GiB\n",
       "                        </td>\n",
       "                        <td style=\"text-align: left;\">\n",
       "                            <strong>Spilled bytes: </strong> 0 B\n",
       "                        </td>\n",
       "                    </tr>\n",
       "                    <tr>\n",
       "                        <td style=\"text-align: left;\">\n",
       "                            <strong>Read bytes: </strong> 4.67 kiB\n",
       "                        </td>\n",
       "                        <td style=\"text-align: left;\">\n",
       "                            <strong>Write bytes: </strong> 1.45 kiB\n",
       "                        </td>\n",
       "                    </tr>\n",
       "                    \n",
       "\n",
       "                </table>\n",
       "            </details>\n",
       "            </div>\n",
       "        </div>\n",
       "        \n",
       "\n",
       "    </details>\n",
       "</div>\n",
       "            </details>\n",
       "        \n",
       "\n",
       "    </div>\n",
       "</div>"
      ],
      "text/plain": [
       "<Client: 'tcp://149.201.182.203:8786' processes=3 threads=3, memory=187.58 GiB>"
      ]
     },
     "execution_count": 3,
     "metadata": {},
     "output_type": "execute_result"
    }
   ],
   "source": [
    "## Erstelle Client \n",
    "# rapids_tools wird mit dem Cluster geteilt, um Umgebungsvariablen zu setzen.\n",
    "client = rapids_tools.create_dask_client()  # Gebe IP an. Standard:  127.0.0.1:8786 (Scheduler ist da wo auch Jupyter läuft)\n",
    "client"
   ]
  },
  {
   "cell_type": "markdown",
   "id": "ad5353e5-6ea2-40c7-8df3-b1e7c577f1db",
   "metadata": {},
   "source": [
    "Wenn wir eigene Python Module erstellen, können wir diese auch mit dem Cluster teilen.\n",
    "\n",
    "Beim Ausführen sollte der Status \"OK\" ausgegeben werden. Wenn die Worker oder der Cluster neugestartet werden, müssen die Module ggf. neu geteilt werden."
   ]
  },
  {
   "cell_type": "code",
   "execution_count": 4,
   "id": "49530bb5-f68a-4602-8ceb-606b91dee60e",
   "metadata": {
    "tags": []
   },
   "outputs": [
    {
     "data": {
      "text/plain": [
       "{'tcp://149.201.182.188:37547': {'status': 'OK'},\n",
       " 'tcp://149.201.182.203:36965': {'status': 'OK'},\n",
       " 'tcp://149.201.182.205:46201': {'status': 'OK'}}"
      ]
     },
     "execution_count": 4,
     "metadata": {},
     "output_type": "execute_result"
    }
   ],
   "source": [
    "# Lade Datei hoch. Gibt Status aus... \n",
    "client.upload_file('rapids_tools.py')  # Nur als Beispiel"
   ]
  },
  {
   "cell_type": "code",
   "execution_count": 5,
   "id": "25803390-ae6a-4204-acd7-21eb44b6bf7c",
   "metadata": {
    "tags": []
   },
   "outputs": [
    {
     "data": {
      "text/plain": [
       "dict_keys(['tcp://149.201.182.188:37547', 'tcp://149.201.182.203:36965', 'tcp://149.201.182.205:46201'])"
      ]
     },
     "execution_count": 5,
     "metadata": {},
     "output_type": "execute_result"
    }
   ],
   "source": [
    "# Zeige Schlüssel. Die Ports ändern sich. \n",
    "client.has_what().keys()"
   ]
  },
  {
   "cell_type": "code",
   "execution_count": 175,
   "id": "f905622b-f20b-43df-a0ce-7c91176c3b7a",
   "metadata": {
    "tags": []
   },
   "outputs": [
    {
     "data": {
      "text/plain": [
       "dict_keys(['tcp://149.201.182.188:37547', 'tcp://149.201.182.203:36965', 'tcp://149.201.182.205:46201'])"
      ]
     },
     "execution_count": 175,
     "metadata": {},
     "output_type": "execute_result"
    }
   ],
   "source": [
    "# Starte alle Worker neu\n",
    "client.restart_workers( client.has_what().keys() )\n",
    "client.has_what().keys()"
   ]
  },
  {
   "cell_type": "code",
   "execution_count": 8,
   "id": "d1c57490-dbdb-4fcd-a9ee-8166f7e46254",
   "metadata": {},
   "outputs": [],
   "source": [
    "# Startet client neu.\n",
    "#client.restart()"
   ]
  },
  {
   "cell_type": "markdown",
   "id": "8814f7a1-237c-4688-975d-a35f516351fa",
   "metadata": {},
   "source": [
    "# 2. Daten"
   ]
  },
  {
   "cell_type": "markdown",
   "id": "c9d10698-3cd7-4a96-b50c-100c06c30fe2",
   "metadata": {},
   "source": [
    "## 2.1 Daten generieren"
   ]
  },
  {
   "cell_type": "markdown",
   "id": "7fdd5ad4-3dc9-4315-917e-483a10083c03",
   "metadata": {},
   "source": [
    "Als Anfang erstellen wir Daten. Daten die auf dem Host sind, müssen erst verteilt werden.\n",
    "\n",
    "cuML bietet uns Möglichkeiten Datensets zu erstellen."
   ]
  },
  {
   "cell_type": "code",
   "execution_count": 7,
   "id": "5f6b9d2d-6353-406c-9b30-e04f818af269",
   "metadata": {
    "tags": []
   },
   "outputs": [],
   "source": [
    "# Imports \n",
    "from cuml import datasets            # Um Beispiele auf dem Host zu generieren\n",
    "from cuml.model_selection import train_test_split"
   ]
  },
  {
   "cell_type": "markdown",
   "id": "7312eb93-8d65-43f6-85bc-cd1819f4c30e",
   "metadata": {},
   "source": [
    "Ein Weg an Daten zu kommen, ist Datensets zu nutzen, die schon mit den Frameworks kommen. \n",
    "\n",
    "Das können wir nutzen, um den Aufbau des Codes zu testen und zu überprüfen, ob die Installation von Rapids und die Dask-Worker funktionieren."
   ]
  },
  {
   "cell_type": "markdown",
   "id": "5c79bd95-d464-4f79-b4cb-123583c89f77",
   "metadata": {},
   "source": [
    "Es gibt einige Parameter, die wir eingeben können, um Daten so zu generieren wie wir es wollen. Um es einfach zu halten, nutzen wir nur 2 Parameter.\n",
    "\n",
    "<br>\n",
    "\n",
    "Generiere Single-GPU Daten: https://docs.rapids.ai/api/cuml/stable/api/#dataset-generation-single-gpu"
   ]
  },
  {
   "cell_type": "code",
   "execution_count": 8,
   "id": "14b7e7ce-4c9f-4f16-9460-409867fffb6b",
   "metadata": {
    "tags": []
   },
   "outputs": [],
   "source": [
    "# Trainings- und Testgröße\n",
    "train_size = 2000\n",
    "test_size = 100\n",
    "n_samples = train_size + test_size\n",
    "\n",
    "# Erstelle X und y Daten für ein Cluster Problem \n",
    "X, y = datasets.make_blobs(n_samples=n_samples, n_features=2)\n",
    "X, X_test, y, y_test = train_test_split( X, y, train_size=0.70, random_state=5)"
   ]
  },
  {
   "cell_type": "markdown",
   "id": "c94617b5-0302-4d0f-867a-655adff6258b",
   "metadata": {},
   "source": [
    "Jetzt können wir uns anschauen was gemacht wurde, so könnten unsere Trainingsdaten auch aussehen."
   ]
  },
  {
   "cell_type": "code",
   "execution_count": 9,
   "id": "2149b267-82a5-4513-a5e7-d1082a0f5eed",
   "metadata": {
    "tags": []
   },
   "outputs": [
    {
     "name": "stdout",
     "output_type": "stream",
     "text": [
      "X: <class 'cupy.ndarray'> y: <class 'cupy.ndarray'> \n",
      " X[0]: [ 7.4640355 -5.0711775]  \n",
      " y[0]: 0.0 \n",
      " Länge X, y: 1470, 1470\n"
     ]
    }
   ],
   "source": [
    "print(f\"X: {type(X)} y: {type(y)} \\n X[0]: {X[0]}  \\n y[0]: {y[0]} \\n Länge X, y: {len(X)}, {len(y)}\")"
   ]
  },
  {
   "cell_type": "markdown",
   "id": "7f68f250-ec8b-4b0c-a280-5fe43316f91d",
   "metadata": {},
   "source": [
    "Die erstellten Daten sind in CuPy Format. Für das Trainieren müssen die Daten im Dask-cuDF Format sein. Alternativ können die Daten im Format Dask Array sein, mit CuPy als Backend (Siehe fit() https://docs.rapids.ai/api/cuml/stable/api/#id43)."
   ]
  },
  {
   "cell_type": "markdown",
   "id": "f7e9215a-f656-40e4-8e5a-63c77e65e70a",
   "metadata": {},
   "source": [
    "## 2.2 Dask und Dask_cuDF"
   ]
  },
  {
   "cell_type": "markdown",
   "id": "208d8ef4-484b-4014-8d3b-6a35261f20a7",
   "metadata": {},
   "source": [
    "Schauen wir uns den Fall an, das die Daten <u>erst verteilt werden</u> müssen. "
   ]
  },
  {
   "cell_type": "code",
   "execution_count": 12,
   "id": "3caa285a-663d-4fe8-b443-f5ecd10e90af",
   "metadata": {
    "tags": []
   },
   "outputs": [
    {
     "data": {
      "text/plain": [
       "array([[-0.29647613, -7.2054286 ],\n",
       "       [-3.6063309 ,  8.981853  ],\n",
       "       [ 3.1586378 , -7.306879  ],\n",
       "       ...,\n",
       "       [-3.3382192 , -7.088197  ],\n",
       "       [-4.296981  ,  9.369374  ],\n",
       "       [ 3.2598648 , -8.497779  ]], dtype=float32)"
      ]
     },
     "execution_count": 12,
     "metadata": {},
     "output_type": "execute_result"
    }
   ],
   "source": [
    "# X ist auf dem Host und nicht Partitioniert.\n",
    "X"
   ]
  },
  {
   "cell_type": "markdown",
   "id": "2072efaf-ad38-4b0b-8a22-c42a12e552a0",
   "metadata": {},
   "source": [
    "Bei Verteilen oder Laden der Daten mit HDFS, können wir eine Chunkgröße angeben oder die Anzahl der Partitionen. Die Worker übernehmen eine Anzahl der Partitionen für das Trainieren."
   ]
  },
  {
   "cell_type": "markdown",
   "id": "7a78c3b4-c8f9-4200-bdae-286669a842dc",
   "metadata": {},
   "source": [
    "X ist ein cupy. Wir brauchen ein dask_cuDF oder ein Dask Array mit cupy als Backend. \n",
    "\n",
    "Erst wandeln wir das Array X in ein DataFrame um. Dann werden wir X partitionieren."
   ]
  },
  {
   "cell_type": "code",
   "execution_count": 10,
   "id": "7d3e48b6-ab46-4352-80da-449102ad135c",
   "metadata": {
    "tags": []
   },
   "outputs": [
    {
     "name": "stdout",
     "output_type": "stream",
     "text": [
      "X Type: <class 'cudf.core.dataframe.DataFrame'> \n",
      "X ist:\n",
      " [[  7.4640355  -5.0711775]\n",
      " [-10.350191    8.24481  ]\n",
      " [  8.462273   -5.0934644]\n",
      " ...\n",
      " [  8.086229   -7.161651 ]\n",
      " [  7.671333   -6.8324304]\n",
      " [  9.996122   -6.2191343]]\n",
      "y Type: <class 'cudf.core.series.Series'>\n",
      "y ist:\n",
      "0       0.0\n",
      "1       1.0\n",
      "2       0.0\n",
      "3       0.0\n",
      "4       2.0\n",
      "       ... \n",
      "1465    2.0\n",
      "1466    1.0\n",
      "1467    0.0\n",
      "1468    0.0\n",
      "1469    0.0\n",
      "Length: 1470, dtype: float32\n"
     ]
    }
   ],
   "source": [
    "# cupy -> cuDF\n",
    "X_cudf = cudf.DataFrame(X)\n",
    "y_cudf = cudf.Series(y)\n",
    "print(f\"X Type: {type(X_cudf)} \\nX ist:\\n {X_cudf}\\ny Type: {type(y_cudf)}\\ny ist:\\n{y_cudf}\")"
   ]
  },
  {
   "cell_type": "markdown",
   "id": "904d5282-e834-434f-92f4-1af632cb0083",
   "metadata": {},
   "source": [
    "Danach werden wir das DataFrame Partitionieren."
   ]
  },
  {
   "cell_type": "code",
   "execution_count": 11,
   "id": "5106b220-e875-46a8-99ac-62b460e93acd",
   "metadata": {
    "tags": []
   },
   "outputs": [
    {
     "name": "stdout",
     "output_type": "stream",
     "text": [
      "nworker: 3\n"
     ]
    }
   ],
   "source": [
    "workers = client.has_what().keys()\n",
    "n_workers = len(workers)\n",
    "print(f\"nworker: {n_workers}\")"
   ]
  },
  {
   "cell_type": "code",
   "execution_count": 12,
   "id": "335e353e-c7b9-443a-a46d-180b9309bcce",
   "metadata": {
    "tags": []
   },
   "outputs": [],
   "source": [
    "# cuDF -> dask_cuDF\n",
    "X_dask = dask_cudf.from_cudf( X_cudf, npartitions=n_workers )  # oder  npartitions = n_workers\n",
    "y_dask = dask_cudf.from_cudf( y_cudf, npartitions=n_workers )\n",
    "\n",
    "X_dask, y_dask = dask_utils.persist_across_workers(client, [X_dask, y_dask], workers=client.has_what().keys())  # Halte Ergebnis im Speicher "
   ]
  },
  {
   "cell_type": "markdown",
   "id": "678af5a4-738f-4e10-83c2-7cc4bb4de8e5",
   "metadata": {},
   "source": [
    "Wir haben jetzt ein dask_cudf das partitioniert ist. Es gibt n partitionen die auf die Worker verteilt sind. "
   ]
  },
  {
   "cell_type": "code",
   "execution_count": 13,
   "id": "b213ca6f-f96e-4b2c-921c-8508980eef00",
   "metadata": {
    "tags": []
   },
   "outputs": [
    {
     "name": "stdout",
     "output_type": "stream",
     "text": [
      "dask_X: <class 'dask_cudf.core.DataFrame'>\n",
      "<dask_cudf.DataFrame | 3 tasks | 3 npartitions>\n"
     ]
    }
   ],
   "source": [
    "print(f\"dask_X: {type(X_dask)}\\n{X_dask}\")"
   ]
  },
  {
   "cell_type": "code",
   "execution_count": 14,
   "id": "43055dd6-6a80-4a8c-918f-08bcc8cf0fa3",
   "metadata": {
    "tags": []
   },
   "outputs": [
    {
     "data": {
      "text/html": [
       "<div><strong>Dask DataFrame Structure:</strong></div>\n",
       "<div>\n",
       "<style scoped>\n",
       "    .dataframe tbody tr th:only-of-type {\n",
       "        vertical-align: middle;\n",
       "    }\n",
       "\n",
       "    .dataframe tbody tr th {\n",
       "        vertical-align: top;\n",
       "    }\n",
       "\n",
       "    .dataframe thead th {\n",
       "        text-align: right;\n",
       "    }\n",
       "</style>\n",
       "<table border=\"1\" class=\"dataframe\">\n",
       "  <thead>\n",
       "    <tr style=\"text-align: right;\">\n",
       "      <th></th>\n",
       "      <th>0</th>\n",
       "      <th>1</th>\n",
       "    </tr>\n",
       "    <tr>\n",
       "      <th>npartitions=3</th>\n",
       "      <th></th>\n",
       "      <th></th>\n",
       "    </tr>\n",
       "  </thead>\n",
       "  <tbody>\n",
       "    <tr>\n",
       "      <th>0</th>\n",
       "      <td>float32</td>\n",
       "      <td>float32</td>\n",
       "    </tr>\n",
       "    <tr>\n",
       "      <th>490</th>\n",
       "      <td>...</td>\n",
       "      <td>...</td>\n",
       "    </tr>\n",
       "    <tr>\n",
       "      <th>980</th>\n",
       "      <td>...</td>\n",
       "      <td>...</td>\n",
       "    </tr>\n",
       "    <tr>\n",
       "      <th>1469</th>\n",
       "      <td>...</td>\n",
       "      <td>...</td>\n",
       "    </tr>\n",
       "  </tbody>\n",
       "</table>\n",
       "</div>\n",
       "<div>Dask Name: from_cudf, 1 graph layer</div>"
      ],
      "text/plain": [
       "<dask_cudf.DataFrame | 3 tasks | 3 npartitions>"
      ]
     },
     "execution_count": 14,
     "metadata": {},
     "output_type": "execute_result"
    }
   ],
   "source": [
    "X_dask"
   ]
  },
  {
   "cell_type": "code",
   "execution_count": 15,
   "id": "f280c396-886f-4dd9-b5ca-f83c6f6a6bf3",
   "metadata": {
    "tags": []
   },
   "outputs": [
    {
     "data": {
      "text/html": [
       "<table>\n",
       "    <tr>\n",
       "        <th>Worker</th>\n",
       "        <th>Key count</th>\n",
       "        <th>Key list</th>\n",
       "    </tr>\n",
       "\n",
       "    \n",
       "    <tr>\n",
       "        <td>tcp://149.201.182.188:37547</td>\n",
       "        <td>2</td>\n",
       "        <td>\n",
       "            <details>\n",
       "            <summary style='display:list-item'>Expand</summary>\n",
       "            <table>\n",
       "            \n",
       "                <tr><td>('from_cudf-a1045aa6d093416772b18f93e41ccb8c', 1)</td></tr>\n",
       "            \n",
       "                <tr><td>('from_cudf-f178b64fefe6219d5cd1ffd825e66170', 1)</td></tr>\n",
       "            \n",
       "            </table>\n",
       "            </details>\n",
       "        </td>\n",
       "    </tr>\n",
       "    \n",
       "    <tr>\n",
       "        <td>tcp://149.201.182.203:36965</td>\n",
       "        <td>2</td>\n",
       "        <td>\n",
       "            <details>\n",
       "            <summary style='display:list-item'>Expand</summary>\n",
       "            <table>\n",
       "            \n",
       "                <tr><td>('from_cudf-a1045aa6d093416772b18f93e41ccb8c', 0)</td></tr>\n",
       "            \n",
       "                <tr><td>('from_cudf-f178b64fefe6219d5cd1ffd825e66170', 0)</td></tr>\n",
       "            \n",
       "            </table>\n",
       "            </details>\n",
       "        </td>\n",
       "    </tr>\n",
       "    \n",
       "    <tr>\n",
       "        <td>tcp://149.201.182.205:46201</td>\n",
       "        <td>2</td>\n",
       "        <td>\n",
       "            <details>\n",
       "            <summary style='display:list-item'>Expand</summary>\n",
       "            <table>\n",
       "            \n",
       "                <tr><td>('from_cudf-a1045aa6d093416772b18f93e41ccb8c', 2)</td></tr>\n",
       "            \n",
       "                <tr><td>('from_cudf-f178b64fefe6219d5cd1ffd825e66170', 2)</td></tr>\n",
       "            \n",
       "            </table>\n",
       "            </details>\n",
       "        </td>\n",
       "    </tr>\n",
       "    \n",
       "</table>"
      ],
      "text/plain": [
       "{'tcp://149.201.182.188:37547': (\"('from_cudf-a1045aa6d093416772b18f93e41ccb8c', 1)\",\n",
       "  \"('from_cudf-f178b64fefe6219d5cd1ffd825e66170', 1)\"),\n",
       " 'tcp://149.201.182.203:36965': (\"('from_cudf-a1045aa6d093416772b18f93e41ccb8c', 0)\",\n",
       "  \"('from_cudf-f178b64fefe6219d5cd1ffd825e66170', 0)\"),\n",
       " 'tcp://149.201.182.205:46201': (\"('from_cudf-a1045aa6d093416772b18f93e41ccb8c', 2)\",\n",
       "  \"('from_cudf-f178b64fefe6219d5cd1ffd825e66170', 2)\")}"
      ]
     },
     "execution_count": 15,
     "metadata": {},
     "output_type": "execute_result"
    }
   ],
   "source": [
    "## Damit sehen wir was der Cluster hat.\n",
    "# Jeder hat ein Teil des DataFrames. Jeder Worker nutzt die eigenen Partitionen. \n",
    "client.has_what()"
   ]
  },
  {
   "cell_type": "markdown",
   "id": "0dd028d2-8bfb-46a8-9932-32e455d1d93c",
   "metadata": {},
   "source": [
    "So siet der Flow aus, wenn wir Daten als Host erzeugen und dann verteilen.\n",
    "\n",
    "<img src=\"./pictures/part.PNG\"  width=\"925px;\" hight=\"925px;\">"
   ]
  },
  {
   "cell_type": "markdown",
   "id": "16898f63-f220-4f91-827d-1a41ca854da4",
   "metadata": {},
   "source": [
    "Zusammeengefasst: <br>\n",
    "Wenn wir Daten als Host erstellen (z.B. um den Aufbau zu testen), müssen die Daten Partitioniert werden. Das verteilen geht gut mit <u>geringen Datenmengen</u>.\n",
    "\n",
    "Nach dem Verteilen hat jeder Worker ein Teil dieser Daten. Diese Teile sind Partitionen."
   ]
  },
  {
   "cell_type": "markdown",
   "id": "f8b9cca3-a700-4c39-be5e-e23bc3567c93",
   "metadata": {},
   "source": [
    "<img src=\"./pictures/part2.PNG\"  width=\"925px;\" hight=\"925px;\">"
   ]
  },
  {
   "cell_type": "markdown",
   "id": "83998277-6633-4a23-abd9-129b84ad6799",
   "metadata": {},
   "source": [
    "## 2.3 Daten sind schon Lokal verfügbar "
   ]
  },
  {
   "cell_type": "markdown",
   "id": "7a0b4f2d-f28e-427b-bd55-1eb944c64e5c",
   "metadata": {},
   "source": [
    "Mit Dask-cuDF können wir Daten direkt in die GPU laden und Daten schreiben. Es gibt viele Parameter, die angegeben werden können (https://docs.rapids.ai/api/dask-cudf/stable/api/#creating-and-storing-dataframes). \n",
    "\n",
    "Wenn die Daten nicht in den Speicher passen, können diese partitioniert werden, indem wir die Daten mit Dask-cuDF laden."
   ]
  },
  {
   "cell_type": "markdown",
   "id": "5a5565e0-7949-4bc0-b4e2-ae525f3467de",
   "metadata": {},
   "source": [
    "<img src=\"./pictures/rapids_chunk.PNG\">"
   ]
  },
  {
   "cell_type": "markdown",
   "id": "09fdab82-e155-40b2-ac09-6489f995af92",
   "metadata": {},
   "source": [
    "Wir können Daten mit Dask laden und daraus ein Dask-cuDF erstellen.\n",
    "\n",
    "Intern nutzt jeder Worker cuDF um die Daten zu lesen. Es können verschiedene Quellen angegeben werden wie HDFs, S3, http, ... (https://docs.dask.org/en/stable/how-to/connect-to-remote-data.html)"
   ]
  },
  {
   "cell_type": "raw",
   "id": "32cb7add-d59e-41bb-8835-bc1e929a5dd8",
   "metadata": {},
   "source": [
    "# Lese Daten mit Dask\n",
    "dask_df = dask.dataframe.read_csv(    \"hdfs:// ...\", blocksize=\"250MB\")\n",
    "        = dask.dataframe.read_parquet(\"hdfs:// ...\", blocksize=\"250MB\")\n",
    "        = dask.dataframe.read_json(\"\")\n",
    "        \n",
    "# Schreiben mit Dask\n",
    "dask_df.to_csv('name')\n",
    "dask_df.to_parquet('name', engine='pyarrow')\n",
    "...\n",
    "\n"
   ]
  },
  {
   "cell_type": "raw",
   "id": "55368164-8b8c-4bfd-931b-092a67bf54f5",
   "metadata": {
    "tags": []
   },
   "source": [
    "# Erstelle ein Dask-cuDF aus einem Dask Dataframe.\n",
    "dcf = dask_cudf.from_dask_dataframe(dask_df)\n",
    "dcf "
   ]
  },
  {
   "cell_type": "markdown",
   "id": "e9b454d1-f00b-4f75-b29c-1517cee5e3db",
   "metadata": {},
   "source": [
    "Wir können auch direkt Dask-cuDF nutzen um Daten zu laden. Das geht genau so wie bei Dask. Das schreiben der Daten mit Dask-cuDF folg auch der gleichen API.\n",
    "\n",
    "Jeder Worker sollte die gleichen Pfade sehen können."
   ]
  },
  {
   "cell_type": "raw",
   "id": "06bbc8d6-fd08-404b-b40b-630471de6445",
   "metadata": {},
   "source": [
    "dcf = dask_cudf.read_csv(\"hdfs:// ...\")\n",
    "\n",
    "dcf.to_csv('name')"
   ]
  },
  {
   "cell_type": "markdown",
   "id": "89e475bc-6996-41eb-a725-558e3e89303a",
   "metadata": {},
   "source": [
    "Das erstellte Dask-cuDF kann dann zum trainieren genutzt werden. \n",
    "\n",
    "<br>\n",
    "\n",
    "Rapids Dask-cuDF Creating and storing DataFrames:  https://docs.rapids.ai/api/dask-cudf/stable/api/ <br>\n",
    "Reading Larger than Memory CSVs with RAPIDS and Dask: https://medium.com/rapids-ai/reading-larger-than-memory-csvs-with-rapids-and-dask-e6e27dfa6c0f\n"
   ]
  },
  {
   "cell_type": "markdown",
   "id": "2f45fb77-ebf0-4de0-9a00-42120084f189",
   "metadata": {},
   "source": [
    "<u>Hinweis zu HDFS:</u><br>\n",
    "Das lesen von vielen Dateien oder einer großen Datei bringt keinen Vorteile der Datenlokalität mehr, siehe (https://stackoverflow.com/questions/54565738/does-dask-communicate-with-hdfs-to-optimize-for-data-locality)<br>\n",
    "Das kann sich noch ändern. \n",
    " \n"
   ]
  },
  {
   "cell_type": "markdown",
   "id": "333d97fc-bcf4-43e6-be90-af09f68ddf79",
   "metadata": {},
   "source": [
    "# 3. Multi-Node/Multi-GPU Training: Dask und Dask_cuDF"
   ]
  },
  {
   "cell_type": "markdown",
   "id": "39c961d2-ec5b-400b-82c4-cb198a373681",
   "metadata": {},
   "source": [
    "Wie bereits erwähnt, ist die API fast genau so wie bei Sklearn. Wenn wir jetzt Daten haben und diese noch verarbeiten wollen, muss darauf geachtet werden, dass die Datentypen am Ende richtig sind. \n",
    "\n",
    "\n",
    "Für das Model gibt es einige Parameter, die wir einstellen können, dieser Auszug zeigt einige Parameter: <br>\n",
    "<i>n_clusters=8, max_iter=300, random_state=1, tol=1e-4, ...</i>\n",
    "- n_clusters: The number of centroids or clusters you want.\n",
    "- max_iter: The more iterations of EM, the more accurate, but slower.\n",
    "- tol: Stopping criterion when centroid means do not change much.\n",
    "\n",
    "\n",
    "Beim Trainieren werden nur die Mittelpunkte nach jeder Iteration der Cluster ausgetauscht. Jeder Worker bekommt eine Kopie des Models. <br>\n",
    "\n",
    "<br>\n",
    "\n",
    "Sklearn Kmeans: https://scikit-learn.org/stable/modules/generated/sklearn.cluster.KMeans.html <br>\n",
    "cuML MNMG Kmeans: https://docs.rapids.ai/api/cuml/stable/api/#id43\n"
   ]
  },
  {
   "cell_type": "code",
   "execution_count": 16,
   "id": "5e919fdf-4a51-4e4a-8213-a0f3791af90d",
   "metadata": {
    "tags": []
   },
   "outputs": [],
   "source": [
    "# Imortiere MNMG Kmeans\n",
    "from cuml.dask.cluster.kmeans import KMeans as multi_kmeans"
   ]
  },
  {
   "cell_type": "markdown",
   "id": "96733c63-a8f9-4d43-902c-24d58f84a1a7",
   "metadata": {
    "tags": []
   },
   "source": [
    "Jetzt kann man wie üblich vorgehen. Das Model Trainieren, Speichern, Laden und Evaluieren.\n",
    "\n",
    "Wir können das Dashboard von Dask öffnen und sehen unter GPU die Auslastung (wenn es nicht zu schnell fertig ist)."
   ]
  },
  {
   "cell_type": "code",
   "execution_count": 17,
   "id": "403544c7-0d46-48ff-8e4a-6bcc0eb34992",
   "metadata": {
    "tags": []
   },
   "outputs": [
    {
     "name": "stdout",
     "output_type": "stream",
     "text": [
      "CPU times: user 21.1 ms, sys: 183 µs, total: 21.3 ms\n",
      "Wall time: 517 ms\n"
     ]
    },
    {
     "data": {
      "text/plain": [
       "<cuml.dask.cluster.kmeans.KMeans at 0x7f1a903d53c0>"
      ]
     },
     "execution_count": 17,
     "metadata": {},
     "output_type": "execute_result"
    }
   ],
   "source": [
    "multi_node_model = multi_kmeans(init=\"k-means||\", random_state=100)      \n",
    "\n",
    "%time multi_node_model.fit(X_dask)  "
   ]
  },
  {
   "cell_type": "markdown",
   "id": "3e4a2124-1400-4f26-b2fa-f1f4528a2714",
   "metadata": {},
   "source": [
    "Das Model ist momentan noch verteilt, wir können trotzdem Predictions machen. Dafür müssen wir die Daten wieder verteilen, wenn diese nicht schon lokal vorliegen."
   ]
  },
  {
   "cell_type": "code",
   "execution_count": 18,
   "id": "2593afac-cf84-4605-8ae8-3ee4e3e43e49",
   "metadata": {
    "tags": []
   },
   "outputs": [
    {
     "name": "stdout",
     "output_type": "stream",
     "text": [
      "Länge: 630 \n",
      "Typ: <class 'cupy.ndarray'>\n",
      " [[  7.199896   -6.081043 ]\n",
      " [  8.88451    -4.293371 ]\n",
      " [-10.303796    7.9061947]\n",
      " ...\n",
      " [  7.657574   -3.5824952]\n",
      " [  7.6466017  -5.1047616]\n",
      " [  3.4916835  -6.8165197]]\n"
     ]
    }
   ],
   "source": [
    "to_predict = X_test\n",
    "print(f\"Länge: {len(to_predict)} \\nTyp: {type(to_predict)}\\n {to_predict}\")"
   ]
  },
  {
   "cell_type": "markdown",
   "id": "c15fa8f0-3483-4cd0-a79d-c8f40a04a56e",
   "metadata": {},
   "source": [
    "Das cupy Array müssen wir in ein cuDF, dann in ein dask_cuDF umwandeln."
   ]
  },
  {
   "cell_type": "code",
   "execution_count": 19,
   "id": "c7ca3955-cea6-4e70-922b-4863d49e04de",
   "metadata": {
    "tags": []
   },
   "outputs": [],
   "source": [
    "# to_predict__dask wird ein dask_cuDF\n",
    "to_predict__dask = dask_cudf.from_cudf(cudf.DataFrame( to_predict ), npartitions=n_workers)"
   ]
  },
  {
   "cell_type": "code",
   "execution_count": 20,
   "id": "ba6c4599-7101-444c-9e80-979b29361d73",
   "metadata": {
    "tags": []
   },
   "outputs": [
    {
     "name": "stdout",
     "output_type": "stream",
     "text": [
      "<dask_cudf.Series | 10 tasks | 3 npartitions>\n"
     ]
    }
   ],
   "source": [
    "pred_task = multi_node_model.predict(to_predict__dask)\n",
    "print(pred_task)"
   ]
  },
  {
   "cell_type": "markdown",
   "id": "377eae48-063f-4110-9079-18115ba59b52",
   "metadata": {},
   "source": [
    "Um die Berechnung zu starten schreiben wir `.compute()`"
   ]
  },
  {
   "cell_type": "code",
   "execution_count": 21,
   "id": "9203d2a8-dd8e-4fbd-9622-6e1e96f86d2f",
   "metadata": {
    "tags": []
   },
   "outputs": [
    {
     "name": "stdout",
     "output_type": "stream",
     "text": [
      "CPU times: user 36.9 ms, sys: 1.03 ms, total: 38 ms\n",
      "Wall time: 77 ms\n"
     ]
    }
   ],
   "source": [
    "%time pred_futures__MultiNodeOrig_results = pred_task.compute()"
   ]
  },
  {
   "cell_type": "code",
   "execution_count": 22,
   "id": "82695aa8-627c-46c1-bc3c-04c6f4538d2c",
   "metadata": {
    "tags": []
   },
   "outputs": [
    {
     "data": {
      "text/plain": [
       "0    3\n",
       "1    0\n",
       "2    1\n",
       "dtype: int32"
      ]
     },
     "execution_count": 22,
     "metadata": {},
     "output_type": "execute_result"
    }
   ],
   "source": [
    "# Index of table | result\n",
    "pred_futures__MultiNodeOrig_results.head(3)"
   ]
  },
  {
   "cell_type": "markdown",
   "id": "0eff1d8e-3aaa-42bb-af0a-30287554cdd2",
   "metadata": {},
   "source": [
    "# 3. Speichern, Laden, Testen"
   ]
  },
  {
   "cell_type": "markdown",
   "id": "ea779ea3-217c-4a38-93cc-911562106116",
   "metadata": {},
   "source": [
    "Das Speichern bei MNMG geht etwas anders, aber auch schnell und einfach. Dazu muss das verteilte Model zusammengefasst werden.\n",
    "\n",
    "Multi-Node / Multi-GPU => Single-Node/Single-GPU Model\n",
    "\n",
    "<br>\n",
    "\n",
    "Speichern und Laden: https://docs.rapids.ai/api/cuml/stable/pickling_cuml_models/"
   ]
  },
  {
   "cell_type": "code",
   "execution_count": 23,
   "id": "44bf7bb5-6e0b-4f87-9e06-95178ecc4a12",
   "metadata": {
    "tags": []
   },
   "outputs": [],
   "source": [
    "import pickle\n",
    "\n",
    "# Fasse Model zusammen\n",
    "single_gpu_model = multi_node_model.get_combined_model()\n",
    "# Speichern:\n",
    "pickle.dump(single_gpu_model, open(\"template_data_Kmeans_Multi/cuml_MultieNode_kmeans_model.pkl\", \"wb\"))\n",
    "\n",
    "# Laden:\n",
    "loaded_single_gpu_model = pickle.load(open(\"template_data_Kmeans_Multi/cuml_MultieNode_kmeans_model.pkl\", \"rb\"))"
   ]
  },
  {
   "cell_type": "markdown",
   "id": "d9636131-21d4-4eda-b07f-95bbe40510b1",
   "metadata": {},
   "source": [
    "Das Predicten sollte dann ohne Probleme funktionieren."
   ]
  },
  {
   "cell_type": "code",
   "execution_count": 24,
   "id": "5cd5049c-5a76-4ed2-b28d-f0a031b6c127",
   "metadata": {
    "tags": []
   },
   "outputs": [
    {
     "data": {
      "text/plain": [
       "0    2\n",
       "dtype: int32"
      ]
     },
     "execution_count": 24,
     "metadata": {},
     "output_type": "execute_result"
    }
   ],
   "source": [
    "loaded_single_gpu_model.predict( cp.asarray( [ [1.5, 2.4] ], dtype=cp.float32 ))"
   ]
  },
  {
   "cell_type": "markdown",
   "id": "7ce6c1b2-c9d7-40a4-9904-ded788fd05d2",
   "metadata": {},
   "source": [
    "Wir können z.B. die trustworthiness Anwenden.\n",
    "\n",
    "Wenn wir Sklearn für die trustworthiness nutzen wollen, muss der Typ des Inputs passen. Unsere Daten sind in dem Format cupy.ndarray.\n",
    "\n",
    "Um Numpy zu nutzen, müssen wir nur  `.get()` hinter unsere Variablen schreiben, wie: `y.get()`. Oder wir wandeln die Daten vorher in ein Numpy um."
   ]
  },
  {
   "cell_type": "code",
   "execution_count": 25,
   "id": "47c677a1-afc3-4627-84ae-82457d56c9ee",
   "metadata": {
    "tags": []
   },
   "outputs": [],
   "source": [
    "from sklearn.manifold import trustworthiness   # CPU Berechnung \n",
    "# Oder auch:\n",
    "from cuml.metrics.trustworthiness import trustworthiness as cuml_trustworthiness   # GPU Berechnung, viel schneller"
   ]
  },
  {
   "cell_type": "code",
   "execution_count": 26,
   "id": "990c88eb-9c03-42f6-a050-9562526c1622",
   "metadata": {
    "tags": []
   },
   "outputs": [
    {
     "name": "stdout",
     "output_type": "stream",
     "text": [
      "CPU times: user 3.5 ms, sys: 0 ns, total: 3.5 ms\n",
      "Wall time: 3.41 ms\n",
      "Score: 0.9983912621854744\n"
     ]
    }
   ],
   "source": [
    "# cuML trustworthiness | kann lange dauern\n",
    "X_embedded = single_gpu_model.transform(X_test)  \n",
    "%time score = cuml_trustworthiness( X_test, X_embedded )\n",
    "print(f\"Score: {score}\")"
   ]
  },
  {
   "cell_type": "markdown",
   "id": "34c22d15-b6b8-42f1-8753-ef4713b40171",
   "metadata": {},
   "source": [
    "Wir können wieder Predictions machen."
   ]
  },
  {
   "cell_type": "code",
   "execution_count": 27,
   "id": "9d16d264-208d-43d9-82fd-531dbf90ded3",
   "metadata": {
    "tags": []
   },
   "outputs": [
    {
     "data": {
      "text/plain": [
       "0    3\n",
       "1    0\n",
       "2    1\n",
       "3    7\n",
       "4    3\n",
       "dtype: int32"
      ]
     },
     "execution_count": 27,
     "metadata": {},
     "output_type": "execute_result"
    }
   ],
   "source": [
    "results_loadedModel = loaded_single_gpu_model.predict(X_test)\n",
    "results_loadedModel.head(5)"
   ]
  },
  {
   "cell_type": "markdown",
   "id": "9e6ab0a4-ddf1-41cd-bc03-0ba5df7a707a",
   "metadata": {},
   "source": [
    "## 3.1 Multi-Node/-Multi-GPU Predictions"
   ]
  },
  {
   "cell_type": "markdown",
   "id": "548fe99a-1983-470a-b682-9a3c968d8af9",
   "metadata": {},
   "source": [
    "Das trainierte Model ist momentan nur für den Single-GPU Bereich einsetzbar. Um die Predictions zu verteilen kann man.:<br>\n",
    "1) Jedem Worker das Model geben und die Daten hineinladen.\n",
    "2) Das Model in ein MNMG Model überführen.\n"
   ]
  },
  {
   "cell_type": "markdown",
   "id": "63bf3932-be6e-4211-a29a-8ebc3694943f",
   "metadata": {},
   "source": [
    "### 3.1.1 Erste Möglichkeit (bevorzugt):\n"
   ]
  },
  {
   "cell_type": "markdown",
   "id": "5cc86281-607a-471a-8947-1232a0938a44",
   "metadata": {},
   "source": [
    "Das gespeicherte Model befindet sich auf dem Host oder wurde schon verteilt. In dem Fall, dass sich das Model auf dem Host befindet, muss es an jeweilige Worker verteilt werden."
   ]
  },
  {
   "cell_type": "code",
   "execution_count": 28,
   "id": "7495bc96-90e7-4e40-9234-4a630b3945f9",
   "metadata": {
    "tags": []
   },
   "outputs": [
    {
     "data": {
      "text/plain": [
       "KMeansMG()"
      ]
     },
     "execution_count": 28,
     "metadata": {},
     "output_type": "execute_result"
    }
   ],
   "source": [
    "# Host lädt Model\n",
    "loaded_single_gpu_model = pickle.load(open(\"template_data_Kmeans_Multi/cuml_MultieNode_kmeans_model.pkl\", \"rb\"))\n",
    "loaded_single_gpu_model"
   ]
  },
  {
   "cell_type": "markdown",
   "id": "76986729-5a42-4e3c-a1f0-5911fa000748",
   "metadata": {},
   "source": [
    "Mit Dask können wir das Model an alle Worker senden."
   ]
  },
  {
   "cell_type": "code",
   "execution_count": 29,
   "id": "e8757b0f-8ddc-4f30-b1b6-04135c8060bc",
   "metadata": {
    "tags": []
   },
   "outputs": [],
   "source": [
    "futures = client.scatter(loaded_single_gpu_model, broadcast=True)"
   ]
  },
  {
   "cell_type": "code",
   "execution_count": 30,
   "id": "fc0de43b-3e38-4d47-a002-06fa9e96c682",
   "metadata": {
    "tags": []
   },
   "outputs": [
    {
     "data": {
      "text/html": [
       "<strong>Future: KMeansMG</strong>\n",
       "<span style=\"color: var(--jp-ui-font-color2, gray)\"> status: </span>\n",
       "\n",
       "\n",
       "<span style=\"color: var(--jp-error-color0, black)\">finished</span>,\n",
       "\n",
       "\n",
       "\n",
       "<span style=\"color: var(--jp-ui-font-color2, gray)\"> type:</span> cuml.cluster.kmeans_mg.KMeansMG,\n",
       "\n",
       "\n",
       "<span style=\"color: var(--jp-ui-font-color2, gray)\"> key:</span> KMeansMG-1256ccceb6666ea9ea8b04dc55f96caf"
      ],
      "text/plain": [
       "<Future: finished, type: cuml.cluster.kmeans_mg.KMeansMG, key: KMeansMG-1256ccceb6666ea9ea8b04dc55f96caf>"
      ]
     },
     "execution_count": 30,
     "metadata": {},
     "output_type": "execute_result"
    }
   ],
   "source": [
    "# Future sollte den status finished angeben\n",
    "futures"
   ]
  },
  {
   "cell_type": "markdown",
   "id": "892a15d1-6e3c-4958-9f38-957691fc5ee4",
   "metadata": {},
   "source": [
    "Jetzt können wir eine Funktion schreiben die uns die Predictions liefert. Wir können Lokale Daten nehmen oder erst wieder Daten für die Prediction verteilen."
   ]
  },
  {
   "cell_type": "code",
   "execution_count": 31,
   "id": "c254b6e6-362d-4934-9900-6234cedfad46",
   "metadata": {
    "tags": []
   },
   "outputs": [
    {
     "data": {
      "text/html": [
       "<div><strong>Dask DataFrame Structure:</strong></div>\n",
       "<div>\n",
       "<style scoped>\n",
       "    .dataframe tbody tr th:only-of-type {\n",
       "        vertical-align: middle;\n",
       "    }\n",
       "\n",
       "    .dataframe tbody tr th {\n",
       "        vertical-align: top;\n",
       "    }\n",
       "\n",
       "    .dataframe thead th {\n",
       "        text-align: right;\n",
       "    }\n",
       "</style>\n",
       "<table border=\"1\" class=\"dataframe\">\n",
       "  <thead>\n",
       "    <tr style=\"text-align: right;\">\n",
       "      <th></th>\n",
       "      <th>0</th>\n",
       "      <th>1</th>\n",
       "    </tr>\n",
       "    <tr>\n",
       "      <th>npartitions=3</th>\n",
       "      <th></th>\n",
       "      <th></th>\n",
       "    </tr>\n",
       "  </thead>\n",
       "  <tbody>\n",
       "    <tr>\n",
       "      <th>0</th>\n",
       "      <td>float32</td>\n",
       "      <td>float32</td>\n",
       "    </tr>\n",
       "    <tr>\n",
       "      <th>210</th>\n",
       "      <td>...</td>\n",
       "      <td>...</td>\n",
       "    </tr>\n",
       "    <tr>\n",
       "      <th>420</th>\n",
       "      <td>...</td>\n",
       "      <td>...</td>\n",
       "    </tr>\n",
       "    <tr>\n",
       "      <th>629</th>\n",
       "      <td>...</td>\n",
       "      <td>...</td>\n",
       "    </tr>\n",
       "  </tbody>\n",
       "</table>\n",
       "</div>\n",
       "<div>Dask Name: from_cudf, 1 graph layer</div>"
      ],
      "text/plain": [
       "<dask_cudf.DataFrame | 3 tasks | 3 npartitions>"
      ]
     },
     "execution_count": 31,
     "metadata": {},
     "output_type": "execute_result"
    }
   ],
   "source": [
    "# Verteile Daten, Nutze Dask-cuDF\n",
    "to_predict__dask = dask_cudf.from_cudf(cudf.DataFrame( X_test ), npartitions=n_workers)  #n_workers\n",
    "to_predict__dask"
   ]
  },
  {
   "cell_type": "markdown",
   "id": "b3eac417-d420-4bd0-a9bc-e32c844d68c3",
   "metadata": {},
   "source": [
    "Wenn die Daten mit Dask-cuDF <u>vom Host erstellt werden</u>, müssen die Partitionen übergeben werden."
   ]
  },
  {
   "cell_type": "markdown",
   "id": "6cd656ed-2cf0-4025-b762-3533952b38e3",
   "metadata": {
    "tags": []
   },
   "source": [
    "<img src=\"./pictures/pred1.PNG\"  width=\"925px;\" hight=\"925px;\">\n",
    "\n",
    "<img src=\"./pictures/pred2.PNG\"  width=\"325px;\" hight=\"225px;\" >"
   ]
  },
  {
   "cell_type": "markdown",
   "id": "323f55f7-0ccb-48f1-833b-050fd16483fb",
   "metadata": {},
   "source": [
    "Mit Dask Delayed sagen wir, dass diese Funktion parallel ausgeführt werden soll. In der Funktion können wir verteilt Daten lesen und bearbeiten, bevor wir die Predictions machen. \n",
    "\n",
    "<br>\n",
    "\n",
    "Dask Delayed: https://docs.dask.org/en/stable/delayed.html"
   ]
  },
  {
   "cell_type": "code",
   "execution_count": 61,
   "id": "6f5e8b89-8174-41df-a12e-421af772ecb8",
   "metadata": {
    "tags": []
   },
   "outputs": [
    {
     "data": {
      "text/plain": [
       "630"
      ]
     },
     "execution_count": 61,
     "metadata": {},
     "output_type": "execute_result"
    }
   ],
   "source": [
    "# Länge der Testdaten\n",
    "len(X_test)"
   ]
  },
  {
   "cell_type": "markdown",
   "id": "afebbe43-72dd-4027-b09d-e4501035fe53",
   "metadata": {},
   "source": [
    "Wir haben die Daten als Dask-cuDF gelesen. Wenn wir das als Host machen, müssen wir in einer Schleife die Partitionen übergeben."
   ]
  },
  {
   "cell_type": "code",
   "execution_count": 32,
   "id": "7a108807-e855-4d70-abce-f467f0723989",
   "metadata": {
    "tags": []
   },
   "outputs": [],
   "source": [
    "@dask.delayed\n",
    "def dask_predict(test_data, part):  # Jeder Worker führt das aus. \n",
    "    \n",
    "    # Das wird in der Console ausgegeben. Damit sehen wir das alles passt, und jeder worker seine Partitionen nimmt. \n",
    "    print(f\"type: {type(test_data)} länge: {len(test_data)}\\nHead:\\n{test_data.head(2)}\\nPartition: {part}\")\n",
    "\n",
    "    predictions = loaded_single_gpu_model.predict(test_data) \n",
    "\n",
    "    return predictions"
   ]
  },
  {
   "cell_type": "markdown",
   "id": "b61ad2da-da38-4520-b306-866ada69cb45",
   "metadata": {},
   "source": [
    "Wir müssen die Anzahl der Partitionen angeben. Die Worker werden die eigenen Partitionen bearbeiten."
   ]
  },
  {
   "cell_type": "code",
   "execution_count": 33,
   "id": "033e82ff-1eed-474e-8683-3fbb842c6c03",
   "metadata": {
    "tags": []
   },
   "outputs": [
    {
     "name": "stdout",
     "output_type": "stream",
     "text": [
      "Type: <class 'tuple'>\n",
      "\n"
     ]
    }
   ],
   "source": [
    "results = []\n",
    "parts = 3   # Anzahl Partitionen\n",
    "\n",
    "for part in range(parts):\n",
    "    fut = dask_predict( to_predict__dask.get_partition(part), part )\n",
    "    results.append( fut )\n",
    "    \n",
    "results = dask.compute(*results)\n",
    "\n",
    "print(f\"Type: {type(results)}\\n\")"
   ]
  },
  {
   "cell_type": "code",
   "execution_count": 34,
   "id": "36e79d03-2f86-46c4-ab91-6aaa675eb096",
   "metadata": {
    "tags": []
   },
   "outputs": [
    {
     "data": {
      "text/plain": [
       "numpy.ndarray"
      ]
     },
     "execution_count": 34,
     "metadata": {},
     "output_type": "execute_result"
    }
   ],
   "source": [
    "# Mache daraus ein Numpy Array.\n",
    "deleayed_pred = []\n",
    "for i in range( len(results) ):\n",
    "    deleayed_pred = np.append(deleayed_pred, np.asarray( results[i].to_numpy()) )\n",
    "type(deleayed_pred)"
   ]
  },
  {
   "cell_type": "markdown",
   "id": "df176fd5-92e8-4166-a5ad-4c4f1a6bf19a",
   "metadata": {},
   "source": [
    "Danach werden wir überprüfen, ob die gemachten Predictions gleich sind."
   ]
  },
  {
   "cell_type": "code",
   "execution_count": 36,
   "id": "16c940cd-30d4-4e3b-a417-a49ffa1f8c30",
   "metadata": {
    "tags": []
   },
   "outputs": [
    {
     "name": "stdout",
     "output_type": "stream",
     "text": [
      "Gebe 10 Zeilen aus, die ungleich sind\n"
     ]
    }
   ],
   "source": [
    "## Überprüfe ob das Array pred_futures__MultiNodeOrig_results == deleayed_pred ist.\n",
    "# cp.asnumpy() formt das Array in Numpy um.\n",
    "rapids_tools.arrays_equal( cp.asnumpy( pred_futures__MultiNodeOrig_results ), cp.asnumpy( results_loadedModel ) )"
   ]
  },
  {
   "cell_type": "markdown",
   "id": "bf4e930e-7f80-4394-aa32-974628ee465a",
   "metadata": {},
   "source": [
    "Eine andere Möglichkeit ist, dass die Worker die Daten lokal lesen und ggf. auch für sich diese Partitionieren. \n",
    "\n",
    "Es können wieder veschiedene Quellen angegeben werden. Für ein einfaches kleines Beispiel, schreibt jeder Worker eine CSV Datei die später gelesen wird. "
   ]
  },
  {
   "cell_type": "code",
   "execution_count": 85,
   "id": "605146a4-06fc-4cff-83bb-a64ed5c5264f",
   "metadata": {
    "tags": []
   },
   "outputs": [],
   "source": [
    "# Diese Datei wird im lokalen Verzeichnis geschrieben.\n",
    "np.savetxt('csv_file.csv', cp.asnumpy( X_test ), delimiter=\",\", header=\"A,B\")"
   ]
  },
  {
   "cell_type": "code",
   "execution_count": 92,
   "id": "2197e771-ce9c-43b8-a2f7-2f8afcf1d90f",
   "metadata": {
    "tags": []
   },
   "outputs": [
    {
     "data": {
      "text/plain": [
       "(None, None, None)"
      ]
     },
     "execution_count": 92,
     "metadata": {},
     "output_type": "execute_result"
    }
   ],
   "source": [
    "## Damit schreibt jeder Worker diese Datei.\n",
    "@dask.delayed    # Jeder Worker führt das aus. \n",
    "def dask_write(test_data):\n",
    "    print(\"Write file\")\n",
    "    np.savetxt('csv_file.csv', np.asarray(test_data, dtype=np.int32), delimiter=\",\")\n",
    "    \n",
    "futs = []\n",
    "for i in range(3):\n",
    "    futs.append(dask_write( cp.asnumpy( X_test ) ))\n",
    "dask.compute(*futs)"
   ]
  },
  {
   "cell_type": "code",
   "execution_count": 87,
   "id": "03449a69-93ad-4487-bdac-a4489bc6b101",
   "metadata": {
    "jupyter": {
     "source_hidden": true
    },
    "tags": []
   },
   "outputs": [],
   "source": [
    "# Wenn man das so macht, macht das nur ein Worker. \n",
    "fut = dask_write(cp.asnumpy(X_test))\n",
    "fut.compute()"
   ]
  },
  {
   "cell_type": "markdown",
   "id": "9e660689-d3b7-4f23-bcbb-3250ea8a7b76",
   "metadata": {},
   "source": [
    "jetzt können wir diese CSV Datei laden und für das Testen nutzen. <br>\n",
    "Am Ende bekommen wir wieder ein Tupel. Diesemal werden alle Daten genutzt.\n"
   ]
  },
  {
   "cell_type": "code",
   "execution_count": 114,
   "id": "7a97e22b-c515-49b5-ac44-686db1e42c97",
   "metadata": {
    "tags": []
   },
   "outputs": [],
   "source": [
    "@dask.delayed\n",
    "def dask_predict_2():\n",
    "\n",
    "    test_data = cudf.read_csv(\"csv_file.csv\")       # Lese lokale Daten\n",
    "    test_data = test_data.astype(dtype='float32')  # Muss float32 sein, oder ändere IO\n",
    "    \n",
    "    # oder- nutze Dask-cuDF um lokale Daten zu partitionieren. \n",
    "    #test_data = dask_cudf.read_csv(\"big_csv.csv\",  blocksize=\"5KB\")       # Lese lokale Daten, gebe Blocksize an\n",
    "    #test_data = test_data.astype(dtype='float32')                         # Muss float32 sein, oder ändere IO\n",
    "    \n",
    "    print(f\"Data loaded, len: {len(test_data)}\")\n",
    "    \n",
    "    predictions = loaded_single_gpu_model.predict(test_data)\n",
    "    return predictions"
   ]
  },
  {
   "cell_type": "code",
   "execution_count": 115,
   "id": "99f4ae0a-4ea9-437f-a787-7278c1365dec",
   "metadata": {
    "tags": []
   },
   "outputs": [],
   "source": [
    "futs = []\n",
    "for i in range(3):\n",
    "    futs.append(dask_predict_2())\n",
    "    "
   ]
  },
  {
   "cell_type": "code",
   "execution_count": 116,
   "id": "3c9e7c04-5b57-40c3-af38-f31f270699fa",
   "metadata": {
    "tags": []
   },
   "outputs": [
    {
     "data": {
      "text/plain": [
       "(0      0\n",
       " 1      1\n",
       " 2      7\n",
       " 3      3\n",
       " 4      5\n",
       "       ..\n",
       " 624    1\n",
       " 625    6\n",
       " 626    0\n",
       " 627    0\n",
       " 628    4\n",
       " Length: 629, dtype: int32,\n",
       " 0      0\n",
       " 1      1\n",
       " 2      7\n",
       " 3      3\n",
       " 4      5\n",
       "       ..\n",
       " 624    1\n",
       " 625    6\n",
       " 626    0\n",
       " 627    0\n",
       " 628    4\n",
       " Length: 629, dtype: int32,\n",
       " 0      0\n",
       " 1      1\n",
       " 2      7\n",
       " 3      3\n",
       " 4      5\n",
       "       ..\n",
       " 624    1\n",
       " 625    6\n",
       " 626    0\n",
       " 627    0\n",
       " 628    4\n",
       " Length: 629, dtype: int32)"
      ]
     },
     "execution_count": 116,
     "metadata": {},
     "output_type": "execute_result"
    }
   ],
   "source": [
    "dask.compute(*futs)"
   ]
  },
  {
   "cell_type": "markdown",
   "id": "4d2a5126-2ae3-41b8-ae6c-b112236c1d63",
   "metadata": {},
   "source": [
    "Man sieht das alle Worker alle Predictions gemacht haben. "
   ]
  },
  {
   "cell_type": "markdown",
   "id": "44e7997b-3569-40d1-b1ba-680eb73cf368",
   "metadata": {},
   "source": [
    "### 3.1.2 Zweite Möglichkeit \n"
   ]
  },
  {
   "cell_type": "markdown",
   "id": "3d737e25-0b95-4fae-a5e8-83740217a478",
   "metadata": {},
   "source": [
    "Bei dieser Möglichkeit erstellen wir ein MNMG Model und übernehmen die Parameter des Single-Models. Es kann sein, dass es (noch) nicht bei jedem Algorithmus so geht. Es ist etwas tricky. Potenziell können nicht alle Methoden des Models erfolgreich ausgeführt werden. \n",
    "\n",
    "Welche Werte übergeben werden, ist in dem Modul rapids_tools.py unter \"mnmg_kmeans__singleModel_to_multiModel()\" zu sehen.\n",
    "\n",
    "<u>Hinweis:</u><br>\n",
    "Ob am Ende dieselben Ergebnisse herauskommen, sollte stückweise überprüft werden. Es könnten Abweichungen auftreten gegenüber dem Single-Node Model."
   ]
  },
  {
   "cell_type": "code",
   "execution_count": 47,
   "id": "859d6149-d9dc-436c-89bd-71343711608d",
   "metadata": {
    "tags": []
   },
   "outputs": [
    {
     "data": {
      "text/plain": [
       "cuml.cluster.kmeans_mg.KMeansMG"
      ]
     },
     "execution_count": 47,
     "metadata": {},
     "output_type": "execute_result"
    }
   ],
   "source": [
    "# Host lädt Model\n",
    "loaded_single_gpu_model = pickle.load(open(\"template_data_Kmeans_Multi/cuml_MultieNode_kmeans_model.pkl\", \"rb\"))\n",
    "type(loaded_single_gpu_model)"
   ]
  },
  {
   "cell_type": "code",
   "execution_count": 48,
   "id": "574c6c36-5f79-40c7-bd25-dc40fdc46cd0",
   "metadata": {
    "tags": []
   },
   "outputs": [],
   "source": [
    "# Erstelle ein MNMG Basismodel. \n",
    "distributed_model = multi_kmeans(init=\"k-means||\", random_state=100)"
   ]
  },
  {
   "cell_type": "markdown",
   "id": "9537f15a-d735-44d5-98e3-d08dcb061c03",
   "metadata": {},
   "source": [
    "Danach nutzen wir eine Funktion um Parameter und Daten in das MNMG Model zu überführen."
   ]
  },
  {
   "cell_type": "code",
   "execution_count": 49,
   "id": "b108b83f-3229-44f8-a827-22b6d545e777",
   "metadata": {
    "tags": []
   },
   "outputs": [
    {
     "name": "stdout",
     "output_type": "stream",
     "text": [
      "K-Means: Überführe cuMl SNSG zu cuML MNMG.\n"
     ]
    },
    {
     "data": {
      "text/plain": [
       "<cuml.dask.cluster.kmeans.KMeans at 0x7f1a2a4d2d70>"
      ]
     },
     "execution_count": 49,
     "metadata": {},
     "output_type": "execute_result"
    }
   ],
   "source": [
    "distributed_model = rapids_tools.mnmg_kmeans__singleModel_to_multiModel(client, loaded_single_gpu_model, distributed_model)\n",
    "distributed_model"
   ]
  },
  {
   "cell_type": "markdown",
   "id": "b8896872-9914-441d-b846-cd3ce2914597",
   "metadata": {},
   "source": [
    "Danach können wir wieder Daten lokal einlesen oder Daten erst verteilen, hier verteilen wir die Testdaten."
   ]
  },
  {
   "cell_type": "code",
   "execution_count": 50,
   "id": "0682e681-133a-421b-b95d-44ddf165e4f7",
   "metadata": {
    "tags": []
   },
   "outputs": [
    {
     "name": "stdout",
     "output_type": "stream",
     "text": [
      "Länge: 630 \n",
      "Typ: <class 'cupy.ndarray'>\n",
      " [[  7.199896   -6.081043 ]\n",
      " [  8.88451    -4.293371 ]\n",
      " [-10.303796    7.9061947]\n",
      " ...\n",
      " [  7.657574   -3.5824952]\n",
      " [  7.6466017  -5.1047616]\n",
      " [  3.4916835  -6.8165197]]\n"
     ]
    }
   ],
   "source": [
    "to_predict = X_test\n",
    "print(f\"Länge: {len(to_predict)} \\nTyp: {type(to_predict)}\\n {to_predict}\")"
   ]
  },
  {
   "cell_type": "code",
   "execution_count": 51,
   "id": "67e255e6-0faf-4956-a64f-4405a824f19c",
   "metadata": {
    "tags": []
   },
   "outputs": [
    {
     "data": {
      "text/html": [
       "<div><strong>Dask DataFrame Structure:</strong></div>\n",
       "<div>\n",
       "<style scoped>\n",
       "    .dataframe tbody tr th:only-of-type {\n",
       "        vertical-align: middle;\n",
       "    }\n",
       "\n",
       "    .dataframe tbody tr th {\n",
       "        vertical-align: top;\n",
       "    }\n",
       "\n",
       "    .dataframe thead th {\n",
       "        text-align: right;\n",
       "    }\n",
       "</style>\n",
       "<table border=\"1\" class=\"dataframe\">\n",
       "  <thead>\n",
       "    <tr style=\"text-align: right;\">\n",
       "      <th></th>\n",
       "      <th>0</th>\n",
       "      <th>1</th>\n",
       "    </tr>\n",
       "    <tr>\n",
       "      <th>npartitions=3</th>\n",
       "      <th></th>\n",
       "      <th></th>\n",
       "    </tr>\n",
       "  </thead>\n",
       "  <tbody>\n",
       "    <tr>\n",
       "      <th>0</th>\n",
       "      <td>float32</td>\n",
       "      <td>float32</td>\n",
       "    </tr>\n",
       "    <tr>\n",
       "      <th>210</th>\n",
       "      <td>...</td>\n",
       "      <td>...</td>\n",
       "    </tr>\n",
       "    <tr>\n",
       "      <th>420</th>\n",
       "      <td>...</td>\n",
       "      <td>...</td>\n",
       "    </tr>\n",
       "    <tr>\n",
       "      <th>629</th>\n",
       "      <td>...</td>\n",
       "      <td>...</td>\n",
       "    </tr>\n",
       "  </tbody>\n",
       "</table>\n",
       "</div>\n",
       "<div>Dask Name: from_cudf, 1 graph layer</div>"
      ],
      "text/plain": [
       "<dask_cudf.DataFrame | 3 tasks | 3 npartitions>"
      ]
     },
     "execution_count": 51,
     "metadata": {},
     "output_type": "execute_result"
    }
   ],
   "source": [
    "to_predict = cp.asarray(to_predict)\n",
    "to_predict__dask = dask_cudf.from_cudf(cudf.DataFrame( to_predict ), npartitions=3)\n",
    "to_predict__dask"
   ]
  },
  {
   "cell_type": "code",
   "execution_count": 52,
   "id": "3d5e892c-c413-46f8-b900-3f9beccc3b9e",
   "metadata": {
    "tags": []
   },
   "outputs": [
    {
     "name": "stdout",
     "output_type": "stream",
     "text": [
      "<dask_cudf.Series | 10 tasks | 3 npartitions>\n"
     ]
    }
   ],
   "source": [
    "pred_futures = distributed_model.predict(to_predict__dask)\n",
    "print(pred_futures)"
   ]
  },
  {
   "cell_type": "code",
   "execution_count": 53,
   "id": "a1dd6335-e62b-4882-9cd1-e2770ce2726b",
   "metadata": {
    "tags": []
   },
   "outputs": [
    {
     "name": "stdout",
     "output_type": "stream",
     "text": [
      "CPU times: user 7.56 ms, sys: 5.08 ms, total: 12.6 ms\n",
      "Wall time: 65.1 ms\n"
     ]
    }
   ],
   "source": [
    "%time result_rebuild = pred_futures.compute()"
   ]
  },
  {
   "cell_type": "code",
   "execution_count": 54,
   "id": "100532c8-cd45-4681-8afe-700b31b6099d",
   "metadata": {
    "tags": []
   },
   "outputs": [
    {
     "data": {
      "text/plain": [
       "0    3\n",
       "1    0\n",
       "2    1\n",
       "3    7\n",
       "4    3\n",
       "dtype: int32"
      ]
     },
     "execution_count": 54,
     "metadata": {},
     "output_type": "execute_result"
    }
   ],
   "source": [
    "result_rebuild.head(5)"
   ]
  },
  {
   "cell_type": "markdown",
   "id": "0cf28390-dfca-481b-8e60-1e6fdc29fbf5",
   "metadata": {},
   "source": [
    "Jetzt können wir prüfen ob die gemachten Predictions gleich sind. Die untere Funktion vergleich ob die Zahlen identisch sind. "
   ]
  },
  {
   "cell_type": "code",
   "execution_count": 55,
   "id": "a243cf9a-f6b1-41ed-b15c-105fbbce6080",
   "metadata": {
    "tags": []
   },
   "outputs": [
    {
     "name": "stdout",
     "output_type": "stream",
     "text": [
      "Gebe 10 Zeilen aus, die ungleich sind\n"
     ]
    }
   ],
   "source": [
    "# Predictions des trainierten Models was verteilt ist  vs  Das SNSG Model was wir in ein MNMG Model überführt haben.\n",
    "# - Vorher muss es mit cp.asnumpy() in Numpy umgewandelt werden \n",
    "rapids_tools.arrays_equal( cp.asnumpy( pred_futures__MultiNodeOrig_results ), cp.asnumpy( result_rebuild ) )"
   ]
  },
  {
   "cell_type": "code",
   "execution_count": 56,
   "id": "1871b659-b40a-4b65-817c-9ead4d60b466",
   "metadata": {
    "tags": []
   },
   "outputs": [
    {
     "name": "stdout",
     "output_type": "stream",
     "text": [
      "Gebe 10 Zeilen aus, die ungleich sind\n",
      "X: 3 \t!= \t y: 4 \n"
     ]
    },
    {
     "ename": "AssertionError",
     "evalue": "\nItems are not equal:\nitem=2\n\n ACTUAL: 3\n DESIRED: 4",
     "output_type": "error",
     "traceback": [
      "\u001b[0;31m---------------------------------------------------------------------------\u001b[0m",
      "\u001b[0;31mAssertionError\u001b[0m                            Traceback (most recent call last)",
      "\u001b[0;32m/tmp/ipykernel_2215/2917444076.py\u001b[0m in \u001b[0;36m<module>\u001b[0;34m\u001b[0m\n\u001b[1;32m      1\u001b[0m \u001b[0;31m# Wenn etwas nicht stimmt, kommt so eine Ausgabe:\u001b[0m\u001b[0;34m\u001b[0m\u001b[0;34m\u001b[0m\u001b[0m\n\u001b[0;32m----> 2\u001b[0;31m \u001b[0mrapids_tools\u001b[0m\u001b[0;34m.\u001b[0m\u001b[0marrays_equal\u001b[0m\u001b[0;34m(\u001b[0m\u001b[0;34m[\u001b[0m\u001b[0;36m1\u001b[0m\u001b[0;34m,\u001b[0m \u001b[0;36m2\u001b[0m\u001b[0;34m,\u001b[0m \u001b[0;36m3\u001b[0m\u001b[0;34m]\u001b[0m\u001b[0;34m,\u001b[0m \u001b[0;34m[\u001b[0m\u001b[0;36m1\u001b[0m\u001b[0;34m,\u001b[0m \u001b[0;36m2\u001b[0m\u001b[0;34m,\u001b[0m \u001b[0;36m4\u001b[0m\u001b[0;34m]\u001b[0m\u001b[0;34m)\u001b[0m\u001b[0;34m\u001b[0m\u001b[0;34m\u001b[0m\u001b[0m\n\u001b[0m",
      "\u001b[0;32m/rapids/notebooks/01work/final_work/rapids_tools.py\u001b[0m in \u001b[0;36marrays_equal\u001b[0;34m(X, y, printres, rows)\u001b[0m\n\u001b[1;32m     79\u001b[0m \u001b[0;34m\u001b[0m\u001b[0m\n\u001b[1;32m     80\u001b[0m \u001b[0;34m\u001b[0m\u001b[0m\n\u001b[0;32m---> 81\u001b[0;31m     \u001b[0;32mreturn\u001b[0m \u001b[0m_assert_equal\u001b[0m\u001b[0;34m(\u001b[0m\u001b[0mX\u001b[0m\u001b[0;34m,\u001b[0m \u001b[0my\u001b[0m\u001b[0;34m)\u001b[0m\u001b[0;34m\u001b[0m\u001b[0;34m\u001b[0m\u001b[0m\n\u001b[0m\u001b[1;32m     82\u001b[0m \u001b[0;34m\u001b[0m\u001b[0m\n\u001b[1;32m     83\u001b[0m \u001b[0;34m\u001b[0m\u001b[0m\n",
      "    \u001b[0;31m[... skipping hidden 1 frame]\u001b[0m\n",
      "\u001b[0;32m/opt/conda/envs/rapids/lib/python3.10/site-packages/numpy/testing/_private/utils.py\u001b[0m in \u001b[0;36massert_equal\u001b[0;34m(actual, desired, err_msg, verbose)\u001b[0m\n\u001b[1;32m    423\u001b[0m         \u001b[0;31m# Explicitly use __eq__ for comparison, gh-2552\u001b[0m\u001b[0;34m\u001b[0m\u001b[0;34m\u001b[0m\u001b[0m\n\u001b[1;32m    424\u001b[0m         \u001b[0;32mif\u001b[0m \u001b[0;32mnot\u001b[0m \u001b[0;34m(\u001b[0m\u001b[0mdesired\u001b[0m \u001b[0;34m==\u001b[0m \u001b[0mactual\u001b[0m\u001b[0;34m)\u001b[0m\u001b[0;34m:\u001b[0m\u001b[0;34m\u001b[0m\u001b[0;34m\u001b[0m\u001b[0m\n\u001b[0;32m--> 425\u001b[0;31m             \u001b[0;32mraise\u001b[0m \u001b[0mAssertionError\u001b[0m\u001b[0;34m(\u001b[0m\u001b[0mmsg\u001b[0m\u001b[0;34m)\u001b[0m\u001b[0;34m\u001b[0m\u001b[0;34m\u001b[0m\u001b[0m\n\u001b[0m\u001b[1;32m    426\u001b[0m \u001b[0;34m\u001b[0m\u001b[0m\n\u001b[1;32m    427\u001b[0m     \u001b[0;32mexcept\u001b[0m \u001b[0;34m(\u001b[0m\u001b[0mDeprecationWarning\u001b[0m\u001b[0;34m,\u001b[0m \u001b[0mFutureWarning\u001b[0m\u001b[0;34m)\u001b[0m \u001b[0;32mas\u001b[0m \u001b[0me\u001b[0m\u001b[0;34m:\u001b[0m\u001b[0;34m\u001b[0m\u001b[0;34m\u001b[0m\u001b[0m\n",
      "\u001b[0;31mAssertionError\u001b[0m: \nItems are not equal:\nitem=2\n\n ACTUAL: 3\n DESIRED: 4"
     ]
    }
   ],
   "source": [
    "# Wenn etwas nicht stimmt, kommt so eine Ausgabe:\n",
    "rapids_tools.arrays_equal([1, 2, 3], [1, 2, 4])"
   ]
  },
  {
   "cell_type": "code",
   "execution_count": 57,
   "id": "bda24b70-a78e-48e1-beed-238cd073f600",
   "metadata": {
    "tags": []
   },
   "outputs": [
    {
     "name": "stdout",
     "output_type": "stream",
     "text": [
      "Gebe 10 Zeilen aus, die ungleich sind\n"
     ]
    }
   ],
   "source": [
    "rapids_tools.arrays_equal( cp.asnumpy( pred_futures__MultiNodeOrig_results ), cp.asnumpy( results_loadedModel ) )"
   ]
  },
  {
   "cell_type": "markdown",
   "id": "6968f570-319f-46f7-8c8b-7953ae0bbf86",
   "metadata": {},
   "source": [
    "# 4. cuML Kmeans => Sklearn Kmeans Model "
   ]
  },
  {
   "cell_type": "code",
   "execution_count": 59,
   "id": "74a3a7fb-5e49-47e2-9f7b-6638449b581e",
   "metadata": {
    "tags": []
   },
   "outputs": [],
   "source": [
    "from sklearn.cluster import KMeans as sk_Kmeans"
   ]
  },
  {
   "cell_type": "markdown",
   "id": "4d4da185-1650-4465-be3f-442af484c60c",
   "metadata": {},
   "source": [
    "Das Model bietet keine normale Überführung in ein CPU-Model. Es ist jedoch möglich, einige Werte dem Sklearn Model zu übergeben.\n",
    "\n",
    "Ist das Ziel das Model später auf einem System zu nutzen, das keine CPU hat, kann das trainierte Model in ein Sklearn Model \"konvertiert\" werden.\n"
   ]
  },
  {
   "cell_type": "code",
   "execution_count": 60,
   "id": "d78353f0-3e0d-4946-a60a-788ba0c996e3",
   "metadata": {
    "tags": []
   },
   "outputs": [],
   "source": [
    "# Erstelle Basismodel\n",
    "sk_model_new =  sk_Kmeans()"
   ]
  },
  {
   "cell_type": "code",
   "execution_count": 61,
   "id": "bced672a-c186-4b6d-a72e-303a00ceb9fa",
   "metadata": {
    "tags": []
   },
   "outputs": [
    {
     "name": "stdout",
     "output_type": "stream",
     "text": [
      "K-Means: Überführe cuML Model zu Sklearn Model.\n"
     ]
    }
   ],
   "source": [
    "sk_model_new  = rapids_tools.mnmg_kmeans__singleModel_to_sklearnModel(loaded_single_gpu_model, sk_model_new)"
   ]
  },
  {
   "cell_type": "markdown",
   "id": "475e3aaf-7f3b-475f-81aa-79de82e6c347",
   "metadata": {},
   "source": [
    "Danach sollte eine Prediction möglich sein."
   ]
  },
  {
   "cell_type": "code",
   "execution_count": 62,
   "id": "e82a88b3-0ba4-4b3f-8842-3b91e0441f7b",
   "metadata": {
    "tags": []
   },
   "outputs": [
    {
     "data": {
      "text/plain": [
       "array([2], dtype=int32)"
      ]
     },
     "execution_count": 62,
     "metadata": {},
     "output_type": "execute_result"
    }
   ],
   "source": [
    "sk_model_new.predict(np.asarray( [ [1.5, 2.4] ], dtype=np.float32 ))"
   ]
  },
  {
   "cell_type": "markdown",
   "id": "43053590-1394-41f6-8168-0473680d2df8",
   "metadata": {},
   "source": [
    "Dann können wir das Model speichern und wieder Laden."
   ]
  },
  {
   "cell_type": "code",
   "execution_count": 63,
   "id": "42a7d5af-bdc9-4837-b1c7-f443f2959210",
   "metadata": {
    "tags": []
   },
   "outputs": [],
   "source": [
    "# Speichern \n",
    "pickle.dump(sk_model_new, open(\"template_data_Kmeans_Multi/sklearn_kmeans_model.pkl\", \"wb\"))\n",
    "# Laden\n",
    "loaded_sklearn_model = pickle.load(open(\"template_data_Kmeans_Multi/sklearn_kmeans_model.pkl\", \"rb\"))"
   ]
  },
  {
   "cell_type": "code",
   "execution_count": 64,
   "id": "208b9f96-6e48-483e-90a8-98b13d57893d",
   "metadata": {
    "tags": []
   },
   "outputs": [
    {
     "data": {
      "text/plain": [
       "array([2], dtype=int32)"
      ]
     },
     "execution_count": 64,
     "metadata": {},
     "output_type": "execute_result"
    }
   ],
   "source": [
    "loaded_sklearn_model.predict(np.asarray( [ [1.5, 2.4] ], dtype=np.float32 ))"
   ]
  },
  {
   "cell_type": "code",
   "execution_count": 65,
   "id": "f87c4d41-d7b8-4ff1-a316-6478ac3176ab",
   "metadata": {
    "tags": []
   },
   "outputs": [
    {
     "name": "stdout",
     "output_type": "stream",
     "text": [
      "CPU times: user 960 µs, sys: 248 µs, total: 1.21 ms\n",
      "Wall time: 1.16 ms\n",
      "Score: 0.9983912621854744\n"
     ]
    }
   ],
   "source": [
    "# cuML trustworthiness\n",
    "X_embedded = loaded_sklearn_model.transform(X_test.get())  \n",
    "%time score = cuml_trustworthiness(X_test, X_embedded )\n",
    "print(f\"Score: {score}\")"
   ]
  },
  {
   "cell_type": "markdown",
   "id": "dae07946-3eab-4934-ad5a-e91f2aff8bdd",
   "metadata": {},
   "source": [
    "Wir können wieder die Predictions überprüfen. Der Input muss vom Typ Numpy sein."
   ]
  },
  {
   "cell_type": "code",
   "execution_count": 66,
   "id": "d10e9830-31eb-4b27-b51d-e93aad0a8fe5",
   "metadata": {
    "tags": []
   },
   "outputs": [],
   "source": [
    "sk_model_pred = loaded_sklearn_model.predict( cp.asnumpy(X_test) )"
   ]
  },
  {
   "cell_type": "code",
   "execution_count": 67,
   "id": "6a4937f9-5c3f-4b0d-aac5-56b48d64634e",
   "metadata": {
    "tags": []
   },
   "outputs": [
    {
     "name": "stdout",
     "output_type": "stream",
     "text": [
      "Gebe 10 Zeilen aus, die ungleich sind\n"
     ]
    }
   ],
   "source": [
    "rapids_tools.arrays_equal( cp.asnumpy( results_loadedModel ), sk_model_pred )"
   ]
  },
  {
   "cell_type": "code",
   "execution_count": 120,
   "id": "3f5ee19c-6ac0-400c-a087-55eed49f6af4",
   "metadata": {
    "tags": []
   },
   "outputs": [],
   "source": [
    "client.shutdown()"
   ]
  },
  {
   "cell_type": "code",
   "execution_count": null,
   "id": "de17dfec-8ce0-439f-88d1-9629a2abf7bd",
   "metadata": {},
   "outputs": [],
   "source": []
  }
 ],
 "metadata": {
  "kernelspec": {
   "display_name": "Python 3 (ipykernel)",
   "language": "python",
   "name": "python3"
  },
  "language_info": {
   "codemirror_mode": {
    "name": "ipython",
    "version": 3
   },
   "file_extension": ".py",
   "mimetype": "text/x-python",
   "name": "python",
   "nbconvert_exporter": "python",
   "pygments_lexer": "ipython3",
   "version": "3.10.10"
  }
 },
 "nbformat": 4,
 "nbformat_minor": 5
}
