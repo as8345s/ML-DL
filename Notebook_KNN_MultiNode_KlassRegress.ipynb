{
 "cells": [
  {
   "cell_type": "markdown",
   "id": "e7941933-6212-4df8-a302-d1d0ce9c2296",
   "metadata": {},
   "source": [
    "# Template für KNN Klassifizierung und Regression | Multi-Node/Multi-GPU\n",
    "\n",
    "***"
   ]
  },
  {
   "cell_type": "markdown",
   "id": "4a2b576f-bd8e-4345-86b3-b369e2ca16c6",
   "metadata": {
    "tags": []
   },
   "source": [
    "<b>[Bild]</b>"
   ]
  },
  {
   "cell_type": "markdown",
   "id": "2f258484-edd8-4032-829e-888b35b51a29",
   "metadata": {},
   "source": [
    "In diesem Abschnitt wird erkläre, wie man den KMeans Algorithmus auf Worker skaliert und zum Laufen bringt. Dazu nutzen wir Dask und Rapids. Dask bietet uns ein Dashboard wo wir Einzelheiten verfolgen können. Dask-Cuda lässt sich gut mit PyTorch und anderen Frameworks kombinieren, ohne die Clustereinstellungen groß zu ändern.\n",
    "\n",
    "In dem Nootebook für das Setup wird erklärt, wie man selber sowas auf seinem eigenen PC/Workstation/Cluster installiert. Es gibt auch andere Möglichkeiten das zu installieren. Hier nutzen wir ein Cluster Setup mit Nodes, installiert mittels Docker.   \n",
    "\n",
    "<u>Hinweis:</u><br>\n",
    "Wenn es mal hängt, muss ggf. der Cluster, Worker oder das Notebook neu gestartet werden. Sowas passiert, wenn z.B. eine Exception vorkommt.   \n",
    "\n",
    "<br>\n",
    "\n",
    "Dask: https://www.dask.org | https://docs.dask.org/en/stable/ <br>\n",
    "Rapids: https://rapids.ai <br> "
   ]
  },
  {
   "cell_type": "markdown",
   "id": "82f7128f-ab01-40d9-9ea7-7849bb6e35a4",
   "metadata": {},
   "source": [
    "# 1. Rapids und Dask"
   ]
  },
  {
   "cell_type": "markdown",
   "id": "0bc8cd0f-db87-4e11-8699-09cb5cf67d60",
   "metadata": {},
   "source": [
    "<img src=\"./pictures/raspids_oss.PNG\"  width=\"825px;\" hight=\"725px;\">\n",
    "(Bild: (https://on-demand.gputechconf.com/gtcdc/2018/pdf/dc8256-rapids-the-platform-inside-and-out.pdf))"
   ]
  },
  {
   "cell_type": "markdown",
   "id": "68d289bd-5f02-490d-bc89-0d0dc37f447c",
   "metadata": {},
   "source": [
    "Rapids bietet uns eine Sammlung von Libraries, die uns bei vielen Dingen unterstützen kann. Eine dieser Libraries, die wir nutzen werden, nennt sich cuDF. cuDF sind Cuda Dataframes, die erstmal nur auf einer GPU laufen. Die Idee dahinter ist, dass wir <u>nah zu dasselbe machen</u> wie bei Pandas (Panda DataFrame), aber nur auf einer GPU. Dadurch können viele Berechnungen viel schneller durchgeführt werden. Beispielsweise das Vorverarbeiten von Daten vor dem Trainieren, oder anderweitige Zwecke. Die API ist nah zu identisch wie bei Pandas. \n",
    "\n",
    "Rapids funktioniert <u>nur</u> mit <u>Nvidia Grafikkarten</u>.\n",
    "\n",
    "Rapids ist OpenSource, die API Beschreibungen der Libraries verlinken den dahinterliegenden Code. Der Code enthählt selber nochmal Kommentare und erklärungen.\n",
    "\n",
    "Rapids entwickelt sich und es kommen Updates sowie Erweiterungen. Algorithmen, die noch nicht (Single-/Multi-Node/ GPU) verfügbar sind, können noch in den neueren Versionen auftauchen. Das gilt besonders für Multi-Node/Multi-GPU Implementierungen der Algorithmen. Es kann sein das manche Multi-Node/Multi-GPU Algorithmen sich am Ende nicht zusammenfassen lassen können, oder das Speichern/Laden sowie die Verwendung dieser auf GPU/CPU eingeschränkt sind. Andere Multi-Node/Multi-GPU Algorithmen können so wie in diesem Template hier verwendet werden. Einge andere können sich in der Anwendung unterscheiden. \n",
    "\n",
    "\n",
    "Floating-Point Berechnungen mit cuDF werden auf der GPU parallel ausgeführt, also ist die Reihenfolge nicht deterministisch. Die Ergebnisse können von Pandas abweichen.\n",
    "a + b ist nicht gleich b + a. Das kann z.B. bei data.sum() vorkommen.\n",
    "cuDF unterstützt auch verschiedene Datentypen wie int32, int64, float32, float64. Die ganze Liste ist hier zu finden.\n",
    "\n",
    "Es gibt noch Dask-cuDF, diese nutzt man unter anderem, um große Daten zu Partitionieren. Die API ist Dask-ähnlich. \n",
    "\n",
    "Eine weitere Library von Rapids ist cuML, welche auch cuDF nutzt. Diese enthält verschiedene supervised und unsupervsed Algorithmen. Der Fokus hier liegt dabei, dass die Algorithmen möglichst auf einer GPU laufen. Ein Teil dieser Algorithmen kann mittels eines Clusters (cuML nutzt dafür ein Dask Cluster) auf verschiedene Nodes und GPUs skalieren. \n",
    "\n",
    "Die API von cuML ist fast genauso aufgebaut wie bei \n",
    "Sklearn. <br> Die Release Notes von cuML sind hier zu finden (https://github.com/rapidsai/cuml/releases).\n",
    "  \n",
    "\n",
    "Was wir neben Rapids und Dask noch nutzen können ist CuPy [5]. CuPy ist wie Numpy, nur läuft es unter auf GPU. CuPy wird hier nicht detailliert erklärt.\n",
    "\n",
    "<br> \n",
    "\n",
    "cuDF Cuda DataFrames Dok.:  https://docs.rapids.ai/api/cudf/stable/ <br>\n",
    "cuDF API: https://docs.rapids.ai/api/cudf/stable/api_docs/api/cudf.dataframe/ <br>\n",
    "cuDF Floating-Point Berechnung: https://docs.rapids.ai/api/cudf/stable/user_guide/pandas-comparison/#floating-point-computation        <br>\n",
    "cuDF Datentypen: https://docs.rapids.ai/api/cudf/stable/user_guide/data-types/ | https://docs.rapids.ai/api/cudf/stable/user_guide/io/ <br>\n",
    "\n",
    "cuML GitHub: https://github.com/rapidsai/cuml  <br>\n",
    "cuML Dok.: https://docs.rapids.ai/api/cuml/stable/ <br>\n",
    "\n",
    "Dask-cuDF: https://docs.rapids.ai/api/dask-cudf/stable/\n",
    "\n",
    "CuPy: https://cupy.dev\n",
    "\n"
   ]
  },
  {
   "cell_type": "markdown",
   "id": "0eca02fc-041f-4e10-86f9-c54fc305ef9a",
   "metadata": {},
   "source": [
    "Was wir nutzen:<br>\n",
    "cuDF: DataFrames deren API nahezu identisch mit Pandas ist. Also quasi Pandas auf GPU.<br>\n",
    "dask_cudf: Dask bietet uns DataFrames, die verteilt sind. Mit dask_cudf läuft das ganze auf GPU. Also quasi Dask auf GPU. <br>\n",
    "cupy: wie Numpy und Scipy aber auf GPU."
   ]
  },
  {
   "cell_type": "markdown",
   "id": "3a76f6a0-bd2f-4981-8692-f01cc6f60f9c",
   "metadata": {},
   "source": [
    "<img src=\"./pictures/df.PNG\"  width=\"725px;\" hight=\"725px;\">"
   ]
  },
  {
   "cell_type": "markdown",
   "id": "fb3387d8-780b-4bae-bfa4-3e53f8564d27",
   "metadata": {},
   "source": [
    "Wir teilen das Training in 4 Bereiche auf. Hier nutzen wir MNSG."
   ]
  },
  {
   "cell_type": "markdown",
   "id": "dc1db187-4e6e-4d1e-acd4-d58ddac115be",
   "metadata": {},
   "source": [
    "<img src=\"./pictures/rapids_flynn.PNG\"  width=\"725px;\" hight=\"725px;\">"
   ]
  },
  {
   "cell_type": "markdown",
   "id": "b98e22af-a215-491a-935e-53253e39d2a1",
   "metadata": {},
   "source": [
    "Das Bild zeigt in welchen Bereichen man welche DataFrames nutzen kann. Pandas liegt dabei nicht im Fokus.\n",
    "\n",
    "<img src=\"./pictures/zuordnung.PNG\"  width=\"1050px;\" hight=\"1050px;\">\n",
    "\n",
    "Da wir mit Dask-cuDF und Dask große Daten lesen und partitionieren können, ist auch der Einsatz im SNSG Bereich möglich. cuDF unterstützt das lesen mehrere Dateien (bis jetzt)  nicht, so das man Dask oder Dask-cuDF nutzen muss, wenn man globstings nutzt, um alle CVS Dateien in einem Verzeichnis zu lesen.\n",
    "\n",
    "Es gibt auch die Möglichkeit cuDF als Backend für Dask zu nutzen.\n",
    "\n",
    "<br>\n",
    "\n",
    "cuDF Backend für Dask: https://docs.rapids.ai/api/dask-cudf/stable/#dataframe-creation-from-on-disk-formats"
   ]
  },
  {
   "cell_type": "markdown",
   "id": "54724909-85b2-48c4-91dd-248067d9a194",
   "metadata": {},
   "source": [
    "<b>[Bild Konvertierungen]</b>"
   ]
  },
  {
   "cell_type": "markdown",
   "id": "c6d165f9-6f24-4bd5-a37c-07980ad3ecee",
   "metadata": {},
   "source": [
    "<u>Hinweis:</u><br>\n",
    "Variablen die GPU Speicher nutzen und nicht mehr gebraucht werden, sollten mittels `del` gelöscht werden. Wenn nach dem Löschen immer noch Speicher belegt ist, muss der Kernel des Notebooks neugestartet werden. "
   ]
  },
  {
   "cell_type": "code",
   "execution_count": 1,
   "id": "55b2277f-db33-4e3d-9076-68ca095c3cb2",
   "metadata": {
    "tags": []
   },
   "outputs": [],
   "source": [
    "# Imports \n",
    "import cupy as   cp\n",
    "import cudf\n",
    "import cuml\n",
    "from cuml.dask.common import utils as dask_utils\n",
    "import dask_cudf\n",
    "import dask\n",
    "\n",
    "import numpy as np\n",
    "from numpy import genfromtxt\n",
    "\n",
    "import pandas as pd\n",
    "import os\n",
    "import time"
   ]
  },
  {
   "cell_type": "markdown",
   "id": "a81bda2d-ecba-4c3b-8485-8e21deebfe4e",
   "metadata": {},
   "source": [
    "Da dier API wie Pandas aufgebaut ist, wird cuDF im detail nicht erklärt. Bei interesse kann man sich die API durchlesen (https://docs.rapids.ai/api/cudf/stable/user_guide/pandas-comparison/).  "
   ]
  },
  {
   "cell_type": "code",
   "execution_count": 2,
   "id": "f245c222-8375-4fbd-b759-2be8da6a24fc",
   "metadata": {
    "tags": []
   },
   "outputs": [
    {
     "name": "stdout",
     "output_type": "stream",
     "text": [
      "Pandas:\n",
      "0       1\n",
      "1       2\n",
      "2    <NA>\n",
      "dtype: int64\n",
      "\n",
      "Rapids:\n",
      "0       1\n",
      "1       2\n",
      "2    <NA>\n",
      "dtype: object\n"
     ]
    }
   ],
   "source": [
    "# cuDF und Panda series \n",
    "s_cuda = cudf.Series([1, 2, cudf.NA])\n",
    "s_panda = pd.Series([1, 2, pd.NA])\n",
    "\n",
    "print(f\"Pandas:\\n{s_cuda}\\n\")\n",
    "print(f\"Rapids:\\n{s_panda}\")"
   ]
  },
  {
   "cell_type": "markdown",
   "id": "ee9f8e38-63a4-4ad2-ad3a-c7d2f6108b39",
   "metadata": {},
   "source": [
    "Wir können DataFrames auf verschiedenste Arten erstellen. Unten befinden sich Beispiele wie man DataFrames erstellt. Mehr dazu finden man in der API Beschreibung [3, 6]."
   ]
  },
  {
   "cell_type": "markdown",
   "id": "a654e737-f1a5-4758-a1ec-b140dd9d63f1",
   "metadata": {},
   "source": [
    "Es gibt noch viele weitere Gemeinsamkeiten. Für unsere Zwecke reicht das erstmal."
   ]
  },
  {
   "cell_type": "markdown",
   "id": "b5bafdb2-2f64-428c-bf2b-3f5afe3336bc",
   "metadata": {},
   "source": [
    "## 1.1 Start Dask-Cluster (Mit Docker)"
   ]
  },
  {
   "cell_type": "markdown",
   "id": "4b37df32-4d1b-4513-8276-be8f71f5f1f4",
   "metadata": {},
   "source": [
    "Pro GPU wird genau ein Prozess für einen Worker gestartet. Die Worker-ID wird hochgezählt. <br>\n",
    "\n",
    "<u>Hinweise:</u><br>\n",
    "Die MNMG Versionen der Algorithmen können auch auf SNSG laufen."
   ]
  },
  {
   "cell_type": "markdown",
   "id": "486c5086-c572-4442-9f9f-91cb8476cb91",
   "metadata": {},
   "source": [
    "<img src=\"./pictures/rapids_cluster2.PNG\">"
   ]
  },
  {
   "cell_type": "code",
   "execution_count": 3,
   "id": "eec737d7-04c1-4cba-a8a6-b5d6d6e5f29f",
   "metadata": {
    "tags": []
   },
   "outputs": [
    {
     "name": "stdout",
     "output_type": "stream",
     "text": [
      "Rapids-tools 1.0\n",
      "Umgebungsvariablen werden gesetzt\n",
      "NCCL_SOCKET_NTHREADS: 4\n",
      "NCCL_NSOCKS_PERTHREAD: 2\n"
     ]
    }
   ],
   "source": [
    "# Ein Modul, das uns unterstützt.\n",
    "import rapids_tools as rapids_tools    "
   ]
  },
  {
   "cell_type": "code",
   "execution_count": 4,
   "id": "59e2f554-741e-4d38-b683-ed7420fbf1f6",
   "metadata": {
    "tags": []
   },
   "outputs": [
    {
     "name": "stdout",
     "output_type": "stream",
     "text": [
      "Client IP: 127.0.0.1:8786\n"
     ]
    },
    {
     "data": {
      "text/html": [
       "<div>\n",
       "    <div style=\"width: 24px; height: 24px; background-color: #e1e1e1; border: 3px solid #9D9D9D; border-radius: 5px; position: absolute;\"> </div>\n",
       "    <div style=\"margin-left: 48px;\">\n",
       "        <h3 style=\"margin-bottom: 0px;\">Client</h3>\n",
       "        <p style=\"color: #9D9D9D; margin-bottom: 0px;\">Client-9c325a64-61ef-11ee-9228-a4bb6d4fbfd8</p>\n",
       "        <table style=\"width: 100%; text-align: left;\">\n",
       "\n",
       "        <tr>\n",
       "        \n",
       "            <td style=\"text-align: left;\"><strong>Connection method:</strong> Direct</td>\n",
       "            <td style=\"text-align: left;\"></td>\n",
       "        \n",
       "        </tr>\n",
       "\n",
       "        \n",
       "            <tr>\n",
       "                <td style=\"text-align: left;\">\n",
       "                    <strong>Dashboard: </strong> <a href=\"http://127.0.0.1:8787/status\" target=\"_blank\">http://127.0.0.1:8787/status</a>\n",
       "                </td>\n",
       "                <td style=\"text-align: left;\"></td>\n",
       "            </tr>\n",
       "        \n",
       "\n",
       "        </table>\n",
       "\n",
       "        \n",
       "            <button style=\"margin-bottom: 12px;\" data-commandlinker-command=\"dask:populate-and-launch-layout\" data-commandlinker-args='{\"url\": \"http://127.0.0.1:8787/status\" }'>\n",
       "                Launch dashboard in JupyterLab\n",
       "            </button>\n",
       "        \n",
       "\n",
       "        \n",
       "            <details>\n",
       "            <summary style=\"margin-bottom: 20px;\"><h3 style=\"display: inline;\">Scheduler Info</h3></summary>\n",
       "            <div style=\"\">\n",
       "    <div>\n",
       "        <div style=\"width: 24px; height: 24px; background-color: #FFF7E5; border: 3px solid #FF6132; border-radius: 5px; position: absolute;\"> </div>\n",
       "        <div style=\"margin-left: 48px;\">\n",
       "            <h3 style=\"margin-bottom: 0px;\">Scheduler</h3>\n",
       "            <p style=\"color: #9D9D9D; margin-bottom: 0px;\">Scheduler-df0fe02c-fc93-4d0e-b155-9da44859164b</p>\n",
       "            <table style=\"width: 100%; text-align: left;\">\n",
       "                <tr>\n",
       "                    <td style=\"text-align: left;\">\n",
       "                        <strong>Comm:</strong> tcp://149.201.182.203:8786\n",
       "                    </td>\n",
       "                    <td style=\"text-align: left;\">\n",
       "                        <strong>Workers:</strong> 3\n",
       "                    </td>\n",
       "                </tr>\n",
       "                <tr>\n",
       "                    <td style=\"text-align: left;\">\n",
       "                        <strong>Dashboard:</strong> <a href=\"http://149.201.182.203:8787/status\" target=\"_blank\">http://149.201.182.203:8787/status</a>\n",
       "                    </td>\n",
       "                    <td style=\"text-align: left;\">\n",
       "                        <strong>Total threads:</strong> 3\n",
       "                    </td>\n",
       "                </tr>\n",
       "                <tr>\n",
       "                    <td style=\"text-align: left;\">\n",
       "                        <strong>Started:</strong> Just now\n",
       "                    </td>\n",
       "                    <td style=\"text-align: left;\">\n",
       "                        <strong>Total memory:</strong> 187.58 GiB\n",
       "                    </td>\n",
       "                </tr>\n",
       "            </table>\n",
       "        </div>\n",
       "    </div>\n",
       "\n",
       "    <details style=\"margin-left: 48px;\">\n",
       "        <summary style=\"margin-bottom: 20px;\">\n",
       "            <h3 style=\"display: inline;\">Workers</h3>\n",
       "        </summary>\n",
       "\n",
       "        \n",
       "        <div style=\"margin-bottom: 20px;\">\n",
       "            <div style=\"width: 24px; height: 24px; background-color: #DBF5FF; border: 3px solid #4CC9FF; border-radius: 5px; position: absolute;\"> </div>\n",
       "            <div style=\"margin-left: 48px;\">\n",
       "            <details>\n",
       "                <summary>\n",
       "                    <h4 style=\"margin-bottom: 0px; display: inline;\">Worker: tcp://149.201.182.188:45677</h4>\n",
       "                </summary>\n",
       "                <table style=\"width: 100%; text-align: left;\">\n",
       "                    <tr>\n",
       "                        <td style=\"text-align: left;\">\n",
       "                            <strong>Comm: </strong> tcp://149.201.182.188:45677\n",
       "                        </td>\n",
       "                        <td style=\"text-align: left;\">\n",
       "                            <strong>Total threads: </strong> 1\n",
       "                        </td>\n",
       "                    </tr>\n",
       "                    <tr>\n",
       "                        <td style=\"text-align: left;\">\n",
       "                            <strong>Dashboard: </strong> <a href=\"http://149.201.182.188:43543/status\" target=\"_blank\">http://149.201.182.188:43543/status</a>\n",
       "                        </td>\n",
       "                        <td style=\"text-align: left;\">\n",
       "                            <strong>Memory: </strong> 62.53 GiB\n",
       "                        </td>\n",
       "                    </tr>\n",
       "                    <tr>\n",
       "                        <td style=\"text-align: left;\">\n",
       "                            <strong>Nanny: </strong> tcp://149.201.182.188:43021\n",
       "                        </td>\n",
       "                        <td style=\"text-align: left;\"></td>\n",
       "                    </tr>\n",
       "                    <tr>\n",
       "                        <td colspan=\"2\" style=\"text-align: left;\">\n",
       "                            <strong>Local directory: </strong> /tmp/dask-worker-space/worker-npf9vmld\n",
       "                        </td>\n",
       "                    </tr>\n",
       "\n",
       "                    \n",
       "                    <tr>\n",
       "                        <td style=\"text-align: left;\">\n",
       "                            <strong>GPU: </strong>Quadro RTX 5000\n",
       "                        </td>\n",
       "                        <td style=\"text-align: left;\">\n",
       "                            <strong>GPU memory: </strong> 16.00 GiB\n",
       "                        </td>\n",
       "                    </tr>\n",
       "                    \n",
       "\n",
       "                    \n",
       "                    <tr>\n",
       "                        <td style=\"text-align: left;\">\n",
       "                            <strong>Tasks executing: </strong> \n",
       "                        </td>\n",
       "                        <td style=\"text-align: left;\">\n",
       "                            <strong>Tasks in memory: </strong> \n",
       "                        </td>\n",
       "                    </tr>\n",
       "                    <tr>\n",
       "                        <td style=\"text-align: left;\">\n",
       "                            <strong>Tasks ready: </strong> \n",
       "                        </td>\n",
       "                        <td style=\"text-align: left;\">\n",
       "                            <strong>Tasks in flight: </strong>\n",
       "                        </td>\n",
       "                    </tr>\n",
       "                    <tr>\n",
       "                        <td style=\"text-align: left;\">\n",
       "                            <strong>CPU usage:</strong> 10.0%\n",
       "                        </td>\n",
       "                        <td style=\"text-align: left;\">\n",
       "                            <strong>Last seen: </strong> Just now\n",
       "                        </td>\n",
       "                    </tr>\n",
       "                    <tr>\n",
       "                        <td style=\"text-align: left;\">\n",
       "                            <strong>Memory usage: </strong> 410.73 MiB\n",
       "                        </td>\n",
       "                        <td style=\"text-align: left;\">\n",
       "                            <strong>Spilled bytes: </strong> 0 B\n",
       "                        </td>\n",
       "                    </tr>\n",
       "                    <tr>\n",
       "                        <td style=\"text-align: left;\">\n",
       "                            <strong>Read bytes: </strong> 913.6321534718728 B\n",
       "                        </td>\n",
       "                        <td style=\"text-align: left;\">\n",
       "                            <strong>Write bytes: </strong> 1.46 kiB\n",
       "                        </td>\n",
       "                    </tr>\n",
       "                    \n",
       "\n",
       "                </table>\n",
       "            </details>\n",
       "            </div>\n",
       "        </div>\n",
       "        \n",
       "        <div style=\"margin-bottom: 20px;\">\n",
       "            <div style=\"width: 24px; height: 24px; background-color: #DBF5FF; border: 3px solid #4CC9FF; border-radius: 5px; position: absolute;\"> </div>\n",
       "            <div style=\"margin-left: 48px;\">\n",
       "            <details>\n",
       "                <summary>\n",
       "                    <h4 style=\"margin-bottom: 0px; display: inline;\">Worker: tcp://149.201.182.203:40997</h4>\n",
       "                </summary>\n",
       "                <table style=\"width: 100%; text-align: left;\">\n",
       "                    <tr>\n",
       "                        <td style=\"text-align: left;\">\n",
       "                            <strong>Comm: </strong> tcp://149.201.182.203:40997\n",
       "                        </td>\n",
       "                        <td style=\"text-align: left;\">\n",
       "                            <strong>Total threads: </strong> 1\n",
       "                        </td>\n",
       "                    </tr>\n",
       "                    <tr>\n",
       "                        <td style=\"text-align: left;\">\n",
       "                            <strong>Dashboard: </strong> <a href=\"http://149.201.182.203:33187/status\" target=\"_blank\">http://149.201.182.203:33187/status</a>\n",
       "                        </td>\n",
       "                        <td style=\"text-align: left;\">\n",
       "                            <strong>Memory: </strong> 62.53 GiB\n",
       "                        </td>\n",
       "                    </tr>\n",
       "                    <tr>\n",
       "                        <td style=\"text-align: left;\">\n",
       "                            <strong>Nanny: </strong> tcp://149.201.182.203:43993\n",
       "                        </td>\n",
       "                        <td style=\"text-align: left;\"></td>\n",
       "                    </tr>\n",
       "                    <tr>\n",
       "                        <td colspan=\"2\" style=\"text-align: left;\">\n",
       "                            <strong>Local directory: </strong> /tmp/dask-worker-space/worker-f00rmecn\n",
       "                        </td>\n",
       "                    </tr>\n",
       "\n",
       "                    \n",
       "                    <tr>\n",
       "                        <td style=\"text-align: left;\">\n",
       "                            <strong>GPU: </strong>Quadro RTX 5000\n",
       "                        </td>\n",
       "                        <td style=\"text-align: left;\">\n",
       "                            <strong>GPU memory: </strong> 16.00 GiB\n",
       "                        </td>\n",
       "                    </tr>\n",
       "                    \n",
       "\n",
       "                    \n",
       "                    <tr>\n",
       "                        <td style=\"text-align: left;\">\n",
       "                            <strong>Tasks executing: </strong> \n",
       "                        </td>\n",
       "                        <td style=\"text-align: left;\">\n",
       "                            <strong>Tasks in memory: </strong> \n",
       "                        </td>\n",
       "                    </tr>\n",
       "                    <tr>\n",
       "                        <td style=\"text-align: left;\">\n",
       "                            <strong>Tasks ready: </strong> \n",
       "                        </td>\n",
       "                        <td style=\"text-align: left;\">\n",
       "                            <strong>Tasks in flight: </strong>\n",
       "                        </td>\n",
       "                    </tr>\n",
       "                    <tr>\n",
       "                        <td style=\"text-align: left;\">\n",
       "                            <strong>CPU usage:</strong> 6.0%\n",
       "                        </td>\n",
       "                        <td style=\"text-align: left;\">\n",
       "                            <strong>Last seen: </strong> Just now\n",
       "                        </td>\n",
       "                    </tr>\n",
       "                    <tr>\n",
       "                        <td style=\"text-align: left;\">\n",
       "                            <strong>Memory usage: </strong> 410.82 MiB\n",
       "                        </td>\n",
       "                        <td style=\"text-align: left;\">\n",
       "                            <strong>Spilled bytes: </strong> 0 B\n",
       "                        </td>\n",
       "                    </tr>\n",
       "                    <tr>\n",
       "                        <td style=\"text-align: left;\">\n",
       "                            <strong>Read bytes: </strong> 63.86 kiB\n",
       "                        </td>\n",
       "                        <td style=\"text-align: left;\">\n",
       "                            <strong>Write bytes: </strong> 106.57 kiB\n",
       "                        </td>\n",
       "                    </tr>\n",
       "                    \n",
       "\n",
       "                </table>\n",
       "            </details>\n",
       "            </div>\n",
       "        </div>\n",
       "        \n",
       "        <div style=\"margin-bottom: 20px;\">\n",
       "            <div style=\"width: 24px; height: 24px; background-color: #DBF5FF; border: 3px solid #4CC9FF; border-radius: 5px; position: absolute;\"> </div>\n",
       "            <div style=\"margin-left: 48px;\">\n",
       "            <details>\n",
       "                <summary>\n",
       "                    <h4 style=\"margin-bottom: 0px; display: inline;\">Worker: tcp://149.201.182.205:33081</h4>\n",
       "                </summary>\n",
       "                <table style=\"width: 100%; text-align: left;\">\n",
       "                    <tr>\n",
       "                        <td style=\"text-align: left;\">\n",
       "                            <strong>Comm: </strong> tcp://149.201.182.205:33081\n",
       "                        </td>\n",
       "                        <td style=\"text-align: left;\">\n",
       "                            <strong>Total threads: </strong> 1\n",
       "                        </td>\n",
       "                    </tr>\n",
       "                    <tr>\n",
       "                        <td style=\"text-align: left;\">\n",
       "                            <strong>Dashboard: </strong> <a href=\"http://149.201.182.205:37131/status\" target=\"_blank\">http://149.201.182.205:37131/status</a>\n",
       "                        </td>\n",
       "                        <td style=\"text-align: left;\">\n",
       "                            <strong>Memory: </strong> 62.53 GiB\n",
       "                        </td>\n",
       "                    </tr>\n",
       "                    <tr>\n",
       "                        <td style=\"text-align: left;\">\n",
       "                            <strong>Nanny: </strong> tcp://149.201.182.205:38497\n",
       "                        </td>\n",
       "                        <td style=\"text-align: left;\"></td>\n",
       "                    </tr>\n",
       "                    <tr>\n",
       "                        <td colspan=\"2\" style=\"text-align: left;\">\n",
       "                            <strong>Local directory: </strong> /tmp/dask-worker-space/worker-z65v4bd4\n",
       "                        </td>\n",
       "                    </tr>\n",
       "\n",
       "                    \n",
       "                    <tr>\n",
       "                        <td style=\"text-align: left;\">\n",
       "                            <strong>GPU: </strong>Quadro RTX 5000\n",
       "                        </td>\n",
       "                        <td style=\"text-align: left;\">\n",
       "                            <strong>GPU memory: </strong> 16.00 GiB\n",
       "                        </td>\n",
       "                    </tr>\n",
       "                    \n",
       "\n",
       "                    \n",
       "                    <tr>\n",
       "                        <td style=\"text-align: left;\">\n",
       "                            <strong>Tasks executing: </strong> \n",
       "                        </td>\n",
       "                        <td style=\"text-align: left;\">\n",
       "                            <strong>Tasks in memory: </strong> \n",
       "                        </td>\n",
       "                    </tr>\n",
       "                    <tr>\n",
       "                        <td style=\"text-align: left;\">\n",
       "                            <strong>Tasks ready: </strong> \n",
       "                        </td>\n",
       "                        <td style=\"text-align: left;\">\n",
       "                            <strong>Tasks in flight: </strong>\n",
       "                        </td>\n",
       "                    </tr>\n",
       "                    <tr>\n",
       "                        <td style=\"text-align: left;\">\n",
       "                            <strong>CPU usage:</strong> 6.0%\n",
       "                        </td>\n",
       "                        <td style=\"text-align: left;\">\n",
       "                            <strong>Last seen: </strong> Just now\n",
       "                        </td>\n",
       "                    </tr>\n",
       "                    <tr>\n",
       "                        <td style=\"text-align: left;\">\n",
       "                            <strong>Memory usage: </strong> 410.32 MiB\n",
       "                        </td>\n",
       "                        <td style=\"text-align: left;\">\n",
       "                            <strong>Spilled bytes: </strong> 0 B\n",
       "                        </td>\n",
       "                    </tr>\n",
       "                    <tr>\n",
       "                        <td style=\"text-align: left;\">\n",
       "                            <strong>Read bytes: </strong> 1.15 kiB\n",
       "                        </td>\n",
       "                        <td style=\"text-align: left;\">\n",
       "                            <strong>Write bytes: </strong> 1.59 kiB\n",
       "                        </td>\n",
       "                    </tr>\n",
       "                    \n",
       "\n",
       "                </table>\n",
       "            </details>\n",
       "            </div>\n",
       "        </div>\n",
       "        \n",
       "\n",
       "    </details>\n",
       "</div>\n",
       "            </details>\n",
       "        \n",
       "\n",
       "    </div>\n",
       "</div>"
      ],
      "text/plain": [
       "<Client: 'tcp://149.201.182.203:8786' processes=3 threads=3, memory=187.58 GiB>"
      ]
     },
     "execution_count": 4,
     "metadata": {},
     "output_type": "execute_result"
    }
   ],
   "source": [
    "## Erstelle Client \n",
    "# rapids_tools wird mit dem Cluster geteilt, um Umgebungsvariablen zu setzen.\n",
    "client = rapids_tools.create_dask_client()  # Gebe IP an. Standard:  127.0.0.1:8786 (Scheduler ist da wo auch Jupyter läuft)\n",
    "client"
   ]
  },
  {
   "cell_type": "markdown",
   "id": "a819f17d-5ab7-4e26-9fde-a57a54eef3bd",
   "metadata": {},
   "source": [
    "Wenn wir eigene Python Module erstellen, können wir diese auch mit dem Cluster teilen.\n",
    "\n",
    "Beim Ausführen sollte der Status \"OK\" ausgegeben werden. Wenn die Worker oder der Cluster neugestartet werden, müssen die Module ggf. neu geteilt werden."
   ]
  },
  {
   "cell_type": "code",
   "execution_count": 5,
   "id": "ed8bcdce-a5c4-4f9f-9bba-e20dfa3f6a91",
   "metadata": {
    "tags": []
   },
   "outputs": [
    {
     "data": {
      "text/plain": [
       "{'tcp://149.201.182.188:45677': {'status': 'OK'},\n",
       " 'tcp://149.201.182.203:40997': {'status': 'OK'},\n",
       " 'tcp://149.201.182.205:33081': {'status': 'OK'}}"
      ]
     },
     "execution_count": 5,
     "metadata": {},
     "output_type": "execute_result"
    }
   ],
   "source": [
    "# Lade Datei hoch. Gibt Status aus... \n",
    "client.upload_file('rapids_tools.py')  # Nur als Beispiel"
   ]
  },
  {
   "cell_type": "code",
   "execution_count": 6,
   "id": "ca51a26f-59c3-47cd-81a6-7dd2b7e748fe",
   "metadata": {
    "tags": []
   },
   "outputs": [
    {
     "data": {
      "text/plain": [
       "dict_keys(['tcp://149.201.182.188:35905', 'tcp://149.201.182.203:38543', 'tcp://149.201.182.205:39657'])"
      ]
     },
     "execution_count": 6,
     "metadata": {},
     "output_type": "execute_result"
    }
   ],
   "source": [
    "# Zeige Schlüssel. Die Ports ändern sich. \n",
    "client.has_what().keys()"
   ]
  },
  {
   "cell_type": "code",
   "execution_count": 7,
   "id": "9c1afde1-20ec-45e9-9582-eb9e98350402",
   "metadata": {
    "tags": []
   },
   "outputs": [
    {
     "data": {
      "text/plain": [
       "dict_keys(['tcp://149.201.182.188:33351', 'tcp://149.201.182.203:46815', 'tcp://149.201.182.205:37759'])"
      ]
     },
     "execution_count": 7,
     "metadata": {},
     "output_type": "execute_result"
    }
   ],
   "source": [
    "# Starte alle Worker neu\n",
    "client.restart_workers( client.has_what().keys() )\n",
    "client.has_what().keys()"
   ]
  },
  {
   "cell_type": "code",
   "execution_count": 8,
   "id": "c157419c-fa59-46a1-8458-df69d1a61d11",
   "metadata": {},
   "outputs": [],
   "source": [
    "# Startet client neu.\n",
    "#client.restart()"
   ]
  },
  {
   "cell_type": "markdown",
   "id": "f0cbbb43-7559-4b98-abe6-3275ed8f05ae",
   "metadata": {},
   "source": [
    "# 2. Daten"
   ]
  },
  {
   "cell_type": "markdown",
   "id": "834a22b0-cb4a-400f-a638-67d5d7425cbf",
   "metadata": {},
   "source": [
    "## 2.1 Daten generieren"
   ]
  },
  {
   "cell_type": "markdown",
   "id": "db1ea234-50bd-412f-b986-3b43b403c762",
   "metadata": {},
   "source": [
    "Als Anfang erstellen wir Daten. Daten die auf dem Host sind, müssen erst verteilt werden.\n",
    "\n",
    "cuML bietet uns Möglichkeiten Datensets zu erstellen."
   ]
  },
  {
   "cell_type": "code",
   "execution_count": 7,
   "id": "f6774687-8fd2-481f-a0b8-83098ad99326",
   "metadata": {
    "tags": []
   },
   "outputs": [],
   "source": [
    "from cuml.datasets  import make_blobs      # Klassifikation    \n",
    "from cuml.datasets  import make_regression # Regression\n",
    "\n",
    "from cuml import datasets  \n",
    "from cuml.model_selection import train_test_split"
   ]
  },
  {
   "cell_type": "markdown",
   "id": "0446de35-13e0-47da-93ce-5cebab43e392",
   "metadata": {},
   "source": [
    "Ein Weg an Daten zu kommen, ist Datensets zu nutzen, die schon mit den Frameworks kommen. \n",
    "\n",
    "Das können wir nutzen, um den Aufbau des Codes zu testen und zu überprüfen, ob die Installation von Rapids und die Dask-Worker funktionieren."
   ]
  },
  {
   "cell_type": "markdown",
   "id": "0e9ad0bb-5778-437b-9cbe-887d5314b17c",
   "metadata": {},
   "source": [
    "Es gibt einige Parameter, die wir eingeben können, um Daten so zu generieren wie wir es wollen. Um es einfach zu halten, nutzen wir nur wenige Parameter.\n",
    "\n",
    "<br>\n",
    "\n",
    "Generiere Single-GPU Daten: https://docs.rapids.ai/api/cuml/stable/api/#dataset-generation-single-gpu"
   ]
  },
  {
   "cell_type": "code",
   "execution_count": 34,
   "id": "741c5be6-57d3-46b5-97ae-b6157af32c34",
   "metadata": {
    "tags": []
   },
   "outputs": [],
   "source": [
    "# Trainings- und Testgröße\n",
    "\n",
    "train_size = 2000\n",
    "test_size  = 100\n",
    "\n",
    "n_samples  = train_size + test_size\n",
    "\n",
    "# Für Klassifizierung\n",
    "X_c, y_c = datasets.make_blobs(n_samples=n_samples)\n",
    "# Für Regression \n",
    "X_r, y_r = datasets.make_regression(n_samples=n_samples)\n",
    "\n",
    "# Teile Daten auf\n",
    "X_train_c, X_test_c, y_train_c, y_test_c = train_test_split( X_c, y_c, train_size=0.70, random_state=5)\n",
    "X_train_r, X_test_r, y_train_r, y_test_r = train_test_split( X_r, y_r, train_size=0.70, random_state=5)"
   ]
  },
  {
   "cell_type": "markdown",
   "id": "54edeced-934a-4c30-82c0-703612546f38",
   "metadata": {},
   "source": [
    "Jetzt können wir uns anschauen was gemacht wurde, so könnten unsere Trainingsdaten auch aussehen."
   ]
  },
  {
   "cell_type": "code",
   "execution_count": 10,
   "id": "f0541c0a-5238-415f-9423-eaee28d6301a",
   "metadata": {
    "tags": []
   },
   "outputs": [
    {
     "name": "stdout",
     "output_type": "stream",
     "text": [
      "Daten Klassifizierung:\n",
      "X: <class 'cupy.ndarray'> y: <class 'cupy.ndarray'> \n",
      " X[0]: [-4.390422 -7.993816]  \n",
      " y[0]: 0.0 \n",
      " Länge X, y: 2100, 2100\n"
     ]
    }
   ],
   "source": [
    "print(f\"Daten Klassifizierung:\\nX: {type(X_c)} y: {type(y_c)} \\n X[0]: {X_c[0]}  \\n y[0]: {y_c[0]} \\n Länge X, y: {len(X_c)}, {len(y_c)}\")"
   ]
  },
  {
   "cell_type": "code",
   "execution_count": 11,
   "id": "f08df21b-dbdc-4644-8ab3-beefbd9a23ca",
   "metadata": {
    "tags": []
   },
   "outputs": [
    {
     "name": "stdout",
     "output_type": "stream",
     "text": [
      "Daten Regression:\n",
      "X: <class 'cupy.ndarray'> y: <class 'cupy.ndarray'> \n",
      " X[0]: [0.27291918 0.6470641 ]  \n",
      " y[0]: [34.67788] \n",
      " Länge X, y: 2100, 2100\n"
     ]
    }
   ],
   "source": [
    "print(f\"Daten Regression:\\nX: {type(X_r)} y: {type(y_r)} \\n X[0]: {X_r[0]}  \\n y[0]: {y_r[0]} \\n Länge X, y: {len(X_r)}, {len(y_r)}\")"
   ]
  },
  {
   "cell_type": "markdown",
   "id": "56a5589e-ec6f-4622-86b0-0b9b791141ca",
   "metadata": {},
   "source": [
    "Die erstellten Daten sind in CuPy Format. Für das Trainieren müssen die Daten im Dask-cuDF Format sein. Alternativ können die Daten im Format Dask Array sein, mit CuPy als Backend (Siehe fit() https://docs.rapids.ai/api/cuml/stable/api/#id43)."
   ]
  },
  {
   "cell_type": "markdown",
   "id": "8c6c3501-4280-4f7f-a9ef-d552db895729",
   "metadata": {},
   "source": [
    "## 2.2 Dask und Dask_cuDF"
   ]
  },
  {
   "cell_type": "markdown",
   "id": "034119ab-a4c4-491a-ae85-059346174b81",
   "metadata": {},
   "source": [
    "Schauen wir uns den Fall an, das die Daten <u>erst verteilt werden</u> müssen. "
   ]
  },
  {
   "cell_type": "code",
   "execution_count": 12,
   "id": "ac3e0912-0e51-40d6-8d51-3f39f77ca92c",
   "metadata": {
    "tags": []
   },
   "outputs": [
    {
     "data": {
      "text/plain": [
       "array([[-4.390422 , -7.993816 ],\n",
       "       [-1.7899303, -8.560305 ],\n",
       "       [ 6.878088 ,  3.2281156],\n",
       "       ...,\n",
       "       [ 7.9013543,  3.418171 ],\n",
       "       [-3.146109 , -8.004911 ],\n",
       "       [-4.038967 , -7.6395087]], dtype=float32)"
      ]
     },
     "execution_count": 12,
     "metadata": {},
     "output_type": "execute_result"
    }
   ],
   "source": [
    "# X_c ist auf dem Host und nicht Partitioniert.\n",
    "X_c"
   ]
  },
  {
   "cell_type": "markdown",
   "id": "c505feb6-8d1b-409d-b760-f3e846071754",
   "metadata": {},
   "source": [
    "Bei Verteilen oder Laden der Daten mit HDFS, können wir eine Chunkgröße angeben oder die Anzahl der Partitionen. Die Worker übernehmen eine Anzahl der Partitionen für das Trainieren."
   ]
  },
  {
   "cell_type": "markdown",
   "id": "5e304213-0417-4c43-8e73-1edf074c71cd",
   "metadata": {},
   "source": [
    "X ist ein cupy. Wir brauchen ein dask_cuDF oder ein Dask Array mit cupy als Backend. \n",
    "\n",
    "Erst wandeln wir das Array X in ein DataFrame um. Dann werden wir X partitionieren."
   ]
  },
  {
   "cell_type": "code",
   "execution_count": 35,
   "id": "5d376ddb-d8b6-463d-a398-c235b0b2e191",
   "metadata": {
    "tags": []
   },
   "outputs": [
    {
     "name": "stdout",
     "output_type": "stream",
     "text": [
      "X Type: <class 'cudf.core.dataframe.DataFrame'> \n",
      "X ist:\n",
      "               0         1\n",
      "0      2.842662  3.105909\n",
      "1      3.469578  2.136864\n",
      "2      9.238327 -3.773556\n",
      "3      9.248910 -1.065306\n",
      "4      7.330943 -4.446175\n",
      "...         ...       ...\n",
      "1465  10.862763 -0.531786\n",
      "1466   8.759447 -4.912135\n",
      "1467   2.829170  3.579678\n",
      "1468   1.950749  3.262400\n",
      "1469   9.195857 -1.191773\n",
      "\n",
      "[1470 rows x 2 columns]\n",
      "y Type: <class 'cudf.core.series.Series'>\n",
      "y ist:\n",
      "0       2\n",
      "1       2\n",
      "2       0\n",
      "3       1\n",
      "4       0\n",
      "       ..\n",
      "1465    1\n",
      "1466    0\n",
      "1467    2\n",
      "1468    2\n",
      "1469    1\n",
      "Length: 1470, dtype: int32\n"
     ]
    }
   ],
   "source": [
    "## cupy -> cuDF\n",
    "X_cudf_c = cudf.DataFrame(X_train_c).astype(np.float32)\n",
    "y_cudf_c = cudf.Series(y_train_c).astype('int32')\n",
    "print(f\"X Type: {type(X_cudf_c)} \\nX ist:\\n {X_cudf_c}\\ny Type: {type(y_cudf_c)}\\ny ist:\\n{y_cudf_c}\")"
   ]
  },
  {
   "cell_type": "markdown",
   "id": "3cdac75a-251b-40b6-b7ee-40d0b593c85c",
   "metadata": {},
   "source": [
    "Danach werden wir das DataFrame Partitionieren."
   ]
  },
  {
   "cell_type": "code",
   "execution_count": 36,
   "id": "5eea5931-f03b-40e0-a20a-989e1dbe1048",
   "metadata": {
    "tags": []
   },
   "outputs": [],
   "source": [
    "# Dasselbe bei für _r, ohne astype(np.float32)\n",
    "X_cudf_r = cudf.DataFrame(X_train_r)\n",
    "y_cudf_r = cudf.Series(y_train_r)"
   ]
  },
  {
   "cell_type": "code",
   "execution_count": 37,
   "id": "352fffd2-09f1-4066-8ccb-1830eacbfd20",
   "metadata": {
    "tags": []
   },
   "outputs": [
    {
     "name": "stdout",
     "output_type": "stream",
     "text": [
      "nworker: 3\n"
     ]
    }
   ],
   "source": [
    "workers = client.has_what().keys()\n",
    "n_workers = len(workers)\n",
    "print(f\"nworker: {n_workers}\")"
   ]
  },
  {
   "cell_type": "code",
   "execution_count": 38,
   "id": "98b02eab-8e33-4e47-a64b-6c1e6d5cd9c8",
   "metadata": {
    "tags": []
   },
   "outputs": [],
   "source": [
    "# cuDF -> dask_cuDF\n",
    "X_dask_c = dask_cudf.from_cudf( X_cudf_c, npartitions=n_workers )  \n",
    "y_dask_c = dask_cudf.from_cudf( y_cudf_c, npartitions=n_workers )\n",
    "\n",
    "X_dask_c, y_dask_c = dask_utils.persist_across_workers(client, [X_dask_c, y_dask_c], workers=client.has_what().keys())  # Halte Ergebnis im Speicher "
   ]
  },
  {
   "cell_type": "code",
   "execution_count": 39,
   "id": "04a6ca46-9013-449f-935c-60e3f4236809",
   "metadata": {
    "tags": []
   },
   "outputs": [],
   "source": [
    "# Für _r auch\n",
    "X_dask_r = dask_cudf.from_cudf( X_cudf_r, npartitions=n_workers ) \n",
    "y_dask_r = dask_cudf.from_cudf( y_cudf_r, npartitions=n_workers )\n",
    "\n",
    "X_dask_r, y_dask_r = dask_utils.persist_across_workers(client, [X_dask_r, y_dask_r], workers=client.has_what().keys())  # Halte Ergebnis im Speicher "
   ]
  },
  {
   "cell_type": "code",
   "execution_count": 15,
   "id": "70625c7a-08f5-40d0-b573-6ee1c3f28762",
   "metadata": {
    "tags": []
   },
   "outputs": [
    {
     "name": "stdout",
     "output_type": "stream",
     "text": [
      "dask_X_c: <class 'dask_cudf.core.DataFrame'>\n",
      "<dask_cudf.DataFrame | 3 tasks | 3 npartitions>\n"
     ]
    }
   ],
   "source": [
    "print(f\"dask_X_c: {type(X_dask_c)}\\n{X_dask_c}\")"
   ]
  },
  {
   "cell_type": "code",
   "execution_count": 16,
   "id": "9a949875-8fbf-49aa-b0f7-53e10b8c523b",
   "metadata": {
    "tags": []
   },
   "outputs": [
    {
     "data": {
      "text/html": [
       "<div><strong>Dask DataFrame Structure:</strong></div>\n",
       "<div>\n",
       "<style scoped>\n",
       "    .dataframe tbody tr th:only-of-type {\n",
       "        vertical-align: middle;\n",
       "    }\n",
       "\n",
       "    .dataframe tbody tr th {\n",
       "        vertical-align: top;\n",
       "    }\n",
       "\n",
       "    .dataframe thead th {\n",
       "        text-align: right;\n",
       "    }\n",
       "</style>\n",
       "<table border=\"1\" class=\"dataframe\">\n",
       "  <thead>\n",
       "    <tr style=\"text-align: right;\">\n",
       "      <th></th>\n",
       "      <th>0</th>\n",
       "      <th>1</th>\n",
       "    </tr>\n",
       "    <tr>\n",
       "      <th>npartitions=3</th>\n",
       "      <th></th>\n",
       "      <th></th>\n",
       "    </tr>\n",
       "  </thead>\n",
       "  <tbody>\n",
       "    <tr>\n",
       "      <th>0</th>\n",
       "      <td>float32</td>\n",
       "      <td>float32</td>\n",
       "    </tr>\n",
       "    <tr>\n",
       "      <th>560</th>\n",
       "      <td>...</td>\n",
       "      <td>...</td>\n",
       "    </tr>\n",
       "    <tr>\n",
       "      <th>1120</th>\n",
       "      <td>...</td>\n",
       "      <td>...</td>\n",
       "    </tr>\n",
       "    <tr>\n",
       "      <th>1679</th>\n",
       "      <td>...</td>\n",
       "      <td>...</td>\n",
       "    </tr>\n",
       "  </tbody>\n",
       "</table>\n",
       "</div>\n",
       "<div>Dask Name: from_cudf, 1 graph layer</div>"
      ],
      "text/plain": [
       "<dask_cudf.DataFrame | 3 tasks | 3 npartitions>"
      ]
     },
     "execution_count": 16,
     "metadata": {},
     "output_type": "execute_result"
    }
   ],
   "source": [
    "X_dask_c"
   ]
  },
  {
   "cell_type": "code",
   "execution_count": 20,
   "id": "18312b9d-b5bb-4ffb-a8c0-bdc4ddb63633",
   "metadata": {
    "tags": []
   },
   "outputs": [
    {
     "data": {
      "text/html": [
       "<table>\n",
       "    <tr>\n",
       "        <th>Worker</th>\n",
       "        <th>Key count</th>\n",
       "        <th>Key list</th>\n",
       "    </tr>\n",
       "\n",
       "    \n",
       "    <tr>\n",
       "        <td>tcp://149.201.182.188:33351</td>\n",
       "        <td>4</td>\n",
       "        <td>\n",
       "            <details>\n",
       "            <summary style='display:list-item'>Expand</summary>\n",
       "            <table>\n",
       "            \n",
       "                <tr><td>('from_cudf-427dd0072f4a48c130c282242402dc99', 1)</td></tr>\n",
       "            \n",
       "                <tr><td>('from_cudf-a33c3ddacdcb428237dc320102bb7c71', 1)</td></tr>\n",
       "            \n",
       "                <tr><td>('from_cudf-10f10ff11cf8696158b024e810bfbef0', 1)</td></tr>\n",
       "            \n",
       "                <tr><td>('from_cudf-ec2bd4900dbe7e4b6dafc3178d92b077', 1)</td></tr>\n",
       "            \n",
       "            </table>\n",
       "            </details>\n",
       "        </td>\n",
       "    </tr>\n",
       "    \n",
       "    <tr>\n",
       "        <td>tcp://149.201.182.203:46815</td>\n",
       "        <td>4</td>\n",
       "        <td>\n",
       "            <details>\n",
       "            <summary style='display:list-item'>Expand</summary>\n",
       "            <table>\n",
       "            \n",
       "                <tr><td>('from_cudf-427dd0072f4a48c130c282242402dc99', 0)</td></tr>\n",
       "            \n",
       "                <tr><td>('from_cudf-a33c3ddacdcb428237dc320102bb7c71', 0)</td></tr>\n",
       "            \n",
       "                <tr><td>('from_cudf-10f10ff11cf8696158b024e810bfbef0', 0)</td></tr>\n",
       "            \n",
       "                <tr><td>('from_cudf-ec2bd4900dbe7e4b6dafc3178d92b077', 0)</td></tr>\n",
       "            \n",
       "            </table>\n",
       "            </details>\n",
       "        </td>\n",
       "    </tr>\n",
       "    \n",
       "    <tr>\n",
       "        <td>tcp://149.201.182.205:37759</td>\n",
       "        <td>4</td>\n",
       "        <td>\n",
       "            <details>\n",
       "            <summary style='display:list-item'>Expand</summary>\n",
       "            <table>\n",
       "            \n",
       "                <tr><td>('from_cudf-427dd0072f4a48c130c282242402dc99', 2)</td></tr>\n",
       "            \n",
       "                <tr><td>('from_cudf-a33c3ddacdcb428237dc320102bb7c71', 2)</td></tr>\n",
       "            \n",
       "                <tr><td>('from_cudf-10f10ff11cf8696158b024e810bfbef0', 2)</td></tr>\n",
       "            \n",
       "                <tr><td>('from_cudf-ec2bd4900dbe7e4b6dafc3178d92b077', 2)</td></tr>\n",
       "            \n",
       "            </table>\n",
       "            </details>\n",
       "        </td>\n",
       "    </tr>\n",
       "    \n",
       "</table>"
      ],
      "text/plain": [
       "{'tcp://149.201.182.188:33351': (\"('from_cudf-427dd0072f4a48c130c282242402dc99', 1)\",\n",
       "  \"('from_cudf-a33c3ddacdcb428237dc320102bb7c71', 1)\",\n",
       "  \"('from_cudf-10f10ff11cf8696158b024e810bfbef0', 1)\",\n",
       "  \"('from_cudf-ec2bd4900dbe7e4b6dafc3178d92b077', 1)\"),\n",
       " 'tcp://149.201.182.203:46815': (\"('from_cudf-427dd0072f4a48c130c282242402dc99', 0)\",\n",
       "  \"('from_cudf-a33c3ddacdcb428237dc320102bb7c71', 0)\",\n",
       "  \"('from_cudf-10f10ff11cf8696158b024e810bfbef0', 0)\",\n",
       "  \"('from_cudf-ec2bd4900dbe7e4b6dafc3178d92b077', 0)\"),\n",
       " 'tcp://149.201.182.205:37759': (\"('from_cudf-427dd0072f4a48c130c282242402dc99', 2)\",\n",
       "  \"('from_cudf-a33c3ddacdcb428237dc320102bb7c71', 2)\",\n",
       "  \"('from_cudf-10f10ff11cf8696158b024e810bfbef0', 2)\",\n",
       "  \"('from_cudf-ec2bd4900dbe7e4b6dafc3178d92b077', 2)\")}"
      ]
     },
     "execution_count": 20,
     "metadata": {},
     "output_type": "execute_result"
    }
   ],
   "source": [
    "## Damit sehen wir was der Cluster hat.\n",
    "# Jeder hat ein Teil des DataFrames. Jeder Worker nutzt die eigenen Partitionen. \n",
    "client.has_what()"
   ]
  },
  {
   "cell_type": "markdown",
   "id": "4050020b-f4b8-486e-a772-addaab6ec738",
   "metadata": {},
   "source": [
    "So siet der Flow aus, wenn wir Daten als Host erzeugen und dann verteilen.\n",
    "\n",
    "<img src=\"./pictures/part.PNG\"  width=\"925px;\" hight=\"925px;\">"
   ]
  },
  {
   "cell_type": "markdown",
   "id": "05ca2a20-6dfa-4468-b298-0b641b9e4aa1",
   "metadata": {},
   "source": [
    "Zusammeengefasst: <br>\n",
    "Wenn wir Daten als Host erstellen (z.B. um den Aufbau zu testen), müssen die Daten Partitioniert werden. Das verteilen geht gut mit <u>geringen Datenmengen</u>.\n",
    "\n",
    "Nach dem Verteilen hat jeder Worker ein Teil dieser Daten. Diese Teile sind Partitionen."
   ]
  },
  {
   "cell_type": "markdown",
   "id": "0efe3377-2b36-4bb1-b36a-6348400b8dbe",
   "metadata": {},
   "source": [
    "<img src=\"./pictures/part2.PNG\"  width=\"925px;\" hight=\"925px;\">"
   ]
  },
  {
   "cell_type": "markdown",
   "id": "544fce5a-3e3c-4687-8b2a-b16f04950988",
   "metadata": {},
   "source": [
    "## 2.3 Daten sind schon Lokal verfügbar"
   ]
  },
  {
   "cell_type": "markdown",
   "id": "ddc6b362-3f01-4879-adec-2b333d6ec17b",
   "metadata": {},
   "source": [
    "Mit Dask-cuDF können wir Daten direkt in die GPU laden und Daten schreiben. Es gibt viele Parameter, die angegeben werden können (https://docs.rapids.ai/api/dask-cudf/stable/api/#creating-and-storing-dataframes). \n",
    "\n",
    "Wenn die Daten nicht in den Speicher passen, können diese partitioniert werden, indem wir die Daten mit Dask-cuDF laden."
   ]
  },
  {
   "cell_type": "markdown",
   "id": "ed8fe536-afd2-4502-bbcb-bd20e49d13ea",
   "metadata": {},
   "source": [
    "<img src=\"./pictures/rapids_chunk.PNG\">"
   ]
  },
  {
   "cell_type": "markdown",
   "id": "20c5b60e-782a-4be8-888b-e404f782e4c0",
   "metadata": {},
   "source": [
    "Wir können Daten mit Dask laden und daraus ein Dask-cuDF erstellen.\n",
    "\n",
    "Intern nutzt jeder Worker cuDF um die Daten zu lesen. Es können verschiedene Quellen angegeben werden wie HDFs, S3, http, ... (https://docs.dask.org/en/stable/how-to/connect-to-remote-data.html)"
   ]
  },
  {
   "cell_type": "raw",
   "id": "e0288017-8451-4fb7-808f-e983cc80adaf",
   "metadata": {},
   "source": [
    "# Lese Daten mit Dask\n",
    "dask_df = dask.dataframe.read_csv(    \"hdfs:// ...\", blocksize=\"250MB\")\n",
    "        = dask.dataframe.read_parquet(\"hdfs:// ...\", blocksize=\"250MB\")\n",
    "        = dask.dataframe.read_json(\"\")\n",
    "        \n",
    "# Schreiben mit Dask\n",
    "dask_df.to_csv('name')\n",
    "dask_df.to_parquet('name', engine='pyarrow')\n",
    "...\n",
    "\n"
   ]
  },
  {
   "cell_type": "raw",
   "id": "70c1b5d2-e8bb-4aab-a558-8f9564b0c4f1",
   "metadata": {},
   "source": [
    "# Erstelle ein Dask-cuDF aus einem Dask Dataframe.\n",
    "dcf = dask_cudf.from_dask_dataframe(dask_df)\n",
    "dcf "
   ]
  },
  {
   "cell_type": "markdown",
   "id": "4522b70b-19ef-40d2-8486-c631a6feb614",
   "metadata": {},
   "source": [
    "Wir können auch direkt Dask-cuDF nutzen um Daten zu laden. Das geht genau so wie bei Dask. Das schreiben der Daten mit Dask-cuDF folg auch der gleichen API.\n",
    "\n",
    "Jeder Worker sollte die gleichen Pfade sehen können."
   ]
  },
  {
   "cell_type": "raw",
   "id": "2822b817-da24-4c89-8649-bab09c161809",
   "metadata": {},
   "source": [
    "dcf = dask_cudf.read_csv(\"hdfs:// ...\")\n",
    "\n",
    "dcf.to_csv('name')"
   ]
  },
  {
   "cell_type": "markdown",
   "id": "827991b3-bc82-4518-a087-38d7eb08691e",
   "metadata": {},
   "source": [
    "Das erstellte Dask-cuDF kann dann zum trainieren genutzt werden. \n",
    "\n",
    "<br>\n",
    "\n",
    "Rapids Dask-cuDF Creating and storing DataFrames:  https://docs.rapids.ai/api/dask-cudf/stable/api/ <br>\n",
    "Reading Larger than Memory CSVs with RAPIDS and Dask: https://medium.com/rapids-ai/reading-larger-than-memory-csvs-with-rapids-and-dask-e6e27dfa6c0f\n"
   ]
  },
  {
   "cell_type": "markdown",
   "id": "b827e320-c769-46fe-9956-e105660dca48",
   "metadata": {},
   "source": [
    "<u>Hinweis zu HDFS:</u><br>\n",
    "Das lesen von vielen Dateien oder einer großen Datei bringt keinen Vorteile der Datenlokalität mehr, siehe (https://stackoverflow.com/questions/54565738/does-dask-communicate-with-hdfs-to-optimize-for-data-locality)<br>\n",
    "Das kann sich noch ändern. \n",
    " "
   ]
  },
  {
   "cell_type": "markdown",
   "id": "2b539fab-6234-47e4-8e91-86aca23058d0",
   "metadata": {},
   "source": [
    "# 3. Multi-Node/Multi-GPU Training: Dask und Dask_cuDF"
   ]
  },
  {
   "cell_type": "markdown",
   "id": "57617d80-911e-48f3-8ab1-f1ccab8c7e08",
   "metadata": {},
   "source": [
    "Wie bereits erwähnt, ist das Interface fast genau so wie bei sklearn. Wenn wir jetzt Daten haben und diese noch verarbeiten wollen, muss darauf geachtet werden, dass die Datentypen am Ende richtig sind. \n",
    "\n",
    "Für das Model gibt es einige Parameter, die wir einstellen können, dieser Auszug zeigt einige Parameter:  <br>\n",
    "\n",
    "\n",
    "KNN Klassifikation:<br>\n",
    "`n_neighbors=5: Default number of neighbors to query `<br>\n",
    "`metric=euclidean: Distance metric to use.` <br>\n",
    "Für Regression: <br>\n",
    "`n_neighbors=5: Default number of neighbors to query `<br>\n",
    "`algorithm=auto: The query algorithm to use. Valid options are: (rbc | brute | ivfflat | ivfpq)` <br>\n",
    "`metric=euclidean: Distance metric to use.` <br>\n",
    "\n",
    "\n",
    "<br>\n",
    "\n",
    "Sklearn KNNt: <br>\n",
    "https://scikit-learn.org/stable/modules/generated/sklearn.neighbors.KNeighborsClassifier.html <br>\n",
    "https://scikit-learn.org/stable/modules/generated/sklearn.neighbors.KNeighborsRegressor.html<br>\n",
    "cuML MNMG KNN: https://docs.rapids.ai/api/cuml/stable/api/#id44"
   ]
  },
  {
   "cell_type": "code",
   "execution_count": 17,
   "id": "7503d31a-76c6-4ef5-94a1-4fb80de8e0a7",
   "metadata": {
    "tags": []
   },
   "outputs": [],
   "source": [
    "# Imortiere Multi-Node RM\n",
    "from cuml.dask.neighbors import KNeighborsClassifier as multi_KNeighborsClassifier\n",
    "from cuml.dask.neighbors import KNeighborsRegressor  as multi_KNeighborsRegressor"
   ]
  },
  {
   "cell_type": "markdown",
   "id": "566f1fcf-e9fc-4d93-bb76-60a86b974840",
   "metadata": {},
   "source": [
    "Jetzt kann man wie üblich vorgehen. Das Model Trainieren, Speichern, Laden und Evaluieren.\n",
    "\n",
    "Wir können das Dashboard von Dask öffnen und sehen unter GPU die Auslastung (wenn es nicht zu schnell fertig ist)."
   ]
  },
  {
   "cell_type": "code",
   "execution_count": 40,
   "id": "0815317e-2e41-477a-ab96-e6345dc29120",
   "metadata": {
    "tags": []
   },
   "outputs": [
    {
     "name": "stdout",
     "output_type": "stream",
     "text": [
      "CPU times: user 18.3 ms, sys: 4.58 ms, total: 22.8 ms\n",
      "Wall time: 51.5 ms\n"
     ]
    },
    {
     "data": {
      "text/plain": [
       "<cuml.dask.neighbors.kneighbors_classifier.KNeighborsClassifier at 0x7f20e2465c00>"
      ]
     },
     "execution_count": 40,
     "metadata": {},
     "output_type": "execute_result"
    }
   ],
   "source": [
    "# Erstelle Model | RM Klassifizierung \n",
    "multi_knn_c = multi_KNeighborsClassifier() \n",
    "                     \n",
    "# Training  \n",
    "%time multi_knn_c.fit(X_dask_c, y_dask_c)"
   ]
  },
  {
   "cell_type": "code",
   "execution_count": 41,
   "id": "570daca3-46fe-4b3d-ae0f-f66d73805901",
   "metadata": {
    "tags": []
   },
   "outputs": [
    {
     "name": "stdout",
     "output_type": "stream",
     "text": [
      "CPU times: user 5.64 ms, sys: 363 µs, total: 6.01 ms\n",
      "Wall time: 15.6 ms\n"
     ]
    },
    {
     "data": {
      "text/plain": [
       "<cuml.dask.neighbors.kneighbors_regressor.KNeighborsRegressor at 0x7f20e2467100>"
      ]
     },
     "execution_count": 41,
     "metadata": {},
     "output_type": "execute_result"
    }
   ],
   "source": [
    "# Erstelle Model | RM Regressor \n",
    "multi_knn_r = multi_KNeighborsRegressor()\n",
    "                     \n",
    "# Training  \n",
    "# - Input Type\n",
    "%time multi_knn_r.fit(X_dask_r, y_dask_r)"
   ]
  },
  {
   "cell_type": "markdown",
   "id": "4baedf49-7437-4480-98b5-b5c83d1ac729",
   "metadata": {},
   "source": [
    "Das Model ist momentan noch verteilt, wir können trotzdem Predictions machen. Dafür müssen wir die Daten wieder verteilen, wenn diese nicht schon lokal vorliegen."
   ]
  },
  {
   "cell_type": "code",
   "execution_count": 42,
   "id": "7632d38c-a273-4af5-8387-cc6493119a77",
   "metadata": {
    "tags": []
   },
   "outputs": [
    {
     "name": "stdout",
     "output_type": "stream",
     "text": [
      "Länge: 630 \n",
      "Typ: <class 'cupy.ndarray'>\n",
      " [[ 0.2746206   0.31240636]\n",
      " [ 0.61967766 -0.54332435]\n",
      " [ 0.7652495  -1.0946572 ]\n",
      " ...\n",
      " [ 0.16508104 -0.24708588]\n",
      " [-0.62052864  2.9190931 ]\n",
      " [-0.20805861  0.23506299]]\n"
     ]
    }
   ],
   "source": [
    "# Regression \n",
    "to_predict_r = X_test_r\n",
    "print(f\"Länge: {len(to_predict_r)} \\nTyp: {type(to_predict_r)}\\n {to_predict_r}\")"
   ]
  },
  {
   "cell_type": "markdown",
   "id": "0be48549-f1ad-4f11-b343-81dd897d9da1",
   "metadata": {},
   "source": [
    "Das cupy Array müssen wir in ein cuDF, dann in ein dask_cuDF umwandeln."
   ]
  },
  {
   "cell_type": "code",
   "execution_count": 43,
   "id": "78e94c38-289c-497a-ac88-53671213c43e",
   "metadata": {
    "tags": []
   },
   "outputs": [],
   "source": [
    "# Regression \n",
    "to_predict__dask_r = dask_cudf.from_cudf(cudf.DataFrame( to_predict_r ), npartitions=n_workers)"
   ]
  },
  {
   "cell_type": "code",
   "execution_count": 44,
   "id": "947cac7c-9824-431f-8584-1fee3143bb5d",
   "metadata": {
    "tags": []
   },
   "outputs": [
    {
     "name": "stdout",
     "output_type": "stream",
     "text": [
      "<dask_cudf.Series | 6 tasks | 3 npartitions>\n"
     ]
    }
   ],
   "source": [
    "# Regression \n",
    "pred_futures = multi_knn_r.predict(to_predict__dask_r)\n",
    "print(pred_futures)"
   ]
  },
  {
   "cell_type": "markdown",
   "id": "fc0f9dd5-3b73-4e1c-8f5c-07fb393129a9",
   "metadata": {},
   "source": [
    "Die futures wurden erstellt. Um die Berechnung zu starten schreiben wir `.compute()`"
   ]
  },
  {
   "cell_type": "code",
   "execution_count": 45,
   "id": "c3abc15e-9d9e-4bfd-a1b1-7e6462f5fc94",
   "metadata": {
    "tags": []
   },
   "outputs": [
    {
     "name": "stdout",
     "output_type": "stream",
     "text": [
      "CPU times: user 10.3 ms, sys: 0 ns, total: 10.3 ms\n",
      "Wall time: 24.9 ms\n"
     ]
    }
   ],
   "source": [
    "%time pred_futures__MultiNodeOrig_results_r = pred_futures.compute()"
   ]
  },
  {
   "cell_type": "code",
   "execution_count": 46,
   "id": "c455a837-0f57-46a2-ad08-3a120730bbbc",
   "metadata": {
    "tags": []
   },
   "outputs": [
    {
     "data": {
      "text/plain": [
       "0     33.609367\n",
       "1     18.313051\n",
       "2      0.440034\n",
       "3     43.838165\n",
       "4    103.260300\n",
       "5      4.718654\n",
       "6    129.210129\n",
       "7     -9.480383\n",
       "8    -73.922844\n",
       "9     56.577709\n",
       "dtype: float32"
      ]
     },
     "execution_count": 46,
     "metadata": {},
     "output_type": "execute_result"
    }
   ],
   "source": [
    "# Index of table | result\n",
    "pred_futures__MultiNodeOrig_results_r.head(10)"
   ]
  },
  {
   "cell_type": "markdown",
   "id": "65b45de8-2c92-4c4a-869c-286b43980648",
   "metadata": {},
   "source": [
    "Dasselbe ist auch mit dem Klassifizierer möglich."
   ]
  },
  {
   "cell_type": "code",
   "execution_count": 47,
   "id": "29ac2eb3-971e-4364-b16e-1558faa0d442",
   "metadata": {
    "tags": []
   },
   "outputs": [
    {
     "name": "stdout",
     "output_type": "stream",
     "text": [
      "Länge: 630 \n",
      "Typ: <class 'cupy.ndarray'>\n",
      " [[ 7.415387  -3.141217 ]\n",
      " [ 8.788737  -0.3654628]\n",
      " [ 8.828011  -6.480409 ]\n",
      " ...\n",
      " [10.903368  -1.6943322]\n",
      " [ 3.9670722  2.3996148]\n",
      " [ 7.96042   -5.3838677]] \n",
      "\n",
      "CPU times: user 37.1 ms, sys: 4 ms, total: 41.1 ms\n",
      "Wall time: 65 ms\n"
     ]
    },
    {
     "data": {
      "text/plain": [
       "0    0\n",
       "1    1\n",
       "2    0\n",
       "3    2\n",
       "4    0\n",
       "5    2\n",
       "6    2\n",
       "7    0\n",
       "8    0\n",
       "9    0\n",
       "dtype: int32"
      ]
     },
     "execution_count": 47,
     "metadata": {},
     "output_type": "execute_result"
    }
   ],
   "source": [
    "# Klassifizierung\n",
    "to_predict_c = X_test_c\n",
    "print(f\"Länge: {len(to_predict_c)} \\nTyp: {type(to_predict_c)}\\n {to_predict_c} \\n\")\n",
    "# Klassifizierung\n",
    "to_predict__dask_c = dask_cudf.from_cudf(cudf.DataFrame( to_predict_c ), npartitions=n_workers)\n",
    "pred_futures_c = multi_knn_c.predict(to_predict__dask_c)\n",
    "# Klassifizierung\n",
    "%time pred_futures__MultiNodeOrig_results_c = pred_futures_c.compute()\n",
    "pred_futures__MultiNodeOrig_results_c.head(10)"
   ]
  },
  {
   "cell_type": "markdown",
   "id": "ec042ea2-959c-4ff8-9d7a-54bda40fefbb",
   "metadata": {
    "tags": []
   },
   "source": [
    "jetzt können wir Metriken anwenden."
   ]
  },
  {
   "cell_type": "code",
   "execution_count": 48,
   "id": "44ba4cb8-6155-4fdf-a9dd-96ce31b7149e",
   "metadata": {
    "tags": []
   },
   "outputs": [],
   "source": [
    "# Auch mit cuML möglich\n",
    "#   cuml.metrics.accuracy_score()    # GPU\n",
    "#   cuml.metrics.r2_score()          # GPU\n",
    "\n",
    "from sklearn.metrics import accuracy_score   # CPU\n",
    "from sklearn.metrics import r2_score         # CPU"
   ]
  },
  {
   "cell_type": "code",
   "execution_count": 49,
   "id": "791aedf5-f698-45b9-9c19-b8ea7617db24",
   "metadata": {
    "tags": []
   },
   "outputs": [
    {
     "name": "stdout",
     "output_type": "stream",
     "text": [
      "score__c: 0.9873015873015873 \n",
      "score__r: 0.9952111731724724\n"
     ]
    }
   ],
   "source": [
    "# Eval KNN Klassifizierer mit sklearn\n",
    "score__c      = accuracy_score( y_test_c.get(), pred_futures__MultiNodeOrig_results_c.to_pandas() )\n",
    "\n",
    "# Eval KNN Regressor mit sklearn\n",
    "score__r = r2_score( y_test_r.get(), pred_futures__MultiNodeOrig_results_r.to_pandas() )\n",
    "\n",
    "print(f\"score__c: {score__c} \\nscore__r: {score__r}\")"
   ]
  },
  {
   "cell_type": "markdown",
   "id": "bacd9b87-9a7b-413a-8cfa-7b69dc0f2520",
   "metadata": {},
   "source": [
    "# 3. Speichern"
   ]
  },
  {
   "cell_type": "markdown",
   "id": "d9d12a17-9cda-47d1-878a-76be830abd6c",
   "metadata": {},
   "source": [
    "Es gibt kein lokales Model, was zusammengefasst und gespeichert werden kann (kann sich ändern).\n",
    "\n",
    "Siehe https://github.com/rapidsai/cuml/issues/4591"
   ]
  },
  {
   "cell_type": "code",
   "execution_count": 29,
   "id": "f817edc2-62a6-41cd-86e4-6ab7d7f8fded",
   "metadata": {
    "tags": []
   },
   "outputs": [
    {
     "data": {
      "text/plain": [
       "\"\\n    Multi-node Multi-GPU K-Nearest Neighbors Regressor Model.\\n\\n    K-Nearest Neighbors Regressor is an instance-based learning technique,\\n    that keeps training samples around for prediction, rather than trying\\n    to learn a generalizable set of model parameters.\\n\\n    Parameters\\n    ----------\\n    n_neighbors : int (default=5)\\n        Default number of neighbors to query\\n    batch_size: int (optional, default 2000000)\\n        Maximum number of query rows processed at once. This parameter can\\n        greatly affect the throughput of the algorithm. The optimal setting\\n        of this value will vary for different layouts and index to query\\n        ratios, but it will require `batch_size * n_features * 4` bytes of\\n        additional memory on each worker hosting index partitions.\\n    handle : cuml.Handle\\n        Specifies the cuml.handle that holds internal CUDA state for\\n        computations in this model. Most importantly, this specifies the CUDA\\n        stream that will be used for the model's computations, so users can\\n        run different models concurrently in different streams by creating\\n        handles in several streams.\\n        If it is None, a new one is created.\\n    verbose : int or boolean, default=False\\n        Sets logging level. It must be one of `cuml.common.logger.level_*`.\\n        See :ref:`verbosity-levels` for more info.\\n    \""
      ]
     },
     "execution_count": 29,
     "metadata": {},
     "output_type": "execute_result"
    }
   ],
   "source": [
    "multi_knn_r.__doc__"
   ]
  },
  {
   "cell_type": "code",
   "execution_count": 50,
   "id": "7c773174-ff2c-434f-8e15-f7397a9c56ff",
   "metadata": {
    "tags": []
   },
   "outputs": [
    {
     "data": {
      "text/plain": [
       "{'client': <Client: 'tcp://149.201.182.203:8786' processes=3 threads=3, memory=187.58 GiB>,\n",
       " 'verbose': False,\n",
       " 'kwargs': {'verbose': False},\n",
       " 'internal_model': None,\n",
       " 'streams_per_handle': 0,\n",
       " 'data_handler': <cuml.dask.common.input_utils.DistributedDataHandler at 0x7f20e2483490>,\n",
       " 'n_outputs': 1,\n",
       " 'datatype': 'cudf'}"
      ]
     },
     "execution_count": 50,
     "metadata": {},
     "output_type": "execute_result"
    }
   ],
   "source": [
    "# Kein internes Model\n",
    "multi_knn_r.__dict__"
   ]
  },
  {
   "cell_type": "markdown",
   "id": "a03ca5cf-594f-4c74-bc97-e56fb6aa4e52",
   "metadata": {},
   "source": [
    "## 3.1 Multi-Node/-Multi-GPU Predictions"
   ]
  },
  {
   "cell_type": "markdown",
   "id": "622aee30-112e-46c2-ba53-998ce9c68a3d",
   "metadata": {},
   "source": [
    "Derzeit gibt es keine Möglichkeit das MNMG Model zu speichern. Mit dem Cluster können wir das SNSG Model laden und die Predictions verteilen."
   ]
  },
  {
   "cell_type": "markdown",
   "id": "f7ecf101-9fcc-421a-ae7d-6fc821ddac59",
   "metadata": {},
   "source": [
    "Lade das SNSG Model. Um die Predictions zu verteilen kann man.:<br>\n",
    "1) Jedem Worker das Model geben und die Daten hineinladen.\n",
    "\n"
   ]
  },
  {
   "cell_type": "markdown",
   "id": "ce71c12d-7732-4498-8f7d-40b5e61e9364",
   "metadata": {},
   "source": [
    "### 3.1.1 Details"
   ]
  },
  {
   "cell_type": "markdown",
   "id": "7f17d59d-51c6-4fd2-b7dd-a50a16bca49d",
   "metadata": {},
   "source": [
    "Das gespeicherte Model befindet sich auf dem Host oder wurde schon verteilt. In dem Fall, dass sich das Model auf dem Host befindet, muss es an jeweilige Worker verteilt werden.\n",
    "\n",
    "Für ein Beispiel trainieren wir ein SNSG KNN und speichern/laden es."
   ]
  },
  {
   "cell_type": "code",
   "execution_count": 51,
   "id": "9c45bd93-f5ff-4401-8ca1-9fd6a397a587",
   "metadata": {
    "tags": []
   },
   "outputs": [],
   "source": [
    "from cuml.neighbors import KNeighborsClassifier as single_KNNClassifier  # Single-Node / Single GPU \n",
    "from cuml.neighbors import KNeighborsRegressor  as single_KNNRegressor   # Single-Node / Single GPU"
   ]
  },
  {
   "cell_type": "code",
   "execution_count": 75,
   "id": "8d0fd788-ff93-480e-a700-62cf68f099e3",
   "metadata": {
    "tags": []
   },
   "outputs": [
    {
     "name": "stdout",
     "output_type": "stream",
     "text": [
      "CPU times: user 0 ns, sys: 17.3 ms, total: 17.3 ms\n",
      "Wall time: 16.4 ms\n"
     ]
    },
    {
     "data": {
      "text/plain": [
       "KNeighborsClassifier()"
      ]
     },
     "execution_count": 75,
     "metadata": {},
     "output_type": "execute_result"
    }
   ],
   "source": [
    "single_knn_c = single_KNNClassifier(algorithm='brute') # brute um es nach Sklearn zu überführen\n",
    "                     \n",
    "%time single_knn_c.fit(X_train_c, y_train_c)"
   ]
  },
  {
   "cell_type": "code",
   "execution_count": 76,
   "id": "102ce620-5b5b-4710-87aa-cd8dad835dc3",
   "metadata": {
    "tags": []
   },
   "outputs": [],
   "source": [
    "import pickle\n",
    "pickle.dump(single_knn_c, open(\"template_data_KNN/cuml_SingleNode_KNN_c_model.pkl\", \"wb\"))\n",
    "\n",
    "loaded_model_c = pickle.load(open(\"template_data_KNN/cuml_SingleNode_KNN_c_model.pkl\", \"rb\"))"
   ]
  },
  {
   "cell_type": "markdown",
   "id": "081a7869-ff88-4e98-9148-7b2715b6a604",
   "metadata": {},
   "source": [
    "Mit Dask können wir das Model an alle Worker senden."
   ]
  },
  {
   "cell_type": "code",
   "execution_count": 77,
   "id": "06a3ee5b-0748-4de4-b348-f0a56d9674d6",
   "metadata": {
    "tags": []
   },
   "outputs": [],
   "source": [
    "futures = client.scatter(loaded_model_c, broadcast=True)"
   ]
  },
  {
   "cell_type": "code",
   "execution_count": 78,
   "id": "96c9ef2b-ad38-4fca-b16e-3f082c784f3f",
   "metadata": {
    "tags": []
   },
   "outputs": [
    {
     "data": {
      "text/html": [
       "<strong>Future: KNeighborsClassifier</strong>\n",
       "<span style=\"color: var(--jp-ui-font-color2, gray)\"> status: </span>\n",
       "\n",
       "\n",
       "<span style=\"color: var(--jp-error-color0, black)\">finished</span>,\n",
       "\n",
       "\n",
       "\n",
       "<span style=\"color: var(--jp-ui-font-color2, gray)\"> type:</span> cuml.neighbors.kneighbors_classifier.KNeighborsClassifier,\n",
       "\n",
       "\n",
       "<span style=\"color: var(--jp-ui-font-color2, gray)\"> key:</span> KNeighborsClassifier-3dced1ec2d0addb5fecf7f5a5eb8f85d"
      ],
      "text/plain": [
       "<Future: finished, type: cuml.neighbors.kneighbors_classifier.KNeighborsClassifier, key: KNeighborsClassifier-3dced1ec2d0addb5fecf7f5a5eb8f85d>"
      ]
     },
     "execution_count": 78,
     "metadata": {},
     "output_type": "execute_result"
    }
   ],
   "source": [
    "# Future sollte den status finished angeben\n",
    "futures"
   ]
  },
  {
   "cell_type": "markdown",
   "id": "d6b3febf-6a60-4373-9b62-b7c244b1fc06",
   "metadata": {},
   "source": [
    "Jetzt können wir eine Funktion schreiben die uns die Predictions liefert. Wir können Lokale Daten nehmen oder erst wieder Daten für die Prediction verteilen."
   ]
  },
  {
   "cell_type": "code",
   "execution_count": 79,
   "id": "8aa90075-f78f-4b2e-b706-8d06e25bd593",
   "metadata": {
    "tags": []
   },
   "outputs": [
    {
     "data": {
      "text/html": [
       "<div><strong>Dask DataFrame Structure:</strong></div>\n",
       "<div>\n",
       "<style scoped>\n",
       "    .dataframe tbody tr th:only-of-type {\n",
       "        vertical-align: middle;\n",
       "    }\n",
       "\n",
       "    .dataframe tbody tr th {\n",
       "        vertical-align: top;\n",
       "    }\n",
       "\n",
       "    .dataframe thead th {\n",
       "        text-align: right;\n",
       "    }\n",
       "</style>\n",
       "<table border=\"1\" class=\"dataframe\">\n",
       "  <thead>\n",
       "    <tr style=\"text-align: right;\">\n",
       "      <th></th>\n",
       "      <th>0</th>\n",
       "      <th>1</th>\n",
       "    </tr>\n",
       "    <tr>\n",
       "      <th>npartitions=3</th>\n",
       "      <th></th>\n",
       "      <th></th>\n",
       "    </tr>\n",
       "  </thead>\n",
       "  <tbody>\n",
       "    <tr>\n",
       "      <th>0</th>\n",
       "      <td>float32</td>\n",
       "      <td>float32</td>\n",
       "    </tr>\n",
       "    <tr>\n",
       "      <th>210</th>\n",
       "      <td>...</td>\n",
       "      <td>...</td>\n",
       "    </tr>\n",
       "    <tr>\n",
       "      <th>420</th>\n",
       "      <td>...</td>\n",
       "      <td>...</td>\n",
       "    </tr>\n",
       "    <tr>\n",
       "      <th>629</th>\n",
       "      <td>...</td>\n",
       "      <td>...</td>\n",
       "    </tr>\n",
       "  </tbody>\n",
       "</table>\n",
       "</div>\n",
       "<div>Dask Name: from_cudf, 1 graph layer</div>"
      ],
      "text/plain": [
       "<dask_cudf.DataFrame | 3 tasks | 3 npartitions>"
      ]
     },
     "execution_count": 79,
     "metadata": {},
     "output_type": "execute_result"
    }
   ],
   "source": [
    "to_predict__dask = dask_cudf.from_cudf(cudf.DataFrame( X_test_c ), npartitions=n_workers)\n",
    "to_predict__dask"
   ]
  },
  {
   "cell_type": "markdown",
   "id": "39b115b3-a84a-4b31-9281-00629cf966f0",
   "metadata": {},
   "source": [
    "<img src=\"./pictures/pred1.PNG\"  width=\"925px;\" hight=\"925px;\">\n",
    "\n",
    "<img src=\"./pictures/pred2.PNG\"  width=\"325px;\" hight=\"225px;\" >"
   ]
  },
  {
   "cell_type": "markdown",
   "id": "b4366fb5-1748-4881-864f-e867088969d4",
   "metadata": {},
   "source": [
    "Mit Dask Delayed sagen wir, dass diese Funktion parallel ausgeführt werden soll. In der Funktion können wir verteilt Daten lesen und bearbeiten, bevor wir die Predictions machen. \n",
    "\n",
    "<br>\n",
    "\n",
    "Dask Delayed: https://docs.dask.org/en/stable/delayed.html"
   ]
  },
  {
   "cell_type": "code",
   "execution_count": 80,
   "id": "8aeabdad-1779-422a-9467-7658282113d1",
   "metadata": {
    "tags": []
   },
   "outputs": [
    {
     "data": {
      "text/plain": [
       "630"
      ]
     },
     "execution_count": 80,
     "metadata": {},
     "output_type": "execute_result"
    }
   ],
   "source": [
    "# Länge der Testdaten\n",
    "len(X_test_c)"
   ]
  },
  {
   "cell_type": "markdown",
   "id": "e404d180-a570-416e-b456-752e3f1f6aca",
   "metadata": {},
   "source": [
    "Wir haben die Daten als Dask-cuDF gelesen. Wenn wir das als Host machen, müssen wir in einer Schleife die Partitionen übergeben."
   ]
  },
  {
   "cell_type": "code",
   "execution_count": 81,
   "id": "17fad477-e23e-4025-9273-7311a59e5018",
   "metadata": {
    "tags": []
   },
   "outputs": [],
   "source": [
    "@dask.delayed\n",
    "def dask_predict(test_data, part):  # Jeder Worker führt das aus. \n",
    "    \n",
    "    # Das wird in der Console ausgegeben. Damit sehen wir das alles passt, und jeder worker seine Partitionen nimmt. \n",
    "    print(f\"type: {type(test_data)} länge: {len(test_data)}\\nHead:\\n{test_data.head(2)}\\nPartition: {part}\")\n",
    "\n",
    "    predictions = loaded_model_c.predict(test_data) \n",
    "\n",
    "    return predictions"
   ]
  },
  {
   "cell_type": "markdown",
   "id": "cdb867e4-2102-42fc-9601-a43f66dc0aaa",
   "metadata": {},
   "source": [
    "Wir müssen die Anzahl der Partitionen angeben. Die Worker werden die eigenen Partitionen bearbeiten."
   ]
  },
  {
   "cell_type": "code",
   "execution_count": 82,
   "id": "9e78e04d-6669-4d0f-bc64-b121970a8123",
   "metadata": {
    "tags": []
   },
   "outputs": [
    {
     "name": "stdout",
     "output_type": "stream",
     "text": [
      "Type: <class 'tuple'>\n",
      "\n"
     ]
    }
   ],
   "source": [
    "results = []\n",
    "parts = 3   # Anzahl Partitionen\n",
    "\n",
    "for part in range(parts):\n",
    "    fut = dask_predict( to_predict__dask.get_partition(part), part )\n",
    "    results.append( fut )\n",
    "    \n",
    "delayed_results = dask.compute(*results)\n",
    "\n",
    "print(f\"Type: {type(delayed_results)}\\n\")"
   ]
  },
  {
   "cell_type": "code",
   "execution_count": 83,
   "id": "7eaba39c-d0ce-46c1-ac42-aa9f0024d39f",
   "metadata": {
    "tags": []
   },
   "outputs": [
    {
     "data": {
      "text/plain": [
       "numpy.ndarray"
      ]
     },
     "execution_count": 83,
     "metadata": {},
     "output_type": "execute_result"
    }
   ],
   "source": [
    "# Mache daraus ein Numpy Array.\n",
    "deleayed_pred_c = []\n",
    "for i in range( len(delayed_results) ):\n",
    "    deleayed_pred_c = np.append(deleayed_pred_c, np.asarray( delayed_results[i].to_numpy()) )\n",
    "type(deleayed_pred_c)"
   ]
  },
  {
   "cell_type": "markdown",
   "id": "b382bcad-ddfd-4cef-8d4b-9667ab7ff7a6",
   "metadata": {},
   "source": [
    "Eine andere Möglichkeit ist, dass die Worker die Daten lokal lesen und ggf. auch für sich diese Partitionieren. \n",
    "\n",
    "Es können wieder veschiedene Quellen angegeben werden. Für ein einfaches kleines Beispiel, schreibt jeder Worker eine CSV Datei die später gelesen wird. \n",
    "\n"
   ]
  },
  {
   "cell_type": "code",
   "execution_count": 84,
   "id": "3a8c5386-1d98-42f2-857a-16fe0cb3d063",
   "metadata": {
    "tags": []
   },
   "outputs": [],
   "source": [
    "## Diese Datei wird im lokalen Verzeichnis geschrieben.\n",
    "np.savetxt('csv_file.csv', cp.asnumpy( X_test_c ), delimiter=\",\", header=\"A,B\") # Sonst werden die Daten als header genommen "
   ]
  },
  {
   "cell_type": "code",
   "execution_count": 85,
   "id": "ce73ba00-c3d3-4667-878a-dcdaf1abd729",
   "metadata": {
    "tags": []
   },
   "outputs": [
    {
     "data": {
      "text/plain": [
       "(None, None, None)"
      ]
     },
     "execution_count": 85,
     "metadata": {},
     "output_type": "execute_result"
    }
   ],
   "source": [
    "## Damit schreibt jeder Worker diese Datei.\n",
    "@dask.delayed    # Jeder Worker führt das aus. \n",
    "def dask_write(test_data):\n",
    "    print(\"Write file\")\n",
    "    np.savetxt('csv_file.csv', np.asarray(test_data, dtype=np.float32), delimiter=\",\", header=\"A,B\")\n",
    "    \n",
    "futs = []\n",
    "for i in range(3):\n",
    "    futs.append(dask_write( cp.asnumpy( X_test_c ) ))\n",
    "dask.compute(*futs)"
   ]
  },
  {
   "cell_type": "markdown",
   "id": "f8e71704-8a08-4b4a-8006-6efa779a3332",
   "metadata": {},
   "source": [
    "jetzt können wir diese CSV Datei laden und für das Testen nutzen.\n",
    "Am Ende bekommen wir wieder ein Tupel. Diesemal werden alle Daten genutzt."
   ]
  },
  {
   "cell_type": "code",
   "execution_count": 86,
   "id": "dcd34fbc-a125-46aa-b3d7-8c41a04a517f",
   "metadata": {
    "tags": []
   },
   "outputs": [],
   "source": [
    "@dask.delayed\n",
    "def dask_predict_2():\n",
    "\n",
    "    #test_data = cudf.read_csv(\"csv_file.csv\")       # Lese lokale Daten\n",
    "    #test_data = test_data.astype(dtype='float32')   # Muss float32 sein, oder ändere IO\n",
    "    \n",
    "    # oder- nutze Dask-cuDF um lokale Daten zu partitionieren. \n",
    "    test_data = dask_cudf.read_csv(\"csv_file.csv\",  blocksize=\"5KB\")       # Lese lokale Daten, gebe Blocksize an\n",
    "    test_data = test_data.astype(dtype='float32')                          # Muss float32 sein, oder ändere IO\n",
    "    \n",
    "    print(f\"Data loaded, len: {len(test_data)}\")\n",
    "    \n",
    "    predictions = loaded_model_c.predict(test_data)\n",
    "    return predictions"
   ]
  },
  {
   "cell_type": "code",
   "execution_count": 89,
   "id": "ef6e7a2f-5034-4388-b95b-e71dba435f43",
   "metadata": {
    "collapsed": true,
    "jupyter": {
     "outputs_hidden": true
    },
    "tags": []
   },
   "outputs": [
    {
     "data": {
      "text/plain": [
       "(array([0., 1., 0., 2., 0., 2., 2., 0., 0., 0., 2., 2., 2., 2., 0., 1., 1.,\n",
       "        0., 1., 2., 1., 2., 0., 1., 2., 0., 0., 0., 0., 1., 2., 1., 0., 1.,\n",
       "        2., 0., 2., 0., 0., 2., 1., 1., 0., 1., 2., 1., 2., 1., 0., 2., 1.,\n",
       "        2., 1., 1., 2., 0., 1., 0., 2., 0., 1., 0., 0., 1., 2., 0., 0., 1.,\n",
       "        0., 2., 0., 0., 1., 0., 1., 1., 1., 2., 2., 1., 1., 2., 0., 1., 1.,\n",
       "        1., 2., 1., 2., 2., 1., 0., 2., 0., 2., 1., 1., 0., 2., 0., 0., 0.,\n",
       "        2., 0., 1., 2., 0., 2., 0., 1., 0., 0., 2., 1., 1., 1., 0., 0., 2.,\n",
       "        0., 2., 0., 0., 0., 0., 0., 0., 2., 1., 1., 0., 1., 1., 2., 0., 2.,\n",
       "        0., 1., 1., 0., 2., 1., 1., 1., 2., 1., 0., 2., 1., 2., 1., 1., 1.,\n",
       "        0., 0., 1., 2., 0., 0., 2., 2., 1., 1., 2., 0., 2., 0., 2., 2., 1.,\n",
       "        0., 0., 2., 1., 2., 2., 2., 0., 1., 2., 0., 1., 0., 2., 2., 1., 2.,\n",
       "        2., 0., 1., 1., 0., 1., 2., 2., 1., 1., 1., 2., 2., 1., 0., 2., 1.,\n",
       "        2., 2., 1., 2., 1., 0., 0., 2., 0., 0., 2., 1., 2., 2., 2., 0., 2.,\n",
       "        0., 2., 0., 1., 2., 1., 0., 0., 1., 0., 2., 1., 2., 1., 2., 1., 0.,\n",
       "        0., 2., 2., 2., 2., 0., 0., 2., 0., 1., 2., 0., 2., 0., 1., 1., 1.,\n",
       "        2., 1., 0., 0., 1., 2., 2., 2., 1., 0., 2., 0., 2., 2., 1., 1., 2.,\n",
       "        1., 2., 2., 1., 2., 1., 1., 1., 0., 2., 0., 2., 1., 2., 1., 1., 2.,\n",
       "        1., 1., 2., 1., 0., 2., 0., 1., 2., 2., 1., 0., 0., 2., 2., 2., 1.,\n",
       "        2., 2., 1., 0., 1., 0., 2., 0., 0., 1., 0., 0., 0., 1., 2., 2., 0.,\n",
       "        1., 0., 0., 0., 0., 0., 1., 2., 2., 2., 1., 2., 2., 2., 0., 0., 0.,\n",
       "        0., 1., 2., 2., 0., 2., 1., 1., 0., 1., 2., 1., 1., 0., 2., 1., 2.,\n",
       "        1., 2., 1., 2., 1., 0., 0., 2., 2., 1., 0., 0., 0., 0., 1., 1., 0.,\n",
       "        2., 1., 2., 0., 2., 1., 0., 0., 2., 2., 0., 0., 0., 0., 1., 0., 1.,\n",
       "        2., 0., 2., 0., 2., 1., 1., 0., 1., 2., 1., 2., 1., 1., 1., 0., 2.,\n",
       "        1., 1., 0., 0., 2., 1., 1., 1., 0., 2., 0., 2., 1., 0., 0., 0., 0.,\n",
       "        2., 1., 0., 0., 0., 1., 1., 0., 2., 0., 1., 0., 0., 2., 2., 2., 2.,\n",
       "        1., 1., 1., 0., 0., 0., 0., 0., 1., 0., 1., 1., 2., 1., 2., 2., 2.,\n",
       "        0., 1., 1., 2., 2., 2., 0., 1., 1., 0., 2., 1., 2., 2., 2., 1., 0.,\n",
       "        1., 0., 0., 0., 1., 2., 1., 1., 1., 0., 0., 2., 0., 2., 1., 2., 0.,\n",
       "        0., 0., 1., 0., 1., 0., 0., 1., 2., 0., 0., 2., 2., 2., 2., 2., 0.,\n",
       "        1., 0., 0., 2., 0., 0., 1., 2., 2., 1., 1., 1., 0., 0., 2., 1., 0.,\n",
       "        1., 0., 2., 2., 2., 1., 0., 0., 2., 1., 1., 1., 2., 1., 1., 1., 1.,\n",
       "        1., 2., 1., 0., 1., 1., 2., 1., 2., 0., 1., 1., 0., 0., 0., 2., 0.,\n",
       "        2., 2., 1., 0., 1., 1., 1., 1., 2., 2., 1., 1., 2., 1., 2., 0., 1.,\n",
       "        1., 0., 1., 2., 1., 0., 0., 1., 2., 0., 1., 2., 1., 1., 2., 0., 1.,\n",
       "        0., 1., 0., 0., 1., 1., 1., 1., 1., 1., 0., 1., 1., 0., 2., 1., 0.,\n",
       "        1., 1., 1., 2., 2., 0., 2., 1., 1., 2., 2., 1., 2., 2., 1., 1., 2.,\n",
       "        0.], dtype=float32),\n",
       " array([0., 1., 0., 2., 0., 2., 2., 0., 0., 0., 2., 2., 2., 2., 0., 1., 1.,\n",
       "        0., 1., 2., 1., 2., 0., 1., 2., 0., 0., 0., 0., 1., 2., 1., 0., 1.,\n",
       "        2., 0., 2., 0., 0., 2., 1., 1., 0., 1., 2., 1., 2., 1., 0., 2., 1.,\n",
       "        2., 1., 1., 2., 0., 1., 0., 2., 0., 1., 0., 0., 1., 2., 0., 0., 1.,\n",
       "        0., 2., 0., 0., 1., 0., 1., 1., 1., 2., 2., 1., 1., 2., 0., 1., 1.,\n",
       "        1., 2., 1., 2., 2., 1., 0., 2., 0., 2., 1., 1., 0., 2., 0., 0., 0.,\n",
       "        2., 0., 1., 2., 0., 2., 0., 1., 0., 0., 2., 1., 1., 1., 0., 0., 2.,\n",
       "        0., 2., 0., 0., 0., 0., 0., 0., 2., 1., 1., 0., 1., 1., 2., 0., 2.,\n",
       "        0., 1., 1., 0., 2., 1., 1., 1., 2., 1., 0., 2., 1., 2., 1., 1., 1.,\n",
       "        0., 0., 1., 2., 0., 0., 2., 2., 1., 1., 2., 0., 2., 0., 2., 2., 1.,\n",
       "        0., 0., 2., 1., 2., 2., 2., 0., 1., 2., 0., 1., 0., 2., 2., 1., 2.,\n",
       "        2., 0., 1., 1., 0., 1., 2., 2., 1., 1., 1., 2., 2., 1., 0., 2., 1.,\n",
       "        2., 2., 1., 2., 1., 0., 0., 2., 0., 0., 2., 1., 2., 2., 2., 0., 2.,\n",
       "        0., 2., 0., 1., 2., 1., 0., 0., 1., 0., 2., 1., 2., 1., 2., 1., 0.,\n",
       "        0., 2., 2., 2., 2., 0., 0., 2., 0., 1., 2., 0., 2., 0., 1., 1., 1.,\n",
       "        2., 1., 0., 0., 1., 2., 2., 2., 1., 0., 2., 0., 2., 2., 1., 1., 2.,\n",
       "        1., 2., 2., 1., 2., 1., 1., 1., 0., 2., 0., 2., 1., 2., 1., 1., 2.,\n",
       "        1., 1., 2., 1., 0., 2., 0., 1., 2., 2., 1., 0., 0., 2., 2., 2., 1.,\n",
       "        2., 2., 1., 0., 1., 0., 2., 0., 0., 1., 0., 0., 0., 1., 2., 2., 0.,\n",
       "        1., 0., 0., 0., 0., 0., 1., 2., 2., 2., 1., 2., 2., 2., 0., 0., 0.,\n",
       "        0., 1., 2., 2., 0., 2., 1., 1., 0., 1., 2., 1., 1., 0., 2., 1., 2.,\n",
       "        1., 2., 1., 2., 1., 0., 0., 2., 2., 1., 0., 0., 0., 0., 1., 1., 0.,\n",
       "        2., 1., 2., 0., 2., 1., 0., 0., 2., 2., 0., 0., 0., 0., 1., 0., 1.,\n",
       "        2., 0., 2., 0., 2., 1., 1., 0., 1., 2., 1., 2., 1., 1., 1., 0., 2.,\n",
       "        1., 1., 0., 0., 2., 1., 1., 1., 0., 2., 0., 2., 1., 0., 0., 0., 0.,\n",
       "        2., 1., 0., 0., 0., 1., 1., 0., 2., 0., 1., 0., 0., 2., 2., 2., 2.,\n",
       "        1., 1., 1., 0., 0., 0., 0., 0., 1., 0., 1., 1., 2., 1., 2., 2., 2.,\n",
       "        0., 1., 1., 2., 2., 2., 0., 1., 1., 0., 2., 1., 2., 2., 2., 1., 0.,\n",
       "        1., 0., 0., 0., 1., 2., 1., 1., 1., 0., 0., 2., 0., 2., 1., 2., 0.,\n",
       "        0., 0., 1., 0., 1., 0., 0., 1., 2., 0., 0., 2., 2., 2., 2., 2., 0.,\n",
       "        1., 0., 0., 2., 0., 0., 1., 2., 2., 1., 1., 1., 0., 0., 2., 1., 0.,\n",
       "        1., 0., 2., 2., 2., 1., 0., 0., 2., 1., 1., 1., 2., 1., 1., 1., 1.,\n",
       "        1., 2., 1., 0., 1., 1., 2., 1., 2., 0., 1., 1., 0., 0., 0., 2., 0.,\n",
       "        2., 2., 1., 0., 1., 1., 1., 1., 2., 2., 1., 1., 2., 1., 2., 0., 1.,\n",
       "        1., 0., 1., 2., 1., 0., 0., 1., 2., 0., 1., 2., 1., 1., 2., 0., 1.,\n",
       "        0., 1., 0., 0., 1., 1., 1., 1., 1., 1., 0., 1., 1., 0., 2., 1., 0.,\n",
       "        1., 1., 1., 2., 2., 0., 2., 1., 1., 2., 2., 1., 2., 2., 1., 1., 2.,\n",
       "        0.], dtype=float32),\n",
       " array([0., 1., 0., 2., 0., 2., 2., 0., 0., 0., 2., 2., 2., 2., 0., 1., 1.,\n",
       "        0., 1., 2., 1., 2., 0., 1., 2., 0., 0., 0., 0., 1., 2., 1., 0., 1.,\n",
       "        2., 0., 2., 0., 0., 2., 1., 1., 0., 1., 2., 1., 2., 1., 0., 2., 1.,\n",
       "        2., 1., 1., 2., 0., 1., 0., 2., 0., 1., 0., 0., 1., 2., 0., 0., 1.,\n",
       "        0., 2., 0., 0., 1., 0., 1., 1., 1., 2., 2., 1., 1., 2., 0., 1., 1.,\n",
       "        1., 2., 1., 2., 2., 1., 0., 2., 0., 2., 1., 1., 0., 2., 0., 0., 0.,\n",
       "        2., 0., 1., 2., 0., 2., 0., 1., 0., 0., 2., 1., 1., 1., 0., 0., 2.,\n",
       "        0., 2., 0., 0., 0., 0., 0., 0., 2., 1., 1., 0., 1., 1., 2., 0., 2.,\n",
       "        0., 1., 1., 0., 2., 1., 1., 1., 2., 1., 0., 2., 1., 2., 1., 1., 1.,\n",
       "        0., 0., 1., 2., 0., 0., 2., 2., 1., 1., 2., 0., 2., 0., 2., 2., 1.,\n",
       "        0., 0., 2., 1., 2., 2., 2., 0., 1., 2., 0., 1., 0., 2., 2., 1., 2.,\n",
       "        2., 0., 1., 1., 0., 1., 2., 2., 1., 1., 1., 2., 2., 1., 0., 2., 1.,\n",
       "        2., 2., 1., 2., 1., 0., 0., 2., 0., 0., 2., 1., 2., 2., 2., 0., 2.,\n",
       "        0., 2., 0., 1., 2., 1., 0., 0., 1., 0., 2., 1., 2., 1., 2., 1., 0.,\n",
       "        0., 2., 2., 2., 2., 0., 0., 2., 0., 1., 2., 0., 2., 0., 1., 1., 1.,\n",
       "        2., 1., 0., 0., 1., 2., 2., 2., 1., 0., 2., 0., 2., 2., 1., 1., 2.,\n",
       "        1., 2., 2., 1., 2., 1., 1., 1., 0., 2., 0., 2., 1., 2., 1., 1., 2.,\n",
       "        1., 1., 2., 1., 0., 2., 0., 1., 2., 2., 1., 0., 0., 2., 2., 2., 1.,\n",
       "        2., 2., 1., 0., 1., 0., 2., 0., 0., 1., 0., 0., 0., 1., 2., 2., 0.,\n",
       "        1., 0., 0., 0., 0., 0., 1., 2., 2., 2., 1., 2., 2., 2., 0., 0., 0.,\n",
       "        0., 1., 2., 2., 0., 2., 1., 1., 0., 1., 2., 1., 1., 0., 2., 1., 2.,\n",
       "        1., 2., 1., 2., 1., 0., 0., 2., 2., 1., 0., 0., 0., 0., 1., 1., 0.,\n",
       "        2., 1., 2., 0., 2., 1., 0., 0., 2., 2., 0., 0., 0., 0., 1., 0., 1.,\n",
       "        2., 0., 2., 0., 2., 1., 1., 0., 1., 2., 1., 2., 1., 1., 1., 0., 2.,\n",
       "        1., 1., 0., 0., 2., 1., 1., 1., 0., 2., 0., 2., 1., 0., 0., 0., 0.,\n",
       "        2., 1., 0., 0., 0., 1., 1., 0., 2., 0., 1., 0., 0., 2., 2., 2., 2.,\n",
       "        1., 1., 1., 0., 0., 0., 0., 0., 1., 0., 1., 1., 2., 1., 2., 2., 2.,\n",
       "        0., 1., 1., 2., 2., 2., 0., 1., 1., 0., 2., 1., 2., 2., 2., 1., 0.,\n",
       "        1., 0., 0., 0., 1., 2., 1., 1., 1., 0., 0., 2., 0., 2., 1., 2., 0.,\n",
       "        0., 0., 1., 0., 1., 0., 0., 1., 2., 0., 0., 2., 2., 2., 2., 2., 0.,\n",
       "        1., 0., 0., 2., 0., 0., 1., 2., 2., 1., 1., 1., 0., 0., 2., 1., 0.,\n",
       "        1., 0., 2., 2., 2., 1., 0., 0., 2., 1., 1., 1., 2., 1., 1., 1., 1.,\n",
       "        1., 2., 1., 0., 1., 1., 2., 1., 2., 0., 1., 1., 0., 0., 0., 2., 0.,\n",
       "        2., 2., 1., 0., 1., 1., 1., 1., 2., 2., 1., 1., 2., 1., 2., 0., 1.,\n",
       "        1., 0., 1., 2., 1., 0., 0., 1., 2., 0., 1., 2., 1., 1., 2., 0., 1.,\n",
       "        0., 1., 0., 0., 1., 1., 1., 1., 1., 1., 0., 1., 1., 0., 2., 1., 0.,\n",
       "        1., 1., 1., 2., 2., 0., 2., 1., 1., 2., 2., 1., 2., 2., 1., 1., 2.,\n",
       "        0.], dtype=float32))"
      ]
     },
     "execution_count": 89,
     "metadata": {},
     "output_type": "execute_result"
    }
   ],
   "source": [
    "futs = []\n",
    "for i in range(3):\n",
    "    futs.append(dask_predict_2())\n",
    "\n",
    "delayed_results = dask.compute(*futs)\n",
    "delayed_results"
   ]
  },
  {
   "cell_type": "markdown",
   "id": "cb4df66b-5629-4ea8-a780-9deb50537802",
   "metadata": {
    "tags": []
   },
   "source": [
    "Man sieht das alle Worker alle Predictions gemacht haben."
   ]
  },
  {
   "cell_type": "code",
   "execution_count": 92,
   "id": "5f22f736-f61a-4db6-b63e-79614f025680",
   "metadata": {
    "tags": []
   },
   "outputs": [
    {
     "data": {
      "text/plain": [
       "numpy.ndarray"
      ]
     },
     "execution_count": 92,
     "metadata": {},
     "output_type": "execute_result"
    }
   ],
   "source": [
    "# Mache daraus ein Numpy Array.\n",
    "deleayed_pred_c2 = []\n",
    "for i in range( 1 ):\n",
    "    deleayed_pred_c2 = np.append(deleayed_pred_c2, np.asarray( delayed_results[i].get()) )\n",
    "type(deleayed_pred_c2)"
   ]
  },
  {
   "cell_type": "code",
   "execution_count": 93,
   "id": "83485b82-378a-4b87-9a01-45133549a4f4",
   "metadata": {
    "tags": []
   },
   "outputs": [
    {
     "name": "stdout",
     "output_type": "stream",
     "text": [
      "Gebe 10 Zeilen aus, die ungleich sind\n"
     ]
    }
   ],
   "source": [
    "rapids_tools.arrays_equal(deleayed_pred_c,  deleayed_pred_c2 )"
   ]
  },
  {
   "cell_type": "code",
   "execution_count": 95,
   "id": "34759c1a-28e7-4339-be79-9e6d6d09e85f",
   "metadata": {
    "tags": []
   },
   "outputs": [
    {
     "name": "stdout",
     "output_type": "stream",
     "text": [
      "score__c: 0.9873015873015873 \n",
      "score__r: 0.9873015873015873\n"
     ]
    }
   ],
   "source": [
    "# Eval KNN Klassifizierer mit sklearn\n",
    "score__c      = accuracy_score( y_test_c.get(), deleayed_pred_c  )\n",
    "\n",
    "score__c2      = accuracy_score( y_test_c.get(), deleayed_pred_c2 )\n",
    "\n",
    "print(f\"score__c: {score__c} \\nscore__r: {score__c2}\")"
   ]
  },
  {
   "cell_type": "code",
   "execution_count": 96,
   "id": "a4467f88-3f8d-4599-845f-4992978072ef",
   "metadata": {
    "tags": []
   },
   "outputs": [],
   "source": [
    "client.shutdown()"
   ]
  },
  {
   "cell_type": "code",
   "execution_count": null,
   "id": "d6964c1b-0814-493e-b34d-3d6e2ea74f04",
   "metadata": {},
   "outputs": [],
   "source": []
  }
 ],
 "metadata": {
  "kernelspec": {
   "display_name": "Python 3 (ipykernel)",
   "language": "python",
   "name": "python3"
  },
  "language_info": {
   "codemirror_mode": {
    "name": "ipython",
    "version": 3
   },
   "file_extension": ".py",
   "mimetype": "text/x-python",
   "name": "python",
   "nbconvert_exporter": "python",
   "pygments_lexer": "ipython3",
   "version": "3.10.10"
  }
 },
 "nbformat": 4,
 "nbformat_minor": 5
}
